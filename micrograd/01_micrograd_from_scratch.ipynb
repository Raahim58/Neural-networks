{
  "cells": [
    {
      "cell_type": "markdown",
      "metadata": {
        "id": "view-in-github",
        "colab_type": "text"
      },
      "source": [
        "<a href=\"https://colab.research.google.com/github/Raahim58/Neural-networks/blob/main/01_micrograd_from_scratch.ipynb\" target=\"_parent\"><img src=\"https://colab.research.google.com/assets/colab-badge.svg\" alt=\"Open In Colab\"/></a>"
      ]
    },
    {
      "cell_type": "markdown",
      "metadata": {
        "id": "cIWvzOvfOnPX"
      },
      "source": [
        "# 01. Building MicroGrad from scratch\n",
        "\n",
        "**Resources:**\n",
        "\n",
        "* micrograd github repo: https://github.com/karpathy/micrograd\n",
        "\n",
        "* tutorial lecture 1 (micrograd) code: https://github.com/karpathy/nn-zero-to-hero/tree/master/lectures/micrograd\n",
        "\n",
        "* link to youtube lecture 1: https://youtu.be/VMj-3S1tku0?si=Yau2S56U0ghVKuMF\n",
        "\n",
        "* whole lecture series code: https://github.com/karpathy/nn-zero-to-hero\n",
        "\n",
        "\n",
        "\n",
        "\n"
      ]
    },
    {
      "cell_type": "markdown",
      "metadata": {
        "id": "AxjVkjG1aG8l"
      },
      "source": [
        "## 0. Running down the basics"
      ]
    },
    {
      "cell_type": "code",
      "execution_count": null,
      "metadata": {
        "colab": {
          "background_save": true
        },
        "id": "jK5JgihgO0w5"
      },
      "outputs": [],
      "source": [
        "import torch\n",
        "import numpy as np\n",
        "import matplotlib.pyplot as plt\n",
        "%matplotlib inline"
      ]
    },
    {
      "cell_type": "code",
      "execution_count": null,
      "metadata": {
        "colab": {
          "background_save": true
        },
        "id": "Pflorc0MPB--"
      },
      "outputs": [],
      "source": [
        "def f(x):\n",
        "  return 3*x**2 - 4*x + 5"
      ]
    },
    {
      "cell_type": "code",
      "execution_count": null,
      "metadata": {
        "colab": {
          "background_save": true,
          "base_uri": "https://localhost:8080/"
        },
        "id": "YceUGsu2PIIj",
        "outputId": "d99b36ec-9ca9-4a36-9255-5752392d8cf2"
      },
      "outputs": [
        {
          "data": {
            "text/plain": [
              "20.0"
            ]
          },
          "execution_count": 3,
          "metadata": {},
          "output_type": "execute_result"
        }
      ],
      "source": [
        "f(3.0)"
      ]
    },
    {
      "cell_type": "code",
      "execution_count": null,
      "metadata": {
        "colab": {
          "background_save": true,
          "base_uri": "https://localhost:8080/"
        },
        "id": "NgoxT6_IPI8V",
        "outputId": "5d472b5d-ee95-4ea2-e9b3-d0563aec2800"
      },
      "outputs": [
        {
          "data": {
            "image/png": "[encoded data removed]",
            "text/plain": [
              "<Figure size 640x480 with 1 Axes>"
            ]
          },
          "metadata": {},
          "output_type": "display_data"
        }
      ],
      "source": [
        "xs = np.arange(-5, 5, 0.25)\n",
        "ys = f(xs)\n",
        "plt.plot(xs, ys);"
      ]
    },
    {
      "cell_type": "markdown",
      "metadata": {
        "id": "qr_xaQkMQt4m"
      },
      "source": [
        "## 1. Finding derivatives of a simple function\n",
        "\n",
        "Not taking the symbolic approach to deriving the derivative as that contains thousands of lines of codes and joining a lot of neural nets.\n",
        "\n",
        "Derivative: slope of a function when the value is tweaked by a small **h**"
      ]
    },
    {
      "cell_type": "markdown",
      "metadata": {
        "id": "Om9jjaNLQ5p8"
      },
      "source": [
        "### 1.1 Derivative of a simple function with one input\n",
        "\n",
        "* Derivative of a function will be 0 at some precise point.\n",
        "* The function does not respond at a particular value - does not change"
      ]
    },
    {
      "cell_type": "code",
      "execution_count": null,
      "metadata": {
        "colab": {
          "background_save": true,
          "base_uri": "https://localhost:8080/"
        },
        "id": "8NPE6LeUPSqs",
        "outputId": "564fb2ae-ec59-4997-d721-c7d01bd8ab53"
      },
      "outputs": [
        {
          "data": {
            "text/plain": [
              "14.000300000063248"
            ]
          },
          "execution_count": 5,
          "metadata": {},
          "output_type": "execute_result"
        }
      ],
      "source": [
        "# Tweaking the function by a small value h\n",
        "h = 0.0001\n",
        "x = 3.0 # for this function df/dx = 0 at x = 2/3\n",
        "(f(x + h) - f(x))/h # rise/run"
      ]
    },
    {
      "cell_type": "markdown",
      "metadata": {
        "id": "NtfpxINoQP53"
      },
      "source": [
        "### 1.2 Derivative of a simple function with multiple inputs"
      ]
    },
    {
      "cell_type": "code",
      "execution_count": null,
      "metadata": {
        "colab": {
          "background_save": true,
          "base_uri": "https://localhost:8080/"
        },
        "id": "2LcWMnpnRTSW",
        "outputId": "fb46c72c-a424-4637-c4d5-827fea386b02"
      },
      "outputs": [
        {
          "name": "stdout",
          "output_type": "stream",
          "text": [
            "4.0\n"
          ]
        }
      ],
      "source": [
        "# let's get more complex\n",
        "a = 2.0\n",
        "b = -3.0\n",
        "c = 10.0\n",
        "d = a*b + c\n",
        "print(d)"
      ]
    },
    {
      "cell_type": "markdown",
      "metadata": {
        "id": "vpQPcGD-RcC6"
      },
      "source": [
        "Looking at the derivative of d w.r.t a, b and c."
      ]
    },
    {
      "cell_type": "code",
      "execution_count": null,
      "metadata": {
        "colab": {
          "background_save": true,
          "base_uri": "https://localhost:8080/"
        },
        "id": "DaLXlCjSRafm",
        "outputId": "1e818fb1-dbbb-4405-aa52-e3f6b35f0da8"
      },
      "outputs": [
        {
          "name": "stdout",
          "output_type": "stream",
          "text": [
            "with a as input:\n",
            "\n",
            "d1:  4.0\n",
            "d2:  3.999699999999999\n",
            "slope:  -3.000000000010772\n"
          ]
        }
      ],
      "source": [
        "h = 0.0001\n",
        "\n",
        "# inputs\n",
        "\n",
        "a = 2.0\n",
        "b = -3.0\n",
        "c = 10.0\n",
        "\n",
        "d1 = a*b + c\n",
        "a += h\n",
        "d2 = a*b + c\n",
        "\n",
        "print(\"with a as input:\\n\")\n",
        "print(\"d1: \", d1)\n",
        "print(\"d2: \", d2)\n",
        "print(\"slope: \", (d2-d1)/h) # finding out the slope when d1 is tweaked by a small value h, and this is normalized by h\n"
      ]
    },
    {
      "cell_type": "code",
      "execution_count": null,
      "metadata": {
        "colab": {
          "background_save": true,
          "base_uri": "https://localhost:8080/"
        },
        "id": "eXNwOEW6SkK9",
        "outputId": "f54c375e-6b5a-4250-8992-bc97d4f4f0a1"
      },
      "outputs": [
        {
          "name": "stdout",
          "output_type": "stream",
          "text": [
            "with b as input:\n",
            "\n",
            "d1:  4.0\n",
            "d2:  4.0002\n",
            "slope:  2.0000000000042206\n"
          ]
        }
      ],
      "source": [
        "# doing the same with b as the input\n",
        "\n",
        "h = 0.0001\n",
        "\n",
        "# inputs\n",
        "\n",
        "a = 2.0\n",
        "b = -3.0\n",
        "c = 10.0\n",
        "\n",
        "d1 = a*b + c\n",
        "b += h\n",
        "d2 = a*b + c\n",
        "\n",
        "print(\"with b as input:\\n\")\n",
        "print(\"d1: \", d1)\n",
        "print(\"d2: \", d2)\n",
        "print(\"slope: \", (d2-d1)/h)\n"
      ]
    },
    {
      "cell_type": "code",
      "execution_count": null,
      "metadata": {
        "colab": {
          "background_save": true,
          "base_uri": "https://localhost:8080/"
        },
        "id": "ByKm38I2S9Q2",
        "outputId": "b30fd156-3c68-4af8-ed69-61572a3cedd4"
      },
      "outputs": [
        {
          "name": "stdout",
          "output_type": "stream",
          "text": [
            "with c as input:\n",
            "\n",
            "d1:  4.0\n",
            "d2:  4.0001\n",
            "slope:  0.9999999999976694\n"
          ]
        }
      ],
      "source": [
        "# doing the same with c as the input\n",
        "\n",
        "h = 0.0001\n",
        "\n",
        "# inputs\n",
        "\n",
        "a = 2.0\n",
        "b = -3.0\n",
        "c = 10.0\n",
        "\n",
        "d1 = a*b + c\n",
        "c += h\n",
        "d2 = a*b + c\n",
        "\n",
        "print(\"with c as input:\\n\")\n",
        "print(\"d1: \", d1)\n",
        "print(\"d2: \", d2)\n",
        "print(\"slope: \", (d2-d1)/h)"
      ]
    },
    {
      "cell_type": "markdown",
      "metadata": {
        "id": "uDNd1pkHT7hy"
      },
      "source": [
        "## 2. Building Value object of micrograd\n",
        "\n",
        "Available on the code link"
      ]
    },
    {
      "cell_type": "markdown",
      "metadata": {
        "id": "5qLpI9sLUgbR"
      },
      "source": [
        "### 2.1 Creating a class\n",
        "\n",
        "Recreating the expression/Data Structure above progmatically\n",
        "\n",
        "* `_children` is used to get the previous values being evaluated in the expression -> `(variable)._prev` to get the desired output.\n",
        "* `repr` is used to prints out things nicely.\n",
        "* `add` and `mul` are needed as Python can't add 2 `Value` objects.\n",
        "* `_op` is used to recall the function that was used between the `children` values to get the output.\n",
        "* `label` to see which variables are where.\n",
        "* `grad` maintains the derivative of output node (L) w.r.t that value (leaf node) -> 0 refers to no effect\n",
        "  * at initialization we are assuming that none of the values effect the output value"
      ]
    },
    {
      "cell_type": "code",
      "execution_count": null,
      "metadata": {
        "colab": {
          "background_save": true,
          "base_uri": "https://localhost:8080/"
        },
        "id": "8Y6v13oXUMNg",
        "outputId": "61d6947a-2374-4446-eeb0-6973ffafcd0c"
      },
      "outputs": [
        {
          "name": "stdout",
          "output_type": "stream",
          "text": [
            "Printing out the children of 'L': {Value(data = -2.0), Value(data = 4.0)}\n",
            "Printing out the operation between the children for outputting 'L': *\n"
          ]
        }
      ],
      "source": [
        "class Value:\n",
        "  def __init__(self, data, _children = (), _op = '', label = ''): # 'children' is originally a Tuple here\n",
        "    self.data = data\n",
        "    self._prev = set(_children) # converted to a set to maintain efficiency\n",
        "    self._op = _op\n",
        "    self.label = label\n",
        "    self.grad = 0.0 # initially 0\n",
        "\n",
        "  # Providing a way for the expression to be printed out cleanly\n",
        "  def __repr__(self):\n",
        "    return f\"Value(data = {self.data})\"\n",
        "\n",
        "  # Python can't add 2 Value's objects so we have to define it ('a+b' won't work)\n",
        "  def __add__(self, other):\n",
        "    out = Value(self.data + other.data, (self, other), '+')\n",
        "    return out # Python internally calls `a.__add__(b)`\n",
        "\n",
        "  def __mul__(self, other):\n",
        "    out = Value(self.data * other.data, (self, other), '*')\n",
        "    return out\n",
        "\n",
        "a = Value(2.0, label = 'a')\n",
        "b = Value(-3.0, label = 'b')\n",
        "c = Value(10.0, label = 'c')\n",
        "e = a*b; e.label = 'e'\n",
        "d = e + c; d.label = 'd' # (a.__mul__(b)).__add__(c) = a*b + c\n",
        "f = Value(-2.0, label = 'f')\n",
        "L = d * f; L.label = 'L' # output of our graph\n",
        "L\n",
        "print(f\"Printing out the children of 'L': {L._prev}\")\n",
        "print(f\"Printing out the operation between the children for outputting 'L': {L._op}\")"
      ]
    },
    {
      "cell_type": "markdown",
      "metadata": {
        "id": "jG8wCeOVUbAq"
      },
      "source": [
        "### 2.2 Visualizing the expression\n",
        "\n",
        "* Creates a new function `draw_dot()` which you can call on some root node, and then it visualizes it through `graphviz`, an open source software which helps build graph through its API.\n",
        "* Building a mathematical expression through `add` and `mul` so far. They are scalar valued along the way and we can do a forward pass to build out the expression to bring a single output L.\n",
        "* Run back propogation and calculate the gradient after calculating the expression through the forward pass. That will entail calculating the gradient of the output w.r.t to all hidden variables/leaf nodes/weights of the neural net, and the inputs (e.g `dL/df, dL/de, , dL/dd, dL/dc, dL/db, dL/da`) -> some of these will eventually represent the weights of a neural net so we will need to know eventually how those weights are impacting the loss function.\n",
        "  * We'll be majorly interested in the derivative of the output w.r.t to the leaf nodes rather than the data (input nodes) as the data is fixed;\n",
        "  * The weights will be iterated on using the gradient information."
      ]
    },
    {
      "cell_type": "code",
      "execution_count": null,
      "metadata": {
        "colab": {
          "background_save": true
        },
        "id": "W36feebKYXbL"
      },
      "outputs": [],
      "source": [
        "from graphviz import Digraph\n",
        "\n",
        "def trace(root):\n",
        "  # builds a set of all nodes and edges in a graph\n",
        "  nodes, edges = set(), set()\n",
        "  def build(v):\n",
        "    if v not in nodes:\n",
        "      nodes.add(v)\n",
        "      for child in v._prev:\n",
        "        edges.add((child, v))\n",
        "        build(child)\n",
        "  build(root)\n",
        "  return nodes, edges\n",
        "\n",
        "def draw_dot(root):\n",
        "  dot = Digraph(format='svg', graph_attr={'rankdir': 'LR'}) # LR = left to right\n",
        "\n",
        "  nodes, edges = trace(root)\n",
        "  for n in nodes:\n",
        "    uid = str(id(n))\n",
        "    # for any value in the graph, create a rectangular ('record') node for it\n",
        "    dot.node(name = uid, label = \"{ %s | data %.4f | grad %.4f }\" % (n.label, n.data, n.grad), shape='record')\n",
        "    if n._op:\n",
        "      # if this value is a result of some operation, create an op node for it\n",
        "      dot.node(name = uid + n._op, label = n._op)\n",
        "      # and connect this node to it\n",
        "      dot.edge(uid + n._op, uid)\n",
        "\n",
        "  for n1, n2 in edges:\n",
        "    # connect n1 to the op node of n2\n",
        "    dot.edge(str(id(n1)), str(id(n2)) + n2._op)\n",
        "\n",
        "  return dot"
      ]
    },
    {
      "cell_type": "code",
      "execution_count": null,
      "metadata": {
        "colab": {
          "background_save": true,
          "base_uri": "https://localhost:8080/",
          "height": 212
        },
        "id": "rfrazkkhYq6l",
        "outputId": "661b3141-500c-4aa9-e6b2-6f4c1efb53b1"
      },
      "outputs": [
        {
          "data": {
            "image/svg+xml": "<?xml version=\"1.0\" encoding=\"UTF-8\" standalone=\"no\"?>\n<!DOCTYPE svg PUBLIC \"-//W3C//DTD SVG 1.1//EN\"\n \"http://www.w3.org/Graphics/SVG/1.1/DTD/svg11.dtd\">\n<!-- Generated by graphviz version 2.43.0 (0)\n -->\n<!-- Title: %3 Pages: 1 -->\n<svg width=\"1148pt\" height=\"156pt\"\n viewBox=\"0.00 0.00 1148.00 156.00\" xmlns=\"http://www.w3.org/2000/svg\" xmlns:xlink=\"http://www.w3.org/1999/xlink\">\n<g id=\"graph0\" class=\"graph\" transform=\"scale(1 1) rotate(0) translate(4 152)\">\n<title>%3</title>\n<polygon fill=\"white\" stroke=\"transparent\" points=\"-4,4 -4,-152 1144,-152 1144,4 -4,4\"/>\n<!-- 135568467875424 -->\n<g id=\"node1\" class=\"node\">\n<title>135568467875424</title>\n<polygon fill=\"none\" stroke=\"black\" points=\"0,-111.5 0,-147.5 190,-147.5 190,-111.5 0,-111.5\"/>\n<text text-anchor=\"middle\" x=\"11.5\" y=\"-125.8\" font-family=\"Times,serif\" font-size=\"14.00\">b</text>\n<polyline fill=\"none\" stroke=\"black\" points=\"23,-111.5 23,-147.5 \"/>\n<text text-anchor=\"middle\" x=\"65.5\" y=\"-125.8\" font-family=\"Times,serif\" font-size=\"14.00\">data &#45;3.0000</text>\n<polyline fill=\"none\" stroke=\"black\" points=\"108,-111.5 108,-147.5 \"/>\n<text text-anchor=\"middle\" x=\"149\" y=\"-125.8\" font-family=\"Times,serif\" font-size=\"14.00\">grad 0.0000</text>\n</g>\n<!-- 135568481090192* -->\n<g id=\"node5\" class=\"node\">\n<title>135568481090192*</title>\n<ellipse fill=\"none\" stroke=\"black\" cx=\"253\" cy=\"-101.5\" rx=\"27\" ry=\"18\"/>\n<text text-anchor=\"middle\" x=\"253\" y=\"-97.8\" font-family=\"Times,serif\" font-size=\"14.00\">*</text>\n</g>\n<!-- 135568467875424&#45;&gt;135568481090192* -->\n<g id=\"edge9\" class=\"edge\">\n<title>135568467875424&#45;&gt;135568481090192*</title>\n<path fill=\"none\" stroke=\"black\" d=\"M190.34,-112.57C199.62,-110.9 208.58,-109.29 216.66,-107.84\"/>\n<polygon fill=\"black\" stroke=\"black\" points=\"217.49,-111.25 226.72,-106.04 216.26,-104.36 217.49,-111.25\"/>\n</g>\n<!-- 135568481085296 -->\n<g id=\"node2\" class=\"node\">\n<title>135568481085296</title>\n<polygon fill=\"none\" stroke=\"black\" points=\"948,-27.5 948,-63.5 1140,-63.5 1140,-27.5 948,-27.5\"/>\n<text text-anchor=\"middle\" x=\"960.5\" y=\"-41.8\" font-family=\"Times,serif\" font-size=\"14.00\">L</text>\n<polyline fill=\"none\" stroke=\"black\" points=\"973,-27.5 973,-63.5 \"/>\n<text text-anchor=\"middle\" x=\"1015.5\" y=\"-41.8\" font-family=\"Times,serif\" font-size=\"14.00\">data &#45;8.0000</text>\n<polyline fill=\"none\" stroke=\"black\" points=\"1058,-27.5 1058,-63.5 \"/>\n<text text-anchor=\"middle\" x=\"1099\" y=\"-41.8\" font-family=\"Times,serif\" font-size=\"14.00\">grad 0.0000</text>\n</g>\n<!-- 135568481085296* -->\n<g id=\"node3\" class=\"node\">\n<title>135568481085296*</title>\n<ellipse fill=\"none\" stroke=\"black\" cx=\"885\" cy=\"-45.5\" rx=\"27\" ry=\"18\"/>\n<text text-anchor=\"middle\" x=\"885\" y=\"-41.8\" font-family=\"Times,serif\" font-size=\"14.00\">*</text>\n</g>\n<!-- 135568481085296*&#45;&gt;135568481085296 -->\n<g id=\"edge1\" class=\"edge\">\n<title>135568481085296*&#45;&gt;135568481085296</title>\n<path fill=\"none\" stroke=\"black\" d=\"M912.28,-45.5C919.78,-45.5 928.44,-45.5 937.67,-45.5\"/>\n<polygon fill=\"black\" stroke=\"black\" points=\"937.87,-49 947.87,-45.5 937.87,-42 937.87,-49\"/>\n</g>\n<!-- 135568481090192 -->\n<g id=\"node4\" class=\"node\">\n<title>135568481090192</title>\n<polygon fill=\"none\" stroke=\"black\" points=\"317,-83.5 317,-119.5 507,-119.5 507,-83.5 317,-83.5\"/>\n<text text-anchor=\"middle\" x=\"328.5\" y=\"-97.8\" font-family=\"Times,serif\" font-size=\"14.00\">e</text>\n<polyline fill=\"none\" stroke=\"black\" points=\"340,-83.5 340,-119.5 \"/>\n<text text-anchor=\"middle\" x=\"382.5\" y=\"-97.8\" font-family=\"Times,serif\" font-size=\"14.00\">data &#45;6.0000</text>\n<polyline fill=\"none\" stroke=\"black\" points=\"425,-83.5 425,-119.5 \"/>\n<text text-anchor=\"middle\" x=\"466\" y=\"-97.8\" font-family=\"Times,serif\" font-size=\"14.00\">grad 0.0000</text>\n</g>\n<!-- 135564900966768+ -->\n<g id=\"node10\" class=\"node\">\n<title>135564900966768+</title>\n<ellipse fill=\"none\" stroke=\"black\" cx=\"571\" cy=\"-73.5\" rx=\"27\" ry=\"18\"/>\n<text text-anchor=\"middle\" x=\"571\" y=\"-69.8\" font-family=\"Times,serif\" font-size=\"14.00\">+</text>\n</g>\n<!-- 135568481090192&#45;&gt;135564900966768+ -->\n<g id=\"edge6\" class=\"edge\">\n<title>135568481090192&#45;&gt;135564900966768+</title>\n<path fill=\"none\" stroke=\"black\" d=\"M507.05,-84.73C516.89,-82.97 526.39,-81.28 534.9,-79.76\"/>\n<polygon fill=\"black\" stroke=\"black\" points=\"535.52,-83.2 544.75,-78 534.29,-76.31 535.52,-83.2\"/>\n</g>\n<!-- 135568481090192*&#45;&gt;135568481090192 -->\n<g id=\"edge2\" class=\"edge\">\n<title>135568481090192*&#45;&gt;135568481090192</title>\n<path fill=\"none\" stroke=\"black\" d=\"M280.28,-101.5C288.05,-101.5 297.08,-101.5 306.68,-101.5\"/>\n<polygon fill=\"black\" stroke=\"black\" points=\"306.88,-105 316.88,-101.5 306.88,-98 306.88,-105\"/>\n</g>\n<!-- 135568481090720 -->\n<g id=\"node6\" class=\"node\">\n<title>135568481090720</title>\n<polygon fill=\"none\" stroke=\"black\" points=\"634,-0.5 634,-36.5 822,-36.5 822,-0.5 634,-0.5\"/>\n<text text-anchor=\"middle\" x=\"644.5\" y=\"-14.8\" font-family=\"Times,serif\" font-size=\"14.00\">f</text>\n<polyline fill=\"none\" stroke=\"black\" points=\"655,-0.5 655,-36.5 \"/>\n<text text-anchor=\"middle\" x=\"697.5\" y=\"-14.8\" font-family=\"Times,serif\" font-size=\"14.00\">data &#45;2.0000</text>\n<polyline fill=\"none\" stroke=\"black\" points=\"740,-0.5 740,-36.5 \"/>\n<text text-anchor=\"middle\" x=\"781\" y=\"-14.8\" font-family=\"Times,serif\" font-size=\"14.00\">grad 0.0000</text>\n</g>\n<!-- 135568481090720&#45;&gt;135568481085296* -->\n<g id=\"edge7\" class=\"edge\">\n<title>135568481090720&#45;&gt;135568481085296*</title>\n<path fill=\"none\" stroke=\"black\" d=\"M822.29,-34.75C831.57,-36.37 840.52,-37.93 848.61,-39.33\"/>\n<polygon fill=\"black\" stroke=\"black\" points=\"848.22,-42.82 858.68,-41.09 849.42,-35.92 848.22,-42.82\"/>\n</g>\n<!-- 135568467879696 -->\n<g id=\"node7\" class=\"node\">\n<title>135568467879696</title>\n<polygon fill=\"none\" stroke=\"black\" points=\"2.5,-56.5 2.5,-92.5 187.5,-92.5 187.5,-56.5 2.5,-56.5\"/>\n<text text-anchor=\"middle\" x=\"14\" y=\"-70.8\" font-family=\"Times,serif\" font-size=\"14.00\">a</text>\n<polyline fill=\"none\" stroke=\"black\" points=\"25.5,-56.5 25.5,-92.5 \"/>\n<text text-anchor=\"middle\" x=\"65.5\" y=\"-70.8\" font-family=\"Times,serif\" font-size=\"14.00\">data 2.0000</text>\n<polyline fill=\"none\" stroke=\"black\" points=\"105.5,-56.5 105.5,-92.5 \"/>\n<text text-anchor=\"middle\" x=\"146.5\" y=\"-70.8\" font-family=\"Times,serif\" font-size=\"14.00\">grad 0.0000</text>\n</g>\n<!-- 135568467879696&#45;&gt;135568481090192* -->\n<g id=\"edge4\" class=\"edge\">\n<title>135568467879696&#45;&gt;135568481090192*</title>\n<path fill=\"none\" stroke=\"black\" d=\"M187.65,-90.36C197.94,-92.14 207.91,-93.87 216.81,-95.41\"/>\n<polygon fill=\"black\" stroke=\"black\" points=\"216.26,-98.87 226.71,-97.12 217.45,-91.97 216.26,-98.87\"/>\n</g>\n<!-- 135568467873072 -->\n<g id=\"node8\" class=\"node\">\n<title>135568467873072</title>\n<polygon fill=\"none\" stroke=\"black\" points=\"316,-28.5 316,-64.5 508,-64.5 508,-28.5 316,-28.5\"/>\n<text text-anchor=\"middle\" x=\"327.5\" y=\"-42.8\" font-family=\"Times,serif\" font-size=\"14.00\">c</text>\n<polyline fill=\"none\" stroke=\"black\" points=\"339,-28.5 339,-64.5 \"/>\n<text text-anchor=\"middle\" x=\"382.5\" y=\"-42.8\" font-family=\"Times,serif\" font-size=\"14.00\">data 10.0000</text>\n<polyline fill=\"none\" stroke=\"black\" points=\"426,-28.5 426,-64.5 \"/>\n<text text-anchor=\"middle\" x=\"467\" y=\"-42.8\" font-family=\"Times,serif\" font-size=\"14.00\">grad 0.0000</text>\n</g>\n<!-- 135568467873072&#45;&gt;135564900966768+ -->\n<g id=\"edge8\" class=\"edge\">\n<title>135568467873072&#45;&gt;135564900966768+</title>\n<path fill=\"none\" stroke=\"black\" d=\"M508.4,-62.91C517.69,-64.5 526.64,-66.04 534.71,-67.43\"/>\n<polygon fill=\"black\" stroke=\"black\" points=\"534.32,-70.91 544.76,-69.16 535.5,-64.02 534.32,-70.91\"/>\n</g>\n<!-- 135564900966768 -->\n<g id=\"node9\" class=\"node\">\n<title>135564900966768</title>\n<polygon fill=\"none\" stroke=\"black\" points=\"635.5,-55.5 635.5,-91.5 820.5,-91.5 820.5,-55.5 635.5,-55.5\"/>\n<text text-anchor=\"middle\" x=\"647\" y=\"-69.8\" font-family=\"Times,serif\" font-size=\"14.00\">d</text>\n<polyline fill=\"none\" stroke=\"black\" points=\"658.5,-55.5 658.5,-91.5 \"/>\n<text text-anchor=\"middle\" x=\"698.5\" y=\"-69.8\" font-family=\"Times,serif\" font-size=\"14.00\">data 4.0000</text>\n<polyline fill=\"none\" stroke=\"black\" points=\"738.5,-55.5 738.5,-91.5 \"/>\n<text text-anchor=\"middle\" x=\"779.5\" y=\"-69.8\" font-family=\"Times,serif\" font-size=\"14.00\">grad 0.0000</text>\n</g>\n<!-- 135564900966768&#45;&gt;135568481085296* -->\n<g id=\"edge5\" class=\"edge\">\n<title>135564900966768&#45;&gt;135568481085296*</title>\n<path fill=\"none\" stroke=\"black\" d=\"M820.51,-56.97C830.48,-55.17 840.13,-53.42 848.77,-51.86\"/>\n<polygon fill=\"black\" stroke=\"black\" points=\"849.55,-55.28 858.77,-50.06 848.3,-48.39 849.55,-55.28\"/>\n</g>\n<!-- 135564900966768+&#45;&gt;135564900966768 -->\n<g id=\"edge3\" class=\"edge\">\n<title>135564900966768+&#45;&gt;135564900966768</title>\n<path fill=\"none\" stroke=\"black\" d=\"M598.29,-73.5C606.26,-73.5 615.54,-73.5 625.39,-73.5\"/>\n<polygon fill=\"black\" stroke=\"black\" points=\"625.41,-77 635.41,-73.5 625.41,-70 625.41,-77\"/>\n</g>\n</g>\n</svg>\n",
            "text/plain": [
              "<graphviz.graphs.Digraph at 0x7b4ba9cb3c10>"
            ]
          },
          "execution_count": 12,
          "metadata": {},
          "output_type": "execute_result"
        }
      ],
      "source": [
        "draw_dot(L)"
      ]
    },
    {
      "cell_type": "markdown",
      "metadata": {
        "id": "7INfeC2FYr22"
      },
      "source": [
        "## 3. Performing backpropogation manually"
      ]
    },
    {
      "cell_type": "markdown",
      "metadata": {
        "id": "Pt6CnmvM8Ows"
      },
      "source": [
        "### 3.1 Example 1: A simple expression\n",
        "\n",
        "* We have to apply chain rule piece by piece, iterating through each node and apply it locally.\n",
        "* We recursively multiply the local derivatives.\n",
        "* Backpropogation is essentially the recursive application of chain rule backward through the computation of graph."
      ]
    },
    {
      "cell_type": "markdown",
      "metadata": {
        "id": "3a3kFe2k9jqh"
      },
      "source": [
        "```\n",
        "L = d * f\n",
        "dL/dd = ? -> f\n",
        "(f(x+h)-f(x))/h\n",
        "((d+h)*f - d*f)/h\n",
        "(d*f + h*f - d*f)/h\n",
        "(h*f)/h\n",
        "f\n",
        "```"
      ]
    },
    {
      "cell_type": "code",
      "execution_count": null,
      "metadata": {
        "colab": {
          "background_save": true,
          "base_uri": "https://localhost:8080/"
        },
        "id": "XEkeKosx8NPU",
        "outputId": "3182dc72-1b05-436e-844d-a492e023b095"
      },
      "outputs": [
        {
          "data": {
            "text/plain": [
              "Value(data = -8.0)"
            ]
          },
          "execution_count": 13,
          "metadata": {},
          "output_type": "execute_result"
        }
      ],
      "source": [
        "import math\n",
        "\n",
        "class Value:\n",
        "  def __init__(self, data, _children = (), _op = '', label = ''): # 'children' is originally a Tuple here\n",
        "    self.data = data\n",
        "    self._prev = set(_children) # converted to a set to maintain efficiency\n",
        "    self._op = _op\n",
        "    self.label = label\n",
        "    self.grad = 0.0 # initially 0\n",
        "\n",
        "  # Providing a way for the expression to be printed out cleanly\n",
        "  def __repr__(self):\n",
        "    return f\"Value(data = {self.data})\"\n",
        "\n",
        "  # Python can't add 2 Value's objects so we have to define it ('a+b' won't work)\n",
        "  def __add__(self, other):\n",
        "    out = Value(self.data + other.data, (self, other), '+')\n",
        "    return out # Python internally calls `a.__add__(b)`\n",
        "\n",
        "  def __mul__(self, other):\n",
        "    out = Value(self.data * other.data, (self, other), '*')\n",
        "    return out\n",
        "\n",
        "  def tanh(self):\n",
        "    x = self.data\n",
        "    t = (math.exp(2*x) - 1)/(math.exp(2*x) + 1)\n",
        "    out = Value(t, (self, ), 'tanh')\n",
        "    return out\n",
        "\n",
        "a = Value(2.0, label = 'a')\n",
        "b = Value(-3.0, label = 'b')\n",
        "c = Value(10.0, label = 'c')\n",
        "e = a*b; e.label = 'e'\n",
        "d = e + c; d.label = 'd' # (a.__mul__(b)).__add__(c) = a*b + c\n",
        "f = Value(-2.0, label = 'f')\n",
        "L = d * f; L.label = 'L' # output of our graph\n",
        "L\n",
        "# print(f\"Printing out the children of 'L': {L._prev}\")\n",
        "# print(f\"Printing out the operation between the children for outputting 'L': {L._op}\")"
      ]
    },
    {
      "cell_type": "code",
      "execution_count": null,
      "metadata": {
        "colab": {
          "background_save": true,
          "base_uri": "https://localhost:8080/"
        },
        "id": "fkTIIV5e8YiN",
        "outputId": "656777e7-d901-4cac-c26f-44b795006b61"
      },
      "outputs": [
        {
          "name": "stdout",
          "output_type": "stream",
          "text": [
            "-3.9999999999995595\n"
          ]
        }
      ],
      "source": [
        "def lol():\n",
        "\n",
        "  h = 0.001\n",
        "\n",
        "  a = Value(2.0, label = 'a')\n",
        "  b = Value(-3.0, label = 'b')\n",
        "  c = Value(10.0, label = 'c')\n",
        "  e = a*b; e.label = 'e'\n",
        "  d = e + c; d.label = 'd'\n",
        "  f = Value(-2.0, label = 'f')\n",
        "  L = d * f; L.label = 'L' # output of our graph\n",
        "  L1 = L.data\n",
        "\n",
        "  a = Value(2.0, label = 'a')\n",
        "  b = Value(-3.0, label = 'b')\n",
        "  b.data += h\n",
        "  c = Value(10.0, label = 'c')\n",
        "  e = a*b; e.label = 'e'\n",
        "  d = e + c; d.label = 'd'\n",
        "  f = Value(-2.0, label = 'f')\n",
        "  L = d * f; L.label = 'L' # output of our graph\n",
        "  L2 = L.data # L is a value node so we want its data\n",
        "\n",
        "  print((L2 - L1)/h) # rise/run\n",
        "\n",
        "lol()"
      ]
    },
    {
      "cell_type": "markdown",
      "metadata": {
        "id": "1lU3gow3BaTD"
      },
      "source": [
        "Continuing our backpropogation manually, we now need to drive the crux of our gradient inline manual check by deriving gradients of node **c and e**:\n",
        "\n",
        "```\n",
        "dL/dc & dL/de\n",
        "```\n",
        "\n",
        "What is `dd/dc`? -> 1.0\n",
        "* By symmtery `dd/de` will also be 1.0\n",
        "\n",
        "```\n",
        "d = c + e\n",
        "(f(x+h) - f(x))/h\n",
        "((c*h + e) - (c+e))/h\n",
        "(c + h + e - c - e)/h\n",
        "h/h\n",
        "1.0\n",
        "```\n",
        "* But these are the local derivatives, we want the global one's which are backpropogating two nodes from L rather than just one from `d` or `f`\n",
        "* the whole `+` node is meant to be embedded inside a massive graph; we know how L impact d, and we now know how **c and e impact d** -> we put this together by the chain rule.\n",
        "* ***chain rule:*** when a variable x is dependent on a variable y which is dependent on a variable z, which makes x dependent on z as well.\n",
        "\n",
        "```\n",
        "dd / dc = 1.0\n",
        "dd / de = 1.0\n",
        "d = c + e\n",
        "\n",
        "dL / dd # Know as -2.0\n",
        "dd / dc # Know as 1.0\n",
        "dL/dc = (dL / dd) * (dd / dc) # Want by chain rule\n",
        "```"
      ]
    },
    {
      "cell_type": "markdown",
      "metadata": {
        "id": "AI-z2IC1FLZE"
      },
      "source": [
        "Manually backpropogating to get our data nodes **a and b:**\n",
        "\n",
        "```\n",
        "dL / de = -2.0\n",
        "e = a + b\n",
        "de / da ? -> b\n",
        "de / db ? -> a\n",
        "\n",
        "* dL / da = (dL / de) * (de / da) -> (dL / de) * (b)\n",
        "\n",
        "* dL / db = (dL / de) * (de / db) -> (dL / de) * (a)\n",
        "```"
      ]
    },
    {
      "cell_type": "code",
      "execution_count": null,
      "metadata": {
        "colab": {
          "background_save": true
        },
        "id": "fIOQ5pMDINdb"
      },
      "outputs": [],
      "source": [
        "a.grad = 6.0\n",
        "b.grad = -4.0\n",
        "c.grad = -2.0\n",
        "e.grad = -2.0\n",
        "d.grad = -2.0\n",
        "f.grad = 4.0\n",
        "L.grad = 1.0"
      ]
    },
    {
      "cell_type": "code",
      "execution_count": null,
      "metadata": {
        "colab": {
          "background_save": true,
          "base_uri": "https://localhost:8080/",
          "height": 246
        },
        "id": "P0KsM-IOBCHG",
        "outputId": "0dff9510-e74b-4c6e-dc97-f27d58a9df17"
      },
      "outputs": [
        {
          "data": {
            "image/svg+xml": "<?xml version=\"1.0\" encoding=\"UTF-8\" standalone=\"no\"?>\n<!DOCTYPE svg PUBLIC \"-//W3C//DTD SVG 1.1//EN\"\n \"http://www.w3.org/Graphics/SVG/1.1/DTD/svg11.dtd\">\n<!-- Generated by graphviz version 2.43.0 (0)\n -->\n<!-- Title: %3 Pages: 1 -->\n<svg width=\"1157pt\" height=\"156pt\"\n viewBox=\"0.00 0.00 1157.00 156.00\" xmlns=\"http://www.w3.org/2000/svg\" xmlns:xlink=\"http://www.w3.org/1999/xlink\">\n<g id=\"graph0\" class=\"graph\" transform=\"scale(1 1) rotate(0) translate(4 152)\">\n<title>%3</title>\n<polygon fill=\"white\" stroke=\"transparent\" points=\"-4,4 -4,-152 1153,-152 1153,4 -4,4\"/>\n<!-- 135564902741568 -->\n<g id=\"node1\" class=\"node\">\n<title>135564902741568</title>\n<polygon fill=\"none\" stroke=\"black\" points=\"0,-111.5 0,-147.5 194,-147.5 194,-111.5 0,-111.5\"/>\n<text text-anchor=\"middle\" x=\"11.5\" y=\"-125.8\" font-family=\"Times,serif\" font-size=\"14.00\">b</text>\n<polyline fill=\"none\" stroke=\"black\" points=\"23,-111.5 23,-147.5 \"/>\n<text text-anchor=\"middle\" x=\"65.5\" y=\"-125.8\" font-family=\"Times,serif\" font-size=\"14.00\">data &#45;3.0000</text>\n<polyline fill=\"none\" stroke=\"black\" points=\"108,-111.5 108,-147.5 \"/>\n<text text-anchor=\"middle\" x=\"151\" y=\"-125.8\" font-family=\"Times,serif\" font-size=\"14.00\">grad &#45;4.0000</text>\n</g>\n<!-- 135564902738736* -->\n<g id=\"node9\" class=\"node\">\n<title>135564902738736*</title>\n<ellipse fill=\"none\" stroke=\"black\" cx=\"257\" cy=\"-101.5\" rx=\"27\" ry=\"18\"/>\n<text text-anchor=\"middle\" x=\"257\" y=\"-97.8\" font-family=\"Times,serif\" font-size=\"14.00\">*</text>\n</g>\n<!-- 135564902741568&#45;&gt;135564902738736* -->\n<g id=\"edge7\" class=\"edge\">\n<title>135564902741568&#45;&gt;135564902738736*</title>\n<path fill=\"none\" stroke=\"black\" d=\"M194.01,-112.49C203.35,-110.83 212.37,-109.23 220.49,-107.79\"/>\n<polygon fill=\"black\" stroke=\"black\" points=\"221.37,-111.19 230.6,-106 220.15,-104.3 221.37,-111.19\"/>\n</g>\n<!-- 135564902734416 -->\n<g id=\"node2\" class=\"node\">\n<title>135564902734416</title>\n<polygon fill=\"none\" stroke=\"black\" points=\"4.5,-56.5 4.5,-92.5 189.5,-92.5 189.5,-56.5 4.5,-56.5\"/>\n<text text-anchor=\"middle\" x=\"16\" y=\"-70.8\" font-family=\"Times,serif\" font-size=\"14.00\">a</text>\n<polyline fill=\"none\" stroke=\"black\" points=\"27.5,-56.5 27.5,-92.5 \"/>\n<text text-anchor=\"middle\" x=\"67.5\" y=\"-70.8\" font-family=\"Times,serif\" font-size=\"14.00\">data 2.0000</text>\n<polyline fill=\"none\" stroke=\"black\" points=\"107.5,-56.5 107.5,-92.5 \"/>\n<text text-anchor=\"middle\" x=\"148.5\" y=\"-70.8\" font-family=\"Times,serif\" font-size=\"14.00\">grad 6.0000</text>\n</g>\n<!-- 135564902734416&#45;&gt;135564902738736* -->\n<g id=\"edge8\" class=\"edge\">\n<title>135564902734416&#45;&gt;135564902738736*</title>\n<path fill=\"none\" stroke=\"black\" d=\"M189.91,-90.21C200.76,-92.06 211.28,-93.86 220.61,-95.45\"/>\n<polygon fill=\"black\" stroke=\"black\" points=\"220.16,-98.93 230.6,-97.16 221.34,-92.03 220.16,-98.93\"/>\n</g>\n<!-- 135564902742192 -->\n<g id=\"node3\" class=\"node\">\n<title>135564902742192</title>\n<polygon fill=\"none\" stroke=\"black\" points=\"320,-28.5 320,-64.5 516,-64.5 516,-28.5 320,-28.5\"/>\n<text text-anchor=\"middle\" x=\"331.5\" y=\"-42.8\" font-family=\"Times,serif\" font-size=\"14.00\">c</text>\n<polyline fill=\"none\" stroke=\"black\" points=\"343,-28.5 343,-64.5 \"/>\n<text text-anchor=\"middle\" x=\"386.5\" y=\"-42.8\" font-family=\"Times,serif\" font-size=\"14.00\">data 10.0000</text>\n<polyline fill=\"none\" stroke=\"black\" points=\"430,-28.5 430,-64.5 \"/>\n<text text-anchor=\"middle\" x=\"473\" y=\"-42.8\" font-family=\"Times,serif\" font-size=\"14.00\">grad &#45;2.0000</text>\n</g>\n<!-- 135564902737200+ -->\n<g id=\"node7\" class=\"node\">\n<title>135564902737200+</title>\n<ellipse fill=\"none\" stroke=\"black\" cx=\"579\" cy=\"-73.5\" rx=\"27\" ry=\"18\"/>\n<text text-anchor=\"middle\" x=\"579\" y=\"-69.8\" font-family=\"Times,serif\" font-size=\"14.00\">+</text>\n</g>\n<!-- 135564902742192&#45;&gt;135564902737200+ -->\n<g id=\"edge6\" class=\"edge\">\n<title>135564902742192&#45;&gt;135564902737200+</title>\n<path fill=\"none\" stroke=\"black\" d=\"M516.07,-62.98C525.42,-64.57 534.43,-66.1 542.55,-67.48\"/>\n<polygon fill=\"black\" stroke=\"black\" points=\"542.21,-70.97 552.65,-69.2 543.38,-64.07 542.21,-70.97\"/>\n</g>\n<!-- 135564902734560 -->\n<g id=\"node4\" class=\"node\">\n<title>135564902734560</title>\n<polygon fill=\"none\" stroke=\"black\" points=\"957,-27.5 957,-63.5 1149,-63.5 1149,-27.5 957,-27.5\"/>\n<text text-anchor=\"middle\" x=\"969.5\" y=\"-41.8\" font-family=\"Times,serif\" font-size=\"14.00\">L</text>\n<polyline fill=\"none\" stroke=\"black\" points=\"982,-27.5 982,-63.5 \"/>\n<text text-anchor=\"middle\" x=\"1024.5\" y=\"-41.8\" font-family=\"Times,serif\" font-size=\"14.00\">data &#45;8.0000</text>\n<polyline fill=\"none\" stroke=\"black\" points=\"1067,-27.5 1067,-63.5 \"/>\n<text text-anchor=\"middle\" x=\"1108\" y=\"-41.8\" font-family=\"Times,serif\" font-size=\"14.00\">grad 1.0000</text>\n</g>\n<!-- 135564902734560* -->\n<g id=\"node5\" class=\"node\">\n<title>135564902734560*</title>\n<ellipse fill=\"none\" stroke=\"black\" cx=\"894\" cy=\"-45.5\" rx=\"27\" ry=\"18\"/>\n<text text-anchor=\"middle\" x=\"894\" y=\"-41.8\" font-family=\"Times,serif\" font-size=\"14.00\">*</text>\n</g>\n<!-- 135564902734560*&#45;&gt;135564902734560 -->\n<g id=\"edge1\" class=\"edge\">\n<title>135564902734560*&#45;&gt;135564902734560</title>\n<path fill=\"none\" stroke=\"black\" d=\"M921.28,-45.5C928.78,-45.5 937.44,-45.5 946.67,-45.5\"/>\n<polygon fill=\"black\" stroke=\"black\" points=\"946.87,-49 956.87,-45.5 946.87,-42 946.87,-49\"/>\n</g>\n<!-- 135564902737200 -->\n<g id=\"node6\" class=\"node\">\n<title>135564902737200</title>\n<polygon fill=\"none\" stroke=\"black\" points=\"642,-55.5 642,-91.5 831,-91.5 831,-55.5 642,-55.5\"/>\n<text text-anchor=\"middle\" x=\"653.5\" y=\"-69.8\" font-family=\"Times,serif\" font-size=\"14.00\">d</text>\n<polyline fill=\"none\" stroke=\"black\" points=\"665,-55.5 665,-91.5 \"/>\n<text text-anchor=\"middle\" x=\"705\" y=\"-69.8\" font-family=\"Times,serif\" font-size=\"14.00\">data 4.0000</text>\n<polyline fill=\"none\" stroke=\"black\" points=\"745,-55.5 745,-91.5 \"/>\n<text text-anchor=\"middle\" x=\"788\" y=\"-69.8\" font-family=\"Times,serif\" font-size=\"14.00\">grad &#45;2.0000</text>\n</g>\n<!-- 135564902737200&#45;&gt;135564902734560* -->\n<g id=\"edge5\" class=\"edge\">\n<title>135564902737200&#45;&gt;135564902734560*</title>\n<path fill=\"none\" stroke=\"black\" d=\"M831.1,-56.65C840.4,-54.97 849.38,-53.35 857.49,-51.89\"/>\n<polygon fill=\"black\" stroke=\"black\" points=\"858.37,-55.29 867.59,-50.07 857.13,-48.4 858.37,-55.29\"/>\n</g>\n<!-- 135564902737200+&#45;&gt;135564902737200 -->\n<g id=\"edge2\" class=\"edge\">\n<title>135564902737200+&#45;&gt;135564902737200</title>\n<path fill=\"none\" stroke=\"black\" d=\"M606.03,-73.5C613.66,-73.5 622.52,-73.5 631.94,-73.5\"/>\n<polygon fill=\"black\" stroke=\"black\" points=\"631.94,-77 641.94,-73.5 631.94,-70 631.94,-77\"/>\n</g>\n<!-- 135564902738736 -->\n<g id=\"node8\" class=\"node\">\n<title>135564902738736</title>\n<polygon fill=\"none\" stroke=\"black\" points=\"321,-83.5 321,-119.5 515,-119.5 515,-83.5 321,-83.5\"/>\n<text text-anchor=\"middle\" x=\"332.5\" y=\"-97.8\" font-family=\"Times,serif\" font-size=\"14.00\">e</text>\n<polyline fill=\"none\" stroke=\"black\" points=\"344,-83.5 344,-119.5 \"/>\n<text text-anchor=\"middle\" x=\"386.5\" y=\"-97.8\" font-family=\"Times,serif\" font-size=\"14.00\">data &#45;6.0000</text>\n<polyline fill=\"none\" stroke=\"black\" points=\"429,-83.5 429,-119.5 \"/>\n<text text-anchor=\"middle\" x=\"472\" y=\"-97.8\" font-family=\"Times,serif\" font-size=\"14.00\">grad &#45;2.0000</text>\n</g>\n<!-- 135564902738736&#45;&gt;135564902737200+ -->\n<g id=\"edge4\" class=\"edge\">\n<title>135564902738736&#45;&gt;135564902737200+</title>\n<path fill=\"none\" stroke=\"black\" d=\"M515.16,-84.57C524.82,-82.87 534.13,-81.23 542.49,-79.75\"/>\n<polygon fill=\"black\" stroke=\"black\" points=\"543.3,-83.17 552.54,-77.98 542.08,-76.27 543.3,-83.17\"/>\n</g>\n<!-- 135564902738736*&#45;&gt;135564902738736 -->\n<g id=\"edge3\" class=\"edge\">\n<title>135564902738736*&#45;&gt;135564902738736</title>\n<path fill=\"none\" stroke=\"black\" d=\"M284.26,-101.5C292.05,-101.5 301.1,-101.5 310.75,-101.5\"/>\n<polygon fill=\"black\" stroke=\"black\" points=\"310.99,-105 320.99,-101.5 310.99,-98 310.99,-105\"/>\n</g>\n<!-- 135564902737344 -->\n<g id=\"node10\" class=\"node\">\n<title>135564902737344</title>\n<polygon fill=\"none\" stroke=\"black\" points=\"642.5,-0.5 642.5,-36.5 830.5,-36.5 830.5,-0.5 642.5,-0.5\"/>\n<text text-anchor=\"middle\" x=\"653\" y=\"-14.8\" font-family=\"Times,serif\" font-size=\"14.00\">f</text>\n<polyline fill=\"none\" stroke=\"black\" points=\"663.5,-0.5 663.5,-36.5 \"/>\n<text text-anchor=\"middle\" x=\"706\" y=\"-14.8\" font-family=\"Times,serif\" font-size=\"14.00\">data &#45;2.0000</text>\n<polyline fill=\"none\" stroke=\"black\" points=\"748.5,-0.5 748.5,-36.5 \"/>\n<text text-anchor=\"middle\" x=\"789.5\" y=\"-14.8\" font-family=\"Times,serif\" font-size=\"14.00\">grad 4.0000</text>\n</g>\n<!-- 135564902737344&#45;&gt;135564902734560* -->\n<g id=\"edge9\" class=\"edge\">\n<title>135564902737344&#45;&gt;135564902734560*</title>\n<path fill=\"none\" stroke=\"black\" d=\"M830.65,-34.67C840.2,-36.33 849.43,-37.93 857.72,-39.37\"/>\n<polygon fill=\"black\" stroke=\"black\" points=\"857.24,-42.84 867.69,-41.11 858.44,-35.95 857.24,-42.84\"/>\n</g>\n</g>\n</svg>\n",
            "text/plain": [
              "<graphviz.graphs.Digraph at 0x7b4ba9df1bd0>"
            ]
          },
          "execution_count": 16,
          "metadata": {},
          "output_type": "execute_result"
        }
      ],
      "source": [
        "draw_dot(L)"
      ]
    },
    {
      "cell_type": "markdown",
      "metadata": {
        "id": "L9P5zXvGHT64"
      },
      "source": [
        "Previewing a single optimization step"
      ]
    },
    {
      "cell_type": "code",
      "execution_count": null,
      "metadata": {
        "colab": {
          "background_save": true,
          "base_uri": "https://localhost:8080/"
        },
        "id": "3zZoTo6VBY2I",
        "outputId": "9c080d37-0ef3-442c-9146-fa6b054d54ce"
      },
      "outputs": [
        {
          "name": "stdout",
          "output_type": "stream",
          "text": [
            "-7.4352\n"
          ]
        }
      ],
      "source": [
        "a.data += 0.01 * a.grad\n",
        "b.data += 0.01 * b.grad\n",
        "c.data += 0.01 * c.grad\n",
        "d.data += 0.01 * d.grad\n",
        "\n",
        "# Forward pass where f remains unchanged\n",
        "e = a * b\n",
        "d = e + c\n",
        "L = d * f\n",
        "\n",
        "print(L.data) # We nudged the values in direction of the gradients so we expect the value to be positive"
      ]
    },
    {
      "cell_type": "markdown",
      "metadata": {
        "id": "4wq1PkF_BFW3"
      },
      "source": [
        "### 3.2 Example 2: A neuron"
      ]
    },
    {
      "cell_type": "code",
      "execution_count": null,
      "metadata": {
        "colab": {
          "background_save": true,
          "base_uri": "https://localhost:8080/",
          "height": 430
        },
        "id": "5CRQ1lknJU7t",
        "outputId": "297d6f65-0841-40a9-f5dc-46ceb9143400"
      },
      "outputs": [
        {
          "data": {
            "image/png": "[encoded data removed]",
            "text/plain": [
              "<Figure size 640x480 with 1 Axes>"
            ]
          },
          "metadata": {},
          "output_type": "display_data"
        }
      ],
      "source": [
        "plt.plot(np.arange(-5,5,0.2), np.tanh(np.arange(-5,5,0.2)))\n",
        "plt.grid();"
      ]
    },
    {
      "cell_type": "markdown",
      "metadata": {
        "id": "ap8aQt8xD5U6"
      },
      "source": [
        "```\n",
        "x1*w1 + x2*w2 + b\n",
        "```\n",
        "* implementing this but in small steps so that we have pointers to all these intermediate notes\n",
        "* `n` is the cell body wall activation without the activation function (for now)\n",
        "* `tanh` is the activation function (hyperbolic one) -> have to implement exponentiality in it so we implement it in the class function."
      ]
    },
    {
      "cell_type": "code",
      "execution_count": null,
      "metadata": {
        "colab": {
          "background_save": true
        },
        "id": "tggVF9oHDNYN"
      },
      "outputs": [],
      "source": [
        "# inputs x1,x2 (2D neuron)\n",
        "x1 = Value(2.0, label='x1')\n",
        "x2 = Value(0.0, label='x2')\n",
        "\n",
        "# weights w1,w2 (synaptics strings for each input)\n",
        "w1 = Value(-3.0, label='w1')\n",
        "w2 = Value(1.0, label='w2')\n",
        "\n",
        "# bias of the neuron\n",
        "b = Value(6.8813735870195432, label='b')\n",
        "\n",
        "x1w1 = x1*w1; x1w1.label = 'x1*w1'\n",
        "x2w2 = x2*w2; x2w2.label = 'x2*w2'\n",
        "x1w1x2w2 = x1w1 + x2w2; x1w1x2w2.label = 'x1*w1 + x2*w2'\n",
        "n = x1w1x2w2 + b; n.label = 'n'\n",
        "\n",
        "o = n.tanh(); o.label = 'o'\n"
      ]
    },
    {
      "cell_type": "code",
      "execution_count": null,
      "metadata": {
        "colab": {
          "background_save": true
        },
        "id": "LxF4Z41ZHjGy"
      },
      "outputs": [],
      "source": [
        "o.grad = 1.0\n",
        "n.grad = 0.5\n",
        "x1w1x2w2.grad = 0.5\n",
        "b.grad = 0.5\n",
        "x1w1.grad = 0.5\n",
        "x2w2.grad = 0.5\n",
        "x2.grad = w2.data * x2w2.grad\n",
        "w2.grad = x2.data * x2w2.grad\n",
        "x1.grad = w1.data * x1w1.grad\n",
        "w1.grad = x1.data * x1w1.grad"
      ]
    },
    {
      "cell_type": "markdown",
      "metadata": {
        "id": "M-kRnJpSH95c"
      },
      "source": [
        "```\n",
        "o = tanh(n)\n",
        "do/dn = 1 - tanh(n)**2 -> 1 - o**2\n",
        "```\n",
        "\n",
        "* While an addition `+` operator is being applied in backpropogation, the grad values flow equally so each input gets the value from the output node, like `b` and `x1w1 + x2w2` get the value of `n` as **0.5**.\n",
        "* If we want an output of a neuron to increase, then the influence on these expressions is a positive contribution to the output.\n",
        "* If it being multiplied `*` during backpropogation, using chain rule: the gradient is the data value * the node from which you're backprogating from ->\n",
        "```\n",
        "x2.grad = w2.data * x2w2.grad\n",
        "```\n",
        "* derivative tells us the influence of this node on the final output\n",
        "* if we want the neuron's output to increase, w2 doesn't matter to this neuron's output as it is 0 but w1 does so it should go up (positive) for the output to be positive or go up."
      ]
    },
    {
      "cell_type": "code",
      "execution_count": null,
      "metadata": {
        "colab": {
          "background_save": true,
          "base_uri": "https://localhost:8080/",
          "height": 321
        },
        "id": "7v9xJcHbEbx_",
        "outputId": "e9231d73-a762-43e3-ccf8-b8b57a2aec8c"
      },
      "outputs": [
        {
          "data": {
            "image/svg+xml": "<?xml version=\"1.0\" encoding=\"UTF-8\" standalone=\"no\"?>\n<!DOCTYPE svg PUBLIC \"-//W3C//DTD SVG 1.1//EN\"\n \"http://www.w3.org/Graphics/SVG/1.1/DTD/svg11.dtd\">\n<!-- Generated by graphviz version 2.43.0 (0)\n -->\n<!-- Title: %3 Pages: 1 -->\n<svg width=\"1575pt\" height=\"210pt\"\n viewBox=\"0.00 0.00 1575.00 210.00\" xmlns=\"http://www.w3.org/2000/svg\" xmlns:xlink=\"http://www.w3.org/1999/xlink\">\n<g id=\"graph0\" class=\"graph\" transform=\"scale(1 1) rotate(0) translate(4 206)\">\n<title>%3</title>\n<polygon fill=\"white\" stroke=\"transparent\" points=\"-4,4 -4,-206 1571,-206 1571,4 -4,4\"/>\n<!-- 135564866575408 -->\n<g id=\"node1\" class=\"node\">\n<title>135564866575408</title>\n<polygon fill=\"none\" stroke=\"black\" points=\"328.5,-55.5 328.5,-91.5 543.5,-91.5 543.5,-55.5 328.5,-55.5\"/>\n<text text-anchor=\"middle\" x=\"355\" y=\"-69.8\" font-family=\"Times,serif\" font-size=\"14.00\">x2*w2</text>\n<polyline fill=\"none\" stroke=\"black\" points=\"381.5,-55.5 381.5,-91.5 \"/>\n<text text-anchor=\"middle\" x=\"421.5\" y=\"-69.8\" font-family=\"Times,serif\" font-size=\"14.00\">data 0.0000</text>\n<polyline fill=\"none\" stroke=\"black\" points=\"461.5,-55.5 461.5,-91.5 \"/>\n<text text-anchor=\"middle\" x=\"502.5\" y=\"-69.8\" font-family=\"Times,serif\" font-size=\"14.00\">grad 0.5000</text>\n</g>\n<!-- 135564866575504+ -->\n<g id=\"node9\" class=\"node\">\n<title>135564866575504+</title>\n<ellipse fill=\"none\" stroke=\"black\" cx=\"609\" cy=\"-100.5\" rx=\"27\" ry=\"18\"/>\n<text text-anchor=\"middle\" x=\"609\" y=\"-96.8\" font-family=\"Times,serif\" font-size=\"14.00\">+</text>\n</g>\n<!-- 135564866575408&#45;&gt;135564866575504+ -->\n<g id=\"edge13\" class=\"edge\">\n<title>135564866575408&#45;&gt;135564866575504+</title>\n<path fill=\"none\" stroke=\"black\" d=\"M543.84,-90.37C554.01,-91.98 563.76,-93.51 572.44,-94.89\"/>\n<polygon fill=\"black\" stroke=\"black\" points=\"572.05,-98.37 582.47,-96.47 573.14,-91.45 572.05,-98.37\"/>\n</g>\n<!-- 135564866575408* -->\n<g id=\"node2\" class=\"node\">\n<title>135564866575408*</title>\n<ellipse fill=\"none\" stroke=\"black\" cx=\"263\" cy=\"-73.5\" rx=\"27\" ry=\"18\"/>\n<text text-anchor=\"middle\" x=\"263\" y=\"-69.8\" font-family=\"Times,serif\" font-size=\"14.00\">*</text>\n</g>\n<!-- 135564866575408*&#45;&gt;135564866575408 -->\n<g id=\"edge1\" class=\"edge\">\n<title>135564866575408*&#45;&gt;135564866575408</title>\n<path fill=\"none\" stroke=\"black\" d=\"M290.34,-73.5C298.51,-73.5 308.08,-73.5 318.36,-73.5\"/>\n<polygon fill=\"black\" stroke=\"black\" points=\"318.39,-77 328.39,-73.5 318.39,-70 318.39,-77\"/>\n</g>\n<!-- 135564902738496 -->\n<g id=\"node3\" class=\"node\">\n<title>135564902738496</title>\n<polygon fill=\"none\" stroke=\"black\" points=\"0,-165.5 0,-201.5 200,-201.5 200,-165.5 0,-165.5\"/>\n<text text-anchor=\"middle\" x=\"16.5\" y=\"-179.8\" font-family=\"Times,serif\" font-size=\"14.00\">w1</text>\n<polyline fill=\"none\" stroke=\"black\" points=\"33,-165.5 33,-201.5 \"/>\n<text text-anchor=\"middle\" x=\"75.5\" y=\"-179.8\" font-family=\"Times,serif\" font-size=\"14.00\">data &#45;3.0000</text>\n<polyline fill=\"none\" stroke=\"black\" points=\"118,-165.5 118,-201.5 \"/>\n<text text-anchor=\"middle\" x=\"159\" y=\"-179.8\" font-family=\"Times,serif\" font-size=\"14.00\">grad 1.0000</text>\n</g>\n<!-- 135564866435440* -->\n<g id=\"node13\" class=\"node\">\n<title>135564866435440*</title>\n<ellipse fill=\"none\" stroke=\"black\" cx=\"263\" cy=\"-128.5\" rx=\"27\" ry=\"18\"/>\n<text text-anchor=\"middle\" x=\"263\" y=\"-124.8\" font-family=\"Times,serif\" font-size=\"14.00\">*</text>\n</g>\n<!-- 135564902738496&#45;&gt;135564866435440* -->\n<g id=\"edge11\" class=\"edge\">\n<title>135564902738496&#45;&gt;135564866435440*</title>\n<path fill=\"none\" stroke=\"black\" d=\"M172.53,-165.44C181.84,-162.67 191.2,-159.67 200,-156.5 210.53,-152.71 221.75,-147.9 231.72,-143.33\"/>\n<polygon fill=\"black\" stroke=\"black\" points=\"233.25,-146.48 240.82,-139.07 230.28,-140.14 233.25,-146.48\"/>\n</g>\n<!-- 135564866570848 -->\n<g id=\"node4\" class=\"node\">\n<title>135564866570848</title>\n<polygon fill=\"none\" stroke=\"black\" points=\"1071,-109.5 1071,-145.5 1256,-145.5 1256,-109.5 1071,-109.5\"/>\n<text text-anchor=\"middle\" x=\"1082.5\" y=\"-123.8\" font-family=\"Times,serif\" font-size=\"14.00\">n</text>\n<polyline fill=\"none\" stroke=\"black\" points=\"1094,-109.5 1094,-145.5 \"/>\n<text text-anchor=\"middle\" x=\"1134\" y=\"-123.8\" font-family=\"Times,serif\" font-size=\"14.00\">data 0.8814</text>\n<polyline fill=\"none\" stroke=\"black\" points=\"1174,-109.5 1174,-145.5 \"/>\n<text text-anchor=\"middle\" x=\"1215\" y=\"-123.8\" font-family=\"Times,serif\" font-size=\"14.00\">grad 0.5000</text>\n</g>\n<!-- 135564866571376tanh -->\n<g id=\"node7\" class=\"node\">\n<title>135564866571376tanh</title>\n<ellipse fill=\"none\" stroke=\"black\" cx=\"1319\" cy=\"-127.5\" rx=\"27\" ry=\"18\"/>\n<text text-anchor=\"middle\" x=\"1319\" y=\"-123.8\" font-family=\"Times,serif\" font-size=\"14.00\">tanh</text>\n</g>\n<!-- 135564866570848&#45;&gt;135564866571376tanh -->\n<g id=\"edge7\" class=\"edge\">\n<title>135564866570848&#45;&gt;135564866571376tanh</title>\n<path fill=\"none\" stroke=\"black\" d=\"M1256.01,-127.5C1265.01,-127.5 1273.74,-127.5 1281.66,-127.5\"/>\n<polygon fill=\"black\" stroke=\"black\" points=\"1281.91,-131 1291.91,-127.5 1281.91,-124 1281.91,-131\"/>\n</g>\n<!-- 135564866570848+ -->\n<g id=\"node5\" class=\"node\">\n<title>135564866570848+</title>\n<ellipse fill=\"none\" stroke=\"black\" cx=\"1008\" cy=\"-127.5\" rx=\"27\" ry=\"18\"/>\n<text text-anchor=\"middle\" x=\"1008\" y=\"-123.8\" font-family=\"Times,serif\" font-size=\"14.00\">+</text>\n</g>\n<!-- 135564866570848+&#45;&gt;135564866570848 -->\n<g id=\"edge2\" class=\"edge\">\n<title>135564866570848+&#45;&gt;135564866570848</title>\n<path fill=\"none\" stroke=\"black\" d=\"M1035.04,-127.5C1042.58,-127.5 1051.3,-127.5 1060.57,-127.5\"/>\n<polygon fill=\"black\" stroke=\"black\" points=\"1060.81,-131 1070.81,-127.5 1060.81,-124 1060.81,-131\"/>\n</g>\n<!-- 135564866571376 -->\n<g id=\"node6\" class=\"node\">\n<title>135564866571376</title>\n<polygon fill=\"none\" stroke=\"black\" points=\"1382,-109.5 1382,-145.5 1567,-145.5 1567,-109.5 1382,-109.5\"/>\n<text text-anchor=\"middle\" x=\"1393.5\" y=\"-123.8\" font-family=\"Times,serif\" font-size=\"14.00\">o</text>\n<polyline fill=\"none\" stroke=\"black\" points=\"1405,-109.5 1405,-145.5 \"/>\n<text text-anchor=\"middle\" x=\"1445\" y=\"-123.8\" font-family=\"Times,serif\" font-size=\"14.00\">data 0.7071</text>\n<polyline fill=\"none\" stroke=\"black\" points=\"1485,-109.5 1485,-145.5 \"/>\n<text text-anchor=\"middle\" x=\"1526\" y=\"-123.8\" font-family=\"Times,serif\" font-size=\"14.00\">grad 1.0000</text>\n</g>\n<!-- 135564866571376tanh&#45;&gt;135564866571376 -->\n<g id=\"edge3\" class=\"edge\">\n<title>135564866571376tanh&#45;&gt;135564866571376</title>\n<path fill=\"none\" stroke=\"black\" d=\"M1346.04,-127.5C1353.58,-127.5 1362.3,-127.5 1371.57,-127.5\"/>\n<polygon fill=\"black\" stroke=\"black\" points=\"1371.81,-131 1381.81,-127.5 1371.81,-124 1371.81,-131\"/>\n</g>\n<!-- 135564866575504 -->\n<g id=\"node8\" class=\"node\">\n<title>135564866575504</title>\n<polygon fill=\"none\" stroke=\"black\" points=\"672,-82.5 672,-118.5 945,-118.5 945,-82.5 672,-82.5\"/>\n<text text-anchor=\"middle\" x=\"725\" y=\"-96.8\" font-family=\"Times,serif\" font-size=\"14.00\">x1*w1 + x2*w2</text>\n<polyline fill=\"none\" stroke=\"black\" points=\"778,-82.5 778,-118.5 \"/>\n<text text-anchor=\"middle\" x=\"820.5\" y=\"-96.8\" font-family=\"Times,serif\" font-size=\"14.00\">data &#45;6.0000</text>\n<polyline fill=\"none\" stroke=\"black\" points=\"863,-82.5 863,-118.5 \"/>\n<text text-anchor=\"middle\" x=\"904\" y=\"-96.8\" font-family=\"Times,serif\" font-size=\"14.00\">grad 0.5000</text>\n</g>\n<!-- 135564866575504&#45;&gt;135564866570848+ -->\n<g id=\"edge14\" class=\"edge\">\n<title>135564866575504&#45;&gt;135564866570848+</title>\n<path fill=\"none\" stroke=\"black\" d=\"M941.24,-118.51C952.12,-120 962.4,-121.4 971.45,-122.64\"/>\n<polygon fill=\"black\" stroke=\"black\" points=\"971.11,-126.13 981.49,-124.01 972.05,-119.19 971.11,-126.13\"/>\n</g>\n<!-- 135564866575504+&#45;&gt;135564866575504 -->\n<g id=\"edge4\" class=\"edge\">\n<title>135564866575504+&#45;&gt;135564866575504</title>\n<path fill=\"none\" stroke=\"black\" d=\"M636.23,-100.5C643.7,-100.5 652.41,-100.5 661.87,-100.5\"/>\n<polygon fill=\"black\" stroke=\"black\" points=\"661.98,-104 671.98,-100.5 661.98,-97 661.98,-104\"/>\n</g>\n<!-- 135564866432320 -->\n<g id=\"node10\" class=\"node\">\n<title>135564866432320</title>\n<polygon fill=\"none\" stroke=\"black\" points=\"716,-137.5 716,-173.5 901,-173.5 901,-137.5 716,-137.5\"/>\n<text text-anchor=\"middle\" x=\"727.5\" y=\"-151.8\" font-family=\"Times,serif\" font-size=\"14.00\">b</text>\n<polyline fill=\"none\" stroke=\"black\" points=\"739,-137.5 739,-173.5 \"/>\n<text text-anchor=\"middle\" x=\"779\" y=\"-151.8\" font-family=\"Times,serif\" font-size=\"14.00\">data 6.8814</text>\n<polyline fill=\"none\" stroke=\"black\" points=\"819,-137.5 819,-173.5 \"/>\n<text text-anchor=\"middle\" x=\"860\" y=\"-151.8\" font-family=\"Times,serif\" font-size=\"14.00\">grad 0.5000</text>\n</g>\n<!-- 135564866432320&#45;&gt;135564866570848+ -->\n<g id=\"edge9\" class=\"edge\">\n<title>135564866432320&#45;&gt;135564866570848+</title>\n<path fill=\"none\" stroke=\"black\" d=\"M901.02,-142.52C926,-138.98 951.59,-135.36 971.37,-132.55\"/>\n<polygon fill=\"black\" stroke=\"black\" points=\"972.03,-135.99 981.43,-131.12 971.04,-129.06 972.03,-135.99\"/>\n</g>\n<!-- 135564902740320 -->\n<g id=\"node11\" class=\"node\">\n<title>135564902740320</title>\n<polygon fill=\"none\" stroke=\"black\" points=\"4,-55.5 4,-91.5 196,-91.5 196,-55.5 4,-55.5\"/>\n<text text-anchor=\"middle\" x=\"19\" y=\"-69.8\" font-family=\"Times,serif\" font-size=\"14.00\">x2</text>\n<polyline fill=\"none\" stroke=\"black\" points=\"34,-55.5 34,-91.5 \"/>\n<text text-anchor=\"middle\" x=\"74\" y=\"-69.8\" font-family=\"Times,serif\" font-size=\"14.00\">data 0.0000</text>\n<polyline fill=\"none\" stroke=\"black\" points=\"114,-55.5 114,-91.5 \"/>\n<text text-anchor=\"middle\" x=\"155\" y=\"-69.8\" font-family=\"Times,serif\" font-size=\"14.00\">grad 0.5000</text>\n</g>\n<!-- 135564902740320&#45;&gt;135564866575408* -->\n<g id=\"edge8\" class=\"edge\">\n<title>135564902740320&#45;&gt;135564866575408*</title>\n<path fill=\"none\" stroke=\"black\" d=\"M196.05,-73.5C206.52,-73.5 216.65,-73.5 225.71,-73.5\"/>\n<polygon fill=\"black\" stroke=\"black\" points=\"225.79,-77 235.79,-73.5 225.79,-70 225.79,-77\"/>\n</g>\n<!-- 135564866435440 -->\n<g id=\"node12\" class=\"node\">\n<title>135564866435440</title>\n<polygon fill=\"none\" stroke=\"black\" points=\"326,-110.5 326,-146.5 546,-146.5 546,-110.5 326,-110.5\"/>\n<text text-anchor=\"middle\" x=\"352.5\" y=\"-124.8\" font-family=\"Times,serif\" font-size=\"14.00\">x1*w1</text>\n<polyline fill=\"none\" stroke=\"black\" points=\"379,-110.5 379,-146.5 \"/>\n<text text-anchor=\"middle\" x=\"421.5\" y=\"-124.8\" font-family=\"Times,serif\" font-size=\"14.00\">data &#45;6.0000</text>\n<polyline fill=\"none\" stroke=\"black\" points=\"464,-110.5 464,-146.5 \"/>\n<text text-anchor=\"middle\" x=\"505\" y=\"-124.8\" font-family=\"Times,serif\" font-size=\"14.00\">grad 0.5000</text>\n</g>\n<!-- 135564866435440&#45;&gt;135564866575504+ -->\n<g id=\"edge12\" class=\"edge\">\n<title>135564866435440&#45;&gt;135564866575504+</title>\n<path fill=\"none\" stroke=\"black\" d=\"M546.27,-110.61C555.64,-109.07 564.6,-107.61 572.65,-106.29\"/>\n<polygon fill=\"black\" stroke=\"black\" points=\"573.35,-109.72 582.65,-104.65 572.22,-102.81 573.35,-109.72\"/>\n</g>\n<!-- 135564866435440*&#45;&gt;135564866435440 -->\n<g id=\"edge5\" class=\"edge\">\n<title>135564866435440*&#45;&gt;135564866435440</title>\n<path fill=\"none\" stroke=\"black\" d=\"M290.34,-128.5C297.77,-128.5 306.37,-128.5 315.6,-128.5\"/>\n<polygon fill=\"black\" stroke=\"black\" points=\"315.84,-132 325.84,-128.5 315.84,-125 315.84,-132\"/>\n</g>\n<!-- 135564866424784 -->\n<g id=\"node14\" class=\"node\">\n<title>135564866424784</title>\n<polygon fill=\"none\" stroke=\"black\" points=\"2,-110.5 2,-146.5 198,-146.5 198,-110.5 2,-110.5\"/>\n<text text-anchor=\"middle\" x=\"17\" y=\"-124.8\" font-family=\"Times,serif\" font-size=\"14.00\">x1</text>\n<polyline fill=\"none\" stroke=\"black\" points=\"32,-110.5 32,-146.5 \"/>\n<text text-anchor=\"middle\" x=\"72\" y=\"-124.8\" font-family=\"Times,serif\" font-size=\"14.00\">data 2.0000</text>\n<polyline fill=\"none\" stroke=\"black\" points=\"112,-110.5 112,-146.5 \"/>\n<text text-anchor=\"middle\" x=\"155\" y=\"-124.8\" font-family=\"Times,serif\" font-size=\"14.00\">grad &#45;1.5000</text>\n</g>\n<!-- 135564866424784&#45;&gt;135564866435440* -->\n<g id=\"edge6\" class=\"edge\">\n<title>135564866424784&#45;&gt;135564866435440*</title>\n<path fill=\"none\" stroke=\"black\" d=\"M198.37,-128.5C208.05,-128.5 217.4,-128.5 225.8,-128.5\"/>\n<polygon fill=\"black\" stroke=\"black\" points=\"225.91,-132 235.91,-128.5 225.91,-125 225.91,-132\"/>\n</g>\n<!-- 135564866436592 -->\n<g id=\"node15\" class=\"node\">\n<title>135564866436592</title>\n<polygon fill=\"none\" stroke=\"black\" points=\"2.5,-0.5 2.5,-36.5 197.5,-36.5 197.5,-0.5 2.5,-0.5\"/>\n<text text-anchor=\"middle\" x=\"19\" y=\"-14.8\" font-family=\"Times,serif\" font-size=\"14.00\">w2</text>\n<polyline fill=\"none\" stroke=\"black\" points=\"35.5,-0.5 35.5,-36.5 \"/>\n<text text-anchor=\"middle\" x=\"75.5\" y=\"-14.8\" font-family=\"Times,serif\" font-size=\"14.00\">data 1.0000</text>\n<polyline fill=\"none\" stroke=\"black\" points=\"115.5,-0.5 115.5,-36.5 \"/>\n<text text-anchor=\"middle\" x=\"156.5\" y=\"-14.8\" font-family=\"Times,serif\" font-size=\"14.00\">grad 0.0000</text>\n</g>\n<!-- 135564866436592&#45;&gt;135564866575408* -->\n<g id=\"edge10\" class=\"edge\">\n<title>135564866436592&#45;&gt;135564866575408*</title>\n<path fill=\"none\" stroke=\"black\" d=\"M169.28,-36.5C179.65,-39.61 190.16,-42.98 200,-46.5 210.28,-50.17 221.28,-54.74 231.11,-59.07\"/>\n<polygon fill=\"black\" stroke=\"black\" points=\"229.93,-62.37 240.48,-63.27 232.79,-55.99 229.93,-62.37\"/>\n</g>\n</g>\n</svg>\n",
            "text/plain": [
              "<graphviz.graphs.Digraph at 0x7b4ba7b517e0>"
            ]
          },
          "execution_count": 21,
          "metadata": {},
          "output_type": "execute_result"
        }
      ],
      "source": [
        "draw_dot(o)"
      ]
    },
    {
      "cell_type": "markdown",
      "metadata": {
        "id": "Ys8dLt8RH4sz"
      },
      "source": [
        "## 4. Performing backpropogation progmmatically"
      ]
    },
    {
      "cell_type": "markdown",
      "metadata": {
        "id": "sB1K2jiQ0fvc"
      },
      "source": [
        "### 4.1 Implementing the backward function for each operation\n",
        "\n",
        "* `backward` will perform the chain rule at each node that took inputs and produced outputs -> we will store how we are gonna chain the output's gradient to the input's gradients\n",
        "  * by default it does nothing, for e.g for a leaf node there is nothing to do -> leaf node is not connected to the operator so not affected\n",
        "  * backward pass to be performed after the addition has taken place\n",
        "  * `out.grad` is chained through the local gradient into `self.grad`"
      ]
    },
    {
      "cell_type": "code",
      "execution_count": null,
      "metadata": {
        "colab": {
          "background_save": true,
          "base_uri": "https://localhost:8080/"
        },
        "id": "uyJdnXVH0kB8",
        "outputId": "cb6168e9-ef02-476f-9059-18ae738af889"
      },
      "outputs": [
        {
          "data": {
            "text/plain": [
              "Value(data = -8.0)"
            ]
          },
          "execution_count": 22,
          "metadata": {},
          "output_type": "execute_result"
        }
      ],
      "source": [
        "import math\n",
        "\n",
        "class Value:\n",
        "  def __init__(self, data, _children = (), _op = '', label = ''): # 'children' is originally a Tuple here\n",
        "    self.data = data\n",
        "    self.grad = 0.0 # initially 0\n",
        "    self._backward = lambda: None # by default does nothing\n",
        "    self._prev = set(_children) # converted to a set to maintain efficiency\n",
        "    self._op = _op\n",
        "    self.label = label\n",
        "\n",
        "  # Providing a way for the expression to be printed out cleanly\n",
        "  def __repr__(self):\n",
        "    return f\"Value(data = {self.data})\"\n",
        "\n",
        "  # Python can't add 2 Value's objects so we have to define it ('a+b' won't work)\n",
        "  def __add__(self, other):\n",
        "    out = Value(self.data + other.data, (self, other), '+')\n",
        "\n",
        "    def _backward():\n",
        "      self.grad = 1.0 * out.grad\n",
        "      other.grad = 1.0 * out.grad\n",
        "    out._backward = _backward\n",
        "\n",
        "    return out\n",
        "\n",
        "  def __mul__(self, other):\n",
        "    out = Value(self.data * other.data, (self, other), '*')\n",
        "\n",
        "    def _backward():\n",
        "      self.grad = (other.data) * out.grad\n",
        "      other.grad = (self.data) * out.grad\n",
        "    out._backward = _backward\n",
        "\n",
        "    return out\n",
        "\n",
        "  def tanh(self):\n",
        "    x = self.data\n",
        "    t = (math.exp(2*x) - 1)/(math.exp(2*x) + 1)\n",
        "    out = Value(t, (self, ), 'tanh')\n",
        "\n",
        "    def _backward():\n",
        "      self.grad = (1 - t**2) * out.grad\n",
        "    out._backward = _backward\n",
        "\n",
        "    return out\n",
        "\n",
        "a = Value(2.0, label = 'a')\n",
        "b = Value(-3.0, label = 'b')\n",
        "c = Value(10.0, label = 'c')\n",
        "e = a*b; e.label = 'e'\n",
        "d = e + c; d.label = 'd' # (a.__mul__(b)).__add__(c) = a*b + c\n",
        "f = Value(-2.0, label = 'f')\n",
        "L = d * f; L.label = 'L' # output of our graph\n",
        "L"
      ]
    },
    {
      "cell_type": "code",
      "execution_count": null,
      "metadata": {
        "colab": {
          "background_save": true
        },
        "id": "-lMNtTZZ26MV"
      },
      "outputs": [],
      "source": [
        "# inputs x1,x2 (2D neuron)\n",
        "x1 = Value(2.0, label='x1')\n",
        "x2 = Value(0.0, label='x2')\n",
        "\n",
        "# weights w1,w2 (synaptics strings for each input)\n",
        "w1 = Value(-3.0, label='w1')\n",
        "w2 = Value(1.0, label='w2')\n",
        "\n",
        "# bias of the neuron\n",
        "b = Value(6.8813735870195432, label='b')\n",
        "\n",
        "x1w1 = x1*w1; x1w1.label = 'x1*w1'\n",
        "x2w2 = x2*w2; x2w2.label = 'x2*w2'\n",
        "x1w1x2w2 = x1w1 + x2w2; x1w1x2w2.label = 'x1*w1 + x2*w2'\n",
        "n = x1w1x2w2 + b; n.label = 'n'\n",
        "\n",
        "o = n.tanh(); o.label = 'o'\n"
      ]
    },
    {
      "cell_type": "code",
      "execution_count": null,
      "metadata": {
        "colab": {
          "background_save": true
        },
        "id": "nJi58IQQ3vzr"
      },
      "outputs": [],
      "source": [
        "o.grad = 1.0\n",
        "o._backward() # -> calling `self.grad = (1 - t**2) * out.grad`\n",
        "n._backward()\n",
        "b._backward() # nothing happens since it's a leaf node ie. not connected to operation\n",
        "x1w1x2w2._backward()\n",
        "x2w2._backward()\n",
        "x1w1._backward()"
      ]
    },
    {
      "cell_type": "code",
      "execution_count": null,
      "metadata": {
        "colab": {
          "background_save": true,
          "base_uri": "https://localhost:8080/",
          "height": 321
        },
        "id": "GHh-Dq2g28CU",
        "outputId": "64d80c0a-b9ac-4cb9-e217-6d90591873ac"
      },
      "outputs": [
        {
          "data": {
            "image/svg+xml": "<?xml version=\"1.0\" encoding=\"UTF-8\" standalone=\"no\"?>\n<!DOCTYPE svg PUBLIC \"-//W3C//DTD SVG 1.1//EN\"\n \"http://www.w3.org/Graphics/SVG/1.1/DTD/svg11.dtd\">\n<!-- Generated by graphviz version 2.43.0 (0)\n -->\n<!-- Title: %3 Pages: 1 -->\n<svg width=\"1575pt\" height=\"210pt\"\n viewBox=\"0.00 0.00 1575.00 210.00\" xmlns=\"http://www.w3.org/2000/svg\" xmlns:xlink=\"http://www.w3.org/1999/xlink\">\n<g id=\"graph0\" class=\"graph\" transform=\"scale(1 1) rotate(0) translate(4 206)\">\n<title>%3</title>\n<polygon fill=\"white\" stroke=\"transparent\" points=\"-4,4 -4,-206 1571,-206 1571,4 -4,4\"/>\n<!-- 135564866276896 -->\n<g id=\"node1\" class=\"node\">\n<title>135564866276896</title>\n<polygon fill=\"none\" stroke=\"black\" points=\"2,-165.5 2,-201.5 198,-201.5 198,-165.5 2,-165.5\"/>\n<text text-anchor=\"middle\" x=\"17\" y=\"-179.8\" font-family=\"Times,serif\" font-size=\"14.00\">x1</text>\n<polyline fill=\"none\" stroke=\"black\" points=\"32,-165.5 32,-201.5 \"/>\n<text text-anchor=\"middle\" x=\"72\" y=\"-179.8\" font-family=\"Times,serif\" font-size=\"14.00\">data 2.0000</text>\n<polyline fill=\"none\" stroke=\"black\" points=\"112,-165.5 112,-201.5 \"/>\n<text text-anchor=\"middle\" x=\"155\" y=\"-179.8\" font-family=\"Times,serif\" font-size=\"14.00\">grad &#45;1.5000</text>\n</g>\n<!-- 135564866283616* -->\n<g id=\"node4\" class=\"node\">\n<title>135564866283616*</title>\n<ellipse fill=\"none\" stroke=\"black\" cx=\"263\" cy=\"-128.5\" rx=\"27\" ry=\"18\"/>\n<text text-anchor=\"middle\" x=\"263\" y=\"-124.8\" font-family=\"Times,serif\" font-size=\"14.00\">*</text>\n</g>\n<!-- 135564866276896&#45;&gt;135564866283616* -->\n<g id=\"edge12\" class=\"edge\">\n<title>135564866276896&#45;&gt;135564866283616*</title>\n<path fill=\"none\" stroke=\"black\" d=\"M172.53,-165.44C181.84,-162.67 191.2,-159.67 200,-156.5 210.53,-152.71 221.75,-147.9 231.72,-143.33\"/>\n<polygon fill=\"black\" stroke=\"black\" points=\"233.25,-146.48 240.82,-139.07 230.28,-140.14 233.25,-146.48\"/>\n</g>\n<!-- 135564866273872 -->\n<g id=\"node2\" class=\"node\">\n<title>135564866273872</title>\n<polygon fill=\"none\" stroke=\"black\" points=\"2.5,-55.5 2.5,-91.5 197.5,-91.5 197.5,-55.5 2.5,-55.5\"/>\n<text text-anchor=\"middle\" x=\"19\" y=\"-69.8\" font-family=\"Times,serif\" font-size=\"14.00\">w2</text>\n<polyline fill=\"none\" stroke=\"black\" points=\"35.5,-55.5 35.5,-91.5 \"/>\n<text text-anchor=\"middle\" x=\"75.5\" y=\"-69.8\" font-family=\"Times,serif\" font-size=\"14.00\">data 1.0000</text>\n<polyline fill=\"none\" stroke=\"black\" points=\"115.5,-55.5 115.5,-91.5 \"/>\n<text text-anchor=\"middle\" x=\"156.5\" y=\"-69.8\" font-family=\"Times,serif\" font-size=\"14.00\">grad 0.0000</text>\n</g>\n<!-- 135564866288944* -->\n<g id=\"node11\" class=\"node\">\n<title>135564866288944*</title>\n<ellipse fill=\"none\" stroke=\"black\" cx=\"263\" cy=\"-73.5\" rx=\"27\" ry=\"18\"/>\n<text text-anchor=\"middle\" x=\"263\" y=\"-69.8\" font-family=\"Times,serif\" font-size=\"14.00\">*</text>\n</g>\n<!-- 135564866273872&#45;&gt;135564866288944* -->\n<g id=\"edge6\" class=\"edge\">\n<title>135564866273872&#45;&gt;135564866288944*</title>\n<path fill=\"none\" stroke=\"black\" d=\"M197.91,-73.5C207.65,-73.5 217.05,-73.5 225.52,-73.5\"/>\n<polygon fill=\"black\" stroke=\"black\" points=\"225.7,-77 235.7,-73.5 225.7,-70 225.7,-77\"/>\n</g>\n<!-- 135564866283616 -->\n<g id=\"node3\" class=\"node\">\n<title>135564866283616</title>\n<polygon fill=\"none\" stroke=\"black\" points=\"326,-110.5 326,-146.5 546,-146.5 546,-110.5 326,-110.5\"/>\n<text text-anchor=\"middle\" x=\"352.5\" y=\"-124.8\" font-family=\"Times,serif\" font-size=\"14.00\">x1*w1</text>\n<polyline fill=\"none\" stroke=\"black\" points=\"379,-110.5 379,-146.5 \"/>\n<text text-anchor=\"middle\" x=\"421.5\" y=\"-124.8\" font-family=\"Times,serif\" font-size=\"14.00\">data &#45;6.0000</text>\n<polyline fill=\"none\" stroke=\"black\" points=\"464,-110.5 464,-146.5 \"/>\n<text text-anchor=\"middle\" x=\"505\" y=\"-124.8\" font-family=\"Times,serif\" font-size=\"14.00\">grad 0.5000</text>\n</g>\n<!-- 135564866287744+ -->\n<g id=\"node6\" class=\"node\">\n<title>135564866287744+</title>\n<ellipse fill=\"none\" stroke=\"black\" cx=\"609\" cy=\"-100.5\" rx=\"27\" ry=\"18\"/>\n<text text-anchor=\"middle\" x=\"609\" y=\"-96.8\" font-family=\"Times,serif\" font-size=\"14.00\">+</text>\n</g>\n<!-- 135564866283616&#45;&gt;135564866287744+ -->\n<g id=\"edge7\" class=\"edge\">\n<title>135564866283616&#45;&gt;135564866287744+</title>\n<path fill=\"none\" stroke=\"black\" d=\"M546.27,-110.61C555.64,-109.07 564.6,-107.61 572.65,-106.29\"/>\n<polygon fill=\"black\" stroke=\"black\" points=\"573.35,-109.72 582.65,-104.65 572.22,-102.81 573.35,-109.72\"/>\n</g>\n<!-- 135564866283616*&#45;&gt;135564866283616 -->\n<g id=\"edge1\" class=\"edge\">\n<title>135564866283616*&#45;&gt;135564866283616</title>\n<path fill=\"none\" stroke=\"black\" d=\"M290.34,-128.5C297.77,-128.5 306.37,-128.5 315.6,-128.5\"/>\n<polygon fill=\"black\" stroke=\"black\" points=\"315.84,-132 325.84,-128.5 315.84,-125 315.84,-132\"/>\n</g>\n<!-- 135564866287744 -->\n<g id=\"node5\" class=\"node\">\n<title>135564866287744</title>\n<polygon fill=\"none\" stroke=\"black\" points=\"672,-82.5 672,-118.5 945,-118.5 945,-82.5 672,-82.5\"/>\n<text text-anchor=\"middle\" x=\"725\" y=\"-96.8\" font-family=\"Times,serif\" font-size=\"14.00\">x1*w1 + x2*w2</text>\n<polyline fill=\"none\" stroke=\"black\" points=\"778,-82.5 778,-118.5 \"/>\n<text text-anchor=\"middle\" x=\"820.5\" y=\"-96.8\" font-family=\"Times,serif\" font-size=\"14.00\">data &#45;6.0000</text>\n<polyline fill=\"none\" stroke=\"black\" points=\"863,-82.5 863,-118.5 \"/>\n<text text-anchor=\"middle\" x=\"904\" y=\"-96.8\" font-family=\"Times,serif\" font-size=\"14.00\">grad 0.5000</text>\n</g>\n<!-- 135564866288560+ -->\n<g id=\"node14\" class=\"node\">\n<title>135564866288560+</title>\n<ellipse fill=\"none\" stroke=\"black\" cx=\"1008\" cy=\"-72.5\" rx=\"27\" ry=\"18\"/>\n<text text-anchor=\"middle\" x=\"1008\" y=\"-68.8\" font-family=\"Times,serif\" font-size=\"14.00\">+</text>\n</g>\n<!-- 135564866287744&#45;&gt;135564866288560+ -->\n<g id=\"edge11\" class=\"edge\">\n<title>135564866287744&#45;&gt;135564866288560+</title>\n<path fill=\"none\" stroke=\"black\" d=\"M936.53,-82.49C949.09,-80.71 960.99,-79.02 971.3,-77.56\"/>\n<polygon fill=\"black\" stroke=\"black\" points=\"972.03,-80.99 981.44,-76.12 971.05,-74.06 972.03,-80.99\"/>\n</g>\n<!-- 135564866287744+&#45;&gt;135564866287744 -->\n<g id=\"edge2\" class=\"edge\">\n<title>135564866287744+&#45;&gt;135564866287744</title>\n<path fill=\"none\" stroke=\"black\" d=\"M636.23,-100.5C643.7,-100.5 652.41,-100.5 661.87,-100.5\"/>\n<polygon fill=\"black\" stroke=\"black\" points=\"661.98,-104 671.98,-100.5 661.98,-97 661.98,-104\"/>\n</g>\n<!-- 135564866276080 -->\n<g id=\"node7\" class=\"node\">\n<title>135564866276080</title>\n<polygon fill=\"none\" stroke=\"black\" points=\"4,-0.5 4,-36.5 196,-36.5 196,-0.5 4,-0.5\"/>\n<text text-anchor=\"middle\" x=\"19\" y=\"-14.8\" font-family=\"Times,serif\" font-size=\"14.00\">x2</text>\n<polyline fill=\"none\" stroke=\"black\" points=\"34,-0.5 34,-36.5 \"/>\n<text text-anchor=\"middle\" x=\"74\" y=\"-14.8\" font-family=\"Times,serif\" font-size=\"14.00\">data 0.0000</text>\n<polyline fill=\"none\" stroke=\"black\" points=\"114,-0.5 114,-36.5 \"/>\n<text text-anchor=\"middle\" x=\"155\" y=\"-14.8\" font-family=\"Times,serif\" font-size=\"14.00\">grad 0.5000</text>\n</g>\n<!-- 135564866276080&#45;&gt;135564866288944* -->\n<g id=\"edge8\" class=\"edge\">\n<title>135564866276080&#45;&gt;135564866288944*</title>\n<path fill=\"none\" stroke=\"black\" d=\"M169.28,-36.5C179.65,-39.61 190.16,-42.98 200,-46.5 210.28,-50.17 221.28,-54.74 231.11,-59.07\"/>\n<polygon fill=\"black\" stroke=\"black\" points=\"229.93,-62.37 240.48,-63.27 232.79,-55.99 229.93,-62.37\"/>\n</g>\n<!-- 135564866288896 -->\n<g id=\"node8\" class=\"node\">\n<title>135564866288896</title>\n<polygon fill=\"none\" stroke=\"black\" points=\"1382,-54.5 1382,-90.5 1567,-90.5 1567,-54.5 1382,-54.5\"/>\n<text text-anchor=\"middle\" x=\"1393.5\" y=\"-68.8\" font-family=\"Times,serif\" font-size=\"14.00\">o</text>\n<polyline fill=\"none\" stroke=\"black\" points=\"1405,-54.5 1405,-90.5 \"/>\n<text text-anchor=\"middle\" x=\"1445\" y=\"-68.8\" font-family=\"Times,serif\" font-size=\"14.00\">data 0.7071</text>\n<polyline fill=\"none\" stroke=\"black\" points=\"1485,-54.5 1485,-90.5 \"/>\n<text text-anchor=\"middle\" x=\"1526\" y=\"-68.8\" font-family=\"Times,serif\" font-size=\"14.00\">grad 1.0000</text>\n</g>\n<!-- 135564866288896tanh -->\n<g id=\"node9\" class=\"node\">\n<title>135564866288896tanh</title>\n<ellipse fill=\"none\" stroke=\"black\" cx=\"1319\" cy=\"-72.5\" rx=\"27\" ry=\"18\"/>\n<text text-anchor=\"middle\" x=\"1319\" y=\"-68.8\" font-family=\"Times,serif\" font-size=\"14.00\">tanh</text>\n</g>\n<!-- 135564866288896tanh&#45;&gt;135564866288896 -->\n<g id=\"edge3\" class=\"edge\">\n<title>135564866288896tanh&#45;&gt;135564866288896</title>\n<path fill=\"none\" stroke=\"black\" d=\"M1346.04,-72.5C1353.58,-72.5 1362.3,-72.5 1371.57,-72.5\"/>\n<polygon fill=\"black\" stroke=\"black\" points=\"1371.81,-76 1381.81,-72.5 1371.81,-69 1371.81,-76\"/>\n</g>\n<!-- 135564866288944 -->\n<g id=\"node10\" class=\"node\">\n<title>135564866288944</title>\n<polygon fill=\"none\" stroke=\"black\" points=\"328.5,-55.5 328.5,-91.5 543.5,-91.5 543.5,-55.5 328.5,-55.5\"/>\n<text text-anchor=\"middle\" x=\"355\" y=\"-69.8\" font-family=\"Times,serif\" font-size=\"14.00\">x2*w2</text>\n<polyline fill=\"none\" stroke=\"black\" points=\"381.5,-55.5 381.5,-91.5 \"/>\n<text text-anchor=\"middle\" x=\"421.5\" y=\"-69.8\" font-family=\"Times,serif\" font-size=\"14.00\">data 0.0000</text>\n<polyline fill=\"none\" stroke=\"black\" points=\"461.5,-55.5 461.5,-91.5 \"/>\n<text text-anchor=\"middle\" x=\"502.5\" y=\"-69.8\" font-family=\"Times,serif\" font-size=\"14.00\">grad 0.5000</text>\n</g>\n<!-- 135564866288944&#45;&gt;135564866287744+ -->\n<g id=\"edge14\" class=\"edge\">\n<title>135564866288944&#45;&gt;135564866287744+</title>\n<path fill=\"none\" stroke=\"black\" d=\"M543.84,-90.37C554.01,-91.98 563.76,-93.51 572.44,-94.89\"/>\n<polygon fill=\"black\" stroke=\"black\" points=\"572.05,-98.37 582.47,-96.47 573.14,-91.45 572.05,-98.37\"/>\n</g>\n<!-- 135564866288944*&#45;&gt;135564866288944 -->\n<g id=\"edge4\" class=\"edge\">\n<title>135564866288944*&#45;&gt;135564866288944</title>\n<path fill=\"none\" stroke=\"black\" d=\"M290.34,-73.5C298.51,-73.5 308.08,-73.5 318.36,-73.5\"/>\n<polygon fill=\"black\" stroke=\"black\" points=\"318.39,-77 328.39,-73.5 318.39,-70 318.39,-77\"/>\n</g>\n<!-- 135564866280304 -->\n<g id=\"node12\" class=\"node\">\n<title>135564866280304</title>\n<polygon fill=\"none\" stroke=\"black\" points=\"716,-27.5 716,-63.5 901,-63.5 901,-27.5 716,-27.5\"/>\n<text text-anchor=\"middle\" x=\"727.5\" y=\"-41.8\" font-family=\"Times,serif\" font-size=\"14.00\">b</text>\n<polyline fill=\"none\" stroke=\"black\" points=\"739,-27.5 739,-63.5 \"/>\n<text text-anchor=\"middle\" x=\"779\" y=\"-41.8\" font-family=\"Times,serif\" font-size=\"14.00\">data 6.8814</text>\n<polyline fill=\"none\" stroke=\"black\" points=\"819,-27.5 819,-63.5 \"/>\n<text text-anchor=\"middle\" x=\"860\" y=\"-41.8\" font-family=\"Times,serif\" font-size=\"14.00\">grad 0.5000</text>\n</g>\n<!-- 135564866280304&#45;&gt;135564866288560+ -->\n<g id=\"edge10\" class=\"edge\">\n<title>135564866280304&#45;&gt;135564866288560+</title>\n<path fill=\"none\" stroke=\"black\" d=\"M901.02,-58.01C926,-61.43 951.59,-64.93 971.37,-67.63\"/>\n<polygon fill=\"black\" stroke=\"black\" points=\"971.05,-71.12 981.43,-69.01 972,-64.18 971.05,-71.12\"/>\n</g>\n<!-- 135564866288560 -->\n<g id=\"node13\" class=\"node\">\n<title>135564866288560</title>\n<polygon fill=\"none\" stroke=\"black\" points=\"1071,-54.5 1071,-90.5 1256,-90.5 1256,-54.5 1071,-54.5\"/>\n<text text-anchor=\"middle\" x=\"1082.5\" y=\"-68.8\" font-family=\"Times,serif\" font-size=\"14.00\">n</text>\n<polyline fill=\"none\" stroke=\"black\" points=\"1094,-54.5 1094,-90.5 \"/>\n<text text-anchor=\"middle\" x=\"1134\" y=\"-68.8\" font-family=\"Times,serif\" font-size=\"14.00\">data 0.8814</text>\n<polyline fill=\"none\" stroke=\"black\" points=\"1174,-54.5 1174,-90.5 \"/>\n<text text-anchor=\"middle\" x=\"1215\" y=\"-68.8\" font-family=\"Times,serif\" font-size=\"14.00\">grad 0.5000</text>\n</g>\n<!-- 135564866288560&#45;&gt;135564866288896tanh -->\n<g id=\"edge13\" class=\"edge\">\n<title>135564866288560&#45;&gt;135564866288896tanh</title>\n<path fill=\"none\" stroke=\"black\" d=\"M1256.01,-72.5C1265.01,-72.5 1273.74,-72.5 1281.66,-72.5\"/>\n<polygon fill=\"black\" stroke=\"black\" points=\"1281.91,-76 1291.91,-72.5 1281.91,-69 1281.91,-76\"/>\n</g>\n<!-- 135564866288560+&#45;&gt;135564866288560 -->\n<g id=\"edge5\" class=\"edge\">\n<title>135564866288560+&#45;&gt;135564866288560</title>\n<path fill=\"none\" stroke=\"black\" d=\"M1035.04,-72.5C1042.58,-72.5 1051.3,-72.5 1060.57,-72.5\"/>\n<polygon fill=\"black\" stroke=\"black\" points=\"1060.81,-76 1070.81,-72.5 1060.81,-69 1060.81,-76\"/>\n</g>\n<!-- 135564866287552 -->\n<g id=\"node15\" class=\"node\">\n<title>135564866287552</title>\n<polygon fill=\"none\" stroke=\"black\" points=\"0,-110.5 0,-146.5 200,-146.5 200,-110.5 0,-110.5\"/>\n<text text-anchor=\"middle\" x=\"16.5\" y=\"-124.8\" font-family=\"Times,serif\" font-size=\"14.00\">w1</text>\n<polyline fill=\"none\" stroke=\"black\" points=\"33,-110.5 33,-146.5 \"/>\n<text text-anchor=\"middle\" x=\"75.5\" y=\"-124.8\" font-family=\"Times,serif\" font-size=\"14.00\">data &#45;3.0000</text>\n<polyline fill=\"none\" stroke=\"black\" points=\"118,-110.5 118,-146.5 \"/>\n<text text-anchor=\"middle\" x=\"159\" y=\"-124.8\" font-family=\"Times,serif\" font-size=\"14.00\">grad 1.0000</text>\n</g>\n<!-- 135564866287552&#45;&gt;135564866283616* -->\n<g id=\"edge9\" class=\"edge\">\n<title>135564866287552&#45;&gt;135564866283616*</title>\n<path fill=\"none\" stroke=\"black\" d=\"M200.21,-128.5C209.2,-128.5 217.86,-128.5 225.7,-128.5\"/>\n<polygon fill=\"black\" stroke=\"black\" points=\"225.85,-132 235.85,-128.5 225.85,-125 225.85,-132\"/>\n</g>\n</g>\n</svg>\n",
            "text/plain": [
              "<graphviz.graphs.Digraph at 0x7b4ba7b2c8e0>"
            ]
          },
          "execution_count": 25,
          "metadata": {},
          "output_type": "execute_result"
        }
      ],
      "source": [
        "draw_dot(o)"
      ]
    },
    {
      "cell_type": "markdown",
      "metadata": {
        "id": "Dk7FHfhC4jw0"
      },
      "source": [
        "### 4.2 Implementing the backward function for a whole expression graph\n",
        "\n",
        "* We've laid out a mathematical expression, and we're trying to go backwards through that expression\n",
        "* We don't want to call `._backward()` for any node before we've done everything after it, all of its dependencies have to propogate through it before we can continue back propogation\n",
        "* This ordering of graphs can be achieved using something called **top logical sort**\n",
        "* **top logical sort** is a laying out of a graph such that all the edges only go from left to right (one way)\n",
        "  * keeps track of nodes that have been visited\n",
        "  * starts from a root node and goes through all of its children, and we need to lay them out from left to right\n",
        "  * after iterating through all of its children and calling top logical on them, it adds itself to the topo list after all the children have been processed\n",
        "  * this function guarantees that you are only gonna be in the list once all your children are in the list\n",
        "  * calling `._backward()` on all of the nodes in a top logical order"
      ]
    },
    {
      "cell_type": "code",
      "execution_count": null,
      "metadata": {
        "colab": {
          "background_save": true,
          "base_uri": "https://localhost:8080/"
        },
        "id": "iet9D7nH6izv",
        "outputId": "852f0d11-1f17-4795-98e9-d8dcc5425019"
      },
      "outputs": [
        {
          "data": {
            "text/plain": [
              "[Value(data = 1.0),\n",
              " Value(data = 0.0),\n",
              " Value(data = 0.0),\n",
              " Value(data = 2.0),\n",
              " Value(data = -3.0),\n",
              " Value(data = -6.0),\n",
              " Value(data = -6.0),\n",
              " Value(data = 6.881373587019543),\n",
              " Value(data = 0.8813735870195432),\n",
              " Value(data = 0.7071067811865476)]"
            ]
          },
          "execution_count": 26,
          "metadata": {},
          "output_type": "execute_result"
        }
      ],
      "source": [
        "# Builds a top logical graph\n",
        "\n",
        "topo = []\n",
        "visited = set() # nodes that have been visited\n",
        "def build_topo(v):\n",
        "  if v not in visited:\n",
        "    visited.add(v) # if not visited before, it marks as visited\n",
        "    for child in v._prev: # iterates through all of its children and calls top logical on them\n",
        "      build_topo(child)\n",
        "    topo.append(v)\n",
        "build_topo(o)\n",
        "topo"
      ]
    },
    {
      "cell_type": "code",
      "execution_count": null,
      "metadata": {
        "colab": {
          "background_save": true,
          "base_uri": "https://localhost:8080/"
        },
        "id": "m4JIE3u18aFA",
        "outputId": "27ee61dd-a1ac-40a2-8d54-fe6adf08a99b"
      },
      "outputs": [
        {
          "data": {
            "text/plain": [
              "Value(data = -8.0)"
            ]
          },
          "execution_count": 27,
          "metadata": {},
          "output_type": "execute_result"
        }
      ],
      "source": [
        "import math\n",
        "\n",
        "class Value:\n",
        "  def __init__(self, data, _children = (), _op = '', label = ''): # 'children' is originally a Tuple here\n",
        "    self.data = data\n",
        "    self.grad = 0.0 # initially 0\n",
        "    self._backward = lambda: None # by default does nothing\n",
        "    self._prev = set(_children) # converted to a set to maintain efficiency\n",
        "    self._op = _op\n",
        "    self.label = label\n",
        "\n",
        "  # Providing a way for the expression to be printed out cleanly\n",
        "  def __repr__(self):\n",
        "    return f\"Value(data = {self.data})\"\n",
        "\n",
        "  # Python can't add 2 Value's objects so we have to define it ('a+b' won't work)\n",
        "  def __add__(self, other):\n",
        "    out = Value(self.data + other.data, (self, other), '+')\n",
        "\n",
        "    def _backward():\n",
        "      self.grad += 1.0 * out.grad\n",
        "      other.grad += 1.0 * out.grad\n",
        "    out._backward = _backward\n",
        "\n",
        "    return out\n",
        "\n",
        "  def __mul__(self, other):\n",
        "    out = Value(self.data * other.data, (self, other), '*')\n",
        "\n",
        "    def _backward():\n",
        "      self.grad += (other.data) * out.grad\n",
        "      other.grad += (self.data) * out.grad\n",
        "    out._backward = _backward\n",
        "\n",
        "    return out\n",
        "\n",
        "  def tanh(self):\n",
        "    x = self.data\n",
        "    t = (math.exp(2*x) - 1)/(math.exp(2*x) + 1)\n",
        "    out = Value(t, (self, ), 'tanh')\n",
        "\n",
        "    def _backward():\n",
        "      self.grad += (1 - t**2) * out.grad\n",
        "    out._backward = _backward\n",
        "\n",
        "    return out\n",
        "\n",
        "  def backward(self):\n",
        "\n",
        "    topo = []\n",
        "    visited = set() # nodes that have been visited\n",
        "    def build_topo(v):\n",
        "      if v not in visited:\n",
        "        visited.add(v) # if not visited before, it marks as visited\n",
        "        for child in v._prev: # iterates through all of its children and calls top logical on them\n",
        "          build_topo(child)\n",
        "        topo.append(v)\n",
        "    build_topo(o)\n",
        "    topo\n",
        "\n",
        "    self.grad = 1.0\n",
        "    for node in reversed(topo):\n",
        "      node._backward()\n",
        "\n",
        "a = Value(2.0, label = 'a')\n",
        "b = Value(-3.0, label = 'b')\n",
        "c = Value(10.0, label = 'c')\n",
        "e = a*b; e.label = 'e'\n",
        "d = e + c; d.label = 'd' # (a.__mul__(b)).__add__(c) = a*b + c\n",
        "f = Value(-2.0, label = 'f')\n",
        "L = d * f; L.label = 'L' # output of our graph\n",
        "L"
      ]
    },
    {
      "cell_type": "code",
      "execution_count": null,
      "metadata": {
        "colab": {
          "background_save": true
        },
        "id": "tF611nAX8jEw"
      },
      "outputs": [],
      "source": [
        "# inputs x1,x2 (2D neuron)\n",
        "x1 = Value(2.0, label='x1')\n",
        "x2 = Value(0.0, label='x2')\n",
        "\n",
        "# weights w1,w2 (synaptics strings for each input)\n",
        "w1 = Value(-3.0, label='w1')\n",
        "w2 = Value(1.0, label='w2')\n",
        "\n",
        "# bias of the neuron\n",
        "b = Value(6.8813735870195432, label='b')\n",
        "\n",
        "x1w1 = x1*w1; x1w1.label = 'x1*w1'\n",
        "x2w2 = x2*w2; x2w2.label = 'x2*w2'\n",
        "x1w1x2w2 = x1w1 + x2w2; x1w1x2w2.label = 'x1*w1 + x2*w2'\n",
        "n = x1w1x2w2 + b; n.label = 'n'\n",
        "\n",
        "o = n.tanh(); o.label = 'o'"
      ]
    },
    {
      "cell_type": "code",
      "execution_count": null,
      "metadata": {
        "colab": {
          "background_save": true
        },
        "id": "jtVmn3tp8je4"
      },
      "outputs": [],
      "source": [
        "o.backward()\n",
        "# o = tanh(n)\n",
        "# do/dn = 1 - 0**2"
      ]
    },
    {
      "cell_type": "code",
      "execution_count": null,
      "metadata": {
        "colab": {
          "background_save": true,
          "base_uri": "https://localhost:8080/",
          "height": 321
        },
        "id": "CbNV47rE8lDI",
        "outputId": "1c983994-80d7-4756-8de1-15d8a2ac1bab"
      },
      "outputs": [
        {
          "data": {
            "image/svg+xml": "<?xml version=\"1.0\" encoding=\"UTF-8\" standalone=\"no\"?>\n<!DOCTYPE svg PUBLIC \"-//W3C//DTD SVG 1.1//EN\"\n \"http://www.w3.org/Graphics/SVG/1.1/DTD/svg11.dtd\">\n<!-- Generated by graphviz version 2.43.0 (0)\n -->\n<!-- Title: %3 Pages: 1 -->\n<svg width=\"1575pt\" height=\"210pt\"\n viewBox=\"0.00 0.00 1575.00 210.00\" xmlns=\"http://www.w3.org/2000/svg\" xmlns:xlink=\"http://www.w3.org/1999/xlink\">\n<g id=\"graph0\" class=\"graph\" transform=\"scale(1 1) rotate(0) translate(4 206)\">\n<title>%3</title>\n<polygon fill=\"white\" stroke=\"transparent\" points=\"-4,4 -4,-206 1571,-206 1571,4 -4,4\"/>\n<!-- 135564901646928 -->\n<g id=\"node1\" class=\"node\">\n<title>135564901646928</title>\n<polygon fill=\"none\" stroke=\"black\" points=\"0,-165.5 0,-201.5 200,-201.5 200,-165.5 0,-165.5\"/>\n<text text-anchor=\"middle\" x=\"16.5\" y=\"-179.8\" font-family=\"Times,serif\" font-size=\"14.00\">w1</text>\n<polyline fill=\"none\" stroke=\"black\" points=\"33,-165.5 33,-201.5 \"/>\n<text text-anchor=\"middle\" x=\"75.5\" y=\"-179.8\" font-family=\"Times,serif\" font-size=\"14.00\">data &#45;3.0000</text>\n<polyline fill=\"none\" stroke=\"black\" points=\"118,-165.5 118,-201.5 \"/>\n<text text-anchor=\"middle\" x=\"159\" y=\"-179.8\" font-family=\"Times,serif\" font-size=\"14.00\">grad 1.0000</text>\n</g>\n<!-- 135564901661616* -->\n<g id=\"node13\" class=\"node\">\n<title>135564901661616*</title>\n<ellipse fill=\"none\" stroke=\"black\" cx=\"263\" cy=\"-128.5\" rx=\"27\" ry=\"18\"/>\n<text text-anchor=\"middle\" x=\"263\" y=\"-124.8\" font-family=\"Times,serif\" font-size=\"14.00\">*</text>\n</g>\n<!-- 135564901646928&#45;&gt;135564901661616* -->\n<g id=\"edge6\" class=\"edge\">\n<title>135564901646928&#45;&gt;135564901661616*</title>\n<path fill=\"none\" stroke=\"black\" d=\"M172.53,-165.44C181.84,-162.67 191.2,-159.67 200,-156.5 210.53,-152.71 221.75,-147.9 231.72,-143.33\"/>\n<polygon fill=\"black\" stroke=\"black\" points=\"233.25,-146.48 240.82,-139.07 230.28,-140.14 233.25,-146.48\"/>\n</g>\n<!-- 135564901650000 -->\n<g id=\"node2\" class=\"node\">\n<title>135564901650000</title>\n<polygon fill=\"none\" stroke=\"black\" points=\"4,-55.5 4,-91.5 196,-91.5 196,-55.5 4,-55.5\"/>\n<text text-anchor=\"middle\" x=\"19\" y=\"-69.8\" font-family=\"Times,serif\" font-size=\"14.00\">x2</text>\n<polyline fill=\"none\" stroke=\"black\" points=\"34,-55.5 34,-91.5 \"/>\n<text text-anchor=\"middle\" x=\"74\" y=\"-69.8\" font-family=\"Times,serif\" font-size=\"14.00\">data 0.0000</text>\n<polyline fill=\"none\" stroke=\"black\" points=\"114,-55.5 114,-91.5 \"/>\n<text text-anchor=\"middle\" x=\"155\" y=\"-69.8\" font-family=\"Times,serif\" font-size=\"14.00\">grad 0.5000</text>\n</g>\n<!-- 135564901657920* -->\n<g id=\"node8\" class=\"node\">\n<title>135564901657920*</title>\n<ellipse fill=\"none\" stroke=\"black\" cx=\"263\" cy=\"-73.5\" rx=\"27\" ry=\"18\"/>\n<text text-anchor=\"middle\" x=\"263\" y=\"-69.8\" font-family=\"Times,serif\" font-size=\"14.00\">*</text>\n</g>\n<!-- 135564901650000&#45;&gt;135564901657920* -->\n<g id=\"edge9\" class=\"edge\">\n<title>135564901650000&#45;&gt;135564901657920*</title>\n<path fill=\"none\" stroke=\"black\" d=\"M196.05,-73.5C206.52,-73.5 216.65,-73.5 225.71,-73.5\"/>\n<polygon fill=\"black\" stroke=\"black\" points=\"225.79,-77 235.79,-73.5 225.79,-70 225.79,-77\"/>\n</g>\n<!-- 135564901647024 -->\n<g id=\"node3\" class=\"node\">\n<title>135564901647024</title>\n<polygon fill=\"none\" stroke=\"black\" points=\"2,-110.5 2,-146.5 198,-146.5 198,-110.5 2,-110.5\"/>\n<text text-anchor=\"middle\" x=\"17\" y=\"-124.8\" font-family=\"Times,serif\" font-size=\"14.00\">x1</text>\n<polyline fill=\"none\" stroke=\"black\" points=\"32,-110.5 32,-146.5 \"/>\n<text text-anchor=\"middle\" x=\"72\" y=\"-124.8\" font-family=\"Times,serif\" font-size=\"14.00\">data 2.0000</text>\n<polyline fill=\"none\" stroke=\"black\" points=\"112,-110.5 112,-146.5 \"/>\n<text text-anchor=\"middle\" x=\"155\" y=\"-124.8\" font-family=\"Times,serif\" font-size=\"14.00\">grad &#45;1.5000</text>\n</g>\n<!-- 135564901647024&#45;&gt;135564901661616* -->\n<g id=\"edge13\" class=\"edge\">\n<title>135564901647024&#45;&gt;135564901661616*</title>\n<path fill=\"none\" stroke=\"black\" d=\"M198.37,-128.5C208.05,-128.5 217.4,-128.5 225.8,-128.5\"/>\n<polygon fill=\"black\" stroke=\"black\" points=\"225.91,-132 235.91,-128.5 225.91,-125 225.91,-132\"/>\n</g>\n<!-- 135564901646784 -->\n<g id=\"node4\" class=\"node\">\n<title>135564901646784</title>\n<polygon fill=\"none\" stroke=\"black\" points=\"2.5,-0.5 2.5,-36.5 197.5,-36.5 197.5,-0.5 2.5,-0.5\"/>\n<text text-anchor=\"middle\" x=\"19\" y=\"-14.8\" font-family=\"Times,serif\" font-size=\"14.00\">w2</text>\n<polyline fill=\"none\" stroke=\"black\" points=\"35.5,-0.5 35.5,-36.5 \"/>\n<text text-anchor=\"middle\" x=\"75.5\" y=\"-14.8\" font-family=\"Times,serif\" font-size=\"14.00\">data 1.0000</text>\n<polyline fill=\"none\" stroke=\"black\" points=\"115.5,-0.5 115.5,-36.5 \"/>\n<text text-anchor=\"middle\" x=\"156.5\" y=\"-14.8\" font-family=\"Times,serif\" font-size=\"14.00\">grad 0.0000</text>\n</g>\n<!-- 135564901646784&#45;&gt;135564901657920* -->\n<g id=\"edge14\" class=\"edge\">\n<title>135564901646784&#45;&gt;135564901657920*</title>\n<path fill=\"none\" stroke=\"black\" d=\"M169.28,-36.5C179.65,-39.61 190.16,-42.98 200,-46.5 210.28,-50.17 221.28,-54.74 231.11,-59.07\"/>\n<polygon fill=\"black\" stroke=\"black\" points=\"229.93,-62.37 240.48,-63.27 232.79,-55.99 229.93,-62.37\"/>\n</g>\n<!-- 135564901656336 -->\n<g id=\"node5\" class=\"node\">\n<title>135564901656336</title>\n<polygon fill=\"none\" stroke=\"black\" points=\"1071,-54.5 1071,-90.5 1256,-90.5 1256,-54.5 1071,-54.5\"/>\n<text text-anchor=\"middle\" x=\"1082.5\" y=\"-68.8\" font-family=\"Times,serif\" font-size=\"14.00\">n</text>\n<polyline fill=\"none\" stroke=\"black\" points=\"1094,-54.5 1094,-90.5 \"/>\n<text text-anchor=\"middle\" x=\"1134\" y=\"-68.8\" font-family=\"Times,serif\" font-size=\"14.00\">data 0.8814</text>\n<polyline fill=\"none\" stroke=\"black\" points=\"1174,-54.5 1174,-90.5 \"/>\n<text text-anchor=\"middle\" x=\"1215\" y=\"-68.8\" font-family=\"Times,serif\" font-size=\"14.00\">grad 0.5000</text>\n</g>\n<!-- 135564901652928tanh -->\n<g id=\"node15\" class=\"node\">\n<title>135564901652928tanh</title>\n<ellipse fill=\"none\" stroke=\"black\" cx=\"1319\" cy=\"-72.5\" rx=\"27\" ry=\"18\"/>\n<text text-anchor=\"middle\" x=\"1319\" y=\"-68.8\" font-family=\"Times,serif\" font-size=\"14.00\">tanh</text>\n</g>\n<!-- 135564901656336&#45;&gt;135564901652928tanh -->\n<g id=\"edge12\" class=\"edge\">\n<title>135564901656336&#45;&gt;135564901652928tanh</title>\n<path fill=\"none\" stroke=\"black\" d=\"M1256.01,-72.5C1265.01,-72.5 1273.74,-72.5 1281.66,-72.5\"/>\n<polygon fill=\"black\" stroke=\"black\" points=\"1281.91,-76 1291.91,-72.5 1281.91,-69 1281.91,-76\"/>\n</g>\n<!-- 135564901656336+ -->\n<g id=\"node6\" class=\"node\">\n<title>135564901656336+</title>\n<ellipse fill=\"none\" stroke=\"black\" cx=\"1008\" cy=\"-72.5\" rx=\"27\" ry=\"18\"/>\n<text text-anchor=\"middle\" x=\"1008\" y=\"-68.8\" font-family=\"Times,serif\" font-size=\"14.00\">+</text>\n</g>\n<!-- 135564901656336+&#45;&gt;135564901656336 -->\n<g id=\"edge1\" class=\"edge\">\n<title>135564901656336+&#45;&gt;135564901656336</title>\n<path fill=\"none\" stroke=\"black\" d=\"M1035.04,-72.5C1042.58,-72.5 1051.3,-72.5 1060.57,-72.5\"/>\n<polygon fill=\"black\" stroke=\"black\" points=\"1060.81,-76 1070.81,-72.5 1060.81,-69 1060.81,-76\"/>\n</g>\n<!-- 135564901657920 -->\n<g id=\"node7\" class=\"node\">\n<title>135564901657920</title>\n<polygon fill=\"none\" stroke=\"black\" points=\"328.5,-55.5 328.5,-91.5 543.5,-91.5 543.5,-55.5 328.5,-55.5\"/>\n<text text-anchor=\"middle\" x=\"355\" y=\"-69.8\" font-family=\"Times,serif\" font-size=\"14.00\">x2*w2</text>\n<polyline fill=\"none\" stroke=\"black\" points=\"381.5,-55.5 381.5,-91.5 \"/>\n<text text-anchor=\"middle\" x=\"421.5\" y=\"-69.8\" font-family=\"Times,serif\" font-size=\"14.00\">data 0.0000</text>\n<polyline fill=\"none\" stroke=\"black\" points=\"461.5,-55.5 461.5,-91.5 \"/>\n<text text-anchor=\"middle\" x=\"502.5\" y=\"-69.8\" font-family=\"Times,serif\" font-size=\"14.00\">grad 0.5000</text>\n</g>\n<!-- 135564901646688+ -->\n<g id=\"node11\" class=\"node\">\n<title>135564901646688+</title>\n<ellipse fill=\"none\" stroke=\"black\" cx=\"609\" cy=\"-100.5\" rx=\"27\" ry=\"18\"/>\n<text text-anchor=\"middle\" x=\"609\" y=\"-96.8\" font-family=\"Times,serif\" font-size=\"14.00\">+</text>\n</g>\n<!-- 135564901657920&#45;&gt;135564901646688+ -->\n<g id=\"edge11\" class=\"edge\">\n<title>135564901657920&#45;&gt;135564901646688+</title>\n<path fill=\"none\" stroke=\"black\" d=\"M543.84,-90.37C554.01,-91.98 563.76,-93.51 572.44,-94.89\"/>\n<polygon fill=\"black\" stroke=\"black\" points=\"572.05,-98.37 582.47,-96.47 573.14,-91.45 572.05,-98.37\"/>\n</g>\n<!-- 135564901657920*&#45;&gt;135564901657920 -->\n<g id=\"edge2\" class=\"edge\">\n<title>135564901657920*&#45;&gt;135564901657920</title>\n<path fill=\"none\" stroke=\"black\" d=\"M290.34,-73.5C298.51,-73.5 308.08,-73.5 318.36,-73.5\"/>\n<polygon fill=\"black\" stroke=\"black\" points=\"318.39,-77 328.39,-73.5 318.39,-70 318.39,-77\"/>\n</g>\n<!-- 135564901654368 -->\n<g id=\"node9\" class=\"node\">\n<title>135564901654368</title>\n<polygon fill=\"none\" stroke=\"black\" points=\"716,-27.5 716,-63.5 901,-63.5 901,-27.5 716,-27.5\"/>\n<text text-anchor=\"middle\" x=\"727.5\" y=\"-41.8\" font-family=\"Times,serif\" font-size=\"14.00\">b</text>\n<polyline fill=\"none\" stroke=\"black\" points=\"739,-27.5 739,-63.5 \"/>\n<text text-anchor=\"middle\" x=\"779\" y=\"-41.8\" font-family=\"Times,serif\" font-size=\"14.00\">data 6.8814</text>\n<polyline fill=\"none\" stroke=\"black\" points=\"819,-27.5 819,-63.5 \"/>\n<text text-anchor=\"middle\" x=\"860\" y=\"-41.8\" font-family=\"Times,serif\" font-size=\"14.00\">grad 0.5000</text>\n</g>\n<!-- 135564901654368&#45;&gt;135564901656336+ -->\n<g id=\"edge8\" class=\"edge\">\n<title>135564901654368&#45;&gt;135564901656336+</title>\n<path fill=\"none\" stroke=\"black\" d=\"M901.02,-58.01C926,-61.43 951.59,-64.93 971.37,-67.63\"/>\n<polygon fill=\"black\" stroke=\"black\" points=\"971.05,-71.12 981.43,-69.01 972,-64.18 971.05,-71.12\"/>\n</g>\n<!-- 135564901646688 -->\n<g id=\"node10\" class=\"node\">\n<title>135564901646688</title>\n<polygon fill=\"none\" stroke=\"black\" points=\"672,-82.5 672,-118.5 945,-118.5 945,-82.5 672,-82.5\"/>\n<text text-anchor=\"middle\" x=\"725\" y=\"-96.8\" font-family=\"Times,serif\" font-size=\"14.00\">x1*w1 + x2*w2</text>\n<polyline fill=\"none\" stroke=\"black\" points=\"778,-82.5 778,-118.5 \"/>\n<text text-anchor=\"middle\" x=\"820.5\" y=\"-96.8\" font-family=\"Times,serif\" font-size=\"14.00\">data &#45;6.0000</text>\n<polyline fill=\"none\" stroke=\"black\" points=\"863,-82.5 863,-118.5 \"/>\n<text text-anchor=\"middle\" x=\"904\" y=\"-96.8\" font-family=\"Times,serif\" font-size=\"14.00\">grad 0.5000</text>\n</g>\n<!-- 135564901646688&#45;&gt;135564901656336+ -->\n<g id=\"edge10\" class=\"edge\">\n<title>135564901646688&#45;&gt;135564901656336+</title>\n<path fill=\"none\" stroke=\"black\" d=\"M936.53,-82.49C949.09,-80.71 960.99,-79.02 971.3,-77.56\"/>\n<polygon fill=\"black\" stroke=\"black\" points=\"972.03,-80.99 981.44,-76.12 971.05,-74.06 972.03,-80.99\"/>\n</g>\n<!-- 135564901646688+&#45;&gt;135564901646688 -->\n<g id=\"edge3\" class=\"edge\">\n<title>135564901646688+&#45;&gt;135564901646688</title>\n<path fill=\"none\" stroke=\"black\" d=\"M636.23,-100.5C643.7,-100.5 652.41,-100.5 661.87,-100.5\"/>\n<polygon fill=\"black\" stroke=\"black\" points=\"661.98,-104 671.98,-100.5 661.98,-97 661.98,-104\"/>\n</g>\n<!-- 135564901661616 -->\n<g id=\"node12\" class=\"node\">\n<title>135564901661616</title>\n<polygon fill=\"none\" stroke=\"black\" points=\"326,-110.5 326,-146.5 546,-146.5 546,-110.5 326,-110.5\"/>\n<text text-anchor=\"middle\" x=\"352.5\" y=\"-124.8\" font-family=\"Times,serif\" font-size=\"14.00\">x1*w1</text>\n<polyline fill=\"none\" stroke=\"black\" points=\"379,-110.5 379,-146.5 \"/>\n<text text-anchor=\"middle\" x=\"421.5\" y=\"-124.8\" font-family=\"Times,serif\" font-size=\"14.00\">data &#45;6.0000</text>\n<polyline fill=\"none\" stroke=\"black\" points=\"464,-110.5 464,-146.5 \"/>\n<text text-anchor=\"middle\" x=\"505\" y=\"-124.8\" font-family=\"Times,serif\" font-size=\"14.00\">grad 0.5000</text>\n</g>\n<!-- 135564901661616&#45;&gt;135564901646688+ -->\n<g id=\"edge7\" class=\"edge\">\n<title>135564901661616&#45;&gt;135564901646688+</title>\n<path fill=\"none\" stroke=\"black\" d=\"M546.27,-110.61C555.64,-109.07 564.6,-107.61 572.65,-106.29\"/>\n<polygon fill=\"black\" stroke=\"black\" points=\"573.35,-109.72 582.65,-104.65 572.22,-102.81 573.35,-109.72\"/>\n</g>\n<!-- 135564901661616*&#45;&gt;135564901661616 -->\n<g id=\"edge4\" class=\"edge\">\n<title>135564901661616*&#45;&gt;135564901661616</title>\n<path fill=\"none\" stroke=\"black\" d=\"M290.34,-128.5C297.77,-128.5 306.37,-128.5 315.6,-128.5\"/>\n<polygon fill=\"black\" stroke=\"black\" points=\"315.84,-132 325.84,-128.5 315.84,-125 315.84,-132\"/>\n</g>\n<!-- 135564901652928 -->\n<g id=\"node14\" class=\"node\">\n<title>135564901652928</title>\n<polygon fill=\"none\" stroke=\"black\" points=\"1382,-54.5 1382,-90.5 1567,-90.5 1567,-54.5 1382,-54.5\"/>\n<text text-anchor=\"middle\" x=\"1393.5\" y=\"-68.8\" font-family=\"Times,serif\" font-size=\"14.00\">o</text>\n<polyline fill=\"none\" stroke=\"black\" points=\"1405,-54.5 1405,-90.5 \"/>\n<text text-anchor=\"middle\" x=\"1445\" y=\"-68.8\" font-family=\"Times,serif\" font-size=\"14.00\">data 0.7071</text>\n<polyline fill=\"none\" stroke=\"black\" points=\"1485,-54.5 1485,-90.5 \"/>\n<text text-anchor=\"middle\" x=\"1526\" y=\"-68.8\" font-family=\"Times,serif\" font-size=\"14.00\">grad 1.0000</text>\n</g>\n<!-- 135564901652928tanh&#45;&gt;135564901652928 -->\n<g id=\"edge5\" class=\"edge\">\n<title>135564901652928tanh&#45;&gt;135564901652928</title>\n<path fill=\"none\" stroke=\"black\" d=\"M1346.04,-72.5C1353.58,-72.5 1362.3,-72.5 1371.57,-72.5\"/>\n<polygon fill=\"black\" stroke=\"black\" points=\"1371.81,-76 1381.81,-72.5 1371.81,-69 1371.81,-76\"/>\n</g>\n</g>\n</svg>\n",
            "text/plain": [
              "<graphviz.graphs.Digraph at 0x7b4ba9ce82e0>"
            ]
          },
          "execution_count": 30,
          "metadata": {},
          "output_type": "execute_result"
        }
      ],
      "source": [
        "draw_dot(o)"
      ]
    },
    {
      "cell_type": "markdown",
      "metadata": {
        "id": "PRdRo4ZqBbRc"
      },
      "source": [
        "### 4.3 A bug\n",
        "\n"
      ]
    },
    {
      "cell_type": "code",
      "execution_count": null,
      "metadata": {
        "colab": {
          "background_save": true,
          "base_uri": "https://localhost:8080/",
          "height": 101
        },
        "id": "iQuR3BQuBdUa",
        "outputId": "31844f37-458a-4605-d7a3-b1df3179a3bf"
      },
      "outputs": [
        {
          "data": {
            "image/svg+xml": "<?xml version=\"1.0\" encoding=\"UTF-8\" standalone=\"no\"?>\n<!DOCTYPE svg PUBLIC \"-//W3C//DTD SVG 1.1//EN\"\n \"http://www.w3.org/Graphics/SVG/1.1/DTD/svg11.dtd\">\n<!-- Generated by graphviz version 2.43.0 (0)\n -->\n<!-- Title: %3 Pages: 1 -->\n<svg width=\"504pt\" height=\"45pt\"\n viewBox=\"0.00 0.00 504.00 45.00\" xmlns=\"http://www.w3.org/2000/svg\" xmlns:xlink=\"http://www.w3.org/1999/xlink\">\n<g id=\"graph0\" class=\"graph\" transform=\"scale(1 1) rotate(0) translate(4 41)\">\n<title>%3</title>\n<polygon fill=\"white\" stroke=\"transparent\" points=\"-4,4 -4,-41 500,-41 500,4 -4,4\"/>\n<!-- 135564901661568 -->\n<g id=\"node1\" class=\"node\">\n<title>135564901661568</title>\n<polygon fill=\"none\" stroke=\"black\" points=\"0,-0.5 0,-36.5 185,-36.5 185,-0.5 0,-0.5\"/>\n<text text-anchor=\"middle\" x=\"11.5\" y=\"-14.8\" font-family=\"Times,serif\" font-size=\"14.00\">a</text>\n<polyline fill=\"none\" stroke=\"black\" points=\"23,-0.5 23,-36.5 \"/>\n<text text-anchor=\"middle\" x=\"63\" y=\"-14.8\" font-family=\"Times,serif\" font-size=\"14.00\">data 3.0000</text>\n<polyline fill=\"none\" stroke=\"black\" points=\"103,-0.5 103,-36.5 \"/>\n<text text-anchor=\"middle\" x=\"144\" y=\"-14.8\" font-family=\"Times,serif\" font-size=\"14.00\">grad 0.0000</text>\n</g>\n<!-- 135564901657536+ -->\n<g id=\"node3\" class=\"node\">\n<title>135564901657536+</title>\n<ellipse fill=\"none\" stroke=\"black\" cx=\"248\" cy=\"-18.5\" rx=\"27\" ry=\"18\"/>\n<text text-anchor=\"middle\" x=\"248\" y=\"-14.8\" font-family=\"Times,serif\" font-size=\"14.00\">+</text>\n</g>\n<!-- 135564901661568&#45;&gt;135564901657536+ -->\n<g id=\"edge2\" class=\"edge\">\n<title>135564901661568&#45;&gt;135564901657536+</title>\n<path fill=\"none\" stroke=\"black\" d=\"M185.01,-18.5C194.01,-18.5 202.74,-18.5 210.66,-18.5\"/>\n<polygon fill=\"black\" stroke=\"black\" points=\"210.91,-22 220.91,-18.5 210.91,-15 210.91,-22\"/>\n</g>\n<!-- 135564901657536 -->\n<g id=\"node2\" class=\"node\">\n<title>135564901657536</title>\n<polygon fill=\"none\" stroke=\"black\" points=\"311,-0.5 311,-36.5 496,-36.5 496,-0.5 311,-0.5\"/>\n<text text-anchor=\"middle\" x=\"322.5\" y=\"-14.8\" font-family=\"Times,serif\" font-size=\"14.00\">b</text>\n<polyline fill=\"none\" stroke=\"black\" points=\"334,-0.5 334,-36.5 \"/>\n<text text-anchor=\"middle\" x=\"374\" y=\"-14.8\" font-family=\"Times,serif\" font-size=\"14.00\">data 6.0000</text>\n<polyline fill=\"none\" stroke=\"black\" points=\"414,-0.5 414,-36.5 \"/>\n<text text-anchor=\"middle\" x=\"455\" y=\"-14.8\" font-family=\"Times,serif\" font-size=\"14.00\">grad 1.0000</text>\n</g>\n<!-- 135564901657536+&#45;&gt;135564901657536 -->\n<g id=\"edge1\" class=\"edge\">\n<title>135564901657536+&#45;&gt;135564901657536</title>\n<path fill=\"none\" stroke=\"black\" d=\"M275.04,-18.5C282.58,-18.5 291.3,-18.5 300.57,-18.5\"/>\n<polygon fill=\"black\" stroke=\"black\" points=\"300.81,-22 310.81,-18.5 300.81,-15 300.81,-22\"/>\n</g>\n</g>\n</svg>\n",
            "text/plain": [
              "<graphviz.graphs.Digraph at 0x7b4ba9ceac50>"
            ]
          },
          "execution_count": 31,
          "metadata": {},
          "output_type": "execute_result"
        }
      ],
      "source": [
        "a = Value(3.0, label='a')\n",
        "b = a + a   ; b.label = 'b'\n",
        "b.backward()\n",
        "draw_dot(b)"
      ]
    },
    {
      "cell_type": "code",
      "execution_count": null,
      "metadata": {
        "colab": {
          "background_save": true,
          "base_uri": "https://localhost:8080/",
          "height": 174
        },
        "id": "lO4r6T8yBq5e",
        "outputId": "4c53df96-2442-43f5-d41e-2b6b5a1a96b3"
      },
      "outputs": [
        {
          "data": {
            "image/svg+xml": "<?xml version=\"1.0\" encoding=\"UTF-8\" standalone=\"no\"?>\n<!DOCTYPE svg PUBLIC \"-//W3C//DTD SVG 1.1//EN\"\n \"http://www.w3.org/Graphics/SVG/1.1/DTD/svg11.dtd\">\n<!-- Generated by graphviz version 2.43.0 (0)\n -->\n<!-- Title: %3 Pages: 1 -->\n<svg width=\"828pt\" height=\"100pt\"\n viewBox=\"0.00 0.00 828.00 100.00\" xmlns=\"http://www.w3.org/2000/svg\" xmlns:xlink=\"http://www.w3.org/1999/xlink\">\n<g id=\"graph0\" class=\"graph\" transform=\"scale(1 1) rotate(0) translate(4 96)\">\n<title>%3</title>\n<polygon fill=\"white\" stroke=\"transparent\" points=\"-4,4 -4,-96 824,-96 824,4 -4,4\"/>\n<!-- 135564901648944 -->\n<g id=\"node1\" class=\"node\">\n<title>135564901648944</title>\n<polygon fill=\"none\" stroke=\"black\" points=\"318.5,-55.5 318.5,-91.5 503.5,-91.5 503.5,-55.5 318.5,-55.5\"/>\n<text text-anchor=\"middle\" x=\"330\" y=\"-69.8\" font-family=\"Times,serif\" font-size=\"14.00\">e</text>\n<polyline fill=\"none\" stroke=\"black\" points=\"341.5,-55.5 341.5,-91.5 \"/>\n<text text-anchor=\"middle\" x=\"381.5\" y=\"-69.8\" font-family=\"Times,serif\" font-size=\"14.00\">data 1.0000</text>\n<polyline fill=\"none\" stroke=\"black\" points=\"421.5,-55.5 421.5,-91.5 \"/>\n<text text-anchor=\"middle\" x=\"462.5\" y=\"-69.8\" font-family=\"Times,serif\" font-size=\"14.00\">grad 0.0000</text>\n</g>\n<!-- 135564901655856* -->\n<g id=\"node5\" class=\"node\">\n<title>135564901655856*</title>\n<ellipse fill=\"none\" stroke=\"black\" cx=\"569\" cy=\"-45.5\" rx=\"27\" ry=\"18\"/>\n<text text-anchor=\"middle\" x=\"569\" y=\"-41.8\" font-family=\"Times,serif\" font-size=\"14.00\">*</text>\n</g>\n<!-- 135564901648944&#45;&gt;135564901655856* -->\n<g id=\"edge9\" class=\"edge\">\n<title>135564901648944&#45;&gt;135564901655856*</title>\n<path fill=\"none\" stroke=\"black\" d=\"M503.65,-57.05C513.94,-55.2 523.91,-53.41 532.81,-51.82\"/>\n<polygon fill=\"black\" stroke=\"black\" points=\"533.48,-55.25 542.71,-50.04 532.25,-48.36 533.48,-55.25\"/>\n</g>\n<!-- 135564901648944+ -->\n<g id=\"node2\" class=\"node\">\n<title>135564901648944+</title>\n<ellipse fill=\"none\" stroke=\"black\" cx=\"253\" cy=\"-73.5\" rx=\"27\" ry=\"18\"/>\n<text text-anchor=\"middle\" x=\"253\" y=\"-69.8\" font-family=\"Times,serif\" font-size=\"14.00\">+</text>\n</g>\n<!-- 135564901648944+&#45;&gt;135564901648944 -->\n<g id=\"edge1\" class=\"edge\">\n<title>135564901648944+&#45;&gt;135564901648944</title>\n<path fill=\"none\" stroke=\"black\" d=\"M280.11,-73.5C288.39,-73.5 298.1,-73.5 308.42,-73.5\"/>\n<polygon fill=\"black\" stroke=\"black\" points=\"308.47,-77 318.47,-73.5 308.47,-70 308.47,-77\"/>\n</g>\n<!-- 135564901646448 -->\n<g id=\"node3\" class=\"node\">\n<title>135564901646448</title>\n<polygon fill=\"none\" stroke=\"black\" points=\"0,-55.5 0,-91.5 190,-91.5 190,-55.5 0,-55.5\"/>\n<text text-anchor=\"middle\" x=\"11.5\" y=\"-69.8\" font-family=\"Times,serif\" font-size=\"14.00\">a</text>\n<polyline fill=\"none\" stroke=\"black\" points=\"23,-55.5 23,-91.5 \"/>\n<text text-anchor=\"middle\" x=\"65.5\" y=\"-69.8\" font-family=\"Times,serif\" font-size=\"14.00\">data &#45;2.0000</text>\n<polyline fill=\"none\" stroke=\"black\" points=\"108,-55.5 108,-91.5 \"/>\n<text text-anchor=\"middle\" x=\"149\" y=\"-69.8\" font-family=\"Times,serif\" font-size=\"14.00\">grad 0.0000</text>\n</g>\n<!-- 135564901646448&#45;&gt;135564901648944+ -->\n<g id=\"edge6\" class=\"edge\">\n<title>135564901646448&#45;&gt;135564901648944+</title>\n<path fill=\"none\" stroke=\"black\" d=\"M190.34,-73.5C199.26,-73.5 207.87,-73.5 215.69,-73.5\"/>\n<polygon fill=\"black\" stroke=\"black\" points=\"215.82,-77 225.82,-73.5 215.82,-70 215.82,-77\"/>\n</g>\n<!-- 135564901648368* -->\n<g id=\"node8\" class=\"node\">\n<title>135564901648368*</title>\n<ellipse fill=\"none\" stroke=\"black\" cx=\"253\" cy=\"-18.5\" rx=\"27\" ry=\"18\"/>\n<text text-anchor=\"middle\" x=\"253\" y=\"-14.8\" font-family=\"Times,serif\" font-size=\"14.00\">*</text>\n</g>\n<!-- 135564901646448&#45;&gt;135564901648368* -->\n<g id=\"edge8\" class=\"edge\">\n<title>135564901646448&#45;&gt;135564901648368*</title>\n<path fill=\"none\" stroke=\"black\" d=\"M163.39,-55.42C172.4,-52.63 181.47,-49.63 190,-46.5 200.5,-42.64 211.72,-37.81 221.69,-33.24\"/>\n<polygon fill=\"black\" stroke=\"black\" points=\"223.21,-36.39 230.8,-28.99 220.26,-30.05 223.21,-36.39\"/>\n</g>\n<!-- 135564901655856 -->\n<g id=\"node4\" class=\"node\">\n<title>135564901655856</title>\n<polygon fill=\"none\" stroke=\"black\" points=\"632,-27.5 632,-63.5 820,-63.5 820,-27.5 632,-27.5\"/>\n<text text-anchor=\"middle\" x=\"642.5\" y=\"-41.8\" font-family=\"Times,serif\" font-size=\"14.00\">f</text>\n<polyline fill=\"none\" stroke=\"black\" points=\"653,-27.5 653,-63.5 \"/>\n<text text-anchor=\"middle\" x=\"695.5\" y=\"-41.8\" font-family=\"Times,serif\" font-size=\"14.00\">data &#45;6.0000</text>\n<polyline fill=\"none\" stroke=\"black\" points=\"738,-27.5 738,-63.5 \"/>\n<text text-anchor=\"middle\" x=\"779\" y=\"-41.8\" font-family=\"Times,serif\" font-size=\"14.00\">grad 1.0000</text>\n</g>\n<!-- 135564901655856*&#45;&gt;135564901655856 -->\n<g id=\"edge2\" class=\"edge\">\n<title>135564901655856*&#45;&gt;135564901655856</title>\n<path fill=\"none\" stroke=\"black\" d=\"M596.29,-45.5C603.78,-45.5 612.42,-45.5 621.6,-45.5\"/>\n<polygon fill=\"black\" stroke=\"black\" points=\"621.76,-49 631.76,-45.5 621.76,-42 621.76,-49\"/>\n</g>\n<!-- 135564901655424 -->\n<g id=\"node6\" class=\"node\">\n<title>135564901655424</title>\n<polygon fill=\"none\" stroke=\"black\" points=\"2.5,-0.5 2.5,-36.5 187.5,-36.5 187.5,-0.5 2.5,-0.5\"/>\n<text text-anchor=\"middle\" x=\"14\" y=\"-14.8\" font-family=\"Times,serif\" font-size=\"14.00\">b</text>\n<polyline fill=\"none\" stroke=\"black\" points=\"25.5,-0.5 25.5,-36.5 \"/>\n<text text-anchor=\"middle\" x=\"65.5\" y=\"-14.8\" font-family=\"Times,serif\" font-size=\"14.00\">data 3.0000</text>\n<polyline fill=\"none\" stroke=\"black\" points=\"105.5,-0.5 105.5,-36.5 \"/>\n<text text-anchor=\"middle\" x=\"146.5\" y=\"-14.8\" font-family=\"Times,serif\" font-size=\"14.00\">grad 0.0000</text>\n</g>\n<!-- 135564901655424&#45;&gt;135564901648944+ -->\n<g id=\"edge4\" class=\"edge\">\n<title>135564901655424&#45;&gt;135564901648944+</title>\n<path fill=\"none\" stroke=\"black\" d=\"M160.31,-36.52C170.31,-39.65 180.48,-43.02 190,-46.5 200.26,-50.25 211.24,-54.83 221.08,-59.16\"/>\n<polygon fill=\"black\" stroke=\"black\" points=\"219.9,-62.46 230.45,-63.35 222.75,-56.07 219.9,-62.46\"/>\n</g>\n<!-- 135564901655424&#45;&gt;135564901648368* -->\n<g id=\"edge5\" class=\"edge\">\n<title>135564901655424&#45;&gt;135564901648368*</title>\n<path fill=\"none\" stroke=\"black\" d=\"M187.65,-18.5C197.55,-18.5 207.15,-18.5 215.78,-18.5\"/>\n<polygon fill=\"black\" stroke=\"black\" points=\"215.78,-22 225.78,-18.5 215.78,-15 215.78,-22\"/>\n</g>\n<!-- 135564901648368 -->\n<g id=\"node7\" class=\"node\">\n<title>135564901648368</title>\n<polygon fill=\"none\" stroke=\"black\" points=\"316,-0.5 316,-36.5 506,-36.5 506,-0.5 316,-0.5\"/>\n<text text-anchor=\"middle\" x=\"327.5\" y=\"-14.8\" font-family=\"Times,serif\" font-size=\"14.00\">d</text>\n<polyline fill=\"none\" stroke=\"black\" points=\"339,-0.5 339,-36.5 \"/>\n<text text-anchor=\"middle\" x=\"381.5\" y=\"-14.8\" font-family=\"Times,serif\" font-size=\"14.00\">data &#45;6.0000</text>\n<polyline fill=\"none\" stroke=\"black\" points=\"424,-0.5 424,-36.5 \"/>\n<text text-anchor=\"middle\" x=\"465\" y=\"-14.8\" font-family=\"Times,serif\" font-size=\"14.00\">grad 0.0000</text>\n</g>\n<!-- 135564901648368&#45;&gt;135564901655856* -->\n<g id=\"edge7\" class=\"edge\">\n<title>135564901648368&#45;&gt;135564901655856*</title>\n<path fill=\"none\" stroke=\"black\" d=\"M506.34,-34.83C515.62,-36.44 524.58,-37.99 532.66,-39.38\"/>\n<polygon fill=\"black\" stroke=\"black\" points=\"532.27,-42.87 542.72,-41.12 533.46,-35.97 532.27,-42.87\"/>\n</g>\n<!-- 135564901648368*&#45;&gt;135564901648368 -->\n<g id=\"edge3\" class=\"edge\">\n<title>135564901648368*&#45;&gt;135564901648368</title>\n<path fill=\"none\" stroke=\"black\" d=\"M280.11,-18.5C287.63,-18.5 296.32,-18.5 305.58,-18.5\"/>\n<polygon fill=\"black\" stroke=\"black\" points=\"305.81,-22 315.81,-18.5 305.81,-15 305.81,-22\"/>\n</g>\n</g>\n</svg>\n",
            "text/plain": [
              "<graphviz.graphs.Digraph at 0x7b4ba9ce9f00>"
            ]
          },
          "execution_count": 32,
          "metadata": {},
          "output_type": "execute_result"
        }
      ],
      "source": [
        "a = Value(-2.0, label='a')\n",
        "b = Value(3.0, label='b')\n",
        "d = a * b    ; d.label = 'd'\n",
        "e = a + b    ; e.label = 'e'\n",
        "f = d * e    ; f.label = 'f'\n",
        "\n",
        "f.backward()\n",
        "\n",
        "draw_dot(f)"
      ]
    },
    {
      "cell_type": "markdown",
      "metadata": {
        "id": "3akwZsbyBtGy"
      },
      "source": [
        "## 5. Breaking up `tanh` with more operations\n",
        "\n",
        "* we can break `tanh` down into other expressions to make more operations occur.\n",
        "  * ```\n",
        "    e = (2*n).exp()\n",
        "    o = (e - 1)/(e + 1)\n",
        "    ```\n",
        "* you can't add an integer, or any other data type to a Value object as it has no attribute `data` -> added a line of code to function `add` or `mul` which manipulates `other` to accept data type values with no attribute `data`.\n",
        "* `other = other if isinstance(other, Value) else Value(other)` when added to these operational functions allowes `(a * 2)` for example to occue, but does not allow `(2 * a)` to occur\n",
        "  * This is because `(a * 2)` results in a._mul_2 but `(2 * a)` results in 2._mul_a which can't occue due to `a` being a Value object.\n",
        "  * You can define `rmul()` which is kind of a fallback, it will check if by any chance `(a * 2)` can be done when `(2 * a)` is called -> swaps the operants.\n"
      ]
    },
    {
      "cell_type": "markdown",
      "metadata": {
        "id": "9O6FHvhOJQ6g"
      },
      "source": [
        "redefining division:\n",
        "```\n",
        "a / b\n",
        "a * (1/b)\n",
        "a * (b**-1)\n",
        "```"
      ]
    },
    {
      "cell_type": "code",
      "execution_count": null,
      "metadata": {
        "colab": {
          "background_save": true
        },
        "id": "MZqI0ZXtFyFb"
      },
      "outputs": [],
      "source": [
        "import math\n",
        "\n",
        "class Value:\n",
        "  \"\"\" stores a single scalar value and its gradient \"\"\"\n",
        "\n",
        "  def __init__(self, data, _children = (), _op = '', label = ''): # 'children' is originally a Tuple here\n",
        "    self.data = data\n",
        "    self.grad = 0.0 # initially 0\n",
        "    self._backward = lambda: None # by default does nothing\n",
        "    self._prev = set(_children) # converted to a set to maintain efficiency\n",
        "    self._op = _op\n",
        "    self.label = label\n",
        "\n",
        "  # Providing a way for the expression to be printed out cleanly\n",
        "  def __repr__(self):\n",
        "    return f\"Value(data = {self.data})\"\n",
        "\n",
        "  # Python can't add 2 Value's objects so we have to define it ('a+b' won't work)\n",
        "  def __add__(self, other):\n",
        "    other = other if isinstance(other, Value) else Value(other)\n",
        "    out = Value(self.data + other.data, (self, other), '+')\n",
        "\n",
        "    def _backward():\n",
        "      self.grad += 1.0 * out.grad\n",
        "      other.grad += 1.0 * out.grad\n",
        "    out._backward = _backward\n",
        "\n",
        "    return out\n",
        "\n",
        "  def __mul__(self, other):\n",
        "    other = other if isinstance(other, Value) else Value(other)\n",
        "    out = Value(self.data * other.data, (self, other), '*')\n",
        "\n",
        "    def _backward():\n",
        "      self.grad += (other.data) * out.grad\n",
        "      other.grad += (self.data) * out.grad\n",
        "    out._backward = _backward\n",
        "\n",
        "    return out\n",
        "\n",
        "  def __pow__(self, other):\n",
        "    assert isinstance(other, (int, float)), \"only supporting int/float powers for now\"\n",
        "    out = Value(self.data ** other, (self, ), f'**{other}')\n",
        "\n",
        "    def _backward():\n",
        "      self.grad += other * (self.data ** (other - 1)) * out.grad # power rule derivative\n",
        "    out._backward = _backward\n",
        "\n",
        "    return out\n",
        "\n",
        "  def __rmul__(self, other): # other * self\n",
        "    return self * other\n",
        "\n",
        "  def __truediv__(self, other): # self / other\n",
        "    return self * other**-1\n",
        "\n",
        "  def __neg__(self): # -self\n",
        "    return self * -1\n",
        "\n",
        "  def __sub__(self, other): # self - other\n",
        "    return self + (-other)\n",
        "\n",
        "  def tanh(self):\n",
        "        x = self.data\n",
        "        t = math.tanh(x)  # Use the numerically stable tanh from the math library\n",
        "        out = Value(t, (self,), 'tanh')\n",
        "\n",
        "        def _backward():\n",
        "            # Derivative of tanh(x) is 1 - tanh(x)^2\n",
        "            self.grad += (1 - t**2) * out.grad\n",
        "\n",
        "        out._backward = _backward\n",
        "\n",
        "        return out\n",
        "\n",
        "  def exp(self):\n",
        "    x = self.data\n",
        "    out = Value(math.exp(x), (self, ), 'exp')\n",
        "\n",
        "    def _backward():\n",
        "      self.grad += out.data * out.grad # chain rule with exp(x)\n",
        "    out._backward = _backward\n",
        "\n",
        "    return out\n",
        "\n",
        "  def backward(self):\n",
        "    # Topological sorting to ensure correct order of backpropagation\n",
        "    topo = []\n",
        "    visited = set()\n",
        "\n",
        "    def build_topo(v):\n",
        "        if v not in visited:\n",
        "            visited.add(v)\n",
        "            for child in v._prev:\n",
        "                build_topo(child)\n",
        "            topo.append(v)\n",
        "\n",
        "    build_topo(self)  # start from the current tensor\n",
        "    self.grad = 1.0  # usually, gradient of the loss with respect to itself is 1\n",
        "\n",
        "    # Backpropagate through the computational graph in reverse topological order\n",
        "    for node in reversed(topo):\n",
        "        node._backward()\n"
      ]
    },
    {
      "cell_type": "code",
      "execution_count": null,
      "metadata": {
        "colab": {
          "background_save": true,
          "base_uri": "https://localhost:8080/"
        },
        "id": "MgqFan3DGOkX",
        "outputId": "dd8bc7b8-3d2f-4108-e48e-3d0b856b0efe"
      },
      "outputs": [
        {
          "data": {
            "text/plain": [
              "Value(data = -2.0)"
            ]
          },
          "execution_count": 34,
          "metadata": {},
          "output_type": "execute_result"
        }
      ],
      "source": [
        "a = Value(2.0)\n",
        "b = Value(4.0)\n",
        "a - b"
      ]
    },
    {
      "cell_type": "code",
      "execution_count": null,
      "metadata": {
        "colab": {
          "background_save": true
        },
        "id": "fJ-7FMVqF0UW"
      },
      "outputs": [],
      "source": [
        "# inputs x1,x2 (2D neuron)\n",
        "x1 = Value(2.0, label='x1')\n",
        "x2 = Value(0.0, label='x2')\n",
        "\n",
        "# weights w1,w2 (synaptics strings for each input)\n",
        "w1 = Value(-3.0, label='w1')\n",
        "w2 = Value(1.0, label='w2')\n",
        "\n",
        "# bias of the neuron\n",
        "b = Value(6.8813735870195432, label='b')\n",
        "\n",
        "x1w1 = x1*w1; x1w1.label = 'x1*w1'\n",
        "x2w2 = x2*w2; x2w2.label = 'x2*w2'\n",
        "x1w1x2w2 = x1w1 + x2w2; x1w1x2w2.label = 'x1*w1 + x2*w2'\n",
        "n = x1w1x2w2 + b; n.label = 'n'\n",
        "\n",
        "o = n.tanh(); o.label = 'o'\n",
        "o.backward()"
      ]
    },
    {
      "cell_type": "code",
      "execution_count": null,
      "metadata": {
        "colab": {
          "background_save": true,
          "base_uri": "https://localhost:8080/",
          "height": 321
        },
        "id": "JqabnSMsF1Ba",
        "outputId": "bc89434f-8ec3-45ec-c2d9-c2c1dc38433c"
      },
      "outputs": [
        {
          "data": {
            "image/svg+xml": "<?xml version=\"1.0\" encoding=\"UTF-8\" standalone=\"no\"?>\n<!DOCTYPE svg PUBLIC \"-//W3C//DTD SVG 1.1//EN\"\n \"http://www.w3.org/Graphics/SVG/1.1/DTD/svg11.dtd\">\n<!-- Generated by graphviz version 2.43.0 (0)\n -->\n<!-- Title: %3 Pages: 1 -->\n<svg width=\"1575pt\" height=\"210pt\"\n viewBox=\"0.00 0.00 1575.00 210.00\" xmlns=\"http://www.w3.org/2000/svg\" xmlns:xlink=\"http://www.w3.org/1999/xlink\">\n<g id=\"graph0\" class=\"graph\" transform=\"scale(1 1) rotate(0) translate(4 206)\">\n<title>%3</title>\n<polygon fill=\"white\" stroke=\"transparent\" points=\"-4,4 -4,-206 1571,-206 1571,4 -4,4\"/>\n<!-- 135564866581504 -->\n<g id=\"node1\" class=\"node\">\n<title>135564866581504</title>\n<polygon fill=\"none\" stroke=\"black\" points=\"672,-82.5 672,-118.5 945,-118.5 945,-82.5 672,-82.5\"/>\n<text text-anchor=\"middle\" x=\"725\" y=\"-96.8\" font-family=\"Times,serif\" font-size=\"14.00\">x1*w1 + x2*w2</text>\n<polyline fill=\"none\" stroke=\"black\" points=\"778,-82.5 778,-118.5 \"/>\n<text text-anchor=\"middle\" x=\"820.5\" y=\"-96.8\" font-family=\"Times,serif\" font-size=\"14.00\">data &#45;6.0000</text>\n<polyline fill=\"none\" stroke=\"black\" points=\"863,-82.5 863,-118.5 \"/>\n<text text-anchor=\"middle\" x=\"904\" y=\"-96.8\" font-family=\"Times,serif\" font-size=\"14.00\">grad 0.5000</text>\n</g>\n<!-- 135564866584384+ -->\n<g id=\"node9\" class=\"node\">\n<title>135564866584384+</title>\n<ellipse fill=\"none\" stroke=\"black\" cx=\"1008\" cy=\"-127.5\" rx=\"27\" ry=\"18\"/>\n<text text-anchor=\"middle\" x=\"1008\" y=\"-123.8\" font-family=\"Times,serif\" font-size=\"14.00\">+</text>\n</g>\n<!-- 135564866581504&#45;&gt;135564866584384+ -->\n<g id=\"edge7\" class=\"edge\">\n<title>135564866581504&#45;&gt;135564866584384+</title>\n<path fill=\"none\" stroke=\"black\" d=\"M941.24,-118.51C952.12,-120 962.4,-121.4 971.45,-122.64\"/>\n<polygon fill=\"black\" stroke=\"black\" points=\"971.11,-126.13 981.49,-124.01 972.05,-119.19 971.11,-126.13\"/>\n</g>\n<!-- 135564866581504+ -->\n<g id=\"node2\" class=\"node\">\n<title>135564866581504+</title>\n<ellipse fill=\"none\" stroke=\"black\" cx=\"609\" cy=\"-100.5\" rx=\"27\" ry=\"18\"/>\n<text text-anchor=\"middle\" x=\"609\" y=\"-96.8\" font-family=\"Times,serif\" font-size=\"14.00\">+</text>\n</g>\n<!-- 135564866581504+&#45;&gt;135564866581504 -->\n<g id=\"edge1\" class=\"edge\">\n<title>135564866581504+&#45;&gt;135564866581504</title>\n<path fill=\"none\" stroke=\"black\" d=\"M636.23,-100.5C643.7,-100.5 652.41,-100.5 661.87,-100.5\"/>\n<polygon fill=\"black\" stroke=\"black\" points=\"661.98,-104 671.98,-100.5 661.98,-97 661.98,-104\"/>\n</g>\n<!-- 135564866577424 -->\n<g id=\"node3\" class=\"node\">\n<title>135564866577424</title>\n<polygon fill=\"none\" stroke=\"black\" points=\"2.5,-165.5 2.5,-201.5 197.5,-201.5 197.5,-165.5 2.5,-165.5\"/>\n<text text-anchor=\"middle\" x=\"19\" y=\"-179.8\" font-family=\"Times,serif\" font-size=\"14.00\">w2</text>\n<polyline fill=\"none\" stroke=\"black\" points=\"35.5,-165.5 35.5,-201.5 \"/>\n<text text-anchor=\"middle\" x=\"75.5\" y=\"-179.8\" font-family=\"Times,serif\" font-size=\"14.00\">data 1.0000</text>\n<polyline fill=\"none\" stroke=\"black\" points=\"115.5,-165.5 115.5,-201.5 \"/>\n<text text-anchor=\"middle\" x=\"156.5\" y=\"-179.8\" font-family=\"Times,serif\" font-size=\"14.00\">grad 0.0000</text>\n</g>\n<!-- 135564866581072* -->\n<g id=\"node6\" class=\"node\">\n<title>135564866581072*</title>\n<ellipse fill=\"none\" stroke=\"black\" cx=\"263\" cy=\"-128.5\" rx=\"27\" ry=\"18\"/>\n<text text-anchor=\"middle\" x=\"263\" y=\"-124.8\" font-family=\"Times,serif\" font-size=\"14.00\">*</text>\n</g>\n<!-- 135564866577424&#45;&gt;135564866581072* -->\n<g id=\"edge12\" class=\"edge\">\n<title>135564866577424&#45;&gt;135564866581072*</title>\n<path fill=\"none\" stroke=\"black\" d=\"M172.53,-165.44C181.84,-162.67 191.2,-159.67 200,-156.5 210.53,-152.71 221.75,-147.9 231.72,-143.33\"/>\n<polygon fill=\"black\" stroke=\"black\" points=\"233.25,-146.48 240.82,-139.07 230.28,-140.14 233.25,-146.48\"/>\n</g>\n<!-- 135564866577472 -->\n<g id=\"node4\" class=\"node\">\n<title>135564866577472</title>\n<polygon fill=\"none\" stroke=\"black\" points=\"2,-55.5 2,-91.5 198,-91.5 198,-55.5 2,-55.5\"/>\n<text text-anchor=\"middle\" x=\"17\" y=\"-69.8\" font-family=\"Times,serif\" font-size=\"14.00\">x1</text>\n<polyline fill=\"none\" stroke=\"black\" points=\"32,-55.5 32,-91.5 \"/>\n<text text-anchor=\"middle\" x=\"72\" y=\"-69.8\" font-family=\"Times,serif\" font-size=\"14.00\">data 2.0000</text>\n<polyline fill=\"none\" stroke=\"black\" points=\"112,-55.5 112,-91.5 \"/>\n<text text-anchor=\"middle\" x=\"155\" y=\"-69.8\" font-family=\"Times,serif\" font-size=\"14.00\">grad &#45;1.5000</text>\n</g>\n<!-- 135564866571088* -->\n<g id=\"node11\" class=\"node\">\n<title>135564866571088*</title>\n<ellipse fill=\"none\" stroke=\"black\" cx=\"263\" cy=\"-73.5\" rx=\"27\" ry=\"18\"/>\n<text text-anchor=\"middle\" x=\"263\" y=\"-69.8\" font-family=\"Times,serif\" font-size=\"14.00\">*</text>\n</g>\n<!-- 135564866577472&#45;&gt;135564866571088* -->\n<g id=\"edge13\" class=\"edge\">\n<title>135564866577472&#45;&gt;135564866571088*</title>\n<path fill=\"none\" stroke=\"black\" d=\"M198.37,-73.5C208.05,-73.5 217.4,-73.5 225.8,-73.5\"/>\n<polygon fill=\"black\" stroke=\"black\" points=\"225.91,-77 235.91,-73.5 225.91,-70 225.91,-77\"/>\n</g>\n<!-- 135564866581072 -->\n<g id=\"node5\" class=\"node\">\n<title>135564866581072</title>\n<polygon fill=\"none\" stroke=\"black\" points=\"328.5,-110.5 328.5,-146.5 543.5,-146.5 543.5,-110.5 328.5,-110.5\"/>\n<text text-anchor=\"middle\" x=\"355\" y=\"-124.8\" font-family=\"Times,serif\" font-size=\"14.00\">x2*w2</text>\n<polyline fill=\"none\" stroke=\"black\" points=\"381.5,-110.5 381.5,-146.5 \"/>\n<text text-anchor=\"middle\" x=\"421.5\" y=\"-124.8\" font-family=\"Times,serif\" font-size=\"14.00\">data 0.0000</text>\n<polyline fill=\"none\" stroke=\"black\" points=\"461.5,-110.5 461.5,-146.5 \"/>\n<text text-anchor=\"middle\" x=\"502.5\" y=\"-124.8\" font-family=\"Times,serif\" font-size=\"14.00\">grad 0.5000</text>\n</g>\n<!-- 135564866581072&#45;&gt;135564866581504+ -->\n<g id=\"edge8\" class=\"edge\">\n<title>135564866581072&#45;&gt;135564866581504+</title>\n<path fill=\"none\" stroke=\"black\" d=\"M543.84,-111.01C554.01,-109.34 563.76,-107.74 572.44,-106.32\"/>\n<polygon fill=\"black\" stroke=\"black\" points=\"573.17,-109.75 582.47,-104.68 572.04,-102.84 573.17,-109.75\"/>\n</g>\n<!-- 135564866581072*&#45;&gt;135564866581072 -->\n<g id=\"edge2\" class=\"edge\">\n<title>135564866581072*&#45;&gt;135564866581072</title>\n<path fill=\"none\" stroke=\"black\" d=\"M290.34,-128.5C298.51,-128.5 308.08,-128.5 318.36,-128.5\"/>\n<polygon fill=\"black\" stroke=\"black\" points=\"318.39,-132 328.39,-128.5 318.39,-125 318.39,-132\"/>\n</g>\n<!-- 135564866576464 -->\n<g id=\"node7\" class=\"node\">\n<title>135564866576464</title>\n<polygon fill=\"none\" stroke=\"black\" points=\"4,-110.5 4,-146.5 196,-146.5 196,-110.5 4,-110.5\"/>\n<text text-anchor=\"middle\" x=\"19\" y=\"-124.8\" font-family=\"Times,serif\" font-size=\"14.00\">x2</text>\n<polyline fill=\"none\" stroke=\"black\" points=\"34,-110.5 34,-146.5 \"/>\n<text text-anchor=\"middle\" x=\"74\" y=\"-124.8\" font-family=\"Times,serif\" font-size=\"14.00\">data 0.0000</text>\n<polyline fill=\"none\" stroke=\"black\" points=\"114,-110.5 114,-146.5 \"/>\n<text text-anchor=\"middle\" x=\"155\" y=\"-124.8\" font-family=\"Times,serif\" font-size=\"14.00\">grad 0.5000</text>\n</g>\n<!-- 135564866576464&#45;&gt;135564866581072* -->\n<g id=\"edge10\" class=\"edge\">\n<title>135564866576464&#45;&gt;135564866581072*</title>\n<path fill=\"none\" stroke=\"black\" d=\"M196.05,-128.5C206.52,-128.5 216.65,-128.5 225.71,-128.5\"/>\n<polygon fill=\"black\" stroke=\"black\" points=\"225.79,-132 235.79,-128.5 225.79,-125 225.79,-132\"/>\n</g>\n<!-- 135564866584384 -->\n<g id=\"node8\" class=\"node\">\n<title>135564866584384</title>\n<polygon fill=\"none\" stroke=\"black\" points=\"1071,-109.5 1071,-145.5 1256,-145.5 1256,-109.5 1071,-109.5\"/>\n<text text-anchor=\"middle\" x=\"1082.5\" y=\"-123.8\" font-family=\"Times,serif\" font-size=\"14.00\">n</text>\n<polyline fill=\"none\" stroke=\"black\" points=\"1094,-109.5 1094,-145.5 \"/>\n<text text-anchor=\"middle\" x=\"1134\" y=\"-123.8\" font-family=\"Times,serif\" font-size=\"14.00\">data 0.8814</text>\n<polyline fill=\"none\" stroke=\"black\" points=\"1174,-109.5 1174,-145.5 \"/>\n<text text-anchor=\"middle\" x=\"1215\" y=\"-123.8\" font-family=\"Times,serif\" font-size=\"14.00\">grad 0.5000</text>\n</g>\n<!-- 135564866584048tanh -->\n<g id=\"node15\" class=\"node\">\n<title>135564866584048tanh</title>\n<ellipse fill=\"none\" stroke=\"black\" cx=\"1319\" cy=\"-127.5\" rx=\"27\" ry=\"18\"/>\n<text text-anchor=\"middle\" x=\"1319\" y=\"-123.8\" font-family=\"Times,serif\" font-size=\"14.00\">tanh</text>\n</g>\n<!-- 135564866584384&#45;&gt;135564866584048tanh -->\n<g id=\"edge11\" class=\"edge\">\n<title>135564866584384&#45;&gt;135564866584048tanh</title>\n<path fill=\"none\" stroke=\"black\" d=\"M1256.01,-127.5C1265.01,-127.5 1273.74,-127.5 1281.66,-127.5\"/>\n<polygon fill=\"black\" stroke=\"black\" points=\"1281.91,-131 1291.91,-127.5 1281.91,-124 1281.91,-131\"/>\n</g>\n<!-- 135564866584384+&#45;&gt;135564866584384 -->\n<g id=\"edge3\" class=\"edge\">\n<title>135564866584384+&#45;&gt;135564866584384</title>\n<path fill=\"none\" stroke=\"black\" d=\"M1035.04,-127.5C1042.58,-127.5 1051.3,-127.5 1060.57,-127.5\"/>\n<polygon fill=\"black\" stroke=\"black\" points=\"1060.81,-131 1070.81,-127.5 1060.81,-124 1060.81,-131\"/>\n</g>\n<!-- 135564866571088 -->\n<g id=\"node10\" class=\"node\">\n<title>135564866571088</title>\n<polygon fill=\"none\" stroke=\"black\" points=\"326,-55.5 326,-91.5 546,-91.5 546,-55.5 326,-55.5\"/>\n<text text-anchor=\"middle\" x=\"352.5\" y=\"-69.8\" font-family=\"Times,serif\" font-size=\"14.00\">x1*w1</text>\n<polyline fill=\"none\" stroke=\"black\" points=\"379,-55.5 379,-91.5 \"/>\n<text text-anchor=\"middle\" x=\"421.5\" y=\"-69.8\" font-family=\"Times,serif\" font-size=\"14.00\">data &#45;6.0000</text>\n<polyline fill=\"none\" stroke=\"black\" points=\"464,-55.5 464,-91.5 \"/>\n<text text-anchor=\"middle\" x=\"505\" y=\"-69.8\" font-family=\"Times,serif\" font-size=\"14.00\">grad 0.5000</text>\n</g>\n<!-- 135564866571088&#45;&gt;135564866581504+ -->\n<g id=\"edge9\" class=\"edge\">\n<title>135564866571088&#45;&gt;135564866581504+</title>\n<path fill=\"none\" stroke=\"black\" d=\"M546.27,-90.75C555.64,-92.23 564.6,-93.65 572.65,-94.92\"/>\n<polygon fill=\"black\" stroke=\"black\" points=\"572.23,-98.4 582.65,-96.5 573.32,-91.48 572.23,-98.4\"/>\n</g>\n<!-- 135564866571088*&#45;&gt;135564866571088 -->\n<g id=\"edge4\" class=\"edge\">\n<title>135564866571088*&#45;&gt;135564866571088</title>\n<path fill=\"none\" stroke=\"black\" d=\"M290.34,-73.5C297.77,-73.5 306.37,-73.5 315.6,-73.5\"/>\n<polygon fill=\"black\" stroke=\"black\" points=\"315.84,-77 325.84,-73.5 315.84,-70 315.84,-77\"/>\n</g>\n<!-- 135564866580880 -->\n<g id=\"node12\" class=\"node\">\n<title>135564866580880</title>\n<polygon fill=\"none\" stroke=\"black\" points=\"716,-137.5 716,-173.5 901,-173.5 901,-137.5 716,-137.5\"/>\n<text text-anchor=\"middle\" x=\"727.5\" y=\"-151.8\" font-family=\"Times,serif\" font-size=\"14.00\">b</text>\n<polyline fill=\"none\" stroke=\"black\" points=\"739,-137.5 739,-173.5 \"/>\n<text text-anchor=\"middle\" x=\"779\" y=\"-151.8\" font-family=\"Times,serif\" font-size=\"14.00\">data 6.8814</text>\n<polyline fill=\"none\" stroke=\"black\" points=\"819,-137.5 819,-173.5 \"/>\n<text text-anchor=\"middle\" x=\"860\" y=\"-151.8\" font-family=\"Times,serif\" font-size=\"14.00\">grad 0.5000</text>\n</g>\n<!-- 135564866580880&#45;&gt;135564866584384+ -->\n<g id=\"edge6\" class=\"edge\">\n<title>135564866580880&#45;&gt;135564866584384+</title>\n<path fill=\"none\" stroke=\"black\" d=\"M901.02,-142.52C926,-138.98 951.59,-135.36 971.37,-132.55\"/>\n<polygon fill=\"black\" stroke=\"black\" points=\"972.03,-135.99 981.43,-131.12 971.04,-129.06 972.03,-135.99\"/>\n</g>\n<!-- 135564866577376 -->\n<g id=\"node13\" class=\"node\">\n<title>135564866577376</title>\n<polygon fill=\"none\" stroke=\"black\" points=\"0,-0.5 0,-36.5 200,-36.5 200,-0.5 0,-0.5\"/>\n<text text-anchor=\"middle\" x=\"16.5\" y=\"-14.8\" font-family=\"Times,serif\" font-size=\"14.00\">w1</text>\n<polyline fill=\"none\" stroke=\"black\" points=\"33,-0.5 33,-36.5 \"/>\n<text text-anchor=\"middle\" x=\"75.5\" y=\"-14.8\" font-family=\"Times,serif\" font-size=\"14.00\">data &#45;3.0000</text>\n<polyline fill=\"none\" stroke=\"black\" points=\"118,-0.5 118,-36.5 \"/>\n<text text-anchor=\"middle\" x=\"159\" y=\"-14.8\" font-family=\"Times,serif\" font-size=\"14.00\">grad 1.0000</text>\n</g>\n<!-- 135564866577376&#45;&gt;135564866571088* -->\n<g id=\"edge14\" class=\"edge\">\n<title>135564866577376&#45;&gt;135564866571088*</title>\n<path fill=\"none\" stroke=\"black\" d=\"M169.28,-36.5C179.65,-39.61 190.16,-42.98 200,-46.5 210.28,-50.17 221.28,-54.74 231.11,-59.07\"/>\n<polygon fill=\"black\" stroke=\"black\" points=\"229.93,-62.37 240.48,-63.27 232.79,-55.99 229.93,-62.37\"/>\n</g>\n<!-- 135564866584048 -->\n<g id=\"node14\" class=\"node\">\n<title>135564866584048</title>\n<polygon fill=\"none\" stroke=\"black\" points=\"1382,-109.5 1382,-145.5 1567,-145.5 1567,-109.5 1382,-109.5\"/>\n<text text-anchor=\"middle\" x=\"1393.5\" y=\"-123.8\" font-family=\"Times,serif\" font-size=\"14.00\">o</text>\n<polyline fill=\"none\" stroke=\"black\" points=\"1405,-109.5 1405,-145.5 \"/>\n<text text-anchor=\"middle\" x=\"1445\" y=\"-123.8\" font-family=\"Times,serif\" font-size=\"14.00\">data 0.7071</text>\n<polyline fill=\"none\" stroke=\"black\" points=\"1485,-109.5 1485,-145.5 \"/>\n<text text-anchor=\"middle\" x=\"1526\" y=\"-123.8\" font-family=\"Times,serif\" font-size=\"14.00\">grad 1.0000</text>\n</g>\n<!-- 135564866584048tanh&#45;&gt;135564866584048 -->\n<g id=\"edge5\" class=\"edge\">\n<title>135564866584048tanh&#45;&gt;135564866584048</title>\n<path fill=\"none\" stroke=\"black\" d=\"M1346.04,-127.5C1353.58,-127.5 1362.3,-127.5 1371.57,-127.5\"/>\n<polygon fill=\"black\" stroke=\"black\" points=\"1371.81,-131 1381.81,-127.5 1371.81,-124 1371.81,-131\"/>\n</g>\n</g>\n</svg>\n",
            "text/plain": [
              "<graphviz.graphs.Digraph at 0x7b4ba7b748b0>"
            ]
          },
          "execution_count": 36,
          "metadata": {},
          "output_type": "execute_result"
        }
      ],
      "source": [
        "draw_dot(o)"
      ]
    },
    {
      "cell_type": "code",
      "execution_count": null,
      "metadata": {
        "colab": {
          "background_save": true,
          "base_uri": "https://localhost:8080/",
          "height": 321
        },
        "id": "AQPA4U7HN-7C",
        "outputId": "41b269b3-a081-4f18-a2a2-59782973aa1b"
      },
      "outputs": [
        {
          "data": {
            "image/svg+xml": "<?xml version=\"1.0\" encoding=\"UTF-8\" standalone=\"no\"?>\n<!DOCTYPE svg PUBLIC \"-//W3C//DTD SVG 1.1//EN\"\n \"http://www.w3.org/Graphics/SVG/1.1/DTD/svg11.dtd\">\n<!-- Generated by graphviz version 2.43.0 (0)\n -->\n<!-- Title: %3 Pages: 1 -->\n<svg width=\"2944pt\" height=\"210pt\"\n viewBox=\"0.00 0.00 2944.00 210.00\" xmlns=\"http://www.w3.org/2000/svg\" xmlns:xlink=\"http://www.w3.org/1999/xlink\">\n<g id=\"graph0\" class=\"graph\" transform=\"scale(1 1) rotate(0) translate(4 206)\">\n<title>%3</title>\n<polygon fill=\"white\" stroke=\"transparent\" points=\"-4,4 -4,-206 2940,-206 2940,4 -4,4\"/>\n<!-- 135564866572288 -->\n<g id=\"node1\" class=\"node\">\n<title>135564866572288</title>\n<polygon fill=\"none\" stroke=\"black\" points=\"1690,-136.5 1690,-172.5 1877,-172.5 1877,-136.5 1690,-136.5\"/>\n<text text-anchor=\"middle\" x=\"1700\" y=\"-150.8\" font-family=\"Times,serif\" font-size=\"14.00\"> </text>\n<polyline fill=\"none\" stroke=\"black\" points=\"1710,-136.5 1710,-172.5 \"/>\n<text text-anchor=\"middle\" x=\"1752.5\" y=\"-150.8\" font-family=\"Times,serif\" font-size=\"14.00\">data &#45;1.0000</text>\n<polyline fill=\"none\" stroke=\"black\" points=\"1795,-136.5 1795,-172.5 \"/>\n<text text-anchor=\"middle\" x=\"1836\" y=\"-150.8\" font-family=\"Times,serif\" font-size=\"14.00\">grad 0.1464</text>\n</g>\n<!-- 135564866576704+ -->\n<g id=\"node18\" class=\"node\">\n<title>135564866576704+</title>\n<ellipse fill=\"none\" stroke=\"black\" cx=\"1940\" cy=\"-126.5\" rx=\"27\" ry=\"18\"/>\n<text text-anchor=\"middle\" x=\"1940\" y=\"-122.8\" font-family=\"Times,serif\" font-size=\"14.00\">+</text>\n</g>\n<!-- 135564866572288&#45;&gt;135564866576704+ -->\n<g id=\"edge21\" class=\"edge\">\n<title>135564866572288&#45;&gt;135564866576704+</title>\n<path fill=\"none\" stroke=\"black\" d=\"M1877.05,-137.73C1886.54,-136.01 1895.71,-134.35 1903.95,-132.85\"/>\n<polygon fill=\"black\" stroke=\"black\" points=\"1904.64,-136.28 1913.85,-131.06 1903.39,-129.4 1904.64,-136.28\"/>\n</g>\n<!-- 135564866578960 -->\n<g id=\"node2\" class=\"node\">\n<title>135564866578960</title>\n<polygon fill=\"none\" stroke=\"black\" points=\"1690.5,-26.5 1690.5,-62.5 1876.5,-62.5 1876.5,-26.5 1690.5,-26.5\"/>\n<text text-anchor=\"middle\" x=\"1700.5\" y=\"-40.8\" font-family=\"Times,serif\" font-size=\"14.00\"> </text>\n<polyline fill=\"none\" stroke=\"black\" points=\"1710.5,-26.5 1710.5,-62.5 \"/>\n<text text-anchor=\"middle\" x=\"1750.5\" y=\"-40.8\" font-family=\"Times,serif\" font-size=\"14.00\">data 1.0000</text>\n<polyline fill=\"none\" stroke=\"black\" points=\"1790.5,-26.5 1790.5,-62.5 \"/>\n<text text-anchor=\"middle\" x=\"1833.5\" y=\"-40.8\" font-family=\"Times,serif\" font-size=\"14.00\">grad &#45;0.1036</text>\n</g>\n<!-- 135564866582800+ -->\n<g id=\"node10\" class=\"node\">\n<title>135564866582800+</title>\n<ellipse fill=\"none\" stroke=\"black\" cx=\"1940\" cy=\"-71.5\" rx=\"27\" ry=\"18\"/>\n<text text-anchor=\"middle\" x=\"1940\" y=\"-67.8\" font-family=\"Times,serif\" font-size=\"14.00\">+</text>\n</g>\n<!-- 135564866578960&#45;&gt;135564866582800+ -->\n<g id=\"edge12\" class=\"edge\">\n<title>135564866578960&#45;&gt;135564866582800+</title>\n<path fill=\"none\" stroke=\"black\" d=\"M1876.6,-60.6C1886.15,-62.26 1895.37,-63.88 1903.68,-65.33\"/>\n<polygon fill=\"black\" stroke=\"black\" points=\"1903.2,-68.8 1913.65,-67.07 1904.4,-61.9 1903.2,-68.8\"/>\n</g>\n<!-- 135564866579536 -->\n<g id=\"node3\" class=\"node\">\n<title>135564866579536</title>\n<polygon fill=\"none\" stroke=\"black\" points=\"1072.5,-109.5 1072.5,-145.5 1254.5,-145.5 1254.5,-109.5 1072.5,-109.5\"/>\n<text text-anchor=\"middle\" x=\"1082.5\" y=\"-123.8\" font-family=\"Times,serif\" font-size=\"14.00\"> </text>\n<polyline fill=\"none\" stroke=\"black\" points=\"1092.5,-109.5 1092.5,-145.5 \"/>\n<text text-anchor=\"middle\" x=\"1132.5\" y=\"-123.8\" font-family=\"Times,serif\" font-size=\"14.00\">data 2.0000</text>\n<polyline fill=\"none\" stroke=\"black\" points=\"1172.5,-109.5 1172.5,-145.5 \"/>\n<text text-anchor=\"middle\" x=\"1213.5\" y=\"-123.8\" font-family=\"Times,serif\" font-size=\"14.00\">grad 0.2203</text>\n</g>\n<!-- 135564866572048* -->\n<g id=\"node12\" class=\"node\">\n<title>135564866572048*</title>\n<ellipse fill=\"none\" stroke=\"black\" cx=\"1319\" cy=\"-99.5\" rx=\"27\" ry=\"18\"/>\n<text text-anchor=\"middle\" x=\"1319\" y=\"-95.8\" font-family=\"Times,serif\" font-size=\"14.00\">*</text>\n</g>\n<!-- 135564866579536&#45;&gt;135564866572048* -->\n<g id=\"edge28\" class=\"edge\">\n<title>135564866579536&#45;&gt;135564866572048*</title>\n<path fill=\"none\" stroke=\"black\" d=\"M1254.68,-111.05C1264.61,-109.24 1274.23,-107.48 1282.84,-105.91\"/>\n<polygon fill=\"black\" stroke=\"black\" points=\"1283.6,-109.33 1292.81,-104.09 1282.35,-102.45 1283.6,-109.33\"/>\n</g>\n<!-- 135564866574448 -->\n<g id=\"node4\" class=\"node\">\n<title>135564866574448</title>\n<polygon fill=\"none\" stroke=\"black\" points=\"1071,-54.5 1071,-90.5 1256,-90.5 1256,-54.5 1071,-54.5\"/>\n<text text-anchor=\"middle\" x=\"1082.5\" y=\"-68.8\" font-family=\"Times,serif\" font-size=\"14.00\">n</text>\n<polyline fill=\"none\" stroke=\"black\" points=\"1094,-54.5 1094,-90.5 \"/>\n<text text-anchor=\"middle\" x=\"1134\" y=\"-68.8\" font-family=\"Times,serif\" font-size=\"14.00\">data 0.8814</text>\n<polyline fill=\"none\" stroke=\"black\" points=\"1174,-54.5 1174,-90.5 \"/>\n<text text-anchor=\"middle\" x=\"1215\" y=\"-68.8\" font-family=\"Times,serif\" font-size=\"14.00\">grad 0.5000</text>\n</g>\n<!-- 135564866574448&#45;&gt;135564866572048* -->\n<g id=\"edge13\" class=\"edge\">\n<title>135564866574448&#45;&gt;135564866572048*</title>\n<path fill=\"none\" stroke=\"black\" d=\"M1256.01,-88.6C1265.49,-90.26 1274.66,-91.88 1282.9,-93.33\"/>\n<polygon fill=\"black\" stroke=\"black\" points=\"1282.36,-96.78 1292.81,-95.07 1283.57,-89.89 1282.36,-96.78\"/>\n</g>\n<!-- 135564866574448+ -->\n<g id=\"node5\" class=\"node\">\n<title>135564866574448+</title>\n<ellipse fill=\"none\" stroke=\"black\" cx=\"1008\" cy=\"-72.5\" rx=\"27\" ry=\"18\"/>\n<text text-anchor=\"middle\" x=\"1008\" y=\"-68.8\" font-family=\"Times,serif\" font-size=\"14.00\">+</text>\n</g>\n<!-- 135564866574448+&#45;&gt;135564866574448 -->\n<g id=\"edge1\" class=\"edge\">\n<title>135564866574448+&#45;&gt;135564866574448</title>\n<path fill=\"none\" stroke=\"black\" d=\"M1035.04,-72.5C1042.58,-72.5 1051.3,-72.5 1060.57,-72.5\"/>\n<polygon fill=\"black\" stroke=\"black\" points=\"1060.81,-76 1070.81,-72.5 1060.81,-69 1060.81,-76\"/>\n</g>\n<!-- 135564866571904 -->\n<g id=\"node6\" class=\"node\">\n<title>135564866571904</title>\n<polygon fill=\"none\" stroke=\"black\" points=\"1692.5,-81.5 1692.5,-117.5 1874.5,-117.5 1874.5,-81.5 1692.5,-81.5\"/>\n<text text-anchor=\"middle\" x=\"1702.5\" y=\"-95.8\" font-family=\"Times,serif\" font-size=\"14.00\"> </text>\n<polyline fill=\"none\" stroke=\"black\" points=\"1712.5,-81.5 1712.5,-117.5 \"/>\n<text text-anchor=\"middle\" x=\"1752.5\" y=\"-95.8\" font-family=\"Times,serif\" font-size=\"14.00\">data 5.8284</text>\n<polyline fill=\"none\" stroke=\"black\" points=\"1792.5,-81.5 1792.5,-117.5 \"/>\n<text text-anchor=\"middle\" x=\"1833.5\" y=\"-95.8\" font-family=\"Times,serif\" font-size=\"14.00\">grad 0.0429</text>\n</g>\n<!-- 135564866571904&#45;&gt;135564866582800+ -->\n<g id=\"edge17\" class=\"edge\">\n<title>135564866571904&#45;&gt;135564866582800+</title>\n<path fill=\"none\" stroke=\"black\" d=\"M1874.82,-83.13C1885.07,-81.27 1895.01,-79.47 1903.88,-77.87\"/>\n<polygon fill=\"black\" stroke=\"black\" points=\"1904.54,-81.3 1913.75,-76.08 1903.29,-74.42 1904.54,-81.3\"/>\n</g>\n<!-- 135564866571904&#45;&gt;135564866576704+ -->\n<g id=\"edge27\" class=\"edge\">\n<title>135564866571904&#45;&gt;135564866576704+</title>\n<path fill=\"none\" stroke=\"black\" d=\"M1874.82,-115.28C1885.07,-117.08 1895.01,-118.81 1903.88,-120.36\"/>\n<polygon fill=\"black\" stroke=\"black\" points=\"1903.3,-123.81 1913.75,-122.09 1904.5,-116.92 1903.3,-123.81\"/>\n</g>\n<!-- 135564866571904exp -->\n<g id=\"node7\" class=\"node\">\n<title>135564866571904exp</title>\n<ellipse fill=\"none\" stroke=\"black\" cx=\"1627\" cy=\"-99.5\" rx=\"27\" ry=\"18\"/>\n<text text-anchor=\"middle\" x=\"1627\" y=\"-95.8\" font-family=\"Times,serif\" font-size=\"14.00\">exp</text>\n</g>\n<!-- 135564866571904exp&#45;&gt;135564866571904 -->\n<g id=\"edge2\" class=\"edge\">\n<title>135564866571904exp&#45;&gt;135564866571904</title>\n<path fill=\"none\" stroke=\"black\" d=\"M1654.21,-99.5C1662.34,-99.5 1671.85,-99.5 1681.94,-99.5\"/>\n<polygon fill=\"black\" stroke=\"black\" points=\"1682.19,-103 1692.19,-99.5 1682.19,-96 1682.19,-103\"/>\n</g>\n<!-- 135564866576608 -->\n<g id=\"node8\" class=\"node\">\n<title>135564866576608</title>\n<polygon fill=\"none\" stroke=\"black\" points=\"2.5,-165.5 2.5,-201.5 197.5,-201.5 197.5,-165.5 2.5,-165.5\"/>\n<text text-anchor=\"middle\" x=\"19\" y=\"-179.8\" font-family=\"Times,serif\" font-size=\"14.00\">w2</text>\n<polyline fill=\"none\" stroke=\"black\" points=\"35.5,-165.5 35.5,-201.5 \"/>\n<text text-anchor=\"middle\" x=\"75.5\" y=\"-179.8\" font-family=\"Times,serif\" font-size=\"14.00\">data 1.0000</text>\n<polyline fill=\"none\" stroke=\"black\" points=\"115.5,-165.5 115.5,-201.5 \"/>\n<text text-anchor=\"middle\" x=\"156.5\" y=\"-179.8\" font-family=\"Times,serif\" font-size=\"14.00\">grad 0.0000</text>\n</g>\n<!-- 135564866575264* -->\n<g id=\"node26\" class=\"node\">\n<title>135564866575264*</title>\n<ellipse fill=\"none\" stroke=\"black\" cx=\"263\" cy=\"-128.5\" rx=\"27\" ry=\"18\"/>\n<text text-anchor=\"middle\" x=\"263\" y=\"-124.8\" font-family=\"Times,serif\" font-size=\"14.00\">*</text>\n</g>\n<!-- 135564866576608&#45;&gt;135564866575264* -->\n<g id=\"edge14\" class=\"edge\">\n<title>135564866576608&#45;&gt;135564866575264*</title>\n<path fill=\"none\" stroke=\"black\" d=\"M172.53,-165.44C181.84,-162.67 191.2,-159.67 200,-156.5 210.53,-152.71 221.75,-147.9 231.72,-143.33\"/>\n<polygon fill=\"black\" stroke=\"black\" points=\"233.25,-146.48 240.82,-139.07 230.28,-140.14 233.25,-146.48\"/>\n</g>\n<!-- 135564866582800 -->\n<g id=\"node9\" class=\"node\">\n<title>135564866582800</title>\n<polygon fill=\"none\" stroke=\"black\" points=\"2003,-53.5 2003,-89.5 2189,-89.5 2189,-53.5 2003,-53.5\"/>\n<text text-anchor=\"middle\" x=\"2013\" y=\"-67.8\" font-family=\"Times,serif\" font-size=\"14.00\"> </text>\n<polyline fill=\"none\" stroke=\"black\" points=\"2023,-53.5 2023,-89.5 \"/>\n<text text-anchor=\"middle\" x=\"2063\" y=\"-67.8\" font-family=\"Times,serif\" font-size=\"14.00\">data 6.8284</text>\n<polyline fill=\"none\" stroke=\"black\" points=\"2103,-53.5 2103,-89.5 \"/>\n<text text-anchor=\"middle\" x=\"2146\" y=\"-67.8\" font-family=\"Times,serif\" font-size=\"14.00\">grad &#45;0.1036</text>\n</g>\n<!-- 135564866577232**&#45;1 -->\n<g id=\"node24\" class=\"node\">\n<title>135564866577232**&#45;1</title>\n<ellipse fill=\"none\" stroke=\"black\" cx=\"2316\" cy=\"-71.5\" rx=\"27\" ry=\"18\"/>\n<text text-anchor=\"middle\" x=\"2316\" y=\"-67.8\" font-family=\"Times,serif\" font-size=\"14.00\">**&#45;1</text>\n</g>\n<!-- 135564866582800&#45;&gt;135564866577232**&#45;1 -->\n<g id=\"edge16\" class=\"edge\">\n<title>135564866582800&#45;&gt;135564866577232**&#45;1</title>\n<path fill=\"none\" stroke=\"black\" d=\"M2189.14,-71.5C2220.72,-71.5 2254.24,-71.5 2278.74,-71.5\"/>\n<polygon fill=\"black\" stroke=\"black\" points=\"2278.98,-75 2288.98,-71.5 2278.98,-68 2278.98,-75\"/>\n</g>\n<!-- 135564866582800+&#45;&gt;135564866582800 -->\n<g id=\"edge3\" class=\"edge\">\n<title>135564866582800+&#45;&gt;135564866582800</title>\n<path fill=\"none\" stroke=\"black\" d=\"M1967.12,-71.5C1974.62,-71.5 1983.29,-71.5 1992.5,-71.5\"/>\n<polygon fill=\"black\" stroke=\"black\" points=\"1992.69,-75 2002.69,-71.5 1992.69,-68 1992.69,-75\"/>\n</g>\n<!-- 135564866572048 -->\n<g id=\"node11\" class=\"node\">\n<title>135564866572048</title>\n<polygon fill=\"none\" stroke=\"black\" points=\"1382,-81.5 1382,-117.5 1564,-117.5 1564,-81.5 1382,-81.5\"/>\n<text text-anchor=\"middle\" x=\"1392\" y=\"-95.8\" font-family=\"Times,serif\" font-size=\"14.00\"> </text>\n<polyline fill=\"none\" stroke=\"black\" points=\"1402,-81.5 1402,-117.5 \"/>\n<text text-anchor=\"middle\" x=\"1442\" y=\"-95.8\" font-family=\"Times,serif\" font-size=\"14.00\">data 1.7627</text>\n<polyline fill=\"none\" stroke=\"black\" points=\"1482,-81.5 1482,-117.5 \"/>\n<text text-anchor=\"middle\" x=\"1523\" y=\"-95.8\" font-family=\"Times,serif\" font-size=\"14.00\">grad 0.2500</text>\n</g>\n<!-- 135564866572048&#45;&gt;135564866571904exp -->\n<g id=\"edge11\" class=\"edge\">\n<title>135564866572048&#45;&gt;135564866571904exp</title>\n<path fill=\"none\" stroke=\"black\" d=\"M1564.18,-99.5C1573.14,-99.5 1581.83,-99.5 1589.73,-99.5\"/>\n<polygon fill=\"black\" stroke=\"black\" points=\"1589.96,-103 1599.96,-99.5 1589.96,-96 1589.96,-103\"/>\n</g>\n<!-- 135564866572048*&#45;&gt;135564866572048 -->\n<g id=\"edge4\" class=\"edge\">\n<title>135564866572048*&#45;&gt;135564866572048</title>\n<path fill=\"none\" stroke=\"black\" d=\"M1346.13,-99.5C1353.67,-99.5 1362.39,-99.5 1371.64,-99.5\"/>\n<polygon fill=\"black\" stroke=\"black\" points=\"1371.87,-103 1381.87,-99.5 1371.87,-96 1371.87,-103\"/>\n</g>\n<!-- 135564866571040 -->\n<g id=\"node13\" class=\"node\">\n<title>135564866571040</title>\n<polygon fill=\"none\" stroke=\"black\" points=\"672,-82.5 672,-118.5 945,-118.5 945,-82.5 672,-82.5\"/>\n<text text-anchor=\"middle\" x=\"725\" y=\"-96.8\" font-family=\"Times,serif\" font-size=\"14.00\">x1*w1 + x2*w2</text>\n<polyline fill=\"none\" stroke=\"black\" points=\"778,-82.5 778,-118.5 \"/>\n<text text-anchor=\"middle\" x=\"820.5\" y=\"-96.8\" font-family=\"Times,serif\" font-size=\"14.00\">data &#45;6.0000</text>\n<polyline fill=\"none\" stroke=\"black\" points=\"863,-82.5 863,-118.5 \"/>\n<text text-anchor=\"middle\" x=\"904\" y=\"-96.8\" font-family=\"Times,serif\" font-size=\"14.00\">grad 0.5000</text>\n</g>\n<!-- 135564866571040&#45;&gt;135564866574448+ -->\n<g id=\"edge18\" class=\"edge\">\n<title>135564866571040&#45;&gt;135564866574448+</title>\n<path fill=\"none\" stroke=\"black\" d=\"M936.53,-82.49C949.09,-80.71 960.99,-79.02 971.3,-77.56\"/>\n<polygon fill=\"black\" stroke=\"black\" points=\"972.03,-80.99 981.44,-76.12 971.05,-74.06 972.03,-80.99\"/>\n</g>\n<!-- 135564866571040+ -->\n<g id=\"node14\" class=\"node\">\n<title>135564866571040+</title>\n<ellipse fill=\"none\" stroke=\"black\" cx=\"609\" cy=\"-100.5\" rx=\"27\" ry=\"18\"/>\n<text text-anchor=\"middle\" x=\"609\" y=\"-96.8\" font-family=\"Times,serif\" font-size=\"14.00\">+</text>\n</g>\n<!-- 135564866571040+&#45;&gt;135564866571040 -->\n<g id=\"edge5\" class=\"edge\">\n<title>135564866571040+&#45;&gt;135564866571040</title>\n<path fill=\"none\" stroke=\"black\" d=\"M636.23,-100.5C643.7,-100.5 652.41,-100.5 661.87,-100.5\"/>\n<polygon fill=\"black\" stroke=\"black\" points=\"661.98,-104 671.98,-100.5 661.98,-97 661.98,-104\"/>\n</g>\n<!-- 135564866571568 -->\n<g id=\"node15\" class=\"node\">\n<title>135564866571568</title>\n<polygon fill=\"none\" stroke=\"black\" points=\"2751,-80.5 2751,-116.5 2936,-116.5 2936,-80.5 2751,-80.5\"/>\n<text text-anchor=\"middle\" x=\"2762.5\" y=\"-94.8\" font-family=\"Times,serif\" font-size=\"14.00\">o</text>\n<polyline fill=\"none\" stroke=\"black\" points=\"2774,-80.5 2774,-116.5 \"/>\n<text text-anchor=\"middle\" x=\"2814\" y=\"-94.8\" font-family=\"Times,serif\" font-size=\"14.00\">data 0.7071</text>\n<polyline fill=\"none\" stroke=\"black\" points=\"2854,-80.5 2854,-116.5 \"/>\n<text text-anchor=\"middle\" x=\"2895\" y=\"-94.8\" font-family=\"Times,serif\" font-size=\"14.00\">grad 1.0000</text>\n</g>\n<!-- 135564866571568* -->\n<g id=\"node16\" class=\"node\">\n<title>135564866571568*</title>\n<ellipse fill=\"none\" stroke=\"black\" cx=\"2688\" cy=\"-98.5\" rx=\"27\" ry=\"18\"/>\n<text text-anchor=\"middle\" x=\"2688\" y=\"-94.8\" font-family=\"Times,serif\" font-size=\"14.00\">*</text>\n</g>\n<!-- 135564866571568*&#45;&gt;135564866571568 -->\n<g id=\"edge6\" class=\"edge\">\n<title>135564866571568*&#45;&gt;135564866571568</title>\n<path fill=\"none\" stroke=\"black\" d=\"M2715.04,-98.5C2722.58,-98.5 2731.3,-98.5 2740.57,-98.5\"/>\n<polygon fill=\"black\" stroke=\"black\" points=\"2740.81,-102 2750.81,-98.5 2740.81,-95 2740.81,-102\"/>\n</g>\n<!-- 135564866576704 -->\n<g id=\"node17\" class=\"node\">\n<title>135564866576704</title>\n<polygon fill=\"none\" stroke=\"black\" points=\"2225,-108.5 2225,-144.5 2407,-144.5 2407,-108.5 2225,-108.5\"/>\n<text text-anchor=\"middle\" x=\"2235\" y=\"-122.8\" font-family=\"Times,serif\" font-size=\"14.00\"> </text>\n<polyline fill=\"none\" stroke=\"black\" points=\"2245,-108.5 2245,-144.5 \"/>\n<text text-anchor=\"middle\" x=\"2285\" y=\"-122.8\" font-family=\"Times,serif\" font-size=\"14.00\">data 4.8284</text>\n<polyline fill=\"none\" stroke=\"black\" points=\"2325,-108.5 2325,-144.5 \"/>\n<text text-anchor=\"middle\" x=\"2366\" y=\"-122.8\" font-family=\"Times,serif\" font-size=\"14.00\">grad 0.1464</text>\n</g>\n<!-- 135564866576704&#45;&gt;135564866571568* -->\n<g id=\"edge19\" class=\"edge\">\n<title>135564866576704&#45;&gt;135564866571568*</title>\n<path fill=\"none\" stroke=\"black\" d=\"M2407.31,-119.9C2468.7,-115.37 2551.76,-109.19 2625,-103.5 2633.42,-102.85 2642.48,-102.13 2651.01,-101.44\"/>\n<polygon fill=\"black\" stroke=\"black\" points=\"2651.37,-104.92 2661.06,-100.63 2650.81,-97.94 2651.37,-104.92\"/>\n</g>\n<!-- 135564866576704+&#45;&gt;135564866576704 -->\n<g id=\"edge7\" class=\"edge\">\n<title>135564866576704+&#45;&gt;135564866576704</title>\n<path fill=\"none\" stroke=\"black\" d=\"M1967,-126.5C2017.46,-126.5 2131.06,-126.5 2214.81,-126.5\"/>\n<polygon fill=\"black\" stroke=\"black\" points=\"2214.87,-130 2224.87,-126.5 2214.87,-123 2214.87,-130\"/>\n</g>\n<!-- 135564866582320 -->\n<g id=\"node19\" class=\"node\">\n<title>135564866582320</title>\n<polygon fill=\"none\" stroke=\"black\" points=\"4,-110.5 4,-146.5 196,-146.5 196,-110.5 4,-110.5\"/>\n<text text-anchor=\"middle\" x=\"19\" y=\"-124.8\" font-family=\"Times,serif\" font-size=\"14.00\">x2</text>\n<polyline fill=\"none\" stroke=\"black\" points=\"34,-110.5 34,-146.5 \"/>\n<text text-anchor=\"middle\" x=\"74\" y=\"-124.8\" font-family=\"Times,serif\" font-size=\"14.00\">data 0.0000</text>\n<polyline fill=\"none\" stroke=\"black\" points=\"114,-110.5 114,-146.5 \"/>\n<text text-anchor=\"middle\" x=\"155\" y=\"-124.8\" font-family=\"Times,serif\" font-size=\"14.00\">grad 0.5000</text>\n</g>\n<!-- 135564866582320&#45;&gt;135564866575264* -->\n<g id=\"edge26\" class=\"edge\">\n<title>135564866582320&#45;&gt;135564866575264*</title>\n<path fill=\"none\" stroke=\"black\" d=\"M196.05,-128.5C206.52,-128.5 216.65,-128.5 225.71,-128.5\"/>\n<polygon fill=\"black\" stroke=\"black\" points=\"225.79,-132 235.79,-128.5 225.79,-125 225.79,-132\"/>\n</g>\n<!-- 135564866572624 -->\n<g id=\"node20\" class=\"node\">\n<title>135564866572624</title>\n<polygon fill=\"none\" stroke=\"black\" points=\"2,-55.5 2,-91.5 198,-91.5 198,-55.5 2,-55.5\"/>\n<text text-anchor=\"middle\" x=\"17\" y=\"-69.8\" font-family=\"Times,serif\" font-size=\"14.00\">x1</text>\n<polyline fill=\"none\" stroke=\"black\" points=\"32,-55.5 32,-91.5 \"/>\n<text text-anchor=\"middle\" x=\"72\" y=\"-69.8\" font-family=\"Times,serif\" font-size=\"14.00\">data 2.0000</text>\n<polyline fill=\"none\" stroke=\"black\" points=\"112,-55.5 112,-91.5 \"/>\n<text text-anchor=\"middle\" x=\"155\" y=\"-69.8\" font-family=\"Times,serif\" font-size=\"14.00\">grad &#45;1.5000</text>\n</g>\n<!-- 135564866575792* -->\n<g id=\"node28\" class=\"node\">\n<title>135564866575792*</title>\n<ellipse fill=\"none\" stroke=\"black\" cx=\"263\" cy=\"-73.5\" rx=\"27\" ry=\"18\"/>\n<text text-anchor=\"middle\" x=\"263\" y=\"-69.8\" font-family=\"Times,serif\" font-size=\"14.00\">*</text>\n</g>\n<!-- 135564866572624&#45;&gt;135564866575792* -->\n<g id=\"edge23\" class=\"edge\">\n<title>135564866572624&#45;&gt;135564866575792*</title>\n<path fill=\"none\" stroke=\"black\" d=\"M198.37,-73.5C208.05,-73.5 217.4,-73.5 225.8,-73.5\"/>\n<polygon fill=\"black\" stroke=\"black\" points=\"225.91,-77 235.91,-73.5 225.91,-70 225.91,-77\"/>\n</g>\n<!-- 135564866576752 -->\n<g id=\"node21\" class=\"node\">\n<title>135564866576752</title>\n<polygon fill=\"none\" stroke=\"black\" points=\"0,-0.5 0,-36.5 200,-36.5 200,-0.5 0,-0.5\"/>\n<text text-anchor=\"middle\" x=\"16.5\" y=\"-14.8\" font-family=\"Times,serif\" font-size=\"14.00\">w1</text>\n<polyline fill=\"none\" stroke=\"black\" points=\"33,-0.5 33,-36.5 \"/>\n<text text-anchor=\"middle\" x=\"75.5\" y=\"-14.8\" font-family=\"Times,serif\" font-size=\"14.00\">data &#45;3.0000</text>\n<polyline fill=\"none\" stroke=\"black\" points=\"118,-0.5 118,-36.5 \"/>\n<text text-anchor=\"middle\" x=\"159\" y=\"-14.8\" font-family=\"Times,serif\" font-size=\"14.00\">grad 1.0000</text>\n</g>\n<!-- 135564866576752&#45;&gt;135564866575792* -->\n<g id=\"edge22\" class=\"edge\">\n<title>135564866576752&#45;&gt;135564866575792*</title>\n<path fill=\"none\" stroke=\"black\" d=\"M172.53,-36.56C181.84,-39.33 191.2,-42.33 200,-45.5 210.53,-49.29 221.75,-54.1 231.72,-58.67\"/>\n<polygon fill=\"black\" stroke=\"black\" points=\"230.28,-61.86 240.82,-62.93 233.25,-55.52 230.28,-61.86\"/>\n</g>\n<!-- 135564866581840 -->\n<g id=\"node22\" class=\"node\">\n<title>135564866581840</title>\n<polygon fill=\"none\" stroke=\"black\" points=\"716,-27.5 716,-63.5 901,-63.5 901,-27.5 716,-27.5\"/>\n<text text-anchor=\"middle\" x=\"727.5\" y=\"-41.8\" font-family=\"Times,serif\" font-size=\"14.00\">b</text>\n<polyline fill=\"none\" stroke=\"black\" points=\"739,-27.5 739,-63.5 \"/>\n<text text-anchor=\"middle\" x=\"779\" y=\"-41.8\" font-family=\"Times,serif\" font-size=\"14.00\">data 6.8814</text>\n<polyline fill=\"none\" stroke=\"black\" points=\"819,-27.5 819,-63.5 \"/>\n<text text-anchor=\"middle\" x=\"860\" y=\"-41.8\" font-family=\"Times,serif\" font-size=\"14.00\">grad 0.5000</text>\n</g>\n<!-- 135564866581840&#45;&gt;135564866574448+ -->\n<g id=\"edge15\" class=\"edge\">\n<title>135564866581840&#45;&gt;135564866574448+</title>\n<path fill=\"none\" stroke=\"black\" d=\"M901.02,-58.01C926,-61.43 951.59,-64.93 971.37,-67.63\"/>\n<polygon fill=\"black\" stroke=\"black\" points=\"971.05,-71.12 981.43,-69.01 972,-64.18 971.05,-71.12\"/>\n</g>\n<!-- 135564866577232 -->\n<g id=\"node23\" class=\"node\">\n<title>135564866577232</title>\n<polygon fill=\"none\" stroke=\"black\" points=\"2443,-57.5 2443,-93.5 2625,-93.5 2625,-57.5 2443,-57.5\"/>\n<text text-anchor=\"middle\" x=\"2453\" y=\"-71.8\" font-family=\"Times,serif\" font-size=\"14.00\"> </text>\n<polyline fill=\"none\" stroke=\"black\" points=\"2463,-57.5 2463,-93.5 \"/>\n<text text-anchor=\"middle\" x=\"2503\" y=\"-71.8\" font-family=\"Times,serif\" font-size=\"14.00\">data 0.1464</text>\n<polyline fill=\"none\" stroke=\"black\" points=\"2543,-57.5 2543,-93.5 \"/>\n<text text-anchor=\"middle\" x=\"2584\" y=\"-71.8\" font-family=\"Times,serif\" font-size=\"14.00\">grad 4.8284</text>\n</g>\n<!-- 135564866577232&#45;&gt;135564866571568* -->\n<g id=\"edge20\" class=\"edge\">\n<title>135564866577232&#45;&gt;135564866571568*</title>\n<path fill=\"none\" stroke=\"black\" d=\"M2625.18,-89.15C2634.42,-90.54 2643.38,-91.9 2651.47,-93.12\"/>\n<polygon fill=\"black\" stroke=\"black\" points=\"2651.15,-96.61 2661.56,-94.65 2652.19,-89.69 2651.15,-96.61\"/>\n</g>\n<!-- 135564866577232**&#45;1&#45;&gt;135564866577232 -->\n<g id=\"edge8\" class=\"edge\">\n<title>135564866577232**&#45;1&#45;&gt;135564866577232</title>\n<path fill=\"none\" stroke=\"black\" d=\"M2343.05,-71.98C2365.53,-72.4 2399.48,-73.03 2432.5,-73.64\"/>\n<polygon fill=\"black\" stroke=\"black\" points=\"2432.64,-77.14 2442.7,-73.83 2432.77,-70.14 2432.64,-77.14\"/>\n</g>\n<!-- 135564866575264 -->\n<g id=\"node25\" class=\"node\">\n<title>135564866575264</title>\n<polygon fill=\"none\" stroke=\"black\" points=\"328.5,-110.5 328.5,-146.5 543.5,-146.5 543.5,-110.5 328.5,-110.5\"/>\n<text text-anchor=\"middle\" x=\"355\" y=\"-124.8\" font-family=\"Times,serif\" font-size=\"14.00\">x2*w2</text>\n<polyline fill=\"none\" stroke=\"black\" points=\"381.5,-110.5 381.5,-146.5 \"/>\n<text text-anchor=\"middle\" x=\"421.5\" y=\"-124.8\" font-family=\"Times,serif\" font-size=\"14.00\">data 0.0000</text>\n<polyline fill=\"none\" stroke=\"black\" points=\"461.5,-110.5 461.5,-146.5 \"/>\n<text text-anchor=\"middle\" x=\"502.5\" y=\"-124.8\" font-family=\"Times,serif\" font-size=\"14.00\">grad 0.5000</text>\n</g>\n<!-- 135564866575264&#45;&gt;135564866571040+ -->\n<g id=\"edge24\" class=\"edge\">\n<title>135564866575264&#45;&gt;135564866571040+</title>\n<path fill=\"none\" stroke=\"black\" d=\"M543.84,-111.01C554.01,-109.34 563.76,-107.74 572.44,-106.32\"/>\n<polygon fill=\"black\" stroke=\"black\" points=\"573.17,-109.75 582.47,-104.68 572.04,-102.84 573.17,-109.75\"/>\n</g>\n<!-- 135564866575264*&#45;&gt;135564866575264 -->\n<g id=\"edge9\" class=\"edge\">\n<title>135564866575264*&#45;&gt;135564866575264</title>\n<path fill=\"none\" stroke=\"black\" d=\"M290.34,-128.5C298.51,-128.5 308.08,-128.5 318.36,-128.5\"/>\n<polygon fill=\"black\" stroke=\"black\" points=\"318.39,-132 328.39,-128.5 318.39,-125 318.39,-132\"/>\n</g>\n<!-- 135564866575792 -->\n<g id=\"node27\" class=\"node\">\n<title>135564866575792</title>\n<polygon fill=\"none\" stroke=\"black\" points=\"326,-55.5 326,-91.5 546,-91.5 546,-55.5 326,-55.5\"/>\n<text text-anchor=\"middle\" x=\"352.5\" y=\"-69.8\" font-family=\"Times,serif\" font-size=\"14.00\">x1*w1</text>\n<polyline fill=\"none\" stroke=\"black\" points=\"379,-55.5 379,-91.5 \"/>\n<text text-anchor=\"middle\" x=\"421.5\" y=\"-69.8\" font-family=\"Times,serif\" font-size=\"14.00\">data &#45;6.0000</text>\n<polyline fill=\"none\" stroke=\"black\" points=\"464,-55.5 464,-91.5 \"/>\n<text text-anchor=\"middle\" x=\"505\" y=\"-69.8\" font-family=\"Times,serif\" font-size=\"14.00\">grad 0.5000</text>\n</g>\n<!-- 135564866575792&#45;&gt;135564866571040+ -->\n<g id=\"edge25\" class=\"edge\">\n<title>135564866575792&#45;&gt;135564866571040+</title>\n<path fill=\"none\" stroke=\"black\" d=\"M546.27,-90.75C555.64,-92.23 564.6,-93.65 572.65,-94.92\"/>\n<polygon fill=\"black\" stroke=\"black\" points=\"572.23,-98.4 582.65,-96.5 573.32,-91.48 572.23,-98.4\"/>\n</g>\n<!-- 135564866575792*&#45;&gt;135564866575792 -->\n<g id=\"edge10\" class=\"edge\">\n<title>135564866575792*&#45;&gt;135564866575792</title>\n<path fill=\"none\" stroke=\"black\" d=\"M290.34,-73.5C297.77,-73.5 306.37,-73.5 315.6,-73.5\"/>\n<polygon fill=\"black\" stroke=\"black\" points=\"315.84,-77 325.84,-73.5 315.84,-70 315.84,-77\"/>\n</g>\n</g>\n</svg>\n",
            "text/plain": [
              "<graphviz.graphs.Digraph at 0x7b4ba7b74ee0>"
            ]
          },
          "execution_count": 37,
          "metadata": {},
          "output_type": "execute_result"
        }
      ],
      "source": [
        "# inputs x1,x2 (2D neuron)\n",
        "x1 = Value(2.0, label='x1')\n",
        "x2 = Value(0.0, label='x2')\n",
        "\n",
        "# weights w1,w2 (synaptics strings for each input)\n",
        "w1 = Value(-3.0, label='w1')\n",
        "w2 = Value(1.0, label='w2')\n",
        "\n",
        "# bias of the neuron\n",
        "b = Value(6.8813735870195432, label='b')\n",
        "\n",
        "x1w1 = x1*w1; x1w1.label = 'x1*w1'\n",
        "x2w2 = x2*w2; x2w2.label = 'x2*w2'\n",
        "x1w1x2w2 = x1w1 + x2w2; x1w1x2w2.label = 'x1*w1 + x2*w2'\n",
        "n = x1w1x2w2 + b; n.label = 'n'\n",
        "# ---- Breaking `tanh`\n",
        "e = (2*n).exp()\n",
        "o = (e - 1)/(e + 1)\n",
        "# ----\n",
        "o.label = 'o'\n",
        "o.backward()\n",
        "draw_dot(o)"
      ]
    },
    {
      "cell_type": "markdown",
      "metadata": {
        "id": "qLz2otzdOf-r"
      },
      "source": [
        "### 5.1 Using PyTorch API\n",
        "\n",
        "* We can do this with PyTorch when your elements are all single element tensors -> everything is more efficient with PyTorch because of tensors.\n",
        "* `x1`, `x2`, `w1`, `w2`, `b`: These are tensors representing inputs, weights, and bias in a simple neural network.\n",
        "* `requires_grad = True`: This is set to ensure that PyTorch tracks operations on these tensors so that gradients can be computed during backpropagation as by default PyTorch doesn't track gradients of leaf nodes for efficiency reasons in the most common cases.\n",
        "* Forward pass (`n = x1 * w1 + x2 * w2 + b`): This calculates the linear combination of inputs and weights plus the bias.\n",
        "* Activation Function (`o = torch.tanh(n)`): Applies the hyperbolic tangent activation function to the result n.\n",
        "* `o.backward()`: This call computes the gradients of o with respect to each tensor that has `requires_grad=True`.\n",
        "* Gradient Outputs: The gradients of `o` with respect to `x1`, `x2`, `w1`, and `w2` are printed.\n",
        "* we need to call `.item()` as it takes a single tensor of that element, and returns that element\n"
      ]
    },
    {
      "cell_type": "code",
      "execution_count": null,
      "metadata": {
        "colab": {
          "background_save": true,
          "base_uri": "https://localhost:8080/"
        },
        "id": "SecFFY91PgQK",
        "outputId": "e5062a28-4d46-467e-f98e-920825d9aa34"
      },
      "outputs": [
        {
          "name": "stdout",
          "output_type": "stream",
          "text": [
            "0.7071066904050358\n",
            "---\n",
            "x2's gradient: 0.5000001283844369\n",
            "w2's gradient: 0.0\n",
            "x1's gradient: -1.5000003851533106\n",
            "w1's gradient: 1.0000002567688737\n"
          ]
        },
        {
          "data": {
            "text/plain": [
              "tensor([0.7071], dtype=torch.float64, grad_fn=<TanhBackward0>)"
            ]
          },
          "execution_count": 38,
          "metadata": {},
          "output_type": "execute_result"
        }
      ],
      "source": [
        "import torch\n",
        "\n",
        "# Define the tensors and set requires_grad=True for automatic differentiation\n",
        "x1 = torch.Tensor([2.0]).double()   # Input x1\n",
        "x2 = torch.Tensor([0.0]).double()   # Input x2\n",
        "w1 = torch.Tensor([-3.0]).double()  # Weight w1\n",
        "w2 = torch.Tensor([1.0]).double()   # Weight w2\n",
        "b = torch.Tensor([6.8813735870195432]).double()  # Bias term b\n",
        "\n",
        "# Enable gradients\n",
        "x1.requires_grad = True\n",
        "x2.requires_grad = True\n",
        "w1.requires_grad = True\n",
        "w2.requires_grad = True\n",
        "b.requires_grad = True\n",
        "\n",
        "# Define the computation (forward pass)\n",
        "n = x1 * w1 + x2 * w2 + b\n",
        "o = torch.tanh(n)\n",
        "\n",
        "# Output the result\n",
        "print(o.data.item()) # we need to call .item() as it takes a single tensor of that element, and returns that element\n",
        "\n",
        "# Perform backpropagation to calculate gradients\n",
        "o.backward()\n",
        "\n",
        "# Print the gradients for each tensor\n",
        "print('---')\n",
        "print('x2\\'s gradient:', x2.grad.item())\n",
        "print('w2\\'s gradient:', w2.grad.item())\n",
        "print('x1\\'s gradient:', x1.grad.item())\n",
        "print('w1\\'s gradient:', w1.grad.item())\n",
        "o # or use `o.item()` to get just the value -> 0.7071"
      ]
    },
    {
      "cell_type": "markdown",
      "metadata": {
        "id": "_8bseT44Q_ro"
      },
      "source": [
        "## 6. Building out a neural net (multi-layer perceptron)\n",
        "\n",
        "* Neural nets are just a specific class of mathematical expressions\n",
        "* We will build it piece by piece eventually building a two multi-layer perceptron\n",
        "* `nin` number of inputs into a neuron\n",
        "* `zip` takes 2 iterators and it creates a new iterators that iterates of the tuples of the corresponding entries.\n",
        "* `nout` -> number of neurons in a single layer\n",
        "* `nouts` -> list of nouts, and this list defines all the sizes of the layers we want in our MLP\n",
        "* `n = MLP(3, [4, 4, 1])` -> forward pass for an MLP because 4 hidden units in each hidden layer, and one output neuron with 3 input neurons."
      ]
    },
    {
      "cell_type": "code",
      "execution_count": null,
      "metadata": {
        "colab": {
          "background_save": true,
          "base_uri": "https://localhost:8080/"
        },
        "id": "yHVTaw9JTKi3",
        "outputId": "8a167880-f12f-48b1-bbd8-1051ccc1930e"
      },
      "outputs": [
        {
          "data": {
            "text/plain": [
              "Value(data = 0.8859846989983275)"
            ]
          },
          "execution_count": 39,
          "metadata": {},
          "output_type": "execute_result"
        }
      ],
      "source": [
        "from random import uniform\n",
        "\n",
        "class Neuron:\n",
        "    def __init__(self, nin):\n",
        "        # Initialize weights and bias with random values between -1 and 1\n",
        "        self.w = [Value(uniform(-1, 1)) for _ in range(nin)]\n",
        "        self.b = Value(uniform(-1, 1))\n",
        "\n",
        "    def __call__(self, x):\n",
        "        # Compute the weighted sum and add the bias -> w * x + b\n",
        "        act = sum((wi*xi for wi,xi in zip(self.w, x)), self.b)\n",
        "        # Apply the tanh activation function\n",
        "        out = act.tanh()\n",
        "        return out\n",
        "\n",
        "class Layer:\n",
        "\n",
        "  def __init__(self, nin, nout):\n",
        "    self.neurons = [Neuron(nin) for _ in range(nout)] # intializing new neurons with this dimensionality\n",
        "\n",
        "  def __call__(self, x):\n",
        "    outs = [n(x) for n in self.neurons] # independently evaluating the neurons\n",
        "    return outs[0] if len(outs) == 1 else outs\n",
        "\n",
        "class MLP:\n",
        "\n",
        "  def __init__(self, nin, nouts):\n",
        "    sz = [nin] + nouts\n",
        "    self.layers = [Layer(sz[i], sz[i + 1]) for i in range(len(nouts))] # iterating over consecutive pairs of these sizes and create objects for them\n",
        "\n",
        "  def __call__(self, x): # calling them sequentially\n",
        "    for layer in self.layers:\n",
        "      x = layer(x)\n",
        "    return x\n",
        "\n",
        "\n",
        "x = [2.0, 3.0, -1.0]\n",
        "n = MLP(3, [4, 4, 1])\n",
        "n(x)"
      ]
    },
    {
      "cell_type": "code",
      "execution_count": null,
      "metadata": {
        "colab": {
          "background_save": true,
          "base_uri": "https://localhost:8080/",
          "height": 1000
        },
        "id": "3AmwJRoWUdrK",
        "outputId": "88629f84-871e-4f01-e312-c3d753ccf747"
      },
      "outputs": [
        {
          "data": {
            "image/svg+xml": "<?xml version=\"1.0\" encoding=\"UTF-8\" standalone=\"no\"?>\n<!DOCTYPE svg PUBLIC \"-//W3C//DTD SVG 1.1//EN\"\n \"http://www.w3.org/Graphics/SVG/1.1/DTD/svg11.dtd\">\n<!-- Generated by graphviz version 2.43.0 (0)\n -->\n<!-- Title: %3 Pages: 1 -->\n<svg width=\"5742pt\" height=\"983pt\"\n viewBox=\"0.00 0.00 5742.00 983.00\" xmlns=\"http://www.w3.org/2000/svg\" xmlns:xlink=\"http://www.w3.org/1999/xlink\">\n<g id=\"graph0\" class=\"graph\" transform=\"scale(1 1) rotate(0) translate(4 979)\">\n<title>%3</title>\n<polygon fill=\"white\" stroke=\"transparent\" points=\"-4,4 -4,-979 5738,-979 5738,4 -4,4\"/>\n<!-- 135564866609232 -->\n<g id=\"node1\" class=\"node\">\n<title>135564866609232</title>\n<polygon fill=\"none\" stroke=\"black\" points=\"934,-636.5 934,-672.5 1121,-672.5 1121,-636.5 934,-636.5\"/>\n<text text-anchor=\"middle\" x=\"944\" y=\"-650.8\" font-family=\"Times,serif\" font-size=\"14.00\"> </text>\n<polyline fill=\"none\" stroke=\"black\" points=\"954,-636.5 954,-672.5 \"/>\n<text text-anchor=\"middle\" x=\"996.5\" y=\"-650.8\" font-family=\"Times,serif\" font-size=\"14.00\">data &#45;0.6446</text>\n<polyline fill=\"none\" stroke=\"black\" points=\"1039,-636.5 1039,-672.5 \"/>\n<text text-anchor=\"middle\" x=\"1080\" y=\"-650.8\" font-family=\"Times,serif\" font-size=\"14.00\">grad 0.0000</text>\n</g>\n<!-- 135564866606256* -->\n<g id=\"node125\" class=\"node\">\n<title>135564866606256*</title>\n<ellipse fill=\"none\" stroke=\"black\" cx=\"1184\" cy=\"-599.5\" rx=\"27\" ry=\"18\"/>\n<text text-anchor=\"middle\" x=\"1184\" y=\"-595.8\" font-family=\"Times,serif\" font-size=\"14.00\">*</text>\n</g>\n<!-- 135564866609232&#45;&gt;135564866606256* -->\n<g id=\"edge148\" class=\"edge\">\n<title>135564866609232&#45;&gt;135564866606256*</title>\n<path fill=\"none\" stroke=\"black\" d=\"M1092.02,-636.35C1101.79,-633.24 1111.71,-629.92 1121,-626.5 1131.25,-622.73 1142.23,-618.14 1152.07,-613.82\"/>\n<polygon fill=\"black\" stroke=\"black\" points=\"1153.74,-616.9 1161.45,-609.63 1150.89,-610.51 1153.74,-616.9\"/>\n</g>\n<!-- 135564866609280 -->\n<g id=\"node2\" class=\"node\">\n<title>135564866609280</title>\n<polygon fill=\"none\" stroke=\"black\" points=\"310.5,-540.5 310.5,-576.5 492.5,-576.5 492.5,-540.5 310.5,-540.5\"/>\n<text text-anchor=\"middle\" x=\"320.5\" y=\"-554.8\" font-family=\"Times,serif\" font-size=\"14.00\"> </text>\n<polyline fill=\"none\" stroke=\"black\" points=\"330.5,-540.5 330.5,-576.5 \"/>\n<text text-anchor=\"middle\" x=\"370.5\" y=\"-554.8\" font-family=\"Times,serif\" font-size=\"14.00\">data 0.2731</text>\n<polyline fill=\"none\" stroke=\"black\" points=\"410.5,-540.5 410.5,-576.5 \"/>\n<text text-anchor=\"middle\" x=\"451.5\" y=\"-554.8\" font-family=\"Times,serif\" font-size=\"14.00\">grad 0.0000</text>\n</g>\n<!-- 135564866616000* -->\n<g id=\"node173\" class=\"node\">\n<title>135564866616000*</title>\n<ellipse fill=\"none\" stroke=\"black\" cx=\"558\" cy=\"-531.5\" rx=\"27\" ry=\"18\"/>\n<text text-anchor=\"middle\" x=\"558\" y=\"-527.8\" font-family=\"Times,serif\" font-size=\"14.00\">*</text>\n</g>\n<!-- 135564866609280&#45;&gt;135564866616000* -->\n<g id=\"edge155\" class=\"edge\">\n<title>135564866609280&#45;&gt;135564866616000*</title>\n<path fill=\"none\" stroke=\"black\" d=\"M492.82,-542.72C503.07,-540.92 513.01,-539.19 521.88,-537.64\"/>\n<polygon fill=\"black\" stroke=\"black\" points=\"522.5,-541.08 531.75,-535.91 521.3,-534.19 522.5,-541.08\"/>\n</g>\n<!-- 135564866609328 -->\n<g id=\"node3\" class=\"node\">\n<title>135564866609328</title>\n<polygon fill=\"none\" stroke=\"black\" points=\"2812,-497.5 2812,-533.5 2999,-533.5 2999,-497.5 2812,-497.5\"/>\n<text text-anchor=\"middle\" x=\"2822\" y=\"-511.8\" font-family=\"Times,serif\" font-size=\"14.00\"> </text>\n<polyline fill=\"none\" stroke=\"black\" points=\"2832,-497.5 2832,-533.5 \"/>\n<text text-anchor=\"middle\" x=\"2874.5\" y=\"-511.8\" font-family=\"Times,serif\" font-size=\"14.00\">data &#45;0.1367</text>\n<polyline fill=\"none\" stroke=\"black\" points=\"2917,-497.5 2917,-533.5 \"/>\n<text text-anchor=\"middle\" x=\"2958\" y=\"-511.8\" font-family=\"Times,serif\" font-size=\"14.00\">grad 0.0000</text>\n</g>\n<!-- 135564866606976+ -->\n<g id=\"node153\" class=\"node\">\n<title>135564866606976+</title>\n<ellipse fill=\"none\" stroke=\"black\" cx=\"3062\" cy=\"-405.5\" rx=\"27\" ry=\"18\"/>\n<text text-anchor=\"middle\" x=\"3062\" y=\"-401.8\" font-family=\"Times,serif\" font-size=\"14.00\">+</text>\n</g>\n<!-- 135564866609328&#45;&gt;135564866606976+ -->\n<g id=\"edge172\" class=\"edge\">\n<title>135564866609328&#45;&gt;135564866606976+</title>\n<path fill=\"none\" stroke=\"black\" d=\"M2981.64,-497.32C2987.75,-494.49 2993.63,-491.24 2999,-487.5 3019.7,-473.07 3036.44,-449.58 3047.29,-431.43\"/>\n<polygon fill=\"black\" stroke=\"black\" points=\"3050.47,-432.91 3052.41,-422.5 3044.4,-429.43 3050.47,-432.91\"/>\n</g>\n<!-- 135564866609328+ -->\n<g id=\"node4\" class=\"node\">\n<title>135564866609328+</title>\n<ellipse fill=\"none\" stroke=\"black\" cx=\"2749\" cy=\"-515.5\" rx=\"27\" ry=\"18\"/>\n<text text-anchor=\"middle\" x=\"2749\" y=\"-511.8\" font-family=\"Times,serif\" font-size=\"14.00\">+</text>\n</g>\n<!-- 135564866609328+&#45;&gt;135564866609328 -->\n<g id=\"edge1\" class=\"edge\">\n<title>135564866609328+&#45;&gt;135564866609328</title>\n<path fill=\"none\" stroke=\"black\" d=\"M2776.21,-515.5C2783.73,-515.5 2792.43,-515.5 2801.67,-515.5\"/>\n<polygon fill=\"black\" stroke=\"black\" points=\"2801.89,-519 2811.89,-515.5 2801.89,-512 2801.89,-519\"/>\n</g>\n<!-- 135564866281648 -->\n<g id=\"node5\" class=\"node\">\n<title>135564866281648</title>\n<polygon fill=\"none\" stroke=\"black\" points=\"2814.5,-387.5 2814.5,-423.5 2996.5,-423.5 2996.5,-387.5 2814.5,-387.5\"/>\n<text text-anchor=\"middle\" x=\"2824.5\" y=\"-401.8\" font-family=\"Times,serif\" font-size=\"14.00\"> </text>\n<polyline fill=\"none\" stroke=\"black\" points=\"2834.5,-387.5 2834.5,-423.5 \"/>\n<text text-anchor=\"middle\" x=\"2874.5\" y=\"-401.8\" font-family=\"Times,serif\" font-size=\"14.00\">data 1.1499</text>\n<polyline fill=\"none\" stroke=\"black\" points=\"2914.5,-387.5 2914.5,-423.5 \"/>\n<text text-anchor=\"middle\" x=\"2955.5\" y=\"-401.8\" font-family=\"Times,serif\" font-size=\"14.00\">grad 0.0000</text>\n</g>\n<!-- 135564866283952+ -->\n<g id=\"node51\" class=\"node\">\n<title>135564866283952+</title>\n<ellipse fill=\"none\" stroke=\"black\" cx=\"3062\" cy=\"-295.5\" rx=\"27\" ry=\"18\"/>\n<text text-anchor=\"middle\" x=\"3062\" y=\"-291.8\" font-family=\"Times,serif\" font-size=\"14.00\">+</text>\n</g>\n<!-- 135564866281648&#45;&gt;135564866283952+ -->\n<g id=\"edge120\" class=\"edge\">\n<title>135564866281648&#45;&gt;135564866283952+</title>\n<path fill=\"none\" stroke=\"black\" d=\"M2981.64,-387.32C2987.75,-384.49 2993.63,-381.24 2999,-377.5 3019.7,-363.07 3036.44,-339.58 3047.29,-321.43\"/>\n<polygon fill=\"black\" stroke=\"black\" points=\"3050.47,-322.91 3052.41,-312.5 3044.4,-319.43 3050.47,-322.91\"/>\n</g>\n<!-- 135564866281648+ -->\n<g id=\"node6\" class=\"node\">\n<title>135564866281648+</title>\n<ellipse fill=\"none\" stroke=\"black\" cx=\"2749\" cy=\"-405.5\" rx=\"27\" ry=\"18\"/>\n<text text-anchor=\"middle\" x=\"2749\" y=\"-401.8\" font-family=\"Times,serif\" font-size=\"14.00\">+</text>\n</g>\n<!-- 135564866281648+&#45;&gt;135564866281648 -->\n<g id=\"edge2\" class=\"edge\">\n<title>135564866281648+&#45;&gt;135564866281648</title>\n<path fill=\"none\" stroke=\"black\" d=\"M2776.21,-405.5C2784.34,-405.5 2793.85,-405.5 2803.94,-405.5\"/>\n<polygon fill=\"black\" stroke=\"black\" points=\"2804.19,-409 2814.19,-405.5 2804.19,-402 2804.19,-409\"/>\n</g>\n<!-- 135564866609472 -->\n<g id=\"node7\" class=\"node\">\n<title>135564866609472</title>\n<polygon fill=\"none\" stroke=\"black\" points=\"1875.5,-880.5 1875.5,-916.5 2057.5,-916.5 2057.5,-880.5 1875.5,-880.5\"/>\n<text text-anchor=\"middle\" x=\"1885.5\" y=\"-894.8\" font-family=\"Times,serif\" font-size=\"14.00\"> </text>\n<polyline fill=\"none\" stroke=\"black\" points=\"1895.5,-880.5 1895.5,-916.5 \"/>\n<text text-anchor=\"middle\" x=\"1935.5\" y=\"-894.8\" font-family=\"Times,serif\" font-size=\"14.00\">data 0.7409</text>\n<polyline fill=\"none\" stroke=\"black\" points=\"1975.5,-880.5 1975.5,-916.5 \"/>\n<text text-anchor=\"middle\" x=\"2016.5\" y=\"-894.8\" font-family=\"Times,serif\" font-size=\"14.00\">grad 0.0000</text>\n</g>\n<!-- 135564866612352tanh -->\n<g id=\"node73\" class=\"node\">\n<title>135564866612352tanh</title>\n<ellipse fill=\"none\" stroke=\"black\" cx=\"2123\" cy=\"-870.5\" rx=\"27\" ry=\"18\"/>\n<text text-anchor=\"middle\" x=\"2123\" y=\"-866.8\" font-family=\"Times,serif\" font-size=\"14.00\">tanh</text>\n</g>\n<!-- 135564866609472&#45;&gt;135564866612352tanh -->\n<g id=\"edge191\" class=\"edge\">\n<title>135564866609472&#45;&gt;135564866612352tanh</title>\n<path fill=\"none\" stroke=\"black\" d=\"M2057.82,-882.13C2068.07,-880.27 2078.01,-878.47 2086.88,-876.87\"/>\n<polygon fill=\"black\" stroke=\"black\" points=\"2087.54,-880.3 2096.75,-875.08 2086.29,-873.42 2087.54,-880.3\"/>\n</g>\n<!-- 135564866609472+ -->\n<g id=\"node8\" class=\"node\">\n<title>135564866609472+</title>\n<ellipse fill=\"none\" stroke=\"black\" cx=\"1810\" cy=\"-898.5\" rx=\"27\" ry=\"18\"/>\n<text text-anchor=\"middle\" x=\"1810\" y=\"-894.8\" font-family=\"Times,serif\" font-size=\"14.00\">+</text>\n</g>\n<!-- 135564866609472+&#45;&gt;135564866609472 -->\n<g id=\"edge3\" class=\"edge\">\n<title>135564866609472+&#45;&gt;135564866609472</title>\n<path fill=\"none\" stroke=\"black\" d=\"M1837.21,-898.5C1845.34,-898.5 1854.85,-898.5 1864.94,-898.5\"/>\n<polygon fill=\"black\" stroke=\"black\" points=\"1865.19,-902 1875.19,-898.5 1865.19,-895 1865.19,-902\"/>\n</g>\n<!-- 135564866281792 -->\n<g id=\"node9\" class=\"node\">\n<title>135564866281792</title>\n<polygon fill=\"none\" stroke=\"black\" points=\"2188.5,-316.5 2188.5,-352.5 2370.5,-352.5 2370.5,-316.5 2188.5,-316.5\"/>\n<text text-anchor=\"middle\" x=\"2198.5\" y=\"-330.8\" font-family=\"Times,serif\" font-size=\"14.00\"> </text>\n<polyline fill=\"none\" stroke=\"black\" points=\"2208.5,-316.5 2208.5,-352.5 \"/>\n<text text-anchor=\"middle\" x=\"2248.5\" y=\"-330.8\" font-family=\"Times,serif\" font-size=\"14.00\">data 0.0041</text>\n<polyline fill=\"none\" stroke=\"black\" points=\"2288.5,-316.5 2288.5,-352.5 \"/>\n<text text-anchor=\"middle\" x=\"2329.5\" y=\"-330.8\" font-family=\"Times,serif\" font-size=\"14.00\">grad 0.0000</text>\n</g>\n<!-- 135564866287648+ -->\n<g id=\"node158\" class=\"node\">\n<title>135564866287648+</title>\n<ellipse fill=\"none\" stroke=\"black\" cx=\"2436\" cy=\"-334.5\" rx=\"27\" ry=\"18\"/>\n<text text-anchor=\"middle\" x=\"2436\" y=\"-330.8\" font-family=\"Times,serif\" font-size=\"14.00\">+</text>\n</g>\n<!-- 135564866281792&#45;&gt;135564866287648+ -->\n<g id=\"edge128\" class=\"edge\">\n<title>135564866281792&#45;&gt;135564866287648+</title>\n<path fill=\"none\" stroke=\"black\" d=\"M2370.82,-334.5C2380.57,-334.5 2390.04,-334.5 2398.57,-334.5\"/>\n<polygon fill=\"black\" stroke=\"black\" points=\"2398.83,-338 2408.83,-334.5 2398.83,-331 2398.83,-338\"/>\n</g>\n<!-- 135564866281792* -->\n<g id=\"node10\" class=\"node\">\n<title>135564866281792*</title>\n<ellipse fill=\"none\" stroke=\"black\" cx=\"2123\" cy=\"-334.5\" rx=\"27\" ry=\"18\"/>\n<text text-anchor=\"middle\" x=\"2123\" y=\"-330.8\" font-family=\"Times,serif\" font-size=\"14.00\">*</text>\n</g>\n<!-- 135564866281792*&#45;&gt;135564866281792 -->\n<g id=\"edge4\" class=\"edge\">\n<title>135564866281792*&#45;&gt;135564866281792</title>\n<path fill=\"none\" stroke=\"black\" d=\"M2150.21,-334.5C2158.34,-334.5 2167.85,-334.5 2177.94,-334.5\"/>\n<polygon fill=\"black\" stroke=\"black\" points=\"2178.19,-338 2188.19,-334.5 2178.19,-331 2178.19,-338\"/>\n</g>\n<!-- 135564866601312 -->\n<g id=\"node11\" class=\"node\">\n<title>135564866601312</title>\n<polygon fill=\"none\" stroke=\"black\" points=\"1249.5,-55.5 1249.5,-91.5 1431.5,-91.5 1431.5,-55.5 1249.5,-55.5\"/>\n<text text-anchor=\"middle\" x=\"1259.5\" y=\"-69.8\" font-family=\"Times,serif\" font-size=\"14.00\"> </text>\n<polyline fill=\"none\" stroke=\"black\" points=\"1269.5,-55.5 1269.5,-91.5 \"/>\n<text text-anchor=\"middle\" x=\"1309.5\" y=\"-69.8\" font-family=\"Times,serif\" font-size=\"14.00\">data 3.0000</text>\n<polyline fill=\"none\" stroke=\"black\" points=\"1349.5,-55.5 1349.5,-91.5 \"/>\n<text text-anchor=\"middle\" x=\"1390.5\" y=\"-69.8\" font-family=\"Times,serif\" font-size=\"14.00\">grad 0.0000</text>\n</g>\n<!-- 135564866601984* -->\n<g id=\"node24\" class=\"node\">\n<title>135564866601984*</title>\n<ellipse fill=\"none\" stroke=\"black\" cx=\"1497\" cy=\"-128.5\" rx=\"27\" ry=\"18\"/>\n<text text-anchor=\"middle\" x=\"1497\" y=\"-124.8\" font-family=\"Times,serif\" font-size=\"14.00\">*</text>\n</g>\n<!-- 135564866601312&#45;&gt;135564866601984* -->\n<g id=\"edge166\" class=\"edge\">\n<title>135564866601312&#45;&gt;135564866601984*</title>\n<path fill=\"none\" stroke=\"black\" d=\"M1407.56,-91.55C1416.51,-94.36 1425.53,-97.37 1434,-100.5 1444.49,-104.38 1455.71,-109.22 1465.68,-113.78\"/>\n<polygon fill=\"black\" stroke=\"black\" points=\"1464.25,-116.98 1474.79,-118.03 1467.2,-110.63 1464.25,-116.98\"/>\n</g>\n<!-- 135564866609568 -->\n<g id=\"node12\" class=\"node\">\n<title>135564866609568</title>\n<polygon fill=\"none\" stroke=\"black\" points=\"1562.5,-883.5 1562.5,-919.5 1744.5,-919.5 1744.5,-883.5 1562.5,-883.5\"/>\n<text text-anchor=\"middle\" x=\"1572.5\" y=\"-897.8\" font-family=\"Times,serif\" font-size=\"14.00\"> </text>\n<polyline fill=\"none\" stroke=\"black\" points=\"1582.5,-883.5 1582.5,-919.5 \"/>\n<text text-anchor=\"middle\" x=\"1622.5\" y=\"-897.8\" font-family=\"Times,serif\" font-size=\"14.00\">data 0.4957</text>\n<polyline fill=\"none\" stroke=\"black\" points=\"1662.5,-883.5 1662.5,-919.5 \"/>\n<text text-anchor=\"middle\" x=\"1703.5\" y=\"-897.8\" font-family=\"Times,serif\" font-size=\"14.00\">grad 0.0000</text>\n</g>\n<!-- 135564866609568&#45;&gt;135564866609472+ -->\n<g id=\"edge130\" class=\"edge\">\n<title>135564866609568&#45;&gt;135564866609472+</title>\n<path fill=\"none\" stroke=\"black\" d=\"M1744.82,-899.75C1754.57,-899.56 1764.04,-899.37 1772.57,-899.21\"/>\n<polygon fill=\"black\" stroke=\"black\" points=\"1772.9,-902.7 1782.83,-899.01 1772.76,-895.7 1772.9,-902.7\"/>\n</g>\n<!-- 135564866609568* -->\n<g id=\"node13\" class=\"node\">\n<title>135564866609568*</title>\n<ellipse fill=\"none\" stroke=\"black\" cx=\"1497\" cy=\"-901.5\" rx=\"27\" ry=\"18\"/>\n<text text-anchor=\"middle\" x=\"1497\" y=\"-897.8\" font-family=\"Times,serif\" font-size=\"14.00\">*</text>\n</g>\n<!-- 135564866609568*&#45;&gt;135564866609568 -->\n<g id=\"edge5\" class=\"edge\">\n<title>135564866609568*&#45;&gt;135564866609568</title>\n<path fill=\"none\" stroke=\"black\" d=\"M1524.21,-901.5C1532.34,-901.5 1541.85,-901.5 1551.94,-901.5\"/>\n<polygon fill=\"black\" stroke=\"black\" points=\"1552.19,-905 1562.19,-901.5 1552.19,-898 1552.19,-905\"/>\n</g>\n<!-- 135564866281984 -->\n<g id=\"node14\" class=\"node\">\n<title>135564866281984</title>\n<polygon fill=\"none\" stroke=\"black\" points=\"1873,-550.5 1873,-586.5 2060,-586.5 2060,-550.5 1873,-550.5\"/>\n<text text-anchor=\"middle\" x=\"1883\" y=\"-564.8\" font-family=\"Times,serif\" font-size=\"14.00\"> </text>\n<polyline fill=\"none\" stroke=\"black\" points=\"1893,-550.5 1893,-586.5 \"/>\n<text text-anchor=\"middle\" x=\"1935.5\" y=\"-564.8\" font-family=\"Times,serif\" font-size=\"14.00\">data &#45;0.0094</text>\n<polyline fill=\"none\" stroke=\"black\" points=\"1978,-550.5 1978,-586.5 \"/>\n<text text-anchor=\"middle\" x=\"2019\" y=\"-564.8\" font-family=\"Times,serif\" font-size=\"14.00\">grad 0.0000</text>\n</g>\n<!-- 135564866282320+ -->\n<g id=\"node22\" class=\"node\">\n<title>135564866282320+</title>\n<ellipse fill=\"none\" stroke=\"black\" cx=\"2123\" cy=\"-541.5\" rx=\"27\" ry=\"18\"/>\n<text text-anchor=\"middle\" x=\"2123\" y=\"-537.8\" font-family=\"Times,serif\" font-size=\"14.00\">+</text>\n</g>\n<!-- 135564866281984&#45;&gt;135564866282320+ -->\n<g id=\"edge185\" class=\"edge\">\n<title>135564866281984&#45;&gt;135564866282320+</title>\n<path fill=\"none\" stroke=\"black\" d=\"M2060.05,-552.33C2069.34,-550.7 2078.33,-549.13 2086.44,-547.71\"/>\n<polygon fill=\"black\" stroke=\"black\" points=\"2087.3,-551.12 2096.55,-545.95 2086.1,-544.22 2087.3,-551.12\"/>\n</g>\n<!-- 135564866281984* -->\n<g id=\"node15\" class=\"node\">\n<title>135564866281984*</title>\n<ellipse fill=\"none\" stroke=\"black\" cx=\"1810\" cy=\"-568.5\" rx=\"27\" ry=\"18\"/>\n<text text-anchor=\"middle\" x=\"1810\" y=\"-564.8\" font-family=\"Times,serif\" font-size=\"14.00\">*</text>\n</g>\n<!-- 135564866281984*&#45;&gt;135564866281984 -->\n<g id=\"edge6\" class=\"edge\">\n<title>135564866281984*&#45;&gt;135564866281984</title>\n<path fill=\"none\" stroke=\"black\" d=\"M1837.21,-568.5C1844.73,-568.5 1853.43,-568.5 1862.67,-568.5\"/>\n<polygon fill=\"black\" stroke=\"black\" points=\"1862.89,-572 1872.89,-568.5 1862.89,-565 1862.89,-572\"/>\n</g>\n<!-- 135564901425712 -->\n<g id=\"node16\" class=\"node\">\n<title>135564901425712</title>\n<polygon fill=\"none\" stroke=\"black\" points=\"5244,-500.5 5244,-536.5 5426,-536.5 5426,-500.5 5244,-500.5\"/>\n<text text-anchor=\"middle\" x=\"5254\" y=\"-514.8\" font-family=\"Times,serif\" font-size=\"14.00\"> </text>\n<polyline fill=\"none\" stroke=\"black\" points=\"5264,-500.5 5264,-536.5 \"/>\n<text text-anchor=\"middle\" x=\"5304\" y=\"-514.8\" font-family=\"Times,serif\" font-size=\"14.00\">data 1.4029</text>\n<polyline fill=\"none\" stroke=\"black\" points=\"5344,-500.5 5344,-536.5 \"/>\n<text text-anchor=\"middle\" x=\"5385\" y=\"-514.8\" font-family=\"Times,serif\" font-size=\"14.00\">grad 0.0000</text>\n</g>\n<!-- 135564901428448tanh -->\n<g id=\"node77\" class=\"node\">\n<title>135564901428448tanh</title>\n<ellipse fill=\"none\" stroke=\"black\" cx=\"5489\" cy=\"-518.5\" rx=\"27\" ry=\"18\"/>\n<text text-anchor=\"middle\" x=\"5489\" y=\"-514.8\" font-family=\"Times,serif\" font-size=\"14.00\">tanh</text>\n</g>\n<!-- 135564901425712&#45;&gt;135564901428448tanh -->\n<g id=\"edge146\" class=\"edge\">\n<title>135564901425712&#45;&gt;135564901428448tanh</title>\n<path fill=\"none\" stroke=\"black\" d=\"M5426.18,-518.5C5435.14,-518.5 5443.83,-518.5 5451.73,-518.5\"/>\n<polygon fill=\"black\" stroke=\"black\" points=\"5451.96,-522 5461.96,-518.5 5451.96,-515 5451.96,-522\"/>\n</g>\n<!-- 135564901425712+ -->\n<g id=\"node17\" class=\"node\">\n<title>135564901425712+</title>\n<ellipse fill=\"none\" stroke=\"black\" cx=\"5181\" cy=\"-518.5\" rx=\"27\" ry=\"18\"/>\n<text text-anchor=\"middle\" x=\"5181\" y=\"-514.8\" font-family=\"Times,serif\" font-size=\"14.00\">+</text>\n</g>\n<!-- 135564901425712+&#45;&gt;135564901425712 -->\n<g id=\"edge7\" class=\"edge\">\n<title>135564901425712+&#45;&gt;135564901425712</title>\n<path fill=\"none\" stroke=\"black\" d=\"M5208.13,-518.5C5215.67,-518.5 5224.39,-518.5 5233.64,-518.5\"/>\n<polygon fill=\"black\" stroke=\"black\" points=\"5233.87,-522 5243.87,-518.5 5233.87,-515 5233.87,-522\"/>\n</g>\n<!-- 135564866609712 -->\n<g id=\"node18\" class=\"node\">\n<title>135564866609712</title>\n<polygon fill=\"none\" stroke=\"black\" points=\"1873,-55.5 1873,-91.5 2060,-91.5 2060,-55.5 1873,-55.5\"/>\n<text text-anchor=\"middle\" x=\"1883\" y=\"-69.8\" font-family=\"Times,serif\" font-size=\"14.00\"> </text>\n<polyline fill=\"none\" stroke=\"black\" points=\"1893,-55.5 1893,-91.5 \"/>\n<text text-anchor=\"middle\" x=\"1935.5\" y=\"-69.8\" font-family=\"Times,serif\" font-size=\"14.00\">data &#45;0.2388</text>\n<polyline fill=\"none\" stroke=\"black\" points=\"1978,-55.5 1978,-91.5 \"/>\n<text text-anchor=\"middle\" x=\"2019\" y=\"-69.8\" font-family=\"Times,serif\" font-size=\"14.00\">grad 0.0000</text>\n</g>\n<!-- 135564866611776+ -->\n<g id=\"node56\" class=\"node\">\n<title>135564866611776+</title>\n<ellipse fill=\"none\" stroke=\"black\" cx=\"2123\" cy=\"-128.5\" rx=\"27\" ry=\"18\"/>\n<text text-anchor=\"middle\" x=\"2123\" y=\"-124.8\" font-family=\"Times,serif\" font-size=\"14.00\">+</text>\n</g>\n<!-- 135564866609712&#45;&gt;135564866611776+ -->\n<g id=\"edge161\" class=\"edge\">\n<title>135564866609712&#45;&gt;135564866611776+</title>\n<path fill=\"none\" stroke=\"black\" d=\"M2033.56,-91.55C2042.51,-94.36 2051.53,-97.37 2060,-100.5 2070.49,-104.38 2081.71,-109.22 2091.68,-113.78\"/>\n<polygon fill=\"black\" stroke=\"black\" points=\"2090.25,-116.98 2100.79,-118.03 2093.2,-110.63 2090.25,-116.98\"/>\n</g>\n<!-- 135564866609712* -->\n<g id=\"node19\" class=\"node\">\n<title>135564866609712*</title>\n<ellipse fill=\"none\" stroke=\"black\" cx=\"1810\" cy=\"-73.5\" rx=\"27\" ry=\"18\"/>\n<text text-anchor=\"middle\" x=\"1810\" y=\"-69.8\" font-family=\"Times,serif\" font-size=\"14.00\">*</text>\n</g>\n<!-- 135564866609712*&#45;&gt;135564866609712 -->\n<g id=\"edge8\" class=\"edge\">\n<title>135564866609712*&#45;&gt;135564866609712</title>\n<path fill=\"none\" stroke=\"black\" d=\"M1837.21,-73.5C1844.73,-73.5 1853.43,-73.5 1862.67,-73.5\"/>\n<polygon fill=\"black\" stroke=\"black\" points=\"1862.89,-77 1872.89,-73.5 1862.89,-70 1862.89,-77\"/>\n</g>\n<!-- 135564866610000 -->\n<g id=\"node20\" class=\"node\">\n<title>135564866610000</title>\n<polygon fill=\"none\" stroke=\"black\" points=\"1560,-55.5 1560,-91.5 1747,-91.5 1747,-55.5 1560,-55.5\"/>\n<text text-anchor=\"middle\" x=\"1570\" y=\"-69.8\" font-family=\"Times,serif\" font-size=\"14.00\"> </text>\n<polyline fill=\"none\" stroke=\"black\" points=\"1580,-55.5 1580,-91.5 \"/>\n<text text-anchor=\"middle\" x=\"1622.5\" y=\"-69.8\" font-family=\"Times,serif\" font-size=\"14.00\">data &#45;1.0000</text>\n<polyline fill=\"none\" stroke=\"black\" points=\"1665,-55.5 1665,-91.5 \"/>\n<text text-anchor=\"middle\" x=\"1706\" y=\"-69.8\" font-family=\"Times,serif\" font-size=\"14.00\">grad 0.0000</text>\n</g>\n<!-- 135564866610000&#45;&gt;135564866609712* -->\n<g id=\"edge168\" class=\"edge\">\n<title>135564866610000&#45;&gt;135564866609712*</title>\n<path fill=\"none\" stroke=\"black\" d=\"M1747.05,-73.5C1756.06,-73.5 1764.79,-73.5 1772.7,-73.5\"/>\n<polygon fill=\"black\" stroke=\"black\" points=\"1772.95,-77 1782.95,-73.5 1772.95,-70 1772.95,-77\"/>\n</g>\n<!-- 135564866282320 -->\n<g id=\"node21\" class=\"node\">\n<title>135564866282320</title>\n<polygon fill=\"none\" stroke=\"black\" points=\"2188.5,-495.5 2188.5,-531.5 2370.5,-531.5 2370.5,-495.5 2188.5,-495.5\"/>\n<text text-anchor=\"middle\" x=\"2198.5\" y=\"-509.8\" font-family=\"Times,serif\" font-size=\"14.00\"> </text>\n<polyline fill=\"none\" stroke=\"black\" points=\"2208.5,-495.5 2208.5,-531.5 \"/>\n<text text-anchor=\"middle\" x=\"2248.5\" y=\"-509.8\" font-family=\"Times,serif\" font-size=\"14.00\">data 0.4312</text>\n<polyline fill=\"none\" stroke=\"black\" points=\"2288.5,-495.5 2288.5,-531.5 \"/>\n<text text-anchor=\"middle\" x=\"2329.5\" y=\"-509.8\" font-family=\"Times,serif\" font-size=\"14.00\">grad 0.0000</text>\n</g>\n<!-- 135564866278096+ -->\n<g id=\"node112\" class=\"node\">\n<title>135564866278096+</title>\n<ellipse fill=\"none\" stroke=\"black\" cx=\"2436\" cy=\"-515.5\" rx=\"27\" ry=\"18\"/>\n<text text-anchor=\"middle\" x=\"2436\" y=\"-511.8\" font-family=\"Times,serif\" font-size=\"14.00\">+</text>\n</g>\n<!-- 135564866282320&#45;&gt;135564866278096+ -->\n<g id=\"edge81\" class=\"edge\">\n<title>135564866282320&#45;&gt;135564866278096+</title>\n<path fill=\"none\" stroke=\"black\" d=\"M2370.82,-514.67C2380.57,-514.8 2390.04,-514.92 2398.57,-515.03\"/>\n<polygon fill=\"black\" stroke=\"black\" points=\"2398.78,-518.53 2408.83,-515.16 2398.87,-511.53 2398.78,-518.53\"/>\n</g>\n<!-- 135564866282320+&#45;&gt;135564866282320 -->\n<g id=\"edge9\" class=\"edge\">\n<title>135564866282320+&#45;&gt;135564866282320</title>\n<path fill=\"none\" stroke=\"black\" d=\"M2149.17,-536.94C2157.61,-535.41 2167.61,-533.6 2178.25,-531.67\"/>\n<polygon fill=\"black\" stroke=\"black\" points=\"2178.96,-535.1 2188.18,-529.87 2177.71,-528.21 2178.96,-535.1\"/>\n</g>\n<!-- 135564866601984 -->\n<g id=\"node23\" class=\"node\">\n<title>135564866601984</title>\n<polygon fill=\"none\" stroke=\"black\" points=\"1562.5,-110.5 1562.5,-146.5 1744.5,-146.5 1744.5,-110.5 1562.5,-110.5\"/>\n<text text-anchor=\"middle\" x=\"1572.5\" y=\"-124.8\" font-family=\"Times,serif\" font-size=\"14.00\"> </text>\n<polyline fill=\"none\" stroke=\"black\" points=\"1582.5,-110.5 1582.5,-146.5 \"/>\n<text text-anchor=\"middle\" x=\"1622.5\" y=\"-124.8\" font-family=\"Times,serif\" font-size=\"14.00\">data 0.2364</text>\n<polyline fill=\"none\" stroke=\"black\" points=\"1662.5,-110.5 1662.5,-146.5 \"/>\n<text text-anchor=\"middle\" x=\"1703.5\" y=\"-124.8\" font-family=\"Times,serif\" font-size=\"14.00\">grad 0.0000</text>\n</g>\n<!-- 135564866612496+ -->\n<g id=\"node79\" class=\"node\">\n<title>135564866612496+</title>\n<ellipse fill=\"none\" stroke=\"black\" cx=\"1810\" cy=\"-128.5\" rx=\"27\" ry=\"18\"/>\n<text text-anchor=\"middle\" x=\"1810\" y=\"-124.8\" font-family=\"Times,serif\" font-size=\"14.00\">+</text>\n</g>\n<!-- 135564866601984&#45;&gt;135564866612496+ -->\n<g id=\"edge78\" class=\"edge\">\n<title>135564866601984&#45;&gt;135564866612496+</title>\n<path fill=\"none\" stroke=\"black\" d=\"M1744.82,-128.5C1754.57,-128.5 1764.04,-128.5 1772.57,-128.5\"/>\n<polygon fill=\"black\" stroke=\"black\" points=\"1772.83,-132 1782.83,-128.5 1772.83,-125 1772.83,-132\"/>\n</g>\n<!-- 135564866601984*&#45;&gt;135564866601984 -->\n<g id=\"edge10\" class=\"edge\">\n<title>135564866601984*&#45;&gt;135564866601984</title>\n<path fill=\"none\" stroke=\"black\" d=\"M1524.21,-128.5C1532.34,-128.5 1541.85,-128.5 1551.94,-128.5\"/>\n<polygon fill=\"black\" stroke=\"black\" points=\"1552.19,-132 1562.19,-128.5 1552.19,-125 1552.19,-132\"/>\n</g>\n<!-- 135564866274352 -->\n<g id=\"node25\" class=\"node\">\n<title>135564866274352</title>\n<polygon fill=\"none\" stroke=\"black\" points=\"2188.5,-715.5 2188.5,-751.5 2370.5,-751.5 2370.5,-715.5 2188.5,-715.5\"/>\n<text text-anchor=\"middle\" x=\"2198.5\" y=\"-729.8\" font-family=\"Times,serif\" font-size=\"14.00\"> </text>\n<polyline fill=\"none\" stroke=\"black\" points=\"2208.5,-715.5 2208.5,-751.5 \"/>\n<text text-anchor=\"middle\" x=\"2248.5\" y=\"-729.8\" font-family=\"Times,serif\" font-size=\"14.00\">data 0.0075</text>\n<polyline fill=\"none\" stroke=\"black\" points=\"2288.5,-715.5 2288.5,-751.5 \"/>\n<text text-anchor=\"middle\" x=\"2329.5\" y=\"-729.8\" font-family=\"Times,serif\" font-size=\"14.00\">grad 0.0000</text>\n</g>\n<!-- 135564866281264+ -->\n<g id=\"node192\" class=\"node\">\n<title>135564866281264+</title>\n<ellipse fill=\"none\" stroke=\"black\" cx=\"2436\" cy=\"-762.5\" rx=\"27\" ry=\"18\"/>\n<text text-anchor=\"middle\" x=\"2436\" y=\"-758.8\" font-family=\"Times,serif\" font-size=\"14.00\">+</text>\n</g>\n<!-- 135564866274352&#45;&gt;135564866281264+ -->\n<g id=\"edge91\" class=\"edge\">\n<title>135564866274352&#45;&gt;135564866281264+</title>\n<path fill=\"none\" stroke=\"black\" d=\"M2370.82,-750.45C2381.07,-752.38 2391.01,-754.24 2399.88,-755.91\"/>\n<polygon fill=\"black\" stroke=\"black\" points=\"2399.28,-759.36 2409.75,-757.76 2400.57,-752.48 2399.28,-759.36\"/>\n</g>\n<!-- 135564866274352* -->\n<g id=\"node26\" class=\"node\">\n<title>135564866274352*</title>\n<ellipse fill=\"none\" stroke=\"black\" cx=\"2123\" cy=\"-733.5\" rx=\"27\" ry=\"18\"/>\n<text text-anchor=\"middle\" x=\"2123\" y=\"-729.8\" font-family=\"Times,serif\" font-size=\"14.00\">*</text>\n</g>\n<!-- 135564866274352*&#45;&gt;135564866274352 -->\n<g id=\"edge11\" class=\"edge\">\n<title>135564866274352*&#45;&gt;135564866274352</title>\n<path fill=\"none\" stroke=\"black\" d=\"M2150.21,-733.5C2158.34,-733.5 2167.85,-733.5 2177.94,-733.5\"/>\n<polygon fill=\"black\" stroke=\"black\" points=\"2178.19,-737 2188.19,-733.5 2178.19,-730 2178.19,-737\"/>\n</g>\n<!-- 135564902327456 -->\n<g id=\"node27\" class=\"node\">\n<title>135564902327456</title>\n<polygon fill=\"none\" stroke=\"black\" points=\"2812,-676.5 2812,-712.5 2999,-712.5 2999,-676.5 2812,-676.5\"/>\n<text text-anchor=\"middle\" x=\"2822\" y=\"-690.8\" font-family=\"Times,serif\" font-size=\"14.00\"> </text>\n<polyline fill=\"none\" stroke=\"black\" points=\"2832,-676.5 2832,-712.5 \"/>\n<text text-anchor=\"middle\" x=\"2874.5\" y=\"-690.8\" font-family=\"Times,serif\" font-size=\"14.00\">data &#45;0.0434</text>\n<polyline fill=\"none\" stroke=\"black\" points=\"2917,-676.5 2917,-712.5 \"/>\n<text text-anchor=\"middle\" x=\"2958\" y=\"-690.8\" font-family=\"Times,serif\" font-size=\"14.00\">grad 0.0000</text>\n</g>\n<!-- 135564902326256+ -->\n<g id=\"node199\" class=\"node\">\n<title>135564902326256+</title>\n<ellipse fill=\"none\" stroke=\"black\" cx=\"3062\" cy=\"-625.5\" rx=\"27\" ry=\"18\"/>\n<text text-anchor=\"middle\" x=\"3062\" y=\"-621.8\" font-family=\"Times,serif\" font-size=\"14.00\">+</text>\n</g>\n<!-- 135564902327456&#45;&gt;135564902326256+ -->\n<g id=\"edge192\" class=\"edge\">\n<title>135564902327456&#45;&gt;135564902326256+</title>\n<path fill=\"none\" stroke=\"black\" d=\"M2947.09,-676.37C2973.02,-664.79 3006.13,-650.01 3029.96,-639.36\"/>\n<polygon fill=\"black\" stroke=\"black\" points=\"3031.53,-642.49 3039.24,-635.22 3028.68,-636.1 3031.53,-642.49\"/>\n</g>\n<!-- 135564902327456+ -->\n<g id=\"node28\" class=\"node\">\n<title>135564902327456+</title>\n<ellipse fill=\"none\" stroke=\"black\" cx=\"2749\" cy=\"-762.5\" rx=\"27\" ry=\"18\"/>\n<text text-anchor=\"middle\" x=\"2749\" y=\"-758.8\" font-family=\"Times,serif\" font-size=\"14.00\">+</text>\n</g>\n<!-- 135564902327456+&#45;&gt;135564902327456 -->\n<g id=\"edge12\" class=\"edge\">\n<title>135564902327456+&#45;&gt;135564902327456</title>\n<path fill=\"none\" stroke=\"black\" d=\"M2772.14,-752.76C2793.5,-743.35 2826.6,-728.79 2854.36,-716.57\"/>\n<polygon fill=\"black\" stroke=\"black\" points=\"2855.8,-719.76 2863.54,-712.53 2852.98,-713.35 2855.8,-719.76\"/>\n</g>\n<!-- 135564866274880 -->\n<g id=\"node29\" class=\"node\">\n<title>135564866274880</title>\n<polygon fill=\"none\" stroke=\"black\" points=\"1875.5,-220.5 1875.5,-256.5 2057.5,-256.5 2057.5,-220.5 1875.5,-220.5\"/>\n<text text-anchor=\"middle\" x=\"1885.5\" y=\"-234.8\" font-family=\"Times,serif\" font-size=\"14.00\"> </text>\n<polyline fill=\"none\" stroke=\"black\" points=\"1895.5,-220.5 1895.5,-256.5 \"/>\n<text text-anchor=\"middle\" x=\"1935.5\" y=\"-234.8\" font-family=\"Times,serif\" font-size=\"14.00\">data 0.0082</text>\n<polyline fill=\"none\" stroke=\"black\" points=\"1975.5,-220.5 1975.5,-256.5 \"/>\n<text text-anchor=\"middle\" x=\"2016.5\" y=\"-234.8\" font-family=\"Times,serif\" font-size=\"14.00\">grad 0.0000</text>\n</g>\n<!-- 135564866286016+ -->\n<g id=\"node97\" class=\"node\">\n<title>135564866286016+</title>\n<ellipse fill=\"none\" stroke=\"black\" cx=\"2123\" cy=\"-238.5\" rx=\"27\" ry=\"18\"/>\n<text text-anchor=\"middle\" x=\"2123\" y=\"-234.8\" font-family=\"Times,serif\" font-size=\"14.00\">+</text>\n</g>\n<!-- 135564866274880&#45;&gt;135564866286016+ -->\n<g id=\"edge187\" class=\"edge\">\n<title>135564866274880&#45;&gt;135564866286016+</title>\n<path fill=\"none\" stroke=\"black\" d=\"M2057.82,-238.5C2067.57,-238.5 2077.04,-238.5 2085.57,-238.5\"/>\n<polygon fill=\"black\" stroke=\"black\" points=\"2085.83,-242 2095.83,-238.5 2085.83,-235 2085.83,-242\"/>\n</g>\n<!-- 135564866274880* -->\n<g id=\"node30\" class=\"node\">\n<title>135564866274880*</title>\n<ellipse fill=\"none\" stroke=\"black\" cx=\"1810\" cy=\"-238.5\" rx=\"27\" ry=\"18\"/>\n<text text-anchor=\"middle\" x=\"1810\" y=\"-234.8\" font-family=\"Times,serif\" font-size=\"14.00\">*</text>\n</g>\n<!-- 135564866274880*&#45;&gt;135564866274880 -->\n<g id=\"edge13\" class=\"edge\">\n<title>135564866274880*&#45;&gt;135564866274880</title>\n<path fill=\"none\" stroke=\"black\" d=\"M1837.21,-238.5C1845.34,-238.5 1854.85,-238.5 1864.94,-238.5\"/>\n<polygon fill=\"black\" stroke=\"black\" points=\"1865.19,-242 1875.19,-238.5 1865.19,-235 1865.19,-242\"/>\n</g>\n<!-- 135564866610864 -->\n<g id=\"node31\" class=\"node\">\n<title>135564866610864</title>\n<polygon fill=\"none\" stroke=\"black\" points=\"1875.5,-165.5 1875.5,-201.5 2057.5,-201.5 2057.5,-165.5 1875.5,-165.5\"/>\n<text text-anchor=\"middle\" x=\"1885.5\" y=\"-179.8\" font-family=\"Times,serif\" font-size=\"14.00\"> </text>\n<polyline fill=\"none\" stroke=\"black\" points=\"1895.5,-165.5 1895.5,-201.5 \"/>\n<text text-anchor=\"middle\" x=\"1935.5\" y=\"-179.8\" font-family=\"Times,serif\" font-size=\"14.00\">data 0.6353</text>\n<polyline fill=\"none\" stroke=\"black\" points=\"1975.5,-165.5 1975.5,-201.5 \"/>\n<text text-anchor=\"middle\" x=\"2016.5\" y=\"-179.8\" font-family=\"Times,serif\" font-size=\"14.00\">grad 0.0000</text>\n</g>\n<!-- 135564866610864&#45;&gt;135564866286016+ -->\n<g id=\"edge189\" class=\"edge\">\n<title>135564866610864&#45;&gt;135564866286016+</title>\n<path fill=\"none\" stroke=\"black\" d=\"M2033.56,-201.55C2042.51,-204.36 2051.53,-207.37 2060,-210.5 2070.49,-214.38 2081.71,-219.22 2091.68,-223.78\"/>\n<polygon fill=\"black\" stroke=\"black\" points=\"2090.25,-226.98 2100.79,-228.03 2093.2,-220.63 2090.25,-226.98\"/>\n</g>\n<!-- 135564866283232 -->\n<g id=\"node32\" class=\"node\">\n<title>135564866283232</title>\n<polygon fill=\"none\" stroke=\"black\" points=\"3127.5,-497.5 3127.5,-533.5 3309.5,-533.5 3309.5,-497.5 3127.5,-497.5\"/>\n<text text-anchor=\"middle\" x=\"3137.5\" y=\"-511.8\" font-family=\"Times,serif\" font-size=\"14.00\"> </text>\n<polyline fill=\"none\" stroke=\"black\" points=\"3147.5,-497.5 3147.5,-533.5 \"/>\n<text text-anchor=\"middle\" x=\"3187.5\" y=\"-511.8\" font-family=\"Times,serif\" font-size=\"14.00\">data 0.6734</text>\n<polyline fill=\"none\" stroke=\"black\" points=\"3227.5,-497.5 3227.5,-533.5 \"/>\n<text text-anchor=\"middle\" x=\"3268.5\" y=\"-511.8\" font-family=\"Times,serif\" font-size=\"14.00\">grad 0.0000</text>\n</g>\n<!-- 135564866275456tanh -->\n<g id=\"node43\" class=\"node\">\n<title>135564866275456tanh</title>\n<ellipse fill=\"none\" stroke=\"black\" cx=\"3375\" cy=\"-515.5\" rx=\"27\" ry=\"18\"/>\n<text text-anchor=\"middle\" x=\"3375\" y=\"-511.8\" font-family=\"Times,serif\" font-size=\"14.00\">tanh</text>\n</g>\n<!-- 135564866283232&#45;&gt;135564866275456tanh -->\n<g id=\"edge188\" class=\"edge\">\n<title>135564866283232&#45;&gt;135564866275456tanh</title>\n<path fill=\"none\" stroke=\"black\" d=\"M3309.82,-515.5C3319.57,-515.5 3329.04,-515.5 3337.57,-515.5\"/>\n<polygon fill=\"black\" stroke=\"black\" points=\"3337.83,-519 3347.83,-515.5 3337.83,-512 3337.83,-519\"/>\n</g>\n<!-- 135564866283232+ -->\n<g id=\"node33\" class=\"node\">\n<title>135564866283232+</title>\n<ellipse fill=\"none\" stroke=\"black\" cx=\"3062\" cy=\"-515.5\" rx=\"27\" ry=\"18\"/>\n<text text-anchor=\"middle\" x=\"3062\" y=\"-511.8\" font-family=\"Times,serif\" font-size=\"14.00\">+</text>\n</g>\n<!-- 135564866283232+&#45;&gt;135564866283232 -->\n<g id=\"edge14\" class=\"edge\">\n<title>135564866283232+&#45;&gt;135564866283232</title>\n<path fill=\"none\" stroke=\"black\" d=\"M3089.21,-515.5C3097.34,-515.5 3106.85,-515.5 3116.94,-515.5\"/>\n<polygon fill=\"black\" stroke=\"black\" points=\"3117.19,-519 3127.19,-515.5 3117.19,-512 3117.19,-519\"/>\n</g>\n<!-- 135568481085296 -->\n<g id=\"node34\" class=\"node\">\n<title>135568481085296</title>\n<polygon fill=\"none\" stroke=\"black\" points=\"4628,-383.5 4628,-419.5 4810,-419.5 4810,-383.5 4628,-383.5\"/>\n<text text-anchor=\"middle\" x=\"4638\" y=\"-397.8\" font-family=\"Times,serif\" font-size=\"14.00\"> </text>\n<polyline fill=\"none\" stroke=\"black\" points=\"4648,-383.5 4648,-419.5 \"/>\n<text text-anchor=\"middle\" x=\"4688\" y=\"-397.8\" font-family=\"Times,serif\" font-size=\"14.00\">data 1.4130</text>\n<polyline fill=\"none\" stroke=\"black\" points=\"4728,-383.5 4728,-419.5 \"/>\n<text text-anchor=\"middle\" x=\"4769\" y=\"-397.8\" font-family=\"Times,serif\" font-size=\"14.00\">grad 0.0000</text>\n</g>\n<!-- 135564901433248+ -->\n<g id=\"node196\" class=\"node\">\n<title>135564901433248+</title>\n<ellipse fill=\"none\" stroke=\"black\" cx=\"4873\" cy=\"-493.5\" rx=\"27\" ry=\"18\"/>\n<text text-anchor=\"middle\" x=\"4873\" y=\"-489.8\" font-family=\"Times,serif\" font-size=\"14.00\">+</text>\n</g>\n<!-- 135568481085296&#45;&gt;135564901433248+ -->\n<g id=\"edge171\" class=\"edge\">\n<title>135568481085296&#45;&gt;135564901433248+</title>\n<path fill=\"none\" stroke=\"black\" d=\"M4750.03,-419.68C4777.12,-436.07 4816.69,-460.02 4843.34,-476.15\"/>\n<polygon fill=\"black\" stroke=\"black\" points=\"4841.82,-479.33 4852.19,-481.51 4845.45,-473.34 4841.82,-479.33\"/>\n</g>\n<!-- 135568481085296+ -->\n<g id=\"node35\" class=\"node\">\n<title>135568481085296+</title>\n<ellipse fill=\"none\" stroke=\"black\" cx=\"4501\" cy=\"-378.5\" rx=\"27\" ry=\"18\"/>\n<text text-anchor=\"middle\" x=\"4501\" y=\"-374.8\" font-family=\"Times,serif\" font-size=\"14.00\">+</text>\n</g>\n<!-- 135568481085296+&#45;&gt;135568481085296 -->\n<g id=\"edge15\" class=\"edge\">\n<title>135568481085296+&#45;&gt;135568481085296</title>\n<path fill=\"none\" stroke=\"black\" d=\"M4528.05,-381.27C4550.53,-383.67 4584.48,-387.28 4617.5,-390.8\"/>\n<polygon fill=\"black\" stroke=\"black\" points=\"4617.39,-394.31 4627.7,-391.89 4618.13,-387.35 4617.39,-394.31\"/>\n</g>\n<!-- 135564866602896 -->\n<g id=\"node36\" class=\"node\">\n<title>135564866602896</title>\n<polygon fill=\"none\" stroke=\"black\" points=\"1247,-165.5 1247,-201.5 1434,-201.5 1434,-165.5 1247,-165.5\"/>\n<text text-anchor=\"middle\" x=\"1257\" y=\"-179.8\" font-family=\"Times,serif\" font-size=\"14.00\"> </text>\n<polyline fill=\"none\" stroke=\"black\" points=\"1267,-165.5 1267,-201.5 \"/>\n<text text-anchor=\"middle\" x=\"1309.5\" y=\"-179.8\" font-family=\"Times,serif\" font-size=\"14.00\">data &#45;1.8819</text>\n<polyline fill=\"none\" stroke=\"black\" points=\"1352,-165.5 1352,-201.5 \"/>\n<text text-anchor=\"middle\" x=\"1393\" y=\"-179.8\" font-family=\"Times,serif\" font-size=\"14.00\">grad 0.0000</text>\n</g>\n<!-- 135564866603568+ -->\n<g id=\"node54\" class=\"node\">\n<title>135564866603568+</title>\n<ellipse fill=\"none\" stroke=\"black\" cx=\"1497\" cy=\"-183.5\" rx=\"27\" ry=\"18\"/>\n<text text-anchor=\"middle\" x=\"1497\" y=\"-179.8\" font-family=\"Times,serif\" font-size=\"14.00\">+</text>\n</g>\n<!-- 135564866602896&#45;&gt;135564866603568+ -->\n<g id=\"edge182\" class=\"edge\">\n<title>135564866602896&#45;&gt;135564866603568+</title>\n<path fill=\"none\" stroke=\"black\" d=\"M1434.05,-183.5C1443.06,-183.5 1451.79,-183.5 1459.7,-183.5\"/>\n<polygon fill=\"black\" stroke=\"black\" points=\"1459.95,-187 1469.95,-183.5 1459.95,-180 1459.95,-187\"/>\n</g>\n<!-- 135564866602896* -->\n<g id=\"node37\" class=\"node\">\n<title>135564866602896*</title>\n<ellipse fill=\"none\" stroke=\"black\" cx=\"1184\" cy=\"-183.5\" rx=\"27\" ry=\"18\"/>\n<text text-anchor=\"middle\" x=\"1184\" y=\"-179.8\" font-family=\"Times,serif\" font-size=\"14.00\">*</text>\n</g>\n<!-- 135564866602896*&#45;&gt;135564866602896 -->\n<g id=\"edge16\" class=\"edge\">\n<title>135564866602896*&#45;&gt;135564866602896</title>\n<path fill=\"none\" stroke=\"black\" d=\"M1211.21,-183.5C1218.73,-183.5 1227.43,-183.5 1236.67,-183.5\"/>\n<polygon fill=\"black\" stroke=\"black\" points=\"1236.89,-187 1246.89,-183.5 1236.89,-180 1236.89,-187\"/>\n</g>\n<!-- 135564866602944 -->\n<g id=\"node38\" class=\"node\">\n<title>135564866602944</title>\n<polygon fill=\"none\" stroke=\"black\" points=\"936.5,-193.5 936.5,-229.5 1118.5,-229.5 1118.5,-193.5 936.5,-193.5\"/>\n<text text-anchor=\"middle\" x=\"946.5\" y=\"-207.8\" font-family=\"Times,serif\" font-size=\"14.00\"> </text>\n<polyline fill=\"none\" stroke=\"black\" points=\"956.5,-193.5 956.5,-229.5 \"/>\n<text text-anchor=\"middle\" x=\"996.5\" y=\"-207.8\" font-family=\"Times,serif\" font-size=\"14.00\">data 2.0000</text>\n<polyline fill=\"none\" stroke=\"black\" points=\"1036.5,-193.5 1036.5,-229.5 \"/>\n<text text-anchor=\"middle\" x=\"1077.5\" y=\"-207.8\" font-family=\"Times,serif\" font-size=\"14.00\">grad 0.0000</text>\n</g>\n<!-- 135564866602944&#45;&gt;135564866602896* -->\n<g id=\"edge127\" class=\"edge\">\n<title>135564866602944&#45;&gt;135564866602896*</title>\n<path fill=\"none\" stroke=\"black\" d=\"M1118.82,-195.13C1129.07,-193.27 1139.01,-191.47 1147.88,-189.87\"/>\n<polygon fill=\"black\" stroke=\"black\" points=\"1148.54,-193.3 1157.75,-188.08 1147.29,-186.42 1148.54,-193.3\"/>\n</g>\n<!-- 135564866603088 -->\n<g id=\"node39\" class=\"node\">\n<title>135564866603088</title>\n<polygon fill=\"none\" stroke=\"black\" points=\"1875.5,-385.5 1875.5,-421.5 2057.5,-421.5 2057.5,-385.5 1875.5,-385.5\"/>\n<text text-anchor=\"middle\" x=\"1885.5\" y=\"-399.8\" font-family=\"Times,serif\" font-size=\"14.00\"> </text>\n<polyline fill=\"none\" stroke=\"black\" points=\"1895.5,-385.5 1895.5,-421.5 \"/>\n<text text-anchor=\"middle\" x=\"1935.5\" y=\"-399.8\" font-family=\"Times,serif\" font-size=\"14.00\">data 0.0121</text>\n<polyline fill=\"none\" stroke=\"black\" points=\"1975.5,-385.5 1975.5,-421.5 \"/>\n<text text-anchor=\"middle\" x=\"2016.5\" y=\"-399.8\" font-family=\"Times,serif\" font-size=\"14.00\">grad 0.0000</text>\n</g>\n<!-- 135564866616528+ -->\n<g id=\"node183\" class=\"node\">\n<title>135564866616528+</title>\n<ellipse fill=\"none\" stroke=\"black\" cx=\"2123\" cy=\"-403.5\" rx=\"27\" ry=\"18\"/>\n<text text-anchor=\"middle\" x=\"2123\" y=\"-399.8\" font-family=\"Times,serif\" font-size=\"14.00\">+</text>\n</g>\n<!-- 135564866603088&#45;&gt;135564866616528+ -->\n<g id=\"edge77\" class=\"edge\">\n<title>135564866603088&#45;&gt;135564866616528+</title>\n<path fill=\"none\" stroke=\"black\" d=\"M2057.82,-403.5C2067.57,-403.5 2077.04,-403.5 2085.57,-403.5\"/>\n<polygon fill=\"black\" stroke=\"black\" points=\"2085.83,-407 2095.83,-403.5 2085.83,-400 2085.83,-407\"/>\n</g>\n<!-- 135564866603088* -->\n<g id=\"node40\" class=\"node\">\n<title>135564866603088*</title>\n<ellipse fill=\"none\" stroke=\"black\" cx=\"1810\" cy=\"-403.5\" rx=\"27\" ry=\"18\"/>\n<text text-anchor=\"middle\" x=\"1810\" y=\"-399.8\" font-family=\"Times,serif\" font-size=\"14.00\">*</text>\n</g>\n<!-- 135564866603088*&#45;&gt;135564866603088 -->\n<g id=\"edge17\" class=\"edge\">\n<title>135564866603088*&#45;&gt;135564866603088</title>\n<path fill=\"none\" stroke=\"black\" d=\"M1837.21,-403.5C1845.34,-403.5 1854.85,-403.5 1864.94,-403.5\"/>\n<polygon fill=\"black\" stroke=\"black\" points=\"1865.19,-407 1875.19,-403.5 1865.19,-400 1865.19,-407\"/>\n</g>\n<!-- 135564866603136 -->\n<g id=\"node41\" class=\"node\">\n<title>135564866603136</title>\n<polygon fill=\"none\" stroke=\"black\" points=\"2188.5,-935.5 2188.5,-971.5 2370.5,-971.5 2370.5,-935.5 2188.5,-935.5\"/>\n<text text-anchor=\"middle\" x=\"2198.5\" y=\"-949.8\" font-family=\"Times,serif\" font-size=\"14.00\"> </text>\n<polyline fill=\"none\" stroke=\"black\" points=\"2208.5,-935.5 2208.5,-971.5 \"/>\n<text text-anchor=\"middle\" x=\"2248.5\" y=\"-949.8\" font-family=\"Times,serif\" font-size=\"14.00\">data 0.7442</text>\n<polyline fill=\"none\" stroke=\"black\" points=\"2288.5,-935.5 2288.5,-971.5 \"/>\n<text text-anchor=\"middle\" x=\"2329.5\" y=\"-949.8\" font-family=\"Times,serif\" font-size=\"14.00\">grad 0.0000</text>\n</g>\n<!-- 135564902325728* -->\n<g id=\"node186\" class=\"node\">\n<title>135564902325728*</title>\n<ellipse fill=\"none\" stroke=\"black\" cx=\"2436\" cy=\"-895.5\" rx=\"27\" ry=\"18\"/>\n<text text-anchor=\"middle\" x=\"2436\" y=\"-891.8\" font-family=\"Times,serif\" font-size=\"14.00\">*</text>\n</g>\n<!-- 135564866603136&#45;&gt;135564902325728* -->\n<g id=\"edge92\" class=\"edge\">\n<title>135564866603136&#45;&gt;135564902325728*</title>\n<path fill=\"none\" stroke=\"black\" d=\"M2347.67,-935.44C2356.28,-932.68 2364.9,-929.68 2373,-926.5 2383.98,-922.19 2395.64,-916.64 2405.85,-911.43\"/>\n<polygon fill=\"black\" stroke=\"black\" points=\"2407.51,-914.51 2414.76,-906.78 2404.27,-908.3 2407.51,-914.51\"/>\n</g>\n<!-- 135564866275456 -->\n<g id=\"node42\" class=\"node\">\n<title>135564866275456</title>\n<polygon fill=\"none\" stroke=\"black\" points=\"3440.5,-497.5 3440.5,-533.5 3622.5,-533.5 3622.5,-497.5 3440.5,-497.5\"/>\n<text text-anchor=\"middle\" x=\"3450.5\" y=\"-511.8\" font-family=\"Times,serif\" font-size=\"14.00\"> </text>\n<polyline fill=\"none\" stroke=\"black\" points=\"3460.5,-497.5 3460.5,-533.5 \"/>\n<text text-anchor=\"middle\" x=\"3500.5\" y=\"-511.8\" font-family=\"Times,serif\" font-size=\"14.00\">data 0.5872</text>\n<polyline fill=\"none\" stroke=\"black\" points=\"3540.5,-497.5 3540.5,-533.5 \"/>\n<text text-anchor=\"middle\" x=\"3581.5\" y=\"-511.8\" font-family=\"Times,serif\" font-size=\"14.00\">grad 0.0000</text>\n</g>\n<!-- 135568481090720* -->\n<g id=\"node177\" class=\"node\">\n<title>135568481090720*</title>\n<ellipse fill=\"none\" stroke=\"black\" cx=\"3688\" cy=\"-493.5\" rx=\"27\" ry=\"18\"/>\n<text text-anchor=\"middle\" x=\"3688\" y=\"-489.8\" font-family=\"Times,serif\" font-size=\"14.00\">*</text>\n</g>\n<!-- 135564866275456&#45;&gt;135568481090720* -->\n<g id=\"edge116\" class=\"edge\">\n<title>135564866275456&#45;&gt;135568481090720*</title>\n<path fill=\"none\" stroke=\"black\" d=\"M3622.82,-502.64C3632.87,-501.21 3642.61,-499.82 3651.34,-498.58\"/>\n<polygon fill=\"black\" stroke=\"black\" points=\"3652.04,-502.01 3661.45,-497.14 3651.05,-495.08 3652.04,-502.01\"/>\n</g>\n<!-- 135564866275456tanh&#45;&gt;135564866275456 -->\n<g id=\"edge18\" class=\"edge\">\n<title>135564866275456tanh&#45;&gt;135564866275456</title>\n<path fill=\"none\" stroke=\"black\" d=\"M3402.21,-515.5C3410.34,-515.5 3419.85,-515.5 3429.94,-515.5\"/>\n<polygon fill=\"black\" stroke=\"black\" points=\"3430.19,-519 3440.19,-515.5 3430.19,-512 3430.19,-519\"/>\n</g>\n<!-- 135564866603232 -->\n<g id=\"node44\" class=\"node\">\n<title>135564866603232</title>\n<polygon fill=\"none\" stroke=\"black\" points=\"2188.5,-440.5 2188.5,-476.5 2370.5,-476.5 2370.5,-440.5 2188.5,-440.5\"/>\n<text text-anchor=\"middle\" x=\"2198.5\" y=\"-454.8\" font-family=\"Times,serif\" font-size=\"14.00\"> </text>\n<polyline fill=\"none\" stroke=\"black\" points=\"2208.5,-440.5 2208.5,-476.5 \"/>\n<text text-anchor=\"middle\" x=\"2248.5\" y=\"-454.8\" font-family=\"Times,serif\" font-size=\"14.00\">data 0.0567</text>\n<polyline fill=\"none\" stroke=\"black\" points=\"2288.5,-440.5 2288.5,-476.5 \"/>\n<text text-anchor=\"middle\" x=\"2329.5\" y=\"-454.8\" font-family=\"Times,serif\" font-size=\"14.00\">grad 0.0000</text>\n</g>\n<!-- 135564866603376+ -->\n<g id=\"node49\" class=\"node\">\n<title>135564866603376+</title>\n<ellipse fill=\"none\" stroke=\"black\" cx=\"2436\" cy=\"-458.5\" rx=\"27\" ry=\"18\"/>\n<text text-anchor=\"middle\" x=\"2436\" y=\"-454.8\" font-family=\"Times,serif\" font-size=\"14.00\">+</text>\n</g>\n<!-- 135564866603232&#45;&gt;135564866603376+ -->\n<g id=\"edge190\" class=\"edge\">\n<title>135564866603232&#45;&gt;135564866603376+</title>\n<path fill=\"none\" stroke=\"black\" d=\"M2370.82,-458.5C2380.57,-458.5 2390.04,-458.5 2398.57,-458.5\"/>\n<polygon fill=\"black\" stroke=\"black\" points=\"2398.83,-462 2408.83,-458.5 2398.83,-455 2398.83,-462\"/>\n</g>\n<!-- 135564866603232* -->\n<g id=\"node45\" class=\"node\">\n<title>135564866603232*</title>\n<ellipse fill=\"none\" stroke=\"black\" cx=\"2123\" cy=\"-458.5\" rx=\"27\" ry=\"18\"/>\n<text text-anchor=\"middle\" x=\"2123\" y=\"-454.8\" font-family=\"Times,serif\" font-size=\"14.00\">*</text>\n</g>\n<!-- 135564866603232*&#45;&gt;135564866603232 -->\n<g id=\"edge19\" class=\"edge\">\n<title>135564866603232*&#45;&gt;135564866603232</title>\n<path fill=\"none\" stroke=\"black\" d=\"M2150.21,-458.5C2158.34,-458.5 2167.85,-458.5 2177.94,-458.5\"/>\n<polygon fill=\"black\" stroke=\"black\" points=\"2178.19,-462 2188.19,-458.5 2178.19,-455 2178.19,-462\"/>\n</g>\n<!-- 135564866283856 -->\n<g id=\"node46\" class=\"node\">\n<title>135564866283856</title>\n<polygon fill=\"none\" stroke=\"black\" points=\"2814.5,-222.5 2814.5,-258.5 2996.5,-258.5 2996.5,-222.5 2814.5,-222.5\"/>\n<text text-anchor=\"middle\" x=\"2824.5\" y=\"-236.8\" font-family=\"Times,serif\" font-size=\"14.00\"> </text>\n<polyline fill=\"none\" stroke=\"black\" points=\"2834.5,-222.5 2834.5,-258.5 \"/>\n<text text-anchor=\"middle\" x=\"2874.5\" y=\"-236.8\" font-family=\"Times,serif\" font-size=\"14.00\">data 0.6816</text>\n<polyline fill=\"none\" stroke=\"black\" points=\"2914.5,-222.5 2914.5,-258.5 \"/>\n<text text-anchor=\"middle\" x=\"2955.5\" y=\"-236.8\" font-family=\"Times,serif\" font-size=\"14.00\">grad 0.0000</text>\n</g>\n<!-- 135564866283856&#45;&gt;135564866283952+ -->\n<g id=\"edge199\" class=\"edge\">\n<title>135564866283856&#45;&gt;135564866283952+</title>\n<path fill=\"none\" stroke=\"black\" d=\"M2972.56,-258.55C2981.51,-261.36 2990.53,-264.37 2999,-267.5 3009.49,-271.38 3020.71,-276.22 3030.68,-280.78\"/>\n<polygon fill=\"black\" stroke=\"black\" points=\"3029.25,-283.98 3039.79,-285.03 3032.2,-277.63 3029.25,-283.98\"/>\n</g>\n<!-- 135564866283856* -->\n<g id=\"node47\" class=\"node\">\n<title>135564866283856*</title>\n<ellipse fill=\"none\" stroke=\"black\" cx=\"2749\" cy=\"-240.5\" rx=\"27\" ry=\"18\"/>\n<text text-anchor=\"middle\" x=\"2749\" y=\"-236.8\" font-family=\"Times,serif\" font-size=\"14.00\">*</text>\n</g>\n<!-- 135564866283856*&#45;&gt;135564866283856 -->\n<g id=\"edge20\" class=\"edge\">\n<title>135564866283856*&#45;&gt;135564866283856</title>\n<path fill=\"none\" stroke=\"black\" d=\"M2776.21,-240.5C2784.34,-240.5 2793.85,-240.5 2803.94,-240.5\"/>\n<polygon fill=\"black\" stroke=\"black\" points=\"2804.19,-244 2814.19,-240.5 2804.19,-237 2804.19,-244\"/>\n</g>\n<!-- 135564866603376 -->\n<g id=\"node48\" class=\"node\">\n<title>135564866603376</title>\n<polygon fill=\"none\" stroke=\"black\" points=\"2501.5,-442.5 2501.5,-478.5 2683.5,-478.5 2683.5,-442.5 2501.5,-442.5\"/>\n<text text-anchor=\"middle\" x=\"2511.5\" y=\"-456.8\" font-family=\"Times,serif\" font-size=\"14.00\"> </text>\n<polyline fill=\"none\" stroke=\"black\" points=\"2521.5,-442.5 2521.5,-478.5 \"/>\n<text text-anchor=\"middle\" x=\"2561.5\" y=\"-456.8\" font-family=\"Times,serif\" font-size=\"14.00\">data 0.1065</text>\n<polyline fill=\"none\" stroke=\"black\" points=\"2601.5,-442.5 2601.5,-478.5 \"/>\n<text text-anchor=\"middle\" x=\"2642.5\" y=\"-456.8\" font-family=\"Times,serif\" font-size=\"14.00\">grad 0.0000</text>\n</g>\n<!-- 135564866603376&#45;&gt;135564866609328+ -->\n<g id=\"edge125\" class=\"edge\">\n<title>135564866603376&#45;&gt;135564866609328+</title>\n<path fill=\"none\" stroke=\"black\" d=\"M2659.56,-478.55C2668.51,-481.36 2677.53,-484.37 2686,-487.5 2696.49,-491.38 2707.71,-496.22 2717.68,-500.78\"/>\n<polygon fill=\"black\" stroke=\"black\" points=\"2716.25,-503.98 2726.79,-505.03 2719.2,-497.63 2716.25,-503.98\"/>\n</g>\n<!-- 135564866603376+&#45;&gt;135564866603376 -->\n<g id=\"edge21\" class=\"edge\">\n<title>135564866603376+&#45;&gt;135564866603376</title>\n<path fill=\"none\" stroke=\"black\" d=\"M2463.21,-458.84C2471.34,-458.94 2480.85,-459.07 2490.94,-459.2\"/>\n<polygon fill=\"black\" stroke=\"black\" points=\"2491.15,-462.7 2501.19,-459.33 2491.24,-455.7 2491.15,-462.7\"/>\n</g>\n<!-- 135564866283952 -->\n<g id=\"node50\" class=\"node\">\n<title>135564866283952</title>\n<polygon fill=\"none\" stroke=\"black\" points=\"3127.5,-277.5 3127.5,-313.5 3309.5,-313.5 3309.5,-277.5 3127.5,-277.5\"/>\n<text text-anchor=\"middle\" x=\"3137.5\" y=\"-291.8\" font-family=\"Times,serif\" font-size=\"14.00\"> </text>\n<polyline fill=\"none\" stroke=\"black\" points=\"3147.5,-277.5 3147.5,-313.5 \"/>\n<text text-anchor=\"middle\" x=\"3187.5\" y=\"-291.8\" font-family=\"Times,serif\" font-size=\"14.00\">data 1.8314</text>\n<polyline fill=\"none\" stroke=\"black\" points=\"3227.5,-277.5 3227.5,-313.5 \"/>\n<text text-anchor=\"middle\" x=\"3268.5\" y=\"-291.8\" font-family=\"Times,serif\" font-size=\"14.00\">grad 0.0000</text>\n</g>\n<!-- 135564866286256tanh -->\n<g id=\"node110\" class=\"node\">\n<title>135564866286256tanh</title>\n<ellipse fill=\"none\" stroke=\"black\" cx=\"3375\" cy=\"-295.5\" rx=\"27\" ry=\"18\"/>\n<text text-anchor=\"middle\" x=\"3375\" y=\"-291.8\" font-family=\"Times,serif\" font-size=\"14.00\">tanh</text>\n</g>\n<!-- 135564866283952&#45;&gt;135564866286256tanh -->\n<g id=\"edge200\" class=\"edge\">\n<title>135564866283952&#45;&gt;135564866286256tanh</title>\n<path fill=\"none\" stroke=\"black\" d=\"M3309.82,-295.5C3319.57,-295.5 3329.04,-295.5 3337.57,-295.5\"/>\n<polygon fill=\"black\" stroke=\"black\" points=\"3337.83,-299 3347.83,-295.5 3337.83,-292 3337.83,-299\"/>\n</g>\n<!-- 135564866283952+&#45;&gt;135564866283952 -->\n<g id=\"edge22\" class=\"edge\">\n<title>135564866283952+&#45;&gt;135564866283952</title>\n<path fill=\"none\" stroke=\"black\" d=\"M3089.21,-295.5C3097.34,-295.5 3106.85,-295.5 3116.94,-295.5\"/>\n<polygon fill=\"black\" stroke=\"black\" points=\"3117.19,-299 3127.19,-295.5 3117.19,-292 3117.19,-299\"/>\n</g>\n<!-- 135564866611680 -->\n<g id=\"node52\" class=\"node\">\n<title>135564866611680</title>\n<polygon fill=\"none\" stroke=\"black\" points=\"310.5,-238.5 310.5,-274.5 492.5,-274.5 492.5,-238.5 310.5,-238.5\"/>\n<text text-anchor=\"middle\" x=\"320.5\" y=\"-252.8\" font-family=\"Times,serif\" font-size=\"14.00\"> </text>\n<polyline fill=\"none\" stroke=\"black\" points=\"330.5,-238.5 330.5,-274.5 \"/>\n<text text-anchor=\"middle\" x=\"370.5\" y=\"-252.8\" font-family=\"Times,serif\" font-size=\"14.00\">data 0.4847</text>\n<polyline fill=\"none\" stroke=\"black\" points=\"410.5,-238.5 410.5,-274.5 \"/>\n<text text-anchor=\"middle\" x=\"451.5\" y=\"-252.8\" font-family=\"Times,serif\" font-size=\"14.00\">grad 0.0000</text>\n</g>\n<!-- 135564866608320+ -->\n<g id=\"node179\" class=\"node\">\n<title>135564866608320+</title>\n<ellipse fill=\"none\" stroke=\"black\" cx=\"558\" cy=\"-256.5\" rx=\"27\" ry=\"18\"/>\n<text text-anchor=\"middle\" x=\"558\" y=\"-252.8\" font-family=\"Times,serif\" font-size=\"14.00\">+</text>\n</g>\n<!-- 135564866611680&#45;&gt;135564866608320+ -->\n<g id=\"edge86\" class=\"edge\">\n<title>135564866611680&#45;&gt;135564866608320+</title>\n<path fill=\"none\" stroke=\"black\" d=\"M492.82,-256.5C502.57,-256.5 512.04,-256.5 520.57,-256.5\"/>\n<polygon fill=\"black\" stroke=\"black\" points=\"520.83,-260 530.83,-256.5 520.83,-253 520.83,-260\"/>\n</g>\n<!-- 135564866603568 -->\n<g id=\"node53\" class=\"node\">\n<title>135564866603568</title>\n<polygon fill=\"none\" stroke=\"black\" points=\"1560,-165.5 1560,-201.5 1747,-201.5 1747,-165.5 1560,-165.5\"/>\n<text text-anchor=\"middle\" x=\"1570\" y=\"-179.8\" font-family=\"Times,serif\" font-size=\"14.00\"> </text>\n<polyline fill=\"none\" stroke=\"black\" points=\"1580,-165.5 1580,-201.5 \"/>\n<text text-anchor=\"middle\" x=\"1622.5\" y=\"-179.8\" font-family=\"Times,serif\" font-size=\"14.00\">data &#45;1.4015</text>\n<polyline fill=\"none\" stroke=\"black\" points=\"1665,-165.5 1665,-201.5 \"/>\n<text text-anchor=\"middle\" x=\"1706\" y=\"-179.8\" font-family=\"Times,serif\" font-size=\"14.00\">grad 0.0000</text>\n</g>\n<!-- 135564866603568&#45;&gt;135564866612496+ -->\n<g id=\"edge112\" class=\"edge\">\n<title>135564866603568&#45;&gt;135564866612496+</title>\n<path fill=\"none\" stroke=\"black\" d=\"M1718.02,-165.35C1727.79,-162.24 1737.71,-158.92 1747,-155.5 1757.25,-151.73 1768.23,-147.14 1778.07,-142.82\"/>\n<polygon fill=\"black\" stroke=\"black\" points=\"1779.74,-145.9 1787.45,-138.63 1776.89,-139.51 1779.74,-145.9\"/>\n</g>\n<!-- 135564866603568+&#45;&gt;135564866603568 -->\n<g id=\"edge23\" class=\"edge\">\n<title>135564866603568+&#45;&gt;135564866603568</title>\n<path fill=\"none\" stroke=\"black\" d=\"M1524.21,-183.5C1531.73,-183.5 1540.43,-183.5 1549.67,-183.5\"/>\n<polygon fill=\"black\" stroke=\"black\" points=\"1549.89,-187 1559.89,-183.5 1549.89,-180 1549.89,-187\"/>\n</g>\n<!-- 135564866611776 -->\n<g id=\"node55\" class=\"node\">\n<title>135564866611776</title>\n<polygon fill=\"none\" stroke=\"black\" points=\"2186,-145.5 2186,-181.5 2373,-181.5 2373,-145.5 2186,-145.5\"/>\n<text text-anchor=\"middle\" x=\"2196\" y=\"-159.8\" font-family=\"Times,serif\" font-size=\"14.00\"> </text>\n<polyline fill=\"none\" stroke=\"black\" points=\"2206,-145.5 2206,-181.5 \"/>\n<text text-anchor=\"middle\" x=\"2248.5\" y=\"-159.8\" font-family=\"Times,serif\" font-size=\"14.00\">data &#45;1.4039</text>\n<polyline fill=\"none\" stroke=\"black\" points=\"2291,-145.5 2291,-181.5 \"/>\n<text text-anchor=\"middle\" x=\"2332\" y=\"-159.8\" font-family=\"Times,serif\" font-size=\"14.00\">grad 0.0000</text>\n</g>\n<!-- 135564866611872tanh -->\n<g id=\"node61\" class=\"node\">\n<title>135564866611872tanh</title>\n<ellipse fill=\"none\" stroke=\"black\" cx=\"2436\" cy=\"-190.5\" rx=\"27\" ry=\"18\"/>\n<text text-anchor=\"middle\" x=\"2436\" y=\"-186.8\" font-family=\"Times,serif\" font-size=\"14.00\">tanh</text>\n</g>\n<!-- 135564866611776&#45;&gt;135564866611872tanh -->\n<g id=\"edge139\" class=\"edge\">\n<title>135564866611776&#45;&gt;135564866611872tanh</title>\n<path fill=\"none\" stroke=\"black\" d=\"M2373.05,-179.67C2382.34,-181.3 2391.33,-182.87 2399.44,-184.29\"/>\n<polygon fill=\"black\" stroke=\"black\" points=\"2399.1,-187.78 2409.55,-186.05 2400.3,-180.88 2399.1,-187.78\"/>\n</g>\n<!-- 135564866611776+&#45;&gt;135564866611776 -->\n<g id=\"edge24\" class=\"edge\">\n<title>135564866611776+&#45;&gt;135564866611776</title>\n<path fill=\"none\" stroke=\"black\" d=\"M2148.82,-134.12C2160.16,-136.69 2174.35,-139.91 2189.14,-143.26\"/>\n<polygon fill=\"black\" stroke=\"black\" points=\"2188.4,-146.68 2198.93,-145.47 2189.95,-139.85 2188.4,-146.68\"/>\n</g>\n<!-- 135564866603664 -->\n<g id=\"node57\" class=\"node\">\n<title>135564866603664</title>\n<polygon fill=\"none\" stroke=\"black\" points=\"2186,-660.5 2186,-696.5 2373,-696.5 2373,-660.5 2186,-660.5\"/>\n<text text-anchor=\"middle\" x=\"2196\" y=\"-674.8\" font-family=\"Times,serif\" font-size=\"14.00\"> </text>\n<polyline fill=\"none\" stroke=\"black\" points=\"2206,-660.5 2206,-696.5 \"/>\n<text text-anchor=\"middle\" x=\"2248.5\" y=\"-674.8\" font-family=\"Times,serif\" font-size=\"14.00\">data &#45;0.3862</text>\n<polyline fill=\"none\" stroke=\"black\" points=\"2291,-660.5 2291,-696.5 \"/>\n<text text-anchor=\"middle\" x=\"2332\" y=\"-674.8\" font-family=\"Times,serif\" font-size=\"14.00\">grad 0.0000</text>\n</g>\n<!-- 135564866604144* -->\n<g id=\"node71\" class=\"node\">\n<title>135564866604144*</title>\n<ellipse fill=\"none\" stroke=\"black\" cx=\"2436\" cy=\"-680.5\" rx=\"27\" ry=\"18\"/>\n<text text-anchor=\"middle\" x=\"2436\" y=\"-676.8\" font-family=\"Times,serif\" font-size=\"14.00\">*</text>\n</g>\n<!-- 135564866603664&#45;&gt;135564866604144* -->\n<g id=\"edge170\" class=\"edge\">\n<title>135564866603664&#45;&gt;135564866604144*</title>\n<path fill=\"none\" stroke=\"black\" d=\"M2373.05,-679.7C2382.06,-679.81 2390.79,-679.93 2398.7,-680.03\"/>\n<polygon fill=\"black\" stroke=\"black\" points=\"2398.91,-683.53 2408.95,-680.16 2399,-676.53 2398.91,-683.53\"/>\n</g>\n<!-- 135564901427872 -->\n<g id=\"node58\" class=\"node\">\n<title>135564901427872</title>\n<polygon fill=\"none\" stroke=\"black\" points=\"4187,-529.5 4187,-565.5 4374,-565.5 4374,-529.5 4187,-529.5\"/>\n<text text-anchor=\"middle\" x=\"4197\" y=\"-543.8\" font-family=\"Times,serif\" font-size=\"14.00\"> </text>\n<polyline fill=\"none\" stroke=\"black\" points=\"4207,-529.5 4207,-565.5 \"/>\n<text text-anchor=\"middle\" x=\"4249.5\" y=\"-543.8\" font-family=\"Times,serif\" font-size=\"14.00\">data &#45;0.0826</text>\n<polyline fill=\"none\" stroke=\"black\" points=\"4292,-529.5 4292,-565.5 \"/>\n<text text-anchor=\"middle\" x=\"4333\" y=\"-543.8\" font-family=\"Times,serif\" font-size=\"14.00\">grad 0.0000</text>\n</g>\n<!-- 135564901427872&#45;&gt;135564901425712+ -->\n<g id=\"edge203\" class=\"edge\">\n<title>135564901427872&#45;&gt;135564901425712+</title>\n<path fill=\"none\" stroke=\"black\" d=\"M4374.31,-546.16C4462.68,-544.99 4599.4,-543.5 4718,-543.5 4718,-543.5 4718,-543.5 4874,-543.5 4972.1,-543.5 5087.3,-530.58 5144.32,-523.31\"/>\n<polygon fill=\"black\" stroke=\"black\" points=\"5144.8,-526.78 5154.27,-522.03 5143.9,-519.84 5144.8,-526.78\"/>\n</g>\n<!-- 135564901427872* -->\n<g id=\"node59\" class=\"node\">\n<title>135564901427872*</title>\n<ellipse fill=\"none\" stroke=\"black\" cx=\"3688\" cy=\"-570.5\" rx=\"27\" ry=\"18\"/>\n<text text-anchor=\"middle\" x=\"3688\" y=\"-566.8\" font-family=\"Times,serif\" font-size=\"14.00\">*</text>\n</g>\n<!-- 135564901427872*&#45;&gt;135564901427872 -->\n<g id=\"edge25\" class=\"edge\">\n<title>135564901427872*&#45;&gt;135564901427872</title>\n<path fill=\"none\" stroke=\"black\" d=\"M3715.13,-569.48C3794.61,-566.39 4036.52,-556.96 4176.48,-551.51\"/>\n<polygon fill=\"black\" stroke=\"black\" points=\"4176.94,-555 4186.8,-551.11 4176.67,-548 4176.94,-555\"/>\n</g>\n<!-- 135564866611872 -->\n<g id=\"node60\" class=\"node\">\n<title>135564866611872</title>\n<polygon fill=\"none\" stroke=\"black\" points=\"2499,-277.5 2499,-313.5 2686,-313.5 2686,-277.5 2499,-277.5\"/>\n<text text-anchor=\"middle\" x=\"2509\" y=\"-291.8\" font-family=\"Times,serif\" font-size=\"14.00\"> </text>\n<polyline fill=\"none\" stroke=\"black\" points=\"2519,-277.5 2519,-313.5 \"/>\n<text text-anchor=\"middle\" x=\"2561.5\" y=\"-291.8\" font-family=\"Times,serif\" font-size=\"14.00\">data &#45;0.8862</text>\n<polyline fill=\"none\" stroke=\"black\" points=\"2604,-277.5 2604,-313.5 \"/>\n<text text-anchor=\"middle\" x=\"2645\" y=\"-291.8\" font-family=\"Times,serif\" font-size=\"14.00\">grad 0.0000</text>\n</g>\n<!-- 135564866611872&#45;&gt;135564866283856* -->\n<g id=\"edge179\" class=\"edge\">\n<title>135564866611872&#45;&gt;135564866283856*</title>\n<path fill=\"none\" stroke=\"black\" d=\"M2657.02,-277.35C2666.79,-274.24 2676.71,-270.92 2686,-267.5 2696.25,-263.73 2707.23,-259.14 2717.07,-254.82\"/>\n<polygon fill=\"black\" stroke=\"black\" points=\"2718.74,-257.9 2726.45,-250.63 2715.89,-251.51 2718.74,-257.9\"/>\n</g>\n<!-- 135564866604048* -->\n<g id=\"node67\" class=\"node\">\n<title>135564866604048*</title>\n<ellipse fill=\"none\" stroke=\"black\" cx=\"2749\" cy=\"-295.5\" rx=\"27\" ry=\"18\"/>\n<text text-anchor=\"middle\" x=\"2749\" y=\"-291.8\" font-family=\"Times,serif\" font-size=\"14.00\">*</text>\n</g>\n<!-- 135564866611872&#45;&gt;135564866604048* -->\n<g id=\"edge163\" class=\"edge\">\n<title>135564866611872&#45;&gt;135564866604048*</title>\n<path fill=\"none\" stroke=\"black\" d=\"M2686.05,-295.5C2695.06,-295.5 2703.79,-295.5 2711.7,-295.5\"/>\n<polygon fill=\"black\" stroke=\"black\" points=\"2711.95,-299 2721.95,-295.5 2711.95,-292 2711.95,-299\"/>\n</g>\n<!-- 135564866286112* -->\n<g id=\"node100\" class=\"node\">\n<title>135564866286112*</title>\n<ellipse fill=\"none\" stroke=\"black\" cx=\"2749\" cy=\"-350.5\" rx=\"27\" ry=\"18\"/>\n<text text-anchor=\"middle\" x=\"2749\" y=\"-346.8\" font-family=\"Times,serif\" font-size=\"14.00\">*</text>\n</g>\n<!-- 135564866611872&#45;&gt;135564866286112* -->\n<g id=\"edge195\" class=\"edge\">\n<title>135564866611872&#45;&gt;135564866286112*</title>\n<path fill=\"none\" stroke=\"black\" d=\"M2659.56,-313.55C2668.51,-316.36 2677.53,-319.37 2686,-322.5 2696.49,-326.38 2707.71,-331.22 2717.68,-335.78\"/>\n<polygon fill=\"black\" stroke=\"black\" points=\"2716.25,-338.98 2726.79,-340.03 2719.2,-332.63 2716.25,-338.98\"/>\n</g>\n<!-- 135564902324096* -->\n<g id=\"node149\" class=\"node\">\n<title>135564902324096*</title>\n<ellipse fill=\"none\" stroke=\"black\" cx=\"2749\" cy=\"-460.5\" rx=\"27\" ry=\"18\"/>\n<text text-anchor=\"middle\" x=\"2749\" y=\"-456.8\" font-family=\"Times,serif\" font-size=\"14.00\">*</text>\n</g>\n<!-- 135564866611872&#45;&gt;135564902324096* -->\n<g id=\"edge136\" class=\"edge\">\n<title>135564866611872&#45;&gt;135564902324096*</title>\n<path fill=\"none\" stroke=\"black\" d=\"M2674.49,-313.58C2678.63,-316.17 2682.51,-319.13 2686,-322.5 2722.96,-358.28 2695.89,-388.18 2722,-432.5 2723.15,-434.45 2724.45,-436.38 2725.85,-438.26\"/>\n<polygon fill=\"black\" stroke=\"black\" points=\"2723.29,-440.65 2732.39,-446.07 2728.66,-436.15 2723.29,-440.65\"/>\n</g>\n<!-- 135564866611872tanh&#45;&gt;135564866611872 -->\n<g id=\"edge26\" class=\"edge\">\n<title>135564866611872tanh&#45;&gt;135564866611872</title>\n<path fill=\"none\" stroke=\"black\" d=\"M2446.42,-207.41C2457.01,-224.92 2475.81,-251.86 2499,-267.5 2501.87,-269.44 2504.88,-271.24 2507.98,-272.92\"/>\n<polygon fill=\"black\" stroke=\"black\" points=\"2506.44,-276.06 2516.95,-277.35 2509.53,-269.79 2506.44,-276.06\"/>\n</g>\n<!-- 135564866611920 -->\n<g id=\"node62\" class=\"node\">\n<title>135564866611920</title>\n<polygon fill=\"none\" stroke=\"black\" points=\"1873,-825.5 1873,-861.5 2060,-861.5 2060,-825.5 1873,-825.5\"/>\n<text text-anchor=\"middle\" x=\"1883\" y=\"-839.8\" font-family=\"Times,serif\" font-size=\"14.00\"> </text>\n<polyline fill=\"none\" stroke=\"black\" points=\"1893,-825.5 1893,-861.5 \"/>\n<text text-anchor=\"middle\" x=\"1935.5\" y=\"-839.8\" font-family=\"Times,serif\" font-size=\"14.00\">data &#45;0.5219</text>\n<polyline fill=\"none\" stroke=\"black\" points=\"1978,-825.5 1978,-861.5 \"/>\n<text text-anchor=\"middle\" x=\"2019\" y=\"-839.8\" font-family=\"Times,serif\" font-size=\"14.00\">grad 0.0000</text>\n</g>\n<!-- 135564866279968+ -->\n<g id=\"node168\" class=\"node\">\n<title>135564866279968+</title>\n<ellipse fill=\"none\" stroke=\"black\" cx=\"2123\" cy=\"-788.5\" rx=\"27\" ry=\"18\"/>\n<text text-anchor=\"middle\" x=\"2123\" y=\"-784.8\" font-family=\"Times,serif\" font-size=\"14.00\">+</text>\n</g>\n<!-- 135564866611920&#45;&gt;135564866279968+ -->\n<g id=\"edge110\" class=\"edge\">\n<title>135564866611920&#45;&gt;135564866279968+</title>\n<path fill=\"none\" stroke=\"black\" d=\"M2033.56,-825.45C2042.51,-822.64 2051.53,-819.63 2060,-816.5 2070.49,-812.62 2081.71,-807.78 2091.68,-803.22\"/>\n<polygon fill=\"black\" stroke=\"black\" points=\"2093.2,-806.37 2100.79,-798.97 2090.25,-800.02 2093.2,-806.37\"/>\n</g>\n<!-- 135564866603808 -->\n<g id=\"node63\" class=\"node\">\n<title>135564866603808</title>\n<polygon fill=\"none\" stroke=\"black\" points=\"1875.5,-440.5 1875.5,-476.5 2057.5,-476.5 2057.5,-440.5 1875.5,-440.5\"/>\n<text text-anchor=\"middle\" x=\"1885.5\" y=\"-454.8\" font-family=\"Times,serif\" font-size=\"14.00\"> </text>\n<polyline fill=\"none\" stroke=\"black\" points=\"1895.5,-440.5 1895.5,-476.5 \"/>\n<text text-anchor=\"middle\" x=\"1935.5\" y=\"-454.8\" font-family=\"Times,serif\" font-size=\"14.00\">data 0.9888</text>\n<polyline fill=\"none\" stroke=\"black\" points=\"1975.5,-440.5 1975.5,-476.5 \"/>\n<text text-anchor=\"middle\" x=\"2016.5\" y=\"-454.8\" font-family=\"Times,serif\" font-size=\"14.00\">grad 0.0000</text>\n</g>\n<!-- 135564866603808&#45;&gt;135564866603232* -->\n<g id=\"edge79\" class=\"edge\">\n<title>135564866603808&#45;&gt;135564866603232*</title>\n<path fill=\"none\" stroke=\"black\" d=\"M2057.82,-458.5C2067.57,-458.5 2077.04,-458.5 2085.57,-458.5\"/>\n<polygon fill=\"black\" stroke=\"black\" points=\"2085.83,-462 2095.83,-458.5 2085.83,-455 2085.83,-462\"/>\n</g>\n<!-- 135564866603904 -->\n<g id=\"node64\" class=\"node\">\n<title>135564866603904</title>\n<polygon fill=\"none\" stroke=\"black\" points=\"1560,-378.5 1560,-414.5 1747,-414.5 1747,-378.5 1560,-378.5\"/>\n<text text-anchor=\"middle\" x=\"1570\" y=\"-392.8\" font-family=\"Times,serif\" font-size=\"14.00\"> </text>\n<polyline fill=\"none\" stroke=\"black\" points=\"1580,-378.5 1580,-414.5 \"/>\n<text text-anchor=\"middle\" x=\"1622.5\" y=\"-392.8\" font-family=\"Times,serif\" font-size=\"14.00\">data &#45;0.8004</text>\n<polyline fill=\"none\" stroke=\"black\" points=\"1665,-378.5 1665,-414.5 \"/>\n<text text-anchor=\"middle\" x=\"1706\" y=\"-392.8\" font-family=\"Times,serif\" font-size=\"14.00\">grad 0.0000</text>\n</g>\n<!-- 135564866603904&#45;&gt;135564866603088* -->\n<g id=\"edge159\" class=\"edge\">\n<title>135564866603904&#45;&gt;135564866603088*</title>\n<path fill=\"none\" stroke=\"black\" d=\"M1747.05,-400.69C1756.06,-401.1 1764.79,-401.5 1772.7,-401.86\"/>\n<polygon fill=\"black\" stroke=\"black\" points=\"1772.8,-405.36 1782.95,-402.32 1773.12,-398.37 1772.8,-405.36\"/>\n</g>\n<!-- 135564866603952 -->\n<g id=\"node65\" class=\"node\">\n<title>135564866603952</title>\n<polygon fill=\"none\" stroke=\"black\" points=\"1875.5,-330.5 1875.5,-366.5 2057.5,-366.5 2057.5,-330.5 1875.5,-330.5\"/>\n<text text-anchor=\"middle\" x=\"1885.5\" y=\"-344.8\" font-family=\"Times,serif\" font-size=\"14.00\"> </text>\n<polyline fill=\"none\" stroke=\"black\" points=\"1895.5,-330.5 1895.5,-366.5 \"/>\n<text text-anchor=\"middle\" x=\"1935.5\" y=\"-344.8\" font-family=\"Times,serif\" font-size=\"14.00\">data 0.0377</text>\n<polyline fill=\"none\" stroke=\"black\" points=\"1975.5,-330.5 1975.5,-366.5 \"/>\n<text text-anchor=\"middle\" x=\"2016.5\" y=\"-344.8\" font-family=\"Times,serif\" font-size=\"14.00\">grad 0.0000</text>\n</g>\n<!-- 135564866603952&#45;&gt;135564866616528+ -->\n<g id=\"edge129\" class=\"edge\">\n<title>135564866603952&#45;&gt;135564866616528+</title>\n<path fill=\"none\" stroke=\"black\" d=\"M2033.56,-366.55C2042.51,-369.36 2051.53,-372.37 2060,-375.5 2070.49,-379.38 2081.71,-384.22 2091.68,-388.78\"/>\n<polygon fill=\"black\" stroke=\"black\" points=\"2090.25,-391.98 2100.79,-393.03 2093.2,-385.63 2090.25,-391.98\"/>\n</g>\n<!-- 135564866604048 -->\n<g id=\"node66\" class=\"node\">\n<title>135564866604048</title>\n<polygon fill=\"none\" stroke=\"black\" points=\"2814.5,-277.5 2814.5,-313.5 2996.5,-313.5 2996.5,-277.5 2814.5,-277.5\"/>\n<text text-anchor=\"middle\" x=\"2824.5\" y=\"-291.8\" font-family=\"Times,serif\" font-size=\"14.00\"> </text>\n<polyline fill=\"none\" stroke=\"black\" points=\"2834.5,-277.5 2834.5,-313.5 \"/>\n<text text-anchor=\"middle\" x=\"2874.5\" y=\"-291.8\" font-family=\"Times,serif\" font-size=\"14.00\">data 0.4557</text>\n<polyline fill=\"none\" stroke=\"black\" points=\"2914.5,-277.5 2914.5,-313.5 \"/>\n<text text-anchor=\"middle\" x=\"2955.5\" y=\"-291.8\" font-family=\"Times,serif\" font-size=\"14.00\">grad 0.0000</text>\n</g>\n<!-- 135564866604048&#45;&gt;135564866606976+ -->\n<g id=\"edge131\" class=\"edge\">\n<title>135564866604048&#45;&gt;135564866606976+</title>\n<path fill=\"none\" stroke=\"black\" d=\"M2983.53,-313.66C2988.97,-316.23 2994.19,-319.16 2999,-322.5 3020.11,-337.15 3036.97,-361.3 3047.74,-379.78\"/>\n<polygon fill=\"black\" stroke=\"black\" points=\"3044.74,-381.57 3052.68,-388.59 3050.85,-378.15 3044.74,-381.57\"/>\n</g>\n<!-- 135564866604048*&#45;&gt;135564866604048 -->\n<g id=\"edge27\" class=\"edge\">\n<title>135564866604048*&#45;&gt;135564866604048</title>\n<path fill=\"none\" stroke=\"black\" d=\"M2776.21,-295.5C2784.34,-295.5 2793.85,-295.5 2803.94,-295.5\"/>\n<polygon fill=\"black\" stroke=\"black\" points=\"2804.19,-299 2814.19,-295.5 2804.19,-292 2804.19,-299\"/>\n</g>\n<!-- 135564866284576 -->\n<g id=\"node68\" class=\"node\">\n<title>135564866284576</title>\n<polygon fill=\"none\" stroke=\"black\" points=\"2501.5,-552.5 2501.5,-588.5 2683.5,-588.5 2683.5,-552.5 2501.5,-552.5\"/>\n<text text-anchor=\"middle\" x=\"2511.5\" y=\"-566.8\" font-family=\"Times,serif\" font-size=\"14.00\"> </text>\n<polyline fill=\"none\" stroke=\"black\" points=\"2521.5,-552.5 2521.5,-588.5 \"/>\n<text text-anchor=\"middle\" x=\"2561.5\" y=\"-566.8\" font-family=\"Times,serif\" font-size=\"14.00\">data 0.5024</text>\n<polyline fill=\"none\" stroke=\"black\" points=\"2601.5,-552.5 2601.5,-588.5 \"/>\n<text text-anchor=\"middle\" x=\"2642.5\" y=\"-566.8\" font-family=\"Times,serif\" font-size=\"14.00\">grad 0.0000</text>\n</g>\n<!-- 135564866284576&#45;&gt;135564866281648+ -->\n<g id=\"edge88\" class=\"edge\">\n<title>135564866284576&#45;&gt;135564866281648+</title>\n<path fill=\"none\" stroke=\"black\" d=\"M2673.2,-552.31C2677.83,-549.5 2682.16,-546.25 2686,-542.5 2722.52,-506.88 2696.05,-477.42 2722,-433.5 2723.15,-431.55 2724.46,-429.62 2725.86,-427.75\"/>\n<polygon fill=\"black\" stroke=\"black\" points=\"2728.66,-429.85 2732.4,-419.94 2723.3,-425.36 2728.66,-429.85\"/>\n</g>\n<!-- 135564866284576* -->\n<g id=\"node69\" class=\"node\">\n<title>135564866284576*</title>\n<ellipse fill=\"none\" stroke=\"black\" cx=\"2436\" cy=\"-623.5\" rx=\"27\" ry=\"18\"/>\n<text text-anchor=\"middle\" x=\"2436\" y=\"-619.8\" font-family=\"Times,serif\" font-size=\"14.00\">*</text>\n</g>\n<!-- 135564866284576*&#45;&gt;135564866284576 -->\n<g id=\"edge28\" class=\"edge\">\n<title>135564866284576*&#45;&gt;135564866284576</title>\n<path fill=\"none\" stroke=\"black\" d=\"M2458.86,-613.62C2470.63,-608.48 2485.47,-602.3 2499,-597.5 2504.56,-595.53 2510.33,-593.59 2516.17,-591.71\"/>\n<polygon fill=\"black\" stroke=\"black\" points=\"2517.53,-594.96 2526.01,-588.61 2515.42,-588.28 2517.53,-594.96\"/>\n</g>\n<!-- 135564866604144 -->\n<g id=\"node70\" class=\"node\">\n<title>135564866604144</title>\n<polygon fill=\"none\" stroke=\"black\" points=\"2499,-662.5 2499,-698.5 2686,-698.5 2686,-662.5 2499,-662.5\"/>\n<text text-anchor=\"middle\" x=\"2509\" y=\"-676.8\" font-family=\"Times,serif\" font-size=\"14.00\"> </text>\n<polyline fill=\"none\" stroke=\"black\" points=\"2519,-662.5 2519,-698.5 \"/>\n<text text-anchor=\"middle\" x=\"2561.5\" y=\"-676.8\" font-family=\"Times,serif\" font-size=\"14.00\">data &#45;0.2432</text>\n<polyline fill=\"none\" stroke=\"black\" points=\"2604,-662.5 2604,-698.5 \"/>\n<text text-anchor=\"middle\" x=\"2645\" y=\"-676.8\" font-family=\"Times,serif\" font-size=\"14.00\">grad 0.0000</text>\n</g>\n<!-- 135564866604144&#45;&gt;135564866609328+ -->\n<g id=\"edge100\" class=\"edge\">\n<title>135564866604144&#45;&gt;135564866609328+</title>\n<path fill=\"none\" stroke=\"black\" d=\"M2673.2,-662.31C2677.83,-659.5 2682.16,-656.25 2686,-652.5 2722.52,-616.88 2696.05,-587.42 2722,-543.5 2723.15,-541.55 2724.46,-539.62 2725.86,-537.75\"/>\n<polygon fill=\"black\" stroke=\"black\" points=\"2728.66,-539.85 2732.4,-529.94 2723.3,-535.36 2728.66,-539.85\"/>\n</g>\n<!-- 135564866604144*&#45;&gt;135564866604144 -->\n<g id=\"edge29\" class=\"edge\">\n<title>135564866604144*&#45;&gt;135564866604144</title>\n<path fill=\"none\" stroke=\"black\" d=\"M2463.21,-680.5C2470.73,-680.5 2479.43,-680.5 2488.67,-680.5\"/>\n<polygon fill=\"black\" stroke=\"black\" points=\"2488.89,-684 2498.89,-680.5 2488.89,-677 2488.89,-684\"/>\n</g>\n<!-- 135564866612352 -->\n<g id=\"node72\" class=\"node\">\n<title>135564866612352</title>\n<polygon fill=\"none\" stroke=\"black\" points=\"2188.5,-825.5 2188.5,-861.5 2370.5,-861.5 2370.5,-825.5 2188.5,-825.5\"/>\n<text text-anchor=\"middle\" x=\"2198.5\" y=\"-839.8\" font-family=\"Times,serif\" font-size=\"14.00\"> </text>\n<polyline fill=\"none\" stroke=\"black\" points=\"2208.5,-825.5 2208.5,-861.5 \"/>\n<text text-anchor=\"middle\" x=\"2248.5\" y=\"-839.8\" font-family=\"Times,serif\" font-size=\"14.00\">data 0.6297</text>\n<polyline fill=\"none\" stroke=\"black\" points=\"2288.5,-825.5 2288.5,-861.5 \"/>\n<text text-anchor=\"middle\" x=\"2329.5\" y=\"-839.8\" font-family=\"Times,serif\" font-size=\"14.00\">grad 0.0000</text>\n</g>\n<!-- 135564866612352&#45;&gt;135564866284576* -->\n<g id=\"edge93\" class=\"edge\">\n<title>135564866612352&#45;&gt;135564866284576*</title>\n<path fill=\"none\" stroke=\"black\" d=\"M2362.72,-825.26C2366.45,-822.7 2369.91,-819.8 2373,-816.5 2423.68,-762.32 2375.68,-719.79 2409,-653.5 2410.31,-650.9 2411.89,-648.35 2413.62,-645.89\"/>\n<polygon fill=\"black\" stroke=\"black\" points=\"2416.41,-648 2419.89,-637.99 2410.93,-643.64 2416.41,-648\"/>\n</g>\n<!-- 135564866612352&#45;&gt;135564866604144* -->\n<g id=\"edge207\" class=\"edge\">\n<title>135564866612352&#45;&gt;135564866604144*</title>\n<path fill=\"none\" stroke=\"black\" d=\"M2360.65,-825.25C2365.06,-822.7 2369.22,-819.8 2373,-816.5 2402.66,-790.57 2392.58,-771.31 2409,-735.5 2413.27,-726.19 2418.03,-716.05 2422.3,-707.04\"/>\n<polygon fill=\"black\" stroke=\"black\" points=\"2425.56,-708.33 2426.7,-697.79 2419.24,-705.32 2425.56,-708.33\"/>\n</g>\n<!-- 135564866276704* -->\n<g id=\"node81\" class=\"node\">\n<title>135564866276704*</title>\n<ellipse fill=\"none\" stroke=\"black\" cx=\"2436\" cy=\"-841.5\" rx=\"27\" ry=\"18\"/>\n<text text-anchor=\"middle\" x=\"2436\" y=\"-837.8\" font-family=\"Times,serif\" font-size=\"14.00\">*</text>\n</g>\n<!-- 135564866612352&#45;&gt;135564866276704* -->\n<g id=\"edge141\" class=\"edge\">\n<title>135564866612352&#45;&gt;135564866276704*</title>\n<path fill=\"none\" stroke=\"black\" d=\"M2370.82,-842.33C2380.57,-842.2 2390.04,-842.08 2398.57,-841.97\"/>\n<polygon fill=\"black\" stroke=\"black\" points=\"2398.87,-845.47 2408.83,-841.84 2398.78,-838.47 2398.87,-845.47\"/>\n</g>\n<!-- 135564866612352&#45;&gt;135564902325728* -->\n<g id=\"edge206\" class=\"edge\">\n<title>135564866612352&#45;&gt;135564902325728*</title>\n<path fill=\"none\" stroke=\"black\" d=\"M2342.41,-861.53C2352.67,-864.72 2363.16,-868.11 2373,-871.5 2382.8,-874.87 2393.35,-878.84 2402.93,-882.56\"/>\n<polygon fill=\"black\" stroke=\"black\" points=\"2401.89,-885.91 2412.48,-886.31 2404.45,-879.39 2401.89,-885.91\"/>\n</g>\n<!-- 135564866612352tanh&#45;&gt;135564866612352 -->\n<g id=\"edge30\" class=\"edge\">\n<title>135564866612352tanh&#45;&gt;135564866612352</title>\n<path fill=\"none\" stroke=\"black\" d=\"M2149.51,-866.04C2157.83,-864.59 2167.62,-862.88 2178.03,-861.06\"/>\n<polygon fill=\"black\" stroke=\"black\" points=\"2178.93,-864.45 2188.18,-859.28 2177.73,-857.56 2178.93,-864.45\"/>\n</g>\n<!-- 135564866612400 -->\n<g id=\"node74\" class=\"node\">\n<title>135564866612400</title>\n<polygon fill=\"none\" stroke=\"black\" points=\"3440.5,-387.5 3440.5,-423.5 3622.5,-423.5 3622.5,-387.5 3440.5,-387.5\"/>\n<text text-anchor=\"middle\" x=\"3450.5\" y=\"-401.8\" font-family=\"Times,serif\" font-size=\"14.00\"> </text>\n<polyline fill=\"none\" stroke=\"black\" points=\"3460.5,-387.5 3460.5,-423.5 \"/>\n<text text-anchor=\"middle\" x=\"3500.5\" y=\"-401.8\" font-family=\"Times,serif\" font-size=\"14.00\">data 0.3086</text>\n<polyline fill=\"none\" stroke=\"black\" points=\"3540.5,-387.5 3540.5,-423.5 \"/>\n<text text-anchor=\"middle\" x=\"3581.5\" y=\"-401.8\" font-family=\"Times,serif\" font-size=\"14.00\">grad 0.0000</text>\n</g>\n<!-- 135564902323616* -->\n<g id=\"node134\" class=\"node\">\n<title>135564902323616*</title>\n<ellipse fill=\"none\" stroke=\"black\" cx=\"3688\" cy=\"-401.5\" rx=\"27\" ry=\"18\"/>\n<text text-anchor=\"middle\" x=\"3688\" y=\"-397.8\" font-family=\"Times,serif\" font-size=\"14.00\">*</text>\n</g>\n<!-- 135564866612400&#45;&gt;135564902323616* -->\n<g id=\"edge194\" class=\"edge\">\n<title>135564866612400&#45;&gt;135564902323616*</title>\n<path fill=\"none\" stroke=\"black\" d=\"M3622.82,-403.16C3632.57,-402.91 3642.04,-402.66 3650.57,-402.44\"/>\n<polygon fill=\"black\" stroke=\"black\" points=\"3650.92,-405.94 3660.83,-402.18 3650.74,-398.94 3650.92,-405.94\"/>\n</g>\n<!-- 135564866612400tanh -->\n<g id=\"node75\" class=\"node\">\n<title>135564866612400tanh</title>\n<ellipse fill=\"none\" stroke=\"black\" cx=\"3375\" cy=\"-405.5\" rx=\"27\" ry=\"18\"/>\n<text text-anchor=\"middle\" x=\"3375\" y=\"-401.8\" font-family=\"Times,serif\" font-size=\"14.00\">tanh</text>\n</g>\n<!-- 135564866612400tanh&#45;&gt;135564866612400 -->\n<g id=\"edge31\" class=\"edge\">\n<title>135564866612400tanh&#45;&gt;135564866612400</title>\n<path fill=\"none\" stroke=\"black\" d=\"M3402.21,-405.5C3410.34,-405.5 3419.85,-405.5 3429.94,-405.5\"/>\n<polygon fill=\"black\" stroke=\"black\" points=\"3430.19,-409 3440.19,-405.5 3430.19,-402 3430.19,-409\"/>\n</g>\n<!-- 135564901428448 -->\n<g id=\"node76\" class=\"node\">\n<title>135564901428448</title>\n<polygon fill=\"none\" stroke=\"black\" points=\"5552,-500.5 5552,-536.5 5734,-536.5 5734,-500.5 5552,-500.5\"/>\n<text text-anchor=\"middle\" x=\"5562\" y=\"-514.8\" font-family=\"Times,serif\" font-size=\"14.00\"> </text>\n<polyline fill=\"none\" stroke=\"black\" points=\"5572,-500.5 5572,-536.5 \"/>\n<text text-anchor=\"middle\" x=\"5612\" y=\"-514.8\" font-family=\"Times,serif\" font-size=\"14.00\">data 0.8860</text>\n<polyline fill=\"none\" stroke=\"black\" points=\"5652,-500.5 5652,-536.5 \"/>\n<text text-anchor=\"middle\" x=\"5693\" y=\"-514.8\" font-family=\"Times,serif\" font-size=\"14.00\">grad 0.0000</text>\n</g>\n<!-- 135564901428448tanh&#45;&gt;135564901428448 -->\n<g id=\"edge32\" class=\"edge\">\n<title>135564901428448tanh&#45;&gt;135564901428448</title>\n<path fill=\"none\" stroke=\"black\" d=\"M5516.13,-518.5C5523.67,-518.5 5532.39,-518.5 5541.64,-518.5\"/>\n<polygon fill=\"black\" stroke=\"black\" points=\"5541.87,-522 5551.87,-518.5 5541.87,-515 5541.87,-522\"/>\n</g>\n<!-- 135564866612496 -->\n<g id=\"node78\" class=\"node\">\n<title>135564866612496</title>\n<polygon fill=\"none\" stroke=\"black\" points=\"1873,-110.5 1873,-146.5 2060,-146.5 2060,-110.5 1873,-110.5\"/>\n<text text-anchor=\"middle\" x=\"1883\" y=\"-124.8\" font-family=\"Times,serif\" font-size=\"14.00\"> </text>\n<polyline fill=\"none\" stroke=\"black\" points=\"1893,-110.5 1893,-146.5 \"/>\n<text text-anchor=\"middle\" x=\"1935.5\" y=\"-124.8\" font-family=\"Times,serif\" font-size=\"14.00\">data &#45;1.1650</text>\n<polyline fill=\"none\" stroke=\"black\" points=\"1978,-110.5 1978,-146.5 \"/>\n<text text-anchor=\"middle\" x=\"2019\" y=\"-124.8\" font-family=\"Times,serif\" font-size=\"14.00\">grad 0.0000</text>\n</g>\n<!-- 135564866612496&#45;&gt;135564866611776+ -->\n<g id=\"edge167\" class=\"edge\">\n<title>135564866612496&#45;&gt;135564866611776+</title>\n<path fill=\"none\" stroke=\"black\" d=\"M2060.05,-128.5C2069.06,-128.5 2077.79,-128.5 2085.7,-128.5\"/>\n<polygon fill=\"black\" stroke=\"black\" points=\"2085.95,-132 2095.95,-128.5 2085.95,-125 2085.95,-132\"/>\n</g>\n<!-- 135564866612496+&#45;&gt;135564866612496 -->\n<g id=\"edge33\" class=\"edge\">\n<title>135564866612496+&#45;&gt;135564866612496</title>\n<path fill=\"none\" stroke=\"black\" d=\"M1837.21,-128.5C1844.73,-128.5 1853.43,-128.5 1862.67,-128.5\"/>\n<polygon fill=\"black\" stroke=\"black\" points=\"1862.89,-132 1872.89,-128.5 1862.89,-125 1862.89,-132\"/>\n</g>\n<!-- 135564866276704 -->\n<g id=\"node80\" class=\"node\">\n<title>135564866276704</title>\n<polygon fill=\"none\" stroke=\"black\" points=\"2501.5,-812.5 2501.5,-848.5 2683.5,-848.5 2683.5,-812.5 2501.5,-812.5\"/>\n<text text-anchor=\"middle\" x=\"2511.5\" y=\"-826.8\" font-family=\"Times,serif\" font-size=\"14.00\"> </text>\n<polyline fill=\"none\" stroke=\"black\" points=\"2521.5,-812.5 2521.5,-848.5 \"/>\n<text text-anchor=\"middle\" x=\"2561.5\" y=\"-826.8\" font-family=\"Times,serif\" font-size=\"14.00\">data 0.1175</text>\n<polyline fill=\"none\" stroke=\"black\" points=\"2601.5,-812.5 2601.5,-848.5 \"/>\n<text text-anchor=\"middle\" x=\"2642.5\" y=\"-826.8\" font-family=\"Times,serif\" font-size=\"14.00\">grad 0.0000</text>\n</g>\n<!-- 135564866286160+ -->\n<g id=\"node105\" class=\"node\">\n<title>135564866286160+</title>\n<ellipse fill=\"none\" stroke=\"black\" cx=\"2749\" cy=\"-570.5\" rx=\"27\" ry=\"18\"/>\n<text text-anchor=\"middle\" x=\"2749\" y=\"-566.8\" font-family=\"Times,serif\" font-size=\"14.00\">+</text>\n</g>\n<!-- 135564866276704&#45;&gt;135564866286160+ -->\n<g id=\"edge123\" class=\"edge\">\n<title>135564866276704&#45;&gt;135564866286160+</title>\n<path fill=\"none\" stroke=\"black\" d=\"M2656.26,-812.44C2667.37,-806.89 2677.94,-799.72 2686,-790.5 2734.5,-735.06 2745.26,-644.35 2747.51,-598.67\"/>\n<polygon fill=\"black\" stroke=\"black\" points=\"2751.02,-598.72 2747.91,-588.59 2744.02,-598.45 2751.02,-598.72\"/>\n</g>\n<!-- 135564866276704*&#45;&gt;135564866276704 -->\n<g id=\"edge34\" class=\"edge\">\n<title>135564866276704*&#45;&gt;135564866276704</title>\n<path fill=\"none\" stroke=\"black\" d=\"M2462.86,-839.66C2471.13,-839.07 2480.83,-838.38 2491.14,-837.65\"/>\n<polygon fill=\"black\" stroke=\"black\" points=\"2491.46,-841.13 2501.18,-836.93 2490.96,-834.15 2491.46,-841.13\"/>\n</g>\n<!-- 135564866612592 -->\n<g id=\"node82\" class=\"node\">\n<title>135564866612592</title>\n<polygon fill=\"none\" stroke=\"black\" points=\"2499,-222.5 2499,-258.5 2686,-258.5 2686,-222.5 2499,-222.5\"/>\n<text text-anchor=\"middle\" x=\"2509\" y=\"-236.8\" font-family=\"Times,serif\" font-size=\"14.00\"> </text>\n<polyline fill=\"none\" stroke=\"black\" points=\"2519,-222.5 2519,-258.5 \"/>\n<text text-anchor=\"middle\" x=\"2561.5\" y=\"-236.8\" font-family=\"Times,serif\" font-size=\"14.00\">data &#45;0.5142</text>\n<polyline fill=\"none\" stroke=\"black\" points=\"2604,-222.5 2604,-258.5 \"/>\n<text text-anchor=\"middle\" x=\"2645\" y=\"-236.8\" font-family=\"Times,serif\" font-size=\"14.00\">grad 0.0000</text>\n</g>\n<!-- 135564866612592&#45;&gt;135564866604048* -->\n<g id=\"edge142\" class=\"edge\">\n<title>135564866612592&#45;&gt;135564866604048*</title>\n<path fill=\"none\" stroke=\"black\" d=\"M2659.56,-258.55C2668.51,-261.36 2677.53,-264.37 2686,-267.5 2696.49,-271.38 2707.71,-276.22 2717.68,-280.78\"/>\n<polygon fill=\"black\" stroke=\"black\" points=\"2716.25,-283.98 2726.79,-285.03 2719.2,-277.63 2716.25,-283.98\"/>\n</g>\n<!-- 135564866612736 -->\n<g id=\"node83\" class=\"node\">\n<title>135564866612736</title>\n<polygon fill=\"none\" stroke=\"black\" points=\"934,-773.5 934,-809.5 1121,-809.5 1121,-773.5 934,-773.5\"/>\n<text text-anchor=\"middle\" x=\"944\" y=\"-787.8\" font-family=\"Times,serif\" font-size=\"14.00\"> </text>\n<polyline fill=\"none\" stroke=\"black\" points=\"954,-773.5 954,-809.5 \"/>\n<text text-anchor=\"middle\" x=\"996.5\" y=\"-787.8\" font-family=\"Times,serif\" font-size=\"14.00\">data &#45;0.1923</text>\n<polyline fill=\"none\" stroke=\"black\" points=\"1039,-773.5 1039,-809.5 \"/>\n<text text-anchor=\"middle\" x=\"1080\" y=\"-787.8\" font-family=\"Times,serif\" font-size=\"14.00\">grad 0.0000</text>\n</g>\n<!-- 135564866614944* -->\n<g id=\"node143\" class=\"node\">\n<title>135564866614944*</title>\n<ellipse fill=\"none\" stroke=\"black\" cx=\"1184\" cy=\"-791.5\" rx=\"27\" ry=\"18\"/>\n<text text-anchor=\"middle\" x=\"1184\" y=\"-787.8\" font-family=\"Times,serif\" font-size=\"14.00\">*</text>\n</g>\n<!-- 135564866612736&#45;&gt;135564866614944* -->\n<g id=\"edge198\" class=\"edge\">\n<title>135564866612736&#45;&gt;135564866614944*</title>\n<path fill=\"none\" stroke=\"black\" d=\"M1121.05,-791.5C1130.06,-791.5 1138.79,-791.5 1146.7,-791.5\"/>\n<polygon fill=\"black\" stroke=\"black\" points=\"1146.95,-795 1156.95,-791.5 1146.95,-788 1146.95,-795\"/>\n</g>\n<!-- 135564866612928 -->\n<g id=\"node84\" class=\"node\">\n<title>135564866612928</title>\n<polygon fill=\"none\" stroke=\"black\" points=\"1247,-883.5 1247,-919.5 1434,-919.5 1434,-883.5 1247,-883.5\"/>\n<text text-anchor=\"middle\" x=\"1257\" y=\"-897.8\" font-family=\"Times,serif\" font-size=\"14.00\"> </text>\n<polyline fill=\"none\" stroke=\"black\" points=\"1267,-883.5 1267,-919.5 \"/>\n<text text-anchor=\"middle\" x=\"1309.5\" y=\"-897.8\" font-family=\"Times,serif\" font-size=\"14.00\">data &#45;0.4957</text>\n<polyline fill=\"none\" stroke=\"black\" points=\"1352,-883.5 1352,-919.5 \"/>\n<text text-anchor=\"middle\" x=\"1393\" y=\"-897.8\" font-family=\"Times,serif\" font-size=\"14.00\">grad 0.0000</text>\n</g>\n<!-- 135564866612928&#45;&gt;135564866609568* -->\n<g id=\"edge158\" class=\"edge\">\n<title>135564866612928&#45;&gt;135564866609568*</title>\n<path fill=\"none\" stroke=\"black\" d=\"M1434.05,-901.5C1443.06,-901.5 1451.79,-901.5 1459.7,-901.5\"/>\n<polygon fill=\"black\" stroke=\"black\" points=\"1459.95,-905 1469.95,-901.5 1459.95,-898 1459.95,-905\"/>\n</g>\n<!-- 135564866613072 -->\n<g id=\"node85\" class=\"node\">\n<title>135564866613072</title>\n<polygon fill=\"none\" stroke=\"black\" points=\"934,-138.5 934,-174.5 1121,-174.5 1121,-138.5 934,-138.5\"/>\n<text text-anchor=\"middle\" x=\"944\" y=\"-152.8\" font-family=\"Times,serif\" font-size=\"14.00\"> </text>\n<polyline fill=\"none\" stroke=\"black\" points=\"954,-138.5 954,-174.5 \"/>\n<text text-anchor=\"middle\" x=\"996.5\" y=\"-152.8\" font-family=\"Times,serif\" font-size=\"14.00\">data &#45;0.9410</text>\n<polyline fill=\"none\" stroke=\"black\" points=\"1039,-138.5 1039,-174.5 \"/>\n<text text-anchor=\"middle\" x=\"1080\" y=\"-152.8\" font-family=\"Times,serif\" font-size=\"14.00\">grad 0.0000</text>\n</g>\n<!-- 135564866613072&#45;&gt;135564866602896* -->\n<g id=\"edge106\" class=\"edge\">\n<title>135564866613072&#45;&gt;135564866602896*</title>\n<path fill=\"none\" stroke=\"black\" d=\"M1121.05,-172.67C1130.34,-174.3 1139.33,-175.87 1147.44,-177.29\"/>\n<polygon fill=\"black\" stroke=\"black\" points=\"1147.1,-180.78 1157.55,-179.05 1148.3,-173.88 1147.1,-180.78\"/>\n</g>\n<!-- 135564866613168 -->\n<g id=\"node86\" class=\"node\">\n<title>135564866613168</title>\n<polygon fill=\"none\" stroke=\"black\" points=\"1249.5,-110.5 1249.5,-146.5 1431.5,-146.5 1431.5,-110.5 1249.5,-110.5\"/>\n<text text-anchor=\"middle\" x=\"1259.5\" y=\"-124.8\" font-family=\"Times,serif\" font-size=\"14.00\"> </text>\n<polyline fill=\"none\" stroke=\"black\" points=\"1269.5,-110.5 1269.5,-146.5 \"/>\n<text text-anchor=\"middle\" x=\"1309.5\" y=\"-124.8\" font-family=\"Times,serif\" font-size=\"14.00\">data 0.0788</text>\n<polyline fill=\"none\" stroke=\"black\" points=\"1349.5,-110.5 1349.5,-146.5 \"/>\n<text text-anchor=\"middle\" x=\"1390.5\" y=\"-124.8\" font-family=\"Times,serif\" font-size=\"14.00\">grad 0.0000</text>\n</g>\n<!-- 135564866613168&#45;&gt;135564866601984* -->\n<g id=\"edge204\" class=\"edge\">\n<title>135564866613168&#45;&gt;135564866601984*</title>\n<path fill=\"none\" stroke=\"black\" d=\"M1431.82,-128.5C1441.57,-128.5 1451.04,-128.5 1459.57,-128.5\"/>\n<polygon fill=\"black\" stroke=\"black\" points=\"1459.83,-132 1469.83,-128.5 1459.83,-125 1459.83,-132\"/>\n</g>\n<!-- 135564866613216 -->\n<g id=\"node87\" class=\"node\">\n<title>135564866613216</title>\n<polygon fill=\"none\" stroke=\"black\" points=\"1562.5,-0.5 1562.5,-36.5 1744.5,-36.5 1744.5,-0.5 1562.5,-0.5\"/>\n<text text-anchor=\"middle\" x=\"1572.5\" y=\"-14.8\" font-family=\"Times,serif\" font-size=\"14.00\"> </text>\n<polyline fill=\"none\" stroke=\"black\" points=\"1582.5,-0.5 1582.5,-36.5 \"/>\n<text text-anchor=\"middle\" x=\"1622.5\" y=\"-14.8\" font-family=\"Times,serif\" font-size=\"14.00\">data 0.2388</text>\n<polyline fill=\"none\" stroke=\"black\" points=\"1662.5,-0.5 1662.5,-36.5 \"/>\n<text text-anchor=\"middle\" x=\"1703.5\" y=\"-14.8\" font-family=\"Times,serif\" font-size=\"14.00\">grad 0.0000</text>\n</g>\n<!-- 135564866613216&#45;&gt;135564866609712* -->\n<g id=\"edge83\" class=\"edge\">\n<title>135564866613216&#45;&gt;135564866609712*</title>\n<path fill=\"none\" stroke=\"black\" d=\"M1720.56,-36.55C1729.51,-39.36 1738.53,-42.37 1747,-45.5 1757.49,-49.38 1768.71,-54.22 1778.68,-58.78\"/>\n<polygon fill=\"black\" stroke=\"black\" points=\"1777.25,-61.98 1787.79,-63.03 1780.2,-55.63 1777.25,-61.98\"/>\n</g>\n<!-- 135564866613264 -->\n<g id=\"node88\" class=\"node\">\n<title>135564866613264</title>\n<polygon fill=\"none\" stroke=\"black\" points=\"1249.5,-220.5 1249.5,-256.5 1431.5,-256.5 1431.5,-220.5 1249.5,-220.5\"/>\n<text text-anchor=\"middle\" x=\"1259.5\" y=\"-234.8\" font-family=\"Times,serif\" font-size=\"14.00\"> </text>\n<polyline fill=\"none\" stroke=\"black\" points=\"1269.5,-220.5 1269.5,-256.5 \"/>\n<text text-anchor=\"middle\" x=\"1309.5\" y=\"-234.8\" font-family=\"Times,serif\" font-size=\"14.00\">data 0.4805</text>\n<polyline fill=\"none\" stroke=\"black\" points=\"1349.5,-220.5 1349.5,-256.5 \"/>\n<text text-anchor=\"middle\" x=\"1390.5\" y=\"-234.8\" font-family=\"Times,serif\" font-size=\"14.00\">grad 0.0000</text>\n</g>\n<!-- 135564866613264&#45;&gt;135564866603568+ -->\n<g id=\"edge135\" class=\"edge\">\n<title>135564866613264&#45;&gt;135564866603568+</title>\n<path fill=\"none\" stroke=\"black\" d=\"M1405.02,-220.35C1414.79,-217.24 1424.71,-213.92 1434,-210.5 1444.25,-206.73 1455.23,-202.14 1465.07,-197.82\"/>\n<polygon fill=\"black\" stroke=\"black\" points=\"1466.74,-200.9 1474.45,-193.63 1463.89,-194.51 1466.74,-200.9\"/>\n</g>\n<!-- 135564866605152 -->\n<g id=\"node89\" class=\"node\">\n<title>135564866605152</title>\n<polygon fill=\"none\" stroke=\"black\" points=\"0,-211.5 0,-247.5 182,-247.5 182,-211.5 0,-211.5\"/>\n<text text-anchor=\"middle\" x=\"10\" y=\"-225.8\" font-family=\"Times,serif\" font-size=\"14.00\"> </text>\n<polyline fill=\"none\" stroke=\"black\" points=\"20,-211.5 20,-247.5 \"/>\n<text text-anchor=\"middle\" x=\"60\" y=\"-225.8\" font-family=\"Times,serif\" font-size=\"14.00\">data 2.0000</text>\n<polyline fill=\"none\" stroke=\"black\" points=\"100,-211.5 100,-247.5 \"/>\n<text text-anchor=\"middle\" x=\"141\" y=\"-225.8\" font-family=\"Times,serif\" font-size=\"14.00\">grad 0.0000</text>\n</g>\n<!-- 135564866617056* -->\n<g id=\"node190\" class=\"node\">\n<title>135564866617056*</title>\n<ellipse fill=\"none\" stroke=\"black\" cx=\"245\" cy=\"-201.5\" rx=\"27\" ry=\"18\"/>\n<text text-anchor=\"middle\" x=\"245\" y=\"-197.8\" font-family=\"Times,serif\" font-size=\"14.00\">*</text>\n</g>\n<!-- 135564866605152&#45;&gt;135564866617056* -->\n<g id=\"edge99\" class=\"edge\">\n<title>135564866605152&#45;&gt;135564866617056*</title>\n<path fill=\"none\" stroke=\"black\" d=\"M182.18,-212.89C191.61,-211.15 200.75,-209.47 208.98,-207.95\"/>\n<polygon fill=\"black\" stroke=\"black\" points=\"209.66,-211.39 218.86,-206.13 208.39,-204.5 209.66,-211.39\"/>\n</g>\n<!-- 135564866613408 -->\n<g id=\"node90\" class=\"node\">\n<title>135564866613408</title>\n<polygon fill=\"none\" stroke=\"black\" points=\"934,-883.5 934,-919.5 1121,-919.5 1121,-883.5 934,-883.5\"/>\n<text text-anchor=\"middle\" x=\"944\" y=\"-897.8\" font-family=\"Times,serif\" font-size=\"14.00\"> </text>\n<polyline fill=\"none\" stroke=\"black\" points=\"954,-883.5 954,-919.5 \"/>\n<text text-anchor=\"middle\" x=\"996.5\" y=\"-897.8\" font-family=\"Times,serif\" font-size=\"14.00\">data &#45;0.3762</text>\n<polyline fill=\"none\" stroke=\"black\" points=\"1039,-883.5 1039,-919.5 \"/>\n<text text-anchor=\"middle\" x=\"1080\" y=\"-897.8\" font-family=\"Times,serif\" font-size=\"14.00\">grad 0.0000</text>\n</g>\n<!-- 135564866615184+ -->\n<g id=\"node151\" class=\"node\">\n<title>135564866615184+</title>\n<ellipse fill=\"none\" stroke=\"black\" cx=\"1184\" cy=\"-846.5\" rx=\"27\" ry=\"18\"/>\n<text text-anchor=\"middle\" x=\"1184\" y=\"-842.8\" font-family=\"Times,serif\" font-size=\"14.00\">+</text>\n</g>\n<!-- 135564866613408&#45;&gt;135564866615184+ -->\n<g id=\"edge101\" class=\"edge\">\n<title>135564866613408&#45;&gt;135564866615184+</title>\n<path fill=\"none\" stroke=\"black\" d=\"M1094.56,-883.45C1103.51,-880.64 1112.53,-877.63 1121,-874.5 1131.49,-870.62 1142.71,-865.78 1152.68,-861.22\"/>\n<polygon fill=\"black\" stroke=\"black\" points=\"1154.2,-864.37 1161.79,-856.97 1151.25,-858.02 1154.2,-864.37\"/>\n</g>\n<!-- 135564866613504 -->\n<g id=\"node91\" class=\"node\">\n<title>135564866613504</title>\n<polygon fill=\"none\" stroke=\"black\" points=\"1247,-938.5 1247,-974.5 1434,-974.5 1434,-938.5 1247,-938.5\"/>\n<text text-anchor=\"middle\" x=\"1257\" y=\"-952.8\" font-family=\"Times,serif\" font-size=\"14.00\"> </text>\n<polyline fill=\"none\" stroke=\"black\" points=\"1267,-938.5 1267,-974.5 \"/>\n<text text-anchor=\"middle\" x=\"1309.5\" y=\"-952.8\" font-family=\"Times,serif\" font-size=\"14.00\">data &#45;1.0000</text>\n<polyline fill=\"none\" stroke=\"black\" points=\"1352,-938.5 1352,-974.5 \"/>\n<text text-anchor=\"middle\" x=\"1393\" y=\"-952.8\" font-family=\"Times,serif\" font-size=\"14.00\">grad 0.0000</text>\n</g>\n<!-- 135564866613504&#45;&gt;135564866609568* -->\n<g id=\"edge104\" class=\"edge\">\n<title>135564866613504&#45;&gt;135564866609568*</title>\n<path fill=\"none\" stroke=\"black\" d=\"M1407.56,-938.45C1416.51,-935.64 1425.53,-932.63 1434,-929.5 1444.49,-925.62 1455.71,-920.78 1465.68,-916.22\"/>\n<polygon fill=\"black\" stroke=\"black\" points=\"1467.2,-919.37 1474.79,-911.97 1464.25,-913.02 1467.2,-919.37\"/>\n</g>\n<!-- 135564866605344 -->\n<g id=\"node92\" class=\"node\">\n<title>135564866605344</title>\n<polygon fill=\"none\" stroke=\"black\" points=\"1875.5,-605.5 1875.5,-641.5 2057.5,-641.5 2057.5,-605.5 1875.5,-605.5\"/>\n<text text-anchor=\"middle\" x=\"1885.5\" y=\"-619.8\" font-family=\"Times,serif\" font-size=\"14.00\"> </text>\n<polyline fill=\"none\" stroke=\"black\" points=\"1895.5,-605.5 1895.5,-641.5 \"/>\n<text text-anchor=\"middle\" x=\"1935.5\" y=\"-619.8\" font-family=\"Times,serif\" font-size=\"14.00\">data 0.4406</text>\n<polyline fill=\"none\" stroke=\"black\" points=\"1975.5,-605.5 1975.5,-641.5 \"/>\n<text text-anchor=\"middle\" x=\"2016.5\" y=\"-619.8\" font-family=\"Times,serif\" font-size=\"14.00\">grad 0.0000</text>\n</g>\n<!-- 135564866605344&#45;&gt;135564866282320+ -->\n<g id=\"edge205\" class=\"edge\">\n<title>135564866605344&#45;&gt;135564866282320+</title>\n<path fill=\"none\" stroke=\"black\" d=\"M2038.48,-605.43C2045.93,-602.53 2053.25,-599.24 2060,-595.5 2075.02,-587.19 2089.61,-574.77 2100.86,-563.94\"/>\n<polygon fill=\"black\" stroke=\"black\" points=\"2103.45,-566.3 2108.08,-556.76 2098.52,-561.33 2103.45,-566.3\"/>\n</g>\n<!-- 135564866605392 -->\n<g id=\"node93\" class=\"node\">\n<title>135564866605392</title>\n<polygon fill=\"none\" stroke=\"black\" points=\"1875.5,-660.5 1875.5,-696.5 2057.5,-696.5 2057.5,-660.5 1875.5,-660.5\"/>\n<text text-anchor=\"middle\" x=\"1885.5\" y=\"-674.8\" font-family=\"Times,serif\" font-size=\"14.00\"> </text>\n<polyline fill=\"none\" stroke=\"black\" points=\"1895.5,-660.5 1895.5,-696.5 \"/>\n<text text-anchor=\"middle\" x=\"1935.5\" y=\"-674.8\" font-family=\"Times,serif\" font-size=\"14.00\">data 0.7528</text>\n<polyline fill=\"none\" stroke=\"black\" points=\"1975.5,-660.5 1975.5,-696.5 \"/>\n<text text-anchor=\"middle\" x=\"2016.5\" y=\"-674.8\" font-family=\"Times,serif\" font-size=\"14.00\">grad 0.0000</text>\n</g>\n<!-- 135564866281360* -->\n<g id=\"node129\" class=\"node\">\n<title>135564866281360*</title>\n<ellipse fill=\"none\" stroke=\"black\" cx=\"2123\" cy=\"-595.5\" rx=\"27\" ry=\"18\"/>\n<text text-anchor=\"middle\" x=\"2123\" y=\"-591.8\" font-family=\"Times,serif\" font-size=\"14.00\">*</text>\n</g>\n<!-- 135564866605392&#45;&gt;135564866281360* -->\n<g id=\"edge147\" class=\"edge\">\n<title>135564866605392&#45;&gt;135564866281360*</title>\n<path fill=\"none\" stroke=\"black\" d=\"M2038.51,-660.49C2045.96,-657.58 2053.26,-654.27 2060,-650.5 2075.1,-642.06 2089.7,-629.41 2100.93,-618.37\"/>\n<polygon fill=\"black\" stroke=\"black\" points=\"2103.61,-620.64 2108.13,-611.06 2098.62,-615.73 2103.61,-620.64\"/>\n</g>\n<!-- 135564866613600 -->\n<g id=\"node94\" class=\"node\">\n<title>135564866613600</title>\n<polygon fill=\"none\" stroke=\"black\" points=\"936.5,-718.5 936.5,-754.5 1118.5,-754.5 1118.5,-718.5 936.5,-718.5\"/>\n<text text-anchor=\"middle\" x=\"946.5\" y=\"-732.8\" font-family=\"Times,serif\" font-size=\"14.00\"> </text>\n<polyline fill=\"none\" stroke=\"black\" points=\"956.5,-718.5 956.5,-754.5 \"/>\n<text text-anchor=\"middle\" x=\"996.5\" y=\"-732.8\" font-family=\"Times,serif\" font-size=\"14.00\">data 3.0000</text>\n<polyline fill=\"none\" stroke=\"black\" points=\"1036.5,-718.5 1036.5,-754.5 \"/>\n<text text-anchor=\"middle\" x=\"1077.5\" y=\"-732.8\" font-family=\"Times,serif\" font-size=\"14.00\">grad 0.0000</text>\n</g>\n<!-- 135564866613600&#45;&gt;135564866614944* -->\n<g id=\"edge115\" class=\"edge\">\n<title>135564866613600&#45;&gt;135564866614944*</title>\n<path fill=\"none\" stroke=\"black\" d=\"M1092.02,-754.65C1101.79,-757.76 1111.71,-761.08 1121,-764.5 1131.25,-768.27 1142.23,-772.86 1152.07,-777.18\"/>\n<polygon fill=\"black\" stroke=\"black\" points=\"1150.89,-780.49 1161.45,-781.37 1153.74,-774.1 1150.89,-780.49\"/>\n</g>\n<!-- 135564866605488 -->\n<g id=\"node95\" class=\"node\">\n<title>135564866605488</title>\n<polygon fill=\"none\" stroke=\"black\" points=\"2188.5,-880.5 2188.5,-916.5 2370.5,-916.5 2370.5,-880.5 2188.5,-880.5\"/>\n<text text-anchor=\"middle\" x=\"2198.5\" y=\"-894.8\" font-family=\"Times,serif\" font-size=\"14.00\"> </text>\n<polyline fill=\"none\" stroke=\"black\" points=\"2208.5,-880.5 2208.5,-916.5 \"/>\n<text text-anchor=\"middle\" x=\"2248.5\" y=\"-894.8\" font-family=\"Times,serif\" font-size=\"14.00\">data 0.1866</text>\n<polyline fill=\"none\" stroke=\"black\" points=\"2288.5,-880.5 2288.5,-916.5 \"/>\n<text text-anchor=\"middle\" x=\"2329.5\" y=\"-894.8\" font-family=\"Times,serif\" font-size=\"14.00\">grad 0.0000</text>\n</g>\n<!-- 135564866605488&#45;&gt;135564866276704* -->\n<g id=\"edge132\" class=\"edge\">\n<title>135564866605488&#45;&gt;135564866276704*</title>\n<path fill=\"none\" stroke=\"black\" d=\"M2347.14,-880.5C2355.91,-877.71 2364.73,-874.68 2373,-871.5 2383.74,-867.37 2395.17,-862.1 2405.25,-857.14\"/>\n<polygon fill=\"black\" stroke=\"black\" points=\"2407.07,-860.14 2414.43,-852.52 2403.93,-853.89 2407.07,-860.14\"/>\n</g>\n<!-- 135564866286016 -->\n<g id=\"node96\" class=\"node\">\n<title>135564866286016</title>\n<polygon fill=\"none\" stroke=\"black\" points=\"2188.5,-234.5 2188.5,-270.5 2370.5,-270.5 2370.5,-234.5 2188.5,-234.5\"/>\n<text text-anchor=\"middle\" x=\"2198.5\" y=\"-248.8\" font-family=\"Times,serif\" font-size=\"14.00\"> </text>\n<polyline fill=\"none\" stroke=\"black\" points=\"2208.5,-234.5 2208.5,-270.5 \"/>\n<text text-anchor=\"middle\" x=\"2248.5\" y=\"-248.8\" font-family=\"Times,serif\" font-size=\"14.00\">data 0.6434</text>\n<polyline fill=\"none\" stroke=\"black\" points=\"2288.5,-234.5 2288.5,-270.5 \"/>\n<text text-anchor=\"middle\" x=\"2329.5\" y=\"-248.8\" font-family=\"Times,serif\" font-size=\"14.00\">grad 0.0000</text>\n</g>\n<!-- 135564866286016&#45;&gt;135564866287648+ -->\n<g id=\"edge134\" class=\"edge\">\n<title>135564866286016&#45;&gt;135564866287648+</title>\n<path fill=\"none\" stroke=\"black\" d=\"M2314.79,-270.7C2341.87,-285.07 2379.27,-304.92 2405.13,-318.65\"/>\n<polygon fill=\"black\" stroke=\"black\" points=\"2403.62,-321.81 2414.1,-323.41 2406.91,-315.63 2403.62,-321.81\"/>\n</g>\n<!-- 135564866286016+&#45;&gt;135564866286016 -->\n<g id=\"edge35\" class=\"edge\">\n<title>135564866286016+&#45;&gt;135564866286016</title>\n<path fill=\"none\" stroke=\"black\" d=\"M2149.86,-240.84C2158.13,-241.59 2167.83,-242.47 2178.14,-243.41\"/>\n<polygon fill=\"black\" stroke=\"black\" points=\"2177.91,-246.9 2188.18,-244.32 2178.54,-239.93 2177.91,-246.9\"/>\n</g>\n<!-- 135564866605584 -->\n<g id=\"node98\" class=\"node\">\n<title>135564866605584</title>\n<polygon fill=\"none\" stroke=\"black\" points=\"2499,-332.5 2499,-368.5 2686,-368.5 2686,-332.5 2499,-332.5\"/>\n<text text-anchor=\"middle\" x=\"2509\" y=\"-346.8\" font-family=\"Times,serif\" font-size=\"14.00\"> </text>\n<polyline fill=\"none\" stroke=\"black\" points=\"2519,-332.5 2519,-368.5 \"/>\n<text text-anchor=\"middle\" x=\"2561.5\" y=\"-346.8\" font-family=\"Times,serif\" font-size=\"14.00\">data &#45;0.0920</text>\n<polyline fill=\"none\" stroke=\"black\" points=\"2604,-332.5 2604,-368.5 \"/>\n<text text-anchor=\"middle\" x=\"2645\" y=\"-346.8\" font-family=\"Times,serif\" font-size=\"14.00\">grad 0.0000</text>\n</g>\n<!-- 135564866605584&#45;&gt;135564866286112* -->\n<g id=\"edge117\" class=\"edge\">\n<title>135564866605584&#45;&gt;135564866286112*</title>\n<path fill=\"none\" stroke=\"black\" d=\"M2686.05,-350.5C2695.06,-350.5 2703.79,-350.5 2711.7,-350.5\"/>\n<polygon fill=\"black\" stroke=\"black\" points=\"2711.95,-354 2721.95,-350.5 2711.95,-347 2711.95,-354\"/>\n</g>\n<!-- 135564866286112 -->\n<g id=\"node99\" class=\"node\">\n<title>135564866286112</title>\n<polygon fill=\"none\" stroke=\"black\" points=\"2814.5,-332.5 2814.5,-368.5 2996.5,-368.5 2996.5,-332.5 2814.5,-332.5\"/>\n<text text-anchor=\"middle\" x=\"2824.5\" y=\"-346.8\" font-family=\"Times,serif\" font-size=\"14.00\"> </text>\n<polyline fill=\"none\" stroke=\"black\" points=\"2834.5,-332.5 2834.5,-368.5 \"/>\n<text text-anchor=\"middle\" x=\"2874.5\" y=\"-346.8\" font-family=\"Times,serif\" font-size=\"14.00\">data 0.0815</text>\n<polyline fill=\"none\" stroke=\"black\" points=\"2914.5,-332.5 2914.5,-368.5 \"/>\n<text text-anchor=\"middle\" x=\"2955.5\" y=\"-346.8\" font-family=\"Times,serif\" font-size=\"14.00\">grad 0.0000</text>\n</g>\n<!-- 135564866286112&#45;&gt;135564866283232+ -->\n<g id=\"edge82\" class=\"edge\">\n<title>135564866286112&#45;&gt;135564866283232+</title>\n<path fill=\"none\" stroke=\"black\" d=\"M2986.19,-368.52C2990.77,-371.12 2995.09,-374.09 2999,-377.5 3016.44,-392.69 3039.23,-452.29 3051.75,-488.01\"/>\n<polygon fill=\"black\" stroke=\"black\" points=\"3048.57,-489.52 3055.15,-497.82 3055.19,-487.23 3048.57,-489.52\"/>\n</g>\n<!-- 135564866286112*&#45;&gt;135564866286112 -->\n<g id=\"edge36\" class=\"edge\">\n<title>135564866286112*&#45;&gt;135564866286112</title>\n<path fill=\"none\" stroke=\"black\" d=\"M2776.21,-350.5C2784.34,-350.5 2793.85,-350.5 2803.94,-350.5\"/>\n<polygon fill=\"black\" stroke=\"black\" points=\"2804.19,-354 2814.19,-350.5 2804.19,-347 2804.19,-354\"/>\n</g>\n<!-- 135564866605632 -->\n<g id=\"node101\" class=\"node\">\n<title>135564866605632</title>\n<polygon fill=\"none\" stroke=\"black\" points=\"1560,-691.5 1560,-727.5 1747,-727.5 1747,-691.5 1560,-691.5\"/>\n<text text-anchor=\"middle\" x=\"1570\" y=\"-705.8\" font-family=\"Times,serif\" font-size=\"14.00\"> </text>\n<polyline fill=\"none\" stroke=\"black\" points=\"1580,-691.5 1580,-727.5 \"/>\n<text text-anchor=\"middle\" x=\"1622.5\" y=\"-705.8\" font-family=\"Times,serif\" font-size=\"14.00\">data &#45;0.1614</text>\n<polyline fill=\"none\" stroke=\"black\" points=\"1665,-691.5 1665,-727.5 \"/>\n<text text-anchor=\"middle\" x=\"1706\" y=\"-705.8\" font-family=\"Times,serif\" font-size=\"14.00\">grad 0.0000</text>\n</g>\n<!-- 135564866288848* -->\n<g id=\"node181\" class=\"node\">\n<title>135564866288848*</title>\n<ellipse fill=\"none\" stroke=\"black\" cx=\"1810\" cy=\"-709.5\" rx=\"27\" ry=\"18\"/>\n<text text-anchor=\"middle\" x=\"1810\" y=\"-705.8\" font-family=\"Times,serif\" font-size=\"14.00\">*</text>\n</g>\n<!-- 135564866605632&#45;&gt;135564866288848* -->\n<g id=\"edge173\" class=\"edge\">\n<title>135564866605632&#45;&gt;135564866288848*</title>\n<path fill=\"none\" stroke=\"black\" d=\"M1747.05,-709.5C1756.06,-709.5 1764.79,-709.5 1772.7,-709.5\"/>\n<polygon fill=\"black\" stroke=\"black\" points=\"1772.95,-713 1782.95,-709.5 1772.95,-706 1772.95,-713\"/>\n</g>\n<!-- 135564866613840 -->\n<g id=\"node102\" class=\"node\">\n<title>135564866613840</title>\n<polygon fill=\"none\" stroke=\"black\" points=\"1875.5,-495.5 1875.5,-531.5 2057.5,-531.5 2057.5,-495.5 1875.5,-495.5\"/>\n<text text-anchor=\"middle\" x=\"1885.5\" y=\"-509.8\" font-family=\"Times,serif\" font-size=\"14.00\"> </text>\n<polyline fill=\"none\" stroke=\"black\" points=\"1895.5,-495.5 1895.5,-531.5 \"/>\n<text text-anchor=\"middle\" x=\"1935.5\" y=\"-509.8\" font-family=\"Times,serif\" font-size=\"14.00\">data 0.0573</text>\n<polyline fill=\"none\" stroke=\"black\" points=\"1975.5,-495.5 1975.5,-531.5 \"/>\n<text text-anchor=\"middle\" x=\"2016.5\" y=\"-509.8\" font-family=\"Times,serif\" font-size=\"14.00\">grad 0.0000</text>\n</g>\n<!-- 135564866613840&#45;&gt;135564866281792* -->\n<g id=\"edge186\" class=\"edge\">\n<title>135564866613840&#45;&gt;135564866281792*</title>\n<path fill=\"none\" stroke=\"black\" d=\"M2047.2,-495.31C2051.83,-492.5 2056.16,-489.25 2060,-485.5 2096.52,-449.88 2074.42,-422.73 2096,-376.5 2098.65,-370.82 2101.9,-364.97 2105.2,-359.5\"/>\n<polygon fill=\"black\" stroke=\"black\" points=\"2108.34,-361.08 2110.69,-350.75 2102.41,-357.36 2108.34,-361.08\"/>\n</g>\n<!-- 135564866613840&#45;&gt;135564866274352* -->\n<g id=\"edge94\" class=\"edge\">\n<title>135564866613840&#45;&gt;135564866274352*</title>\n<path fill=\"none\" stroke=\"black\" d=\"M2048.51,-531.56C2052.65,-534.15 2056.52,-537.12 2060,-540.5 2083.85,-563.72 2106.31,-658.03 2116.41,-705.67\"/>\n<polygon fill=\"black\" stroke=\"black\" points=\"2113.02,-706.55 2118.48,-715.63 2119.87,-705.13 2113.02,-706.55\"/>\n</g>\n<!-- 135564866613840&#45;&gt;135564866603232* -->\n<g id=\"edge153\" class=\"edge\">\n<title>135564866613840&#45;&gt;135564866603232*</title>\n<path fill=\"none\" stroke=\"black\" d=\"M2031.02,-495.35C2040.79,-492.24 2050.71,-488.92 2060,-485.5 2070.25,-481.73 2081.23,-477.14 2091.07,-472.82\"/>\n<polygon fill=\"black\" stroke=\"black\" points=\"2092.74,-475.9 2100.45,-468.63 2089.89,-469.51 2092.74,-475.9\"/>\n</g>\n<!-- 135564866613840&#45;&gt;135564866281360* -->\n<g id=\"edge149\" class=\"edge\">\n<title>135564866613840&#45;&gt;135564866281360*</title>\n<path fill=\"none\" stroke=\"black\" d=\"M2040.94,-531.62C2047.54,-534.24 2054,-537.18 2060,-540.5 2068.55,-545.23 2085.49,-560.42 2099.5,-573.65\"/>\n<polygon fill=\"black\" stroke=\"black\" points=\"2097.26,-576.35 2106.91,-580.71 2102.09,-571.28 2097.26,-576.35\"/>\n</g>\n<!-- 135564866613840tanh -->\n<g id=\"node103\" class=\"node\">\n<title>135564866613840tanh</title>\n<ellipse fill=\"none\" stroke=\"black\" cx=\"1810\" cy=\"-513.5\" rx=\"27\" ry=\"18\"/>\n<text text-anchor=\"middle\" x=\"1810\" y=\"-509.8\" font-family=\"Times,serif\" font-size=\"14.00\">tanh</text>\n</g>\n<!-- 135564866613840tanh&#45;&gt;135564866613840 -->\n<g id=\"edge37\" class=\"edge\">\n<title>135564866613840tanh&#45;&gt;135564866613840</title>\n<path fill=\"none\" stroke=\"black\" d=\"M1837.21,-513.5C1845.34,-513.5 1854.85,-513.5 1864.94,-513.5\"/>\n<polygon fill=\"black\" stroke=\"black\" points=\"1865.19,-517 1875.19,-513.5 1865.19,-510 1865.19,-517\"/>\n</g>\n<!-- 135564866286160 -->\n<g id=\"node104\" class=\"node\">\n<title>135564866286160</title>\n<polygon fill=\"none\" stroke=\"black\" points=\"2814.5,-552.5 2814.5,-588.5 2996.5,-588.5 2996.5,-552.5 2814.5,-552.5\"/>\n<text text-anchor=\"middle\" x=\"2824.5\" y=\"-566.8\" font-family=\"Times,serif\" font-size=\"14.00\"> </text>\n<polyline fill=\"none\" stroke=\"black\" points=\"2834.5,-552.5 2834.5,-588.5 \"/>\n<text text-anchor=\"middle\" x=\"2874.5\" y=\"-566.8\" font-family=\"Times,serif\" font-size=\"14.00\">data 0.5918</text>\n<polyline fill=\"none\" stroke=\"black\" points=\"2914.5,-552.5 2914.5,-588.5 \"/>\n<text text-anchor=\"middle\" x=\"2955.5\" y=\"-566.8\" font-family=\"Times,serif\" font-size=\"14.00\">grad 0.0000</text>\n</g>\n<!-- 135564866286160&#45;&gt;135564866283232+ -->\n<g id=\"edge181\" class=\"edge\">\n<title>135564866286160&#45;&gt;135564866283232+</title>\n<path fill=\"none\" stroke=\"black\" d=\"M2970.02,-552.35C2979.79,-549.24 2989.71,-545.92 2999,-542.5 3009.25,-538.73 3020.23,-534.14 3030.07,-529.82\"/>\n<polygon fill=\"black\" stroke=\"black\" points=\"3031.74,-532.9 3039.45,-525.63 3028.89,-526.51 3031.74,-532.9\"/>\n</g>\n<!-- 135564866286160+&#45;&gt;135564866286160 -->\n<g id=\"edge38\" class=\"edge\">\n<title>135564866286160+&#45;&gt;135564866286160</title>\n<path fill=\"none\" stroke=\"black\" d=\"M2776.21,-570.5C2784.34,-570.5 2793.85,-570.5 2803.94,-570.5\"/>\n<polygon fill=\"black\" stroke=\"black\" points=\"2804.19,-574 2814.19,-570.5 2804.19,-567 2804.19,-574\"/>\n</g>\n<!-- 135564866605680 -->\n<g id=\"node106\" class=\"node\">\n<title>135564866605680</title>\n<polygon fill=\"none\" stroke=\"black\" points=\"2188.5,-605.5 2188.5,-641.5 2370.5,-641.5 2370.5,-605.5 2188.5,-605.5\"/>\n<text text-anchor=\"middle\" x=\"2198.5\" y=\"-619.8\" font-family=\"Times,serif\" font-size=\"14.00\"> </text>\n<polyline fill=\"none\" stroke=\"black\" points=\"2208.5,-605.5 2208.5,-641.5 \"/>\n<text text-anchor=\"middle\" x=\"2248.5\" y=\"-619.8\" font-family=\"Times,serif\" font-size=\"14.00\">data 0.7978</text>\n<polyline fill=\"none\" stroke=\"black\" points=\"2288.5,-605.5 2288.5,-641.5 \"/>\n<text text-anchor=\"middle\" x=\"2329.5\" y=\"-619.8\" font-family=\"Times,serif\" font-size=\"14.00\">grad 0.0000</text>\n</g>\n<!-- 135564866605680&#45;&gt;135564866284576* -->\n<g id=\"edge76\" class=\"edge\">\n<title>135564866605680&#45;&gt;135564866284576*</title>\n<path fill=\"none\" stroke=\"black\" d=\"M2370.82,-623.5C2380.57,-623.5 2390.04,-623.5 2398.57,-623.5\"/>\n<polygon fill=\"black\" stroke=\"black\" points=\"2398.83,-627 2408.83,-623.5 2398.83,-620 2398.83,-627\"/>\n</g>\n<!-- 135564866613936 -->\n<g id=\"node107\" class=\"node\">\n<title>135564866613936</title>\n<polygon fill=\"none\" stroke=\"black\" points=\"1562.5,-495.5 1562.5,-531.5 1744.5,-531.5 1744.5,-495.5 1562.5,-495.5\"/>\n<text text-anchor=\"middle\" x=\"1572.5\" y=\"-509.8\" font-family=\"Times,serif\" font-size=\"14.00\"> </text>\n<polyline fill=\"none\" stroke=\"black\" points=\"1582.5,-495.5 1582.5,-531.5 \"/>\n<text text-anchor=\"middle\" x=\"1622.5\" y=\"-509.8\" font-family=\"Times,serif\" font-size=\"14.00\">data 0.0574</text>\n<polyline fill=\"none\" stroke=\"black\" points=\"1662.5,-495.5 1662.5,-531.5 \"/>\n<text text-anchor=\"middle\" x=\"1703.5\" y=\"-509.8\" font-family=\"Times,serif\" font-size=\"14.00\">grad 0.0000</text>\n</g>\n<!-- 135564866613936&#45;&gt;135564866613840tanh -->\n<g id=\"edge118\" class=\"edge\">\n<title>135564866613936&#45;&gt;135564866613840tanh</title>\n<path fill=\"none\" stroke=\"black\" d=\"M1744.82,-513.5C1754.57,-513.5 1764.04,-513.5 1772.57,-513.5\"/>\n<polygon fill=\"black\" stroke=\"black\" points=\"1772.83,-517 1782.83,-513.5 1772.83,-510 1772.83,-517\"/>\n</g>\n<!-- 135564866613936+ -->\n<g id=\"node108\" class=\"node\">\n<title>135564866613936+</title>\n<ellipse fill=\"none\" stroke=\"black\" cx=\"1497\" cy=\"-520.5\" rx=\"27\" ry=\"18\"/>\n<text text-anchor=\"middle\" x=\"1497\" y=\"-516.8\" font-family=\"Times,serif\" font-size=\"14.00\">+</text>\n</g>\n<!-- 135564866613936+&#45;&gt;135564866613936 -->\n<g id=\"edge39\" class=\"edge\">\n<title>135564866613936+&#45;&gt;135564866613936</title>\n<path fill=\"none\" stroke=\"black\" d=\"M1524.21,-519.31C1532.34,-518.94 1541.85,-518.51 1551.94,-518.06\"/>\n<polygon fill=\"black\" stroke=\"black\" points=\"1552.36,-521.54 1562.19,-517.59 1552.04,-514.55 1552.36,-521.54\"/>\n</g>\n<!-- 135564866286256 -->\n<g id=\"node109\" class=\"node\">\n<title>135564866286256</title>\n<polygon fill=\"none\" stroke=\"black\" points=\"3440.5,-277.5 3440.5,-313.5 3622.5,-313.5 3622.5,-277.5 3440.5,-277.5\"/>\n<text text-anchor=\"middle\" x=\"3450.5\" y=\"-291.8\" font-family=\"Times,serif\" font-size=\"14.00\"> </text>\n<polyline fill=\"none\" stroke=\"black\" points=\"3460.5,-277.5 3460.5,-313.5 \"/>\n<text text-anchor=\"middle\" x=\"3500.5\" y=\"-291.8\" font-family=\"Times,serif\" font-size=\"14.00\">data 0.9500</text>\n<polyline fill=\"none\" stroke=\"black\" points=\"3540.5,-277.5 3540.5,-313.5 \"/>\n<text text-anchor=\"middle\" x=\"3581.5\" y=\"-291.8\" font-family=\"Times,serif\" font-size=\"14.00\">grad 0.0000</text>\n</g>\n<!-- 135564902323664* -->\n<g id=\"node136\" class=\"node\">\n<title>135564902323664*</title>\n<ellipse fill=\"none\" stroke=\"black\" cx=\"3688\" cy=\"-295.5\" rx=\"27\" ry=\"18\"/>\n<text text-anchor=\"middle\" x=\"3688\" y=\"-291.8\" font-family=\"Times,serif\" font-size=\"14.00\">*</text>\n</g>\n<!-- 135564866286256&#45;&gt;135564902323664* -->\n<g id=\"edge154\" class=\"edge\">\n<title>135564866286256&#45;&gt;135564902323664*</title>\n<path fill=\"none\" stroke=\"black\" d=\"M3622.82,-295.5C3632.57,-295.5 3642.04,-295.5 3650.57,-295.5\"/>\n<polygon fill=\"black\" stroke=\"black\" points=\"3650.83,-299 3660.83,-295.5 3650.83,-292 3650.83,-299\"/>\n</g>\n<!-- 135564866286256tanh&#45;&gt;135564866286256 -->\n<g id=\"edge40\" class=\"edge\">\n<title>135564866286256tanh&#45;&gt;135564866286256</title>\n<path fill=\"none\" stroke=\"black\" d=\"M3402.21,-295.5C3410.34,-295.5 3419.85,-295.5 3429.94,-295.5\"/>\n<polygon fill=\"black\" stroke=\"black\" points=\"3430.19,-299 3440.19,-295.5 3430.19,-292 3430.19,-299\"/>\n</g>\n<!-- 135564866278096 -->\n<g id=\"node111\" class=\"node\">\n<title>135564866278096</title>\n<polygon fill=\"none\" stroke=\"black\" points=\"2501.5,-497.5 2501.5,-533.5 2683.5,-533.5 2683.5,-497.5 2501.5,-497.5\"/>\n<text text-anchor=\"middle\" x=\"2511.5\" y=\"-511.8\" font-family=\"Times,serif\" font-size=\"14.00\"> </text>\n<polyline fill=\"none\" stroke=\"black\" points=\"2521.5,-497.5 2521.5,-533.5 \"/>\n<text text-anchor=\"middle\" x=\"2561.5\" y=\"-511.8\" font-family=\"Times,serif\" font-size=\"14.00\">data 0.4743</text>\n<polyline fill=\"none\" stroke=\"black\" points=\"2601.5,-497.5 2601.5,-533.5 \"/>\n<text text-anchor=\"middle\" x=\"2642.5\" y=\"-511.8\" font-family=\"Times,serif\" font-size=\"14.00\">grad 0.0000</text>\n</g>\n<!-- 135564866278096&#45;&gt;135564866286160+ -->\n<g id=\"edge107\" class=\"edge\">\n<title>135564866278096&#45;&gt;135564866286160+</title>\n<path fill=\"none\" stroke=\"black\" d=\"M2659.56,-533.55C2668.51,-536.36 2677.53,-539.37 2686,-542.5 2696.49,-546.38 2707.71,-551.22 2717.68,-555.78\"/>\n<polygon fill=\"black\" stroke=\"black\" points=\"2716.25,-558.98 2726.79,-560.03 2719.2,-552.63 2716.25,-558.98\"/>\n</g>\n<!-- 135564866278096+&#45;&gt;135564866278096 -->\n<g id=\"edge41\" class=\"edge\">\n<title>135564866278096+&#45;&gt;135564866278096</title>\n<path fill=\"none\" stroke=\"black\" d=\"M2463.21,-515.5C2471.34,-515.5 2480.85,-515.5 2490.94,-515.5\"/>\n<polygon fill=\"black\" stroke=\"black\" points=\"2491.19,-519 2501.19,-515.5 2491.19,-512 2491.19,-519\"/>\n</g>\n<!-- 135564866605776 -->\n<g id=\"node113\" class=\"node\">\n<title>135564866605776</title>\n<polygon fill=\"none\" stroke=\"black\" points=\"1562.5,-550.5 1562.5,-586.5 1744.5,-586.5 1744.5,-550.5 1562.5,-550.5\"/>\n<text text-anchor=\"middle\" x=\"1572.5\" y=\"-564.8\" font-family=\"Times,serif\" font-size=\"14.00\"> </text>\n<polyline fill=\"none\" stroke=\"black\" points=\"1582.5,-550.5 1582.5,-586.5 \"/>\n<text text-anchor=\"middle\" x=\"1622.5\" y=\"-564.8\" font-family=\"Times,serif\" font-size=\"14.00\">data 0.6225</text>\n<polyline fill=\"none\" stroke=\"black\" points=\"1662.5,-550.5 1662.5,-586.5 \"/>\n<text text-anchor=\"middle\" x=\"1703.5\" y=\"-564.8\" font-family=\"Times,serif\" font-size=\"14.00\">grad 0.0000</text>\n</g>\n<!-- 135564866605776&#45;&gt;135564866281984* -->\n<g id=\"edge156\" class=\"edge\">\n<title>135564866605776&#45;&gt;135564866281984*</title>\n<path fill=\"none\" stroke=\"black\" d=\"M1744.82,-568.5C1754.57,-568.5 1764.04,-568.5 1772.57,-568.5\"/>\n<polygon fill=\"black\" stroke=\"black\" points=\"1772.83,-572 1782.83,-568.5 1772.83,-565 1772.83,-572\"/>\n</g>\n<!-- 135564866605824 -->\n<g id=\"node114\" class=\"node\">\n<title>135564866605824</title>\n<polygon fill=\"none\" stroke=\"black\" points=\"2499,-167.5 2499,-203.5 2686,-203.5 2686,-167.5 2499,-167.5\"/>\n<text text-anchor=\"middle\" x=\"2509\" y=\"-181.8\" font-family=\"Times,serif\" font-size=\"14.00\"> </text>\n<polyline fill=\"none\" stroke=\"black\" points=\"2519,-167.5 2519,-203.5 \"/>\n<text text-anchor=\"middle\" x=\"2561.5\" y=\"-181.8\" font-family=\"Times,serif\" font-size=\"14.00\">data &#45;0.7691</text>\n<polyline fill=\"none\" stroke=\"black\" points=\"2604,-167.5 2604,-203.5 \"/>\n<text text-anchor=\"middle\" x=\"2645\" y=\"-181.8\" font-family=\"Times,serif\" font-size=\"14.00\">grad 0.0000</text>\n</g>\n<!-- 135564866605824&#45;&gt;135564866283856* -->\n<g id=\"edge169\" class=\"edge\">\n<title>135564866605824&#45;&gt;135564866283856*</title>\n<path fill=\"none\" stroke=\"black\" d=\"M2659.56,-203.55C2668.51,-206.36 2677.53,-209.37 2686,-212.5 2696.49,-216.38 2707.71,-221.22 2717.68,-225.78\"/>\n<polygon fill=\"black\" stroke=\"black\" points=\"2716.25,-228.98 2726.79,-230.03 2719.2,-222.63 2716.25,-228.98\"/>\n</g>\n<!-- 135564866614032 -->\n<g id=\"node115\" class=\"node\">\n<title>135564866614032</title>\n<polygon fill=\"none\" stroke=\"black\" points=\"936.5,-828.5 936.5,-864.5 1118.5,-864.5 1118.5,-828.5 936.5,-828.5\"/>\n<text text-anchor=\"middle\" x=\"946.5\" y=\"-842.8\" font-family=\"Times,serif\" font-size=\"14.00\"> </text>\n<polyline fill=\"none\" stroke=\"black\" points=\"956.5,-828.5 956.5,-864.5 \"/>\n<text text-anchor=\"middle\" x=\"996.5\" y=\"-842.8\" font-family=\"Times,serif\" font-size=\"14.00\">data 1.1981</text>\n<polyline fill=\"none\" stroke=\"black\" points=\"1036.5,-828.5 1036.5,-864.5 \"/>\n<text text-anchor=\"middle\" x=\"1077.5\" y=\"-842.8\" font-family=\"Times,serif\" font-size=\"14.00\">grad 0.0000</text>\n</g>\n<!-- 135564866614032&#45;&gt;135564866615184+ -->\n<g id=\"edge145\" class=\"edge\">\n<title>135564866614032&#45;&gt;135564866615184+</title>\n<path fill=\"none\" stroke=\"black\" d=\"M1118.82,-846.5C1128.57,-846.5 1138.04,-846.5 1146.57,-846.5\"/>\n<polygon fill=\"black\" stroke=\"black\" points=\"1146.83,-850 1156.83,-846.5 1146.83,-843 1146.83,-850\"/>\n</g>\n<!-- 135564866614032* -->\n<g id=\"node116\" class=\"node\">\n<title>135564866614032*</title>\n<ellipse fill=\"none\" stroke=\"black\" cx=\"871\" cy=\"-846.5\" rx=\"27\" ry=\"18\"/>\n<text text-anchor=\"middle\" x=\"871\" y=\"-842.8\" font-family=\"Times,serif\" font-size=\"14.00\">*</text>\n</g>\n<!-- 135564866614032*&#45;&gt;135564866614032 -->\n<g id=\"edge42\" class=\"edge\">\n<title>135564866614032*&#45;&gt;135564866614032</title>\n<path fill=\"none\" stroke=\"black\" d=\"M898.21,-846.5C906.34,-846.5 915.85,-846.5 925.94,-846.5\"/>\n<polygon fill=\"black\" stroke=\"black\" points=\"926.19,-850 936.19,-846.5 926.19,-843 926.19,-850\"/>\n</g>\n<!-- 135564866605872 -->\n<g id=\"node117\" class=\"node\">\n<title>135564866605872</title>\n<polygon fill=\"none\" stroke=\"black\" points=\"1875.5,-715.5 1875.5,-751.5 2057.5,-751.5 2057.5,-715.5 1875.5,-715.5\"/>\n<text text-anchor=\"middle\" x=\"1885.5\" y=\"-729.8\" font-family=\"Times,serif\" font-size=\"14.00\"> </text>\n<polyline fill=\"none\" stroke=\"black\" points=\"1895.5,-715.5 1895.5,-751.5 \"/>\n<text text-anchor=\"middle\" x=\"1935.5\" y=\"-729.8\" font-family=\"Times,serif\" font-size=\"14.00\">data 0.1310</text>\n<polyline fill=\"none\" stroke=\"black\" points=\"1975.5,-715.5 1975.5,-751.5 \"/>\n<text text-anchor=\"middle\" x=\"2016.5\" y=\"-729.8\" font-family=\"Times,serif\" font-size=\"14.00\">grad 0.0000</text>\n</g>\n<!-- 135564866605872&#45;&gt;135564866274352* -->\n<g id=\"edge108\" class=\"edge\">\n<title>135564866605872&#45;&gt;135564866274352*</title>\n<path fill=\"none\" stroke=\"black\" d=\"M2057.82,-733.5C2067.57,-733.5 2077.04,-733.5 2085.57,-733.5\"/>\n<polygon fill=\"black\" stroke=\"black\" points=\"2085.83,-737 2095.83,-733.5 2085.83,-730 2085.83,-737\"/>\n</g>\n<!-- 135564866605920 -->\n<g id=\"node118\" class=\"node\">\n<title>135564866605920</title>\n<polygon fill=\"none\" stroke=\"black\" points=\"1247,-502.5 1247,-538.5 1434,-538.5 1434,-502.5 1247,-502.5\"/>\n<text text-anchor=\"middle\" x=\"1257\" y=\"-516.8\" font-family=\"Times,serif\" font-size=\"14.00\"> </text>\n<polyline fill=\"none\" stroke=\"black\" points=\"1267,-502.5 1267,-538.5 \"/>\n<text text-anchor=\"middle\" x=\"1309.5\" y=\"-516.8\" font-family=\"Times,serif\" font-size=\"14.00\">data &#45;0.5873</text>\n<polyline fill=\"none\" stroke=\"black\" points=\"1352,-502.5 1352,-538.5 \"/>\n<text text-anchor=\"middle\" x=\"1393\" y=\"-516.8\" font-family=\"Times,serif\" font-size=\"14.00\">grad 0.0000</text>\n</g>\n<!-- 135564866605920&#45;&gt;135564866613936+ -->\n<g id=\"edge103\" class=\"edge\">\n<title>135564866605920&#45;&gt;135564866613936+</title>\n<path fill=\"none\" stroke=\"black\" d=\"M1434.05,-520.5C1443.06,-520.5 1451.79,-520.5 1459.7,-520.5\"/>\n<polygon fill=\"black\" stroke=\"black\" points=\"1459.95,-524 1469.95,-520.5 1459.95,-517 1459.95,-524\"/>\n</g>\n<!-- 135564866605920+ -->\n<g id=\"node119\" class=\"node\">\n<title>135564866605920+</title>\n<ellipse fill=\"none\" stroke=\"black\" cx=\"1184\" cy=\"-520.5\" rx=\"27\" ry=\"18\"/>\n<text text-anchor=\"middle\" x=\"1184\" y=\"-516.8\" font-family=\"Times,serif\" font-size=\"14.00\">+</text>\n</g>\n<!-- 135564866605920+&#45;&gt;135564866605920 -->\n<g id=\"edge43\" class=\"edge\">\n<title>135564866605920+&#45;&gt;135564866605920</title>\n<path fill=\"none\" stroke=\"black\" d=\"M1211.21,-520.5C1218.73,-520.5 1227.43,-520.5 1236.67,-520.5\"/>\n<polygon fill=\"black\" stroke=\"black\" points=\"1236.89,-524 1246.89,-520.5 1236.89,-517 1236.89,-524\"/>\n</g>\n<!-- 135564866614128 -->\n<g id=\"node120\" class=\"node\">\n<title>135564866614128</title>\n<polygon fill=\"none\" stroke=\"black\" points=\"623.5,-855.5 623.5,-891.5 805.5,-891.5 805.5,-855.5 623.5,-855.5\"/>\n<text text-anchor=\"middle\" x=\"633.5\" y=\"-869.8\" font-family=\"Times,serif\" font-size=\"14.00\"> </text>\n<polyline fill=\"none\" stroke=\"black\" points=\"643.5,-855.5 643.5,-891.5 \"/>\n<text text-anchor=\"middle\" x=\"683.5\" y=\"-869.8\" font-family=\"Times,serif\" font-size=\"14.00\">data 2.0000</text>\n<polyline fill=\"none\" stroke=\"black\" points=\"723.5,-855.5 723.5,-891.5 \"/>\n<text text-anchor=\"middle\" x=\"764.5\" y=\"-869.8\" font-family=\"Times,serif\" font-size=\"14.00\">grad 0.0000</text>\n</g>\n<!-- 135564866614128&#45;&gt;135564866614032* -->\n<g id=\"edge178\" class=\"edge\">\n<title>135564866614128&#45;&gt;135564866614032*</title>\n<path fill=\"none\" stroke=\"black\" d=\"M805.82,-857.72C816.07,-855.92 826.01,-854.19 834.88,-852.64\"/>\n<polygon fill=\"black\" stroke=\"black\" points=\"835.5,-856.08 844.75,-850.91 834.3,-849.19 835.5,-856.08\"/>\n</g>\n<!-- 135564866614272 -->\n<g id=\"node121\" class=\"node\">\n<title>135564866614272</title>\n<polygon fill=\"none\" stroke=\"black\" points=\"1562.5,-828.5 1562.5,-864.5 1744.5,-864.5 1744.5,-828.5 1562.5,-828.5\"/>\n<text text-anchor=\"middle\" x=\"1572.5\" y=\"-842.8\" font-family=\"Times,serif\" font-size=\"14.00\"> </text>\n<polyline fill=\"none\" stroke=\"black\" points=\"1582.5,-828.5 1582.5,-864.5 \"/>\n<text text-anchor=\"middle\" x=\"1622.5\" y=\"-842.8\" font-family=\"Times,serif\" font-size=\"14.00\">data 0.2451</text>\n<polyline fill=\"none\" stroke=\"black\" points=\"1662.5,-828.5 1662.5,-864.5 \"/>\n<text text-anchor=\"middle\" x=\"1703.5\" y=\"-842.8\" font-family=\"Times,serif\" font-size=\"14.00\">grad 0.0000</text>\n</g>\n<!-- 135564866614272&#45;&gt;135564866609472+ -->\n<g id=\"edge184\" class=\"edge\">\n<title>135564866614272&#45;&gt;135564866609472+</title>\n<path fill=\"none\" stroke=\"black\" d=\"M1716.41,-864.53C1726.67,-867.72 1737.16,-871.11 1747,-874.5 1756.8,-877.87 1767.35,-881.84 1776.93,-885.56\"/>\n<polygon fill=\"black\" stroke=\"black\" points=\"1775.89,-888.91 1786.48,-889.31 1778.45,-882.39 1775.89,-888.91\"/>\n</g>\n<!-- 135564866614272+ -->\n<g id=\"node122\" class=\"node\">\n<title>135564866614272+</title>\n<ellipse fill=\"none\" stroke=\"black\" cx=\"1497\" cy=\"-846.5\" rx=\"27\" ry=\"18\"/>\n<text text-anchor=\"middle\" x=\"1497\" y=\"-842.8\" font-family=\"Times,serif\" font-size=\"14.00\">+</text>\n</g>\n<!-- 135564866614272+&#45;&gt;135564866614272 -->\n<g id=\"edge44\" class=\"edge\">\n<title>135564866614272+&#45;&gt;135564866614272</title>\n<path fill=\"none\" stroke=\"black\" d=\"M1524.21,-846.5C1532.34,-846.5 1541.85,-846.5 1551.94,-846.5\"/>\n<polygon fill=\"black\" stroke=\"black\" points=\"1552.19,-850 1562.19,-846.5 1552.19,-843 1552.19,-850\"/>\n</g>\n<!-- 135564866614320 -->\n<g id=\"node123\" class=\"node\">\n<title>135564866614320</title>\n<polygon fill=\"none\" stroke=\"black\" points=\"623.5,-623.5 623.5,-659.5 805.5,-659.5 805.5,-623.5 623.5,-623.5\"/>\n<text text-anchor=\"middle\" x=\"633.5\" y=\"-637.8\" font-family=\"Times,serif\" font-size=\"14.00\"> </text>\n<polyline fill=\"none\" stroke=\"black\" points=\"643.5,-623.5 643.5,-659.5 \"/>\n<text text-anchor=\"middle\" x=\"683.5\" y=\"-637.8\" font-family=\"Times,serif\" font-size=\"14.00\">data 3.0000</text>\n<polyline fill=\"none\" stroke=\"black\" points=\"723.5,-623.5 723.5,-659.5 \"/>\n<text text-anchor=\"middle\" x=\"764.5\" y=\"-637.8\" font-family=\"Times,serif\" font-size=\"14.00\">grad 0.0000</text>\n</g>\n<!-- 135564866614464* -->\n<g id=\"node127\" class=\"node\">\n<title>135564866614464*</title>\n<ellipse fill=\"none\" stroke=\"black\" cx=\"871\" cy=\"-586.5\" rx=\"27\" ry=\"18\"/>\n<text text-anchor=\"middle\" x=\"871\" y=\"-582.8\" font-family=\"Times,serif\" font-size=\"14.00\">*</text>\n</g>\n<!-- 135564866614320&#45;&gt;135564866614464* -->\n<g id=\"edge124\" class=\"edge\">\n<title>135564866614320&#45;&gt;135564866614464*</title>\n<path fill=\"none\" stroke=\"black\" d=\"M779.02,-623.35C788.79,-620.24 798.71,-616.92 808,-613.5 818.25,-609.73 829.23,-605.14 839.07,-600.82\"/>\n<polygon fill=\"black\" stroke=\"black\" points=\"840.74,-603.9 848.45,-596.63 837.89,-597.51 840.74,-603.9\"/>\n</g>\n<!-- 135564866606256 -->\n<g id=\"node124\" class=\"node\">\n<title>135564866606256</title>\n<polygon fill=\"none\" stroke=\"black\" points=\"1249.5,-567.5 1249.5,-603.5 1431.5,-603.5 1431.5,-567.5 1249.5,-567.5\"/>\n<text text-anchor=\"middle\" x=\"1259.5\" y=\"-581.8\" font-family=\"Times,serif\" font-size=\"14.00\"> </text>\n<polyline fill=\"none\" stroke=\"black\" points=\"1269.5,-567.5 1269.5,-603.5 \"/>\n<text text-anchor=\"middle\" x=\"1309.5\" y=\"-581.8\" font-family=\"Times,serif\" font-size=\"14.00\">data 0.6446</text>\n<polyline fill=\"none\" stroke=\"black\" points=\"1349.5,-567.5 1349.5,-603.5 \"/>\n<text text-anchor=\"middle\" x=\"1390.5\" y=\"-581.8\" font-family=\"Times,serif\" font-size=\"14.00\">grad 0.0000</text>\n</g>\n<!-- 135564866606256&#45;&gt;135564866613936+ -->\n<g id=\"edge85\" class=\"edge\">\n<title>135564866606256&#45;&gt;135564866613936+</title>\n<path fill=\"none\" stroke=\"black\" d=\"M1386.27,-567.33C1401.45,-561.11 1418.49,-554.06 1434,-547.5 1443.97,-543.28 1454.81,-538.6 1464.59,-534.33\"/>\n<polygon fill=\"black\" stroke=\"black\" points=\"1466.19,-537.45 1473.95,-530.23 1463.39,-531.04 1466.19,-537.45\"/>\n</g>\n<!-- 135564866606256*&#45;&gt;135564866606256 -->\n<g id=\"edge45\" class=\"edge\">\n<title>135564866606256*&#45;&gt;135564866606256</title>\n<path fill=\"none\" stroke=\"black\" d=\"M1210.86,-597.16C1219.13,-596.41 1228.83,-595.53 1239.14,-594.59\"/>\n<polygon fill=\"black\" stroke=\"black\" points=\"1239.54,-598.07 1249.18,-593.68 1238.91,-591.1 1239.54,-598.07\"/>\n</g>\n<!-- 135564866614464 -->\n<g id=\"node126\" class=\"node\">\n<title>135564866614464</title>\n<polygon fill=\"none\" stroke=\"black\" points=\"934,-526.5 934,-562.5 1121,-562.5 1121,-526.5 934,-526.5\"/>\n<text text-anchor=\"middle\" x=\"944\" y=\"-540.8\" font-family=\"Times,serif\" font-size=\"14.00\"> </text>\n<polyline fill=\"none\" stroke=\"black\" points=\"954,-526.5 954,-562.5 \"/>\n<text text-anchor=\"middle\" x=\"996.5\" y=\"-540.8\" font-family=\"Times,serif\" font-size=\"14.00\">data &#45;0.6798</text>\n<polyline fill=\"none\" stroke=\"black\" points=\"1039,-526.5 1039,-562.5 \"/>\n<text text-anchor=\"middle\" x=\"1080\" y=\"-540.8\" font-family=\"Times,serif\" font-size=\"14.00\">grad 0.0000</text>\n</g>\n<!-- 135564866614464&#45;&gt;135564866605920+ -->\n<g id=\"edge126\" class=\"edge\">\n<title>135564866614464&#45;&gt;135564866605920+</title>\n<path fill=\"none\" stroke=\"black\" d=\"M1121.05,-530.12C1130.34,-528.68 1139.33,-527.28 1147.44,-526.02\"/>\n<polygon fill=\"black\" stroke=\"black\" points=\"1148.21,-529.45 1157.55,-524.45 1147.13,-522.53 1148.21,-529.45\"/>\n</g>\n<!-- 135564866614464*&#45;&gt;135564866614464 -->\n<g id=\"edge46\" class=\"edge\">\n<title>135564866614464*&#45;&gt;135564866614464</title>\n<path fill=\"none\" stroke=\"black\" d=\"M896.48,-579.84C911.18,-575.85 930.77,-570.52 950.28,-565.22\"/>\n<polygon fill=\"black\" stroke=\"black\" points=\"951.4,-568.54 960.13,-562.54 949.56,-561.79 951.4,-568.54\"/>\n</g>\n<!-- 135564866281360 -->\n<g id=\"node128\" class=\"node\">\n<title>135564866281360</title>\n<polygon fill=\"none\" stroke=\"black\" points=\"2188.5,-550.5 2188.5,-586.5 2370.5,-586.5 2370.5,-550.5 2188.5,-550.5\"/>\n<text text-anchor=\"middle\" x=\"2198.5\" y=\"-564.8\" font-family=\"Times,serif\" font-size=\"14.00\"> </text>\n<polyline fill=\"none\" stroke=\"black\" points=\"2208.5,-550.5 2208.5,-586.5 \"/>\n<text text-anchor=\"middle\" x=\"2248.5\" y=\"-564.8\" font-family=\"Times,serif\" font-size=\"14.00\">data 0.0431</text>\n<polyline fill=\"none\" stroke=\"black\" points=\"2288.5,-550.5 2288.5,-586.5 \"/>\n<text text-anchor=\"middle\" x=\"2329.5\" y=\"-564.8\" font-family=\"Times,serif\" font-size=\"14.00\">grad 0.0000</text>\n</g>\n<!-- 135564866281360&#45;&gt;135564866278096+ -->\n<g id=\"edge164\" class=\"edge\">\n<title>135564866281360&#45;&gt;135564866278096+</title>\n<path fill=\"none\" stroke=\"black\" d=\"M2342.94,-550.43C2353.04,-547.27 2363.35,-543.9 2373,-540.5 2383.02,-536.97 2393.79,-532.77 2403.51,-528.83\"/>\n<polygon fill=\"black\" stroke=\"black\" points=\"2404.88,-532.05 2412.8,-525.01 2402.22,-525.58 2404.88,-532.05\"/>\n</g>\n<!-- 135564866281360*&#45;&gt;135564866281360 -->\n<g id=\"edge47\" class=\"edge\">\n<title>135564866281360*&#45;&gt;135564866281360</title>\n<path fill=\"none\" stroke=\"black\" d=\"M2149.51,-591.04C2157.83,-589.59 2167.62,-587.88 2178.03,-586.06\"/>\n<polygon fill=\"black\" stroke=\"black\" points=\"2178.93,-589.45 2188.18,-584.28 2177.73,-582.56 2178.93,-589.45\"/>\n</g>\n<!-- 135564866606304 -->\n<g id=\"node130\" class=\"node\">\n<title>135564866606304</title>\n<polygon fill=\"none\" stroke=\"black\" points=\"936.5,-471.5 936.5,-507.5 1118.5,-507.5 1118.5,-471.5 936.5,-471.5\"/>\n<text text-anchor=\"middle\" x=\"946.5\" y=\"-485.8\" font-family=\"Times,serif\" font-size=\"14.00\"> </text>\n<polyline fill=\"none\" stroke=\"black\" points=\"956.5,-471.5 956.5,-507.5 \"/>\n<text text-anchor=\"middle\" x=\"996.5\" y=\"-485.8\" font-family=\"Times,serif\" font-size=\"14.00\">data 0.0926</text>\n<polyline fill=\"none\" stroke=\"black\" points=\"1036.5,-471.5 1036.5,-507.5 \"/>\n<text text-anchor=\"middle\" x=\"1077.5\" y=\"-485.8\" font-family=\"Times,serif\" font-size=\"14.00\">grad 0.0000</text>\n</g>\n<!-- 135564866606304&#45;&gt;135564866605920+ -->\n<g id=\"edge150\" class=\"edge\">\n<title>135564866606304&#45;&gt;135564866605920+</title>\n<path fill=\"none\" stroke=\"black\" d=\"M1118.37,-507.53C1128.77,-509.62 1138.86,-511.64 1147.85,-513.45\"/>\n<polygon fill=\"black\" stroke=\"black\" points=\"1147.37,-516.92 1157.86,-515.46 1148.74,-510.06 1147.37,-516.92\"/>\n</g>\n<!-- 135564866606304+ -->\n<g id=\"node131\" class=\"node\">\n<title>135564866606304+</title>\n<ellipse fill=\"none\" stroke=\"black\" cx=\"871\" cy=\"-489.5\" rx=\"27\" ry=\"18\"/>\n<text text-anchor=\"middle\" x=\"871\" y=\"-485.8\" font-family=\"Times,serif\" font-size=\"14.00\">+</text>\n</g>\n<!-- 135564866606304+&#45;&gt;135564866606304 -->\n<g id=\"edge48\" class=\"edge\">\n<title>135564866606304+&#45;&gt;135564866606304</title>\n<path fill=\"none\" stroke=\"black\" d=\"M898.21,-489.5C906.34,-489.5 915.85,-489.5 925.94,-489.5\"/>\n<polygon fill=\"black\" stroke=\"black\" points=\"926.19,-493 936.19,-489.5 926.19,-486 926.19,-493\"/>\n</g>\n<!-- 135564866606352 -->\n<g id=\"node132\" class=\"node\">\n<title>135564866606352</title>\n<polygon fill=\"none\" stroke=\"black\" points=\"934,-581.5 934,-617.5 1121,-617.5 1121,-581.5 934,-581.5\"/>\n<text text-anchor=\"middle\" x=\"944\" y=\"-595.8\" font-family=\"Times,serif\" font-size=\"14.00\"> </text>\n<polyline fill=\"none\" stroke=\"black\" points=\"954,-581.5 954,-617.5 \"/>\n<text text-anchor=\"middle\" x=\"996.5\" y=\"-595.8\" font-family=\"Times,serif\" font-size=\"14.00\">data &#45;1.0000</text>\n<polyline fill=\"none\" stroke=\"black\" points=\"1039,-581.5 1039,-617.5 \"/>\n<text text-anchor=\"middle\" x=\"1080\" y=\"-595.8\" font-family=\"Times,serif\" font-size=\"14.00\">grad 0.0000</text>\n</g>\n<!-- 135564866606352&#45;&gt;135564866606256* -->\n<g id=\"edge175\" class=\"edge\">\n<title>135564866606352&#45;&gt;135564866606256*</title>\n<path fill=\"none\" stroke=\"black\" d=\"M1121.05,-599.5C1130.06,-599.5 1138.79,-599.5 1146.7,-599.5\"/>\n<polygon fill=\"black\" stroke=\"black\" points=\"1146.95,-603 1156.95,-599.5 1146.95,-596 1146.95,-603\"/>\n</g>\n<!-- 135564902323616 -->\n<g id=\"node133\" class=\"node\">\n<title>135564902323616</title>\n<polygon fill=\"none\" stroke=\"black\" points=\"3751,-383.5 3751,-419.5 3933,-419.5 3933,-383.5 3751,-383.5\"/>\n<text text-anchor=\"middle\" x=\"3761\" y=\"-397.8\" font-family=\"Times,serif\" font-size=\"14.00\"> </text>\n<polyline fill=\"none\" stroke=\"black\" points=\"3771,-383.5 3771,-419.5 \"/>\n<text text-anchor=\"middle\" x=\"3811\" y=\"-397.8\" font-family=\"Times,serif\" font-size=\"14.00\">data 0.2818</text>\n<polyline fill=\"none\" stroke=\"black\" points=\"3851,-383.5 3851,-419.5 \"/>\n<text text-anchor=\"middle\" x=\"3892\" y=\"-397.8\" font-family=\"Times,serif\" font-size=\"14.00\">grad 0.0000</text>\n</g>\n<!-- 135564902323856+ -->\n<g id=\"node141\" class=\"node\">\n<title>135564902323856+</title>\n<ellipse fill=\"none\" stroke=\"black\" cx=\"4060\" cy=\"-378.5\" rx=\"27\" ry=\"18\"/>\n<text text-anchor=\"middle\" x=\"4060\" y=\"-374.8\" font-family=\"Times,serif\" font-size=\"14.00\">+</text>\n</g>\n<!-- 135564902323616&#45;&gt;135564902323856+ -->\n<g id=\"edge177\" class=\"edge\">\n<title>135564902323616&#45;&gt;135564902323856+</title>\n<path fill=\"none\" stroke=\"black\" d=\"M3933.04,-391.91C3964.64,-388.55 3998.35,-384.96 4022.94,-382.34\"/>\n<polygon fill=\"black\" stroke=\"black\" points=\"4023.32,-385.82 4032.89,-381.28 4022.57,-378.86 4023.32,-385.82\"/>\n</g>\n<!-- 135564902323616*&#45;&gt;135564902323616 -->\n<g id=\"edge49\" class=\"edge\">\n<title>135564902323616*&#45;&gt;135564902323616</title>\n<path fill=\"none\" stroke=\"black\" d=\"M3715.13,-401.5C3722.67,-401.5 3731.39,-401.5 3740.64,-401.5\"/>\n<polygon fill=\"black\" stroke=\"black\" points=\"3740.87,-405 3750.87,-401.5 3740.87,-398 3740.87,-405\"/>\n</g>\n<!-- 135564902323664 -->\n<g id=\"node135\" class=\"node\">\n<title>135564902323664</title>\n<polygon fill=\"none\" stroke=\"black\" points=\"3969,-293.5 3969,-329.5 4151,-329.5 4151,-293.5 3969,-293.5\"/>\n<text text-anchor=\"middle\" x=\"3979\" y=\"-307.8\" font-family=\"Times,serif\" font-size=\"14.00\"> </text>\n<polyline fill=\"none\" stroke=\"black\" points=\"3989,-293.5 3989,-329.5 \"/>\n<text text-anchor=\"middle\" x=\"4029\" y=\"-307.8\" font-family=\"Times,serif\" font-size=\"14.00\">data 0.8376</text>\n<polyline fill=\"none\" stroke=\"black\" points=\"4069,-293.5 4069,-329.5 \"/>\n<text text-anchor=\"middle\" x=\"4110\" y=\"-307.8\" font-family=\"Times,serif\" font-size=\"14.00\">grad 0.0000</text>\n</g>\n<!-- 135564902323664&#45;&gt;135568481085296+ -->\n<g id=\"edge133\" class=\"edge\">\n<title>135564902323664&#45;&gt;135568481085296+</title>\n<path fill=\"none\" stroke=\"black\" d=\"M4151.06,-320.43C4213.78,-327.22 4299.27,-337.57 4374,-350.5 4405.24,-355.91 4440.45,-363.89 4465.68,-369.95\"/>\n<polygon fill=\"black\" stroke=\"black\" points=\"4464.97,-373.38 4475.51,-372.34 4466.62,-366.58 4464.97,-373.38\"/>\n</g>\n<!-- 135564902323664*&#45;&gt;135564902323664 -->\n<g id=\"edge50\" class=\"edge\">\n<title>135564902323664*&#45;&gt;135564902323664</title>\n<path fill=\"none\" stroke=\"black\" d=\"M3715.02,-296.63C3764.84,-298.78 3876.08,-303.59 3958.65,-307.16\"/>\n<polygon fill=\"black\" stroke=\"black\" points=\"3958.68,-310.67 3968.82,-307.6 3958.98,-303.67 3958.68,-310.67\"/>\n</g>\n<!-- 135564866614752 -->\n<g id=\"node137\" class=\"node\">\n<title>135564866614752</title>\n<polygon fill=\"none\" stroke=\"black\" points=\"2501.5,-607.5 2501.5,-643.5 2683.5,-643.5 2683.5,-607.5 2501.5,-607.5\"/>\n<text text-anchor=\"middle\" x=\"2511.5\" y=\"-621.8\" font-family=\"Times,serif\" font-size=\"14.00\"> </text>\n<polyline fill=\"none\" stroke=\"black\" points=\"2521.5,-607.5 2521.5,-643.5 \"/>\n<text text-anchor=\"middle\" x=\"2561.5\" y=\"-621.8\" font-family=\"Times,serif\" font-size=\"14.00\">data 0.1355</text>\n<polyline fill=\"none\" stroke=\"black\" points=\"2601.5,-607.5 2601.5,-643.5 \"/>\n<text text-anchor=\"middle\" x=\"2642.5\" y=\"-621.8\" font-family=\"Times,serif\" font-size=\"14.00\">grad 0.0000</text>\n</g>\n<!-- 135564866614752&#45;&gt;135564902324096* -->\n<g id=\"edge74\" class=\"edge\">\n<title>135564866614752&#45;&gt;135564902324096*</title>\n<path fill=\"none\" stroke=\"black\" d=\"M2673.2,-607.31C2677.83,-604.5 2682.16,-601.25 2686,-597.5 2722.52,-561.88 2696.05,-532.42 2722,-488.5 2723.15,-486.55 2724.46,-484.62 2725.86,-482.75\"/>\n<polygon fill=\"black\" stroke=\"black\" points=\"2728.66,-484.85 2732.4,-474.94 2723.3,-480.36 2728.66,-484.85\"/>\n</g>\n<!-- 135564866606640 -->\n<g id=\"node138\" class=\"node\">\n<title>135564866606640</title>\n<polygon fill=\"none\" stroke=\"black\" points=\"3440.5,-332.5 3440.5,-368.5 3622.5,-368.5 3622.5,-332.5 3440.5,-332.5\"/>\n<text text-anchor=\"middle\" x=\"3450.5\" y=\"-346.8\" font-family=\"Times,serif\" font-size=\"14.00\"> </text>\n<polyline fill=\"none\" stroke=\"black\" points=\"3460.5,-332.5 3460.5,-368.5 \"/>\n<text text-anchor=\"middle\" x=\"3500.5\" y=\"-346.8\" font-family=\"Times,serif\" font-size=\"14.00\">data 0.9131</text>\n<polyline fill=\"none\" stroke=\"black\" points=\"3540.5,-332.5 3540.5,-368.5 \"/>\n<text text-anchor=\"middle\" x=\"3581.5\" y=\"-346.8\" font-family=\"Times,serif\" font-size=\"14.00\">grad 0.0000</text>\n</g>\n<!-- 135564866606640&#45;&gt;135564902323616* -->\n<g id=\"edge151\" class=\"edge\">\n<title>135564866606640&#45;&gt;135564902323616*</title>\n<path fill=\"none\" stroke=\"black\" d=\"M3596.91,-368.53C3606.37,-371.4 3615.97,-374.44 3625,-377.5 3634.82,-380.83 3645.38,-384.77 3654.95,-388.49\"/>\n<polygon fill=\"black\" stroke=\"black\" points=\"3653.91,-391.85 3664.49,-392.26 3656.47,-385.33 3653.91,-391.85\"/>\n</g>\n<!-- 135564866606688 -->\n<g id=\"node139\" class=\"node\">\n<title>135564866606688</title>\n<polygon fill=\"none\" stroke=\"black\" points=\"3440.5,-222.5 3440.5,-258.5 3622.5,-258.5 3622.5,-222.5 3440.5,-222.5\"/>\n<text text-anchor=\"middle\" x=\"3450.5\" y=\"-236.8\" font-family=\"Times,serif\" font-size=\"14.00\"> </text>\n<polyline fill=\"none\" stroke=\"black\" points=\"3460.5,-222.5 3460.5,-258.5 \"/>\n<text text-anchor=\"middle\" x=\"3500.5\" y=\"-236.8\" font-family=\"Times,serif\" font-size=\"14.00\">data 0.8817</text>\n<polyline fill=\"none\" stroke=\"black\" points=\"3540.5,-222.5 3540.5,-258.5 \"/>\n<text text-anchor=\"middle\" x=\"3581.5\" y=\"-236.8\" font-family=\"Times,serif\" font-size=\"14.00\">grad 0.0000</text>\n</g>\n<!-- 135564866606688&#45;&gt;135564902323664* -->\n<g id=\"edge174\" class=\"edge\">\n<title>135564866606688&#45;&gt;135564902323664*</title>\n<path fill=\"none\" stroke=\"black\" d=\"M3598.56,-258.55C3607.51,-261.36 3616.53,-264.37 3625,-267.5 3635.49,-271.38 3646.71,-276.22 3656.68,-280.78\"/>\n<polygon fill=\"black\" stroke=\"black\" points=\"3655.25,-283.98 3665.79,-285.03 3658.2,-277.63 3655.25,-283.98\"/>\n</g>\n<!-- 135564902323856 -->\n<g id=\"node140\" class=\"node\">\n<title>135564902323856</title>\n<polygon fill=\"none\" stroke=\"black\" points=\"4189.5,-360.5 4189.5,-396.5 4371.5,-396.5 4371.5,-360.5 4189.5,-360.5\"/>\n<text text-anchor=\"middle\" x=\"4199.5\" y=\"-374.8\" font-family=\"Times,serif\" font-size=\"14.00\"> </text>\n<polyline fill=\"none\" stroke=\"black\" points=\"4209.5,-360.5 4209.5,-396.5 \"/>\n<text text-anchor=\"middle\" x=\"4249.5\" y=\"-374.8\" font-family=\"Times,serif\" font-size=\"14.00\">data 0.5754</text>\n<polyline fill=\"none\" stroke=\"black\" points=\"4289.5,-360.5 4289.5,-396.5 \"/>\n<text text-anchor=\"middle\" x=\"4330.5\" y=\"-374.8\" font-family=\"Times,serif\" font-size=\"14.00\">grad 0.0000</text>\n</g>\n<!-- 135564902323856&#45;&gt;135568481085296+ -->\n<g id=\"edge80\" class=\"edge\">\n<title>135564902323856&#45;&gt;135568481085296+</title>\n<path fill=\"none\" stroke=\"black\" d=\"M4371.63,-378.5C4403.93,-378.5 4438.53,-378.5 4463.66,-378.5\"/>\n<polygon fill=\"black\" stroke=\"black\" points=\"4463.82,-382 4473.82,-378.5 4463.82,-375 4463.82,-382\"/>\n</g>\n<!-- 135564902323856+&#45;&gt;135564902323856 -->\n<g id=\"edge51\" class=\"edge\">\n<title>135564902323856+&#45;&gt;135564902323856</title>\n<path fill=\"none\" stroke=\"black\" d=\"M4087.36,-378.5C4110.29,-378.5 4145.06,-378.5 4178.74,-378.5\"/>\n<polygon fill=\"black\" stroke=\"black\" points=\"4179.15,-382 4189.15,-378.5 4179.15,-375 4179.15,-382\"/>\n</g>\n<!-- 135564866614944 -->\n<g id=\"node142\" class=\"node\">\n<title>135564866614944</title>\n<polygon fill=\"none\" stroke=\"black\" points=\"1247,-773.5 1247,-809.5 1434,-809.5 1434,-773.5 1247,-773.5\"/>\n<text text-anchor=\"middle\" x=\"1257\" y=\"-787.8\" font-family=\"Times,serif\" font-size=\"14.00\"> </text>\n<polyline fill=\"none\" stroke=\"black\" points=\"1267,-773.5 1267,-809.5 \"/>\n<text text-anchor=\"middle\" x=\"1309.5\" y=\"-787.8\" font-family=\"Times,serif\" font-size=\"14.00\">data &#45;0.5768</text>\n<polyline fill=\"none\" stroke=\"black\" points=\"1352,-773.5 1352,-809.5 \"/>\n<text text-anchor=\"middle\" x=\"1393\" y=\"-787.8\" font-family=\"Times,serif\" font-size=\"14.00\">grad 0.0000</text>\n</g>\n<!-- 135564866614944&#45;&gt;135564866614272+ -->\n<g id=\"edge98\" class=\"edge\">\n<title>135564866614944&#45;&gt;135564866614272+</title>\n<path fill=\"none\" stroke=\"black\" d=\"M1405.02,-809.65C1414.79,-812.76 1424.71,-816.08 1434,-819.5 1444.25,-823.27 1455.23,-827.86 1465.07,-832.18\"/>\n<polygon fill=\"black\" stroke=\"black\" points=\"1463.89,-835.49 1474.45,-836.37 1466.74,-829.1 1463.89,-835.49\"/>\n</g>\n<!-- 135564866614944*&#45;&gt;135564866614944 -->\n<g id=\"edge52\" class=\"edge\">\n<title>135564866614944*&#45;&gt;135564866614944</title>\n<path fill=\"none\" stroke=\"black\" d=\"M1211.21,-791.5C1218.73,-791.5 1227.43,-791.5 1236.67,-791.5\"/>\n<polygon fill=\"black\" stroke=\"black\" points=\"1236.89,-795 1246.89,-791.5 1236.89,-788 1236.89,-795\"/>\n</g>\n<!-- 135564866606784 -->\n<g id=\"node144\" class=\"node\">\n<title>135564866606784</title>\n<polygon fill=\"none\" stroke=\"black\" points=\"1247,-416.5 1247,-452.5 1434,-452.5 1434,-416.5 1247,-416.5\"/>\n<text text-anchor=\"middle\" x=\"1257\" y=\"-430.8\" font-family=\"Times,serif\" font-size=\"14.00\"> </text>\n<polyline fill=\"none\" stroke=\"black\" points=\"1267,-416.5 1267,-452.5 \"/>\n<text text-anchor=\"middle\" x=\"1309.5\" y=\"-430.8\" font-family=\"Times,serif\" font-size=\"14.00\">data &#45;0.0152</text>\n<polyline fill=\"none\" stroke=\"black\" points=\"1352,-416.5 1352,-452.5 \"/>\n<text text-anchor=\"middle\" x=\"1393\" y=\"-430.8\" font-family=\"Times,serif\" font-size=\"14.00\">grad 0.0000</text>\n</g>\n<!-- 135564866607024tanh -->\n<g id=\"node155\" class=\"node\">\n<title>135564866607024tanh</title>\n<ellipse fill=\"none\" stroke=\"black\" cx=\"1497\" cy=\"-438.5\" rx=\"27\" ry=\"18\"/>\n<text text-anchor=\"middle\" x=\"1497\" y=\"-434.8\" font-family=\"Times,serif\" font-size=\"14.00\">tanh</text>\n</g>\n<!-- 135564866606784&#45;&gt;135564866607024tanh -->\n<g id=\"edge144\" class=\"edge\">\n<title>135564866606784&#45;&gt;135564866607024tanh</title>\n<path fill=\"none\" stroke=\"black\" d=\"M1434.05,-436.9C1443.06,-437.13 1451.79,-437.36 1459.7,-437.56\"/>\n<polygon fill=\"black\" stroke=\"black\" points=\"1459.86,-441.07 1469.95,-437.83 1460.04,-434.07 1459.86,-441.07\"/>\n</g>\n<!-- 135564866606784+ -->\n<g id=\"node145\" class=\"node\">\n<title>135564866606784+</title>\n<ellipse fill=\"none\" stroke=\"black\" cx=\"1184\" cy=\"-407.5\" rx=\"27\" ry=\"18\"/>\n<text text-anchor=\"middle\" x=\"1184\" y=\"-403.8\" font-family=\"Times,serif\" font-size=\"14.00\">+</text>\n</g>\n<!-- 135564866606784+&#45;&gt;135564866606784 -->\n<g id=\"edge53\" class=\"edge\">\n<title>135564866606784+&#45;&gt;135564866606784</title>\n<path fill=\"none\" stroke=\"black\" d=\"M1210.51,-411.96C1218.21,-413.3 1227.17,-414.87 1236.73,-416.54\"/>\n<polygon fill=\"black\" stroke=\"black\" points=\"1236.41,-420.04 1246.86,-418.31 1237.62,-413.14 1236.41,-420.04\"/>\n</g>\n<!-- 135564902324000 -->\n<g id=\"node146\" class=\"node\">\n<title>135564902324000</title>\n<polygon fill=\"none\" stroke=\"black\" points=\"3438,-607.5 3438,-643.5 3625,-643.5 3625,-607.5 3438,-607.5\"/>\n<text text-anchor=\"middle\" x=\"3448\" y=\"-621.8\" font-family=\"Times,serif\" font-size=\"14.00\"> </text>\n<polyline fill=\"none\" stroke=\"black\" points=\"3458,-607.5 3458,-643.5 \"/>\n<text text-anchor=\"middle\" x=\"3500.5\" y=\"-621.8\" font-family=\"Times,serif\" font-size=\"14.00\">data &#45;0.1620</text>\n<polyline fill=\"none\" stroke=\"black\" points=\"3543,-607.5 3543,-643.5 \"/>\n<text text-anchor=\"middle\" x=\"3584\" y=\"-621.8\" font-family=\"Times,serif\" font-size=\"14.00\">grad 0.0000</text>\n</g>\n<!-- 135564902324000&#45;&gt;135564901427872* -->\n<g id=\"edge109\" class=\"edge\">\n<title>135564902324000&#45;&gt;135564901427872*</title>\n<path fill=\"none\" stroke=\"black\" d=\"M3596.02,-607.35C3605.79,-604.24 3615.71,-600.92 3625,-597.5 3635.25,-593.73 3646.23,-589.14 3656.07,-584.82\"/>\n<polygon fill=\"black\" stroke=\"black\" points=\"3657.74,-587.9 3665.45,-580.63 3654.89,-581.51 3657.74,-587.9\"/>\n</g>\n<!-- 135564902324000tanh -->\n<g id=\"node147\" class=\"node\">\n<title>135564902324000tanh</title>\n<ellipse fill=\"none\" stroke=\"black\" cx=\"3375\" cy=\"-625.5\" rx=\"27\" ry=\"18\"/>\n<text text-anchor=\"middle\" x=\"3375\" y=\"-621.8\" font-family=\"Times,serif\" font-size=\"14.00\">tanh</text>\n</g>\n<!-- 135564902324000tanh&#45;&gt;135564902324000 -->\n<g id=\"edge54\" class=\"edge\">\n<title>135564902324000tanh&#45;&gt;135564902324000</title>\n<path fill=\"none\" stroke=\"black\" d=\"M3402.21,-625.5C3409.73,-625.5 3418.43,-625.5 3427.67,-625.5\"/>\n<polygon fill=\"black\" stroke=\"black\" points=\"3427.89,-629 3437.89,-625.5 3427.89,-622 3427.89,-629\"/>\n</g>\n<!-- 135564902324096 -->\n<g id=\"node148\" class=\"node\">\n<title>135564902324096</title>\n<polygon fill=\"none\" stroke=\"black\" points=\"2812,-442.5 2812,-478.5 2999,-478.5 2999,-442.5 2812,-442.5\"/>\n<text text-anchor=\"middle\" x=\"2822\" y=\"-456.8\" font-family=\"Times,serif\" font-size=\"14.00\"> </text>\n<polyline fill=\"none\" stroke=\"black\" points=\"2832,-442.5 2832,-478.5 \"/>\n<text text-anchor=\"middle\" x=\"2874.5\" y=\"-456.8\" font-family=\"Times,serif\" font-size=\"14.00\">data &#45;0.1201</text>\n<polyline fill=\"none\" stroke=\"black\" points=\"2917,-442.5 2917,-478.5 \"/>\n<text text-anchor=\"middle\" x=\"2958\" y=\"-456.8\" font-family=\"Times,serif\" font-size=\"14.00\">grad 0.0000</text>\n</g>\n<!-- 135564902324096&#45;&gt;135564902326256+ -->\n<g id=\"edge210\" class=\"edge\">\n<title>135564902324096&#45;&gt;135564902326256+</title>\n<path fill=\"none\" stroke=\"black\" d=\"M2986.19,-478.52C2990.77,-481.12 2995.09,-484.09 2999,-487.5 3016.44,-502.69 3039.23,-562.29 3051.75,-598.01\"/>\n<polygon fill=\"black\" stroke=\"black\" points=\"3048.57,-599.52 3055.15,-607.82 3055.19,-597.23 3048.57,-599.52\"/>\n</g>\n<!-- 135564902324096*&#45;&gt;135564902324096 -->\n<g id=\"edge55\" class=\"edge\">\n<title>135564902324096*&#45;&gt;135564902324096</title>\n<path fill=\"none\" stroke=\"black\" d=\"M2776.21,-460.5C2783.73,-460.5 2792.43,-460.5 2801.67,-460.5\"/>\n<polygon fill=\"black\" stroke=\"black\" points=\"2801.89,-464 2811.89,-460.5 2801.89,-457 2801.89,-464\"/>\n</g>\n<!-- 135564866615184 -->\n<g id=\"node150\" class=\"node\">\n<title>135564866615184</title>\n<polygon fill=\"none\" stroke=\"black\" points=\"1249.5,-828.5 1249.5,-864.5 1431.5,-864.5 1431.5,-828.5 1249.5,-828.5\"/>\n<text text-anchor=\"middle\" x=\"1259.5\" y=\"-842.8\" font-family=\"Times,serif\" font-size=\"14.00\"> </text>\n<polyline fill=\"none\" stroke=\"black\" points=\"1269.5,-828.5 1269.5,-864.5 \"/>\n<text text-anchor=\"middle\" x=\"1309.5\" y=\"-842.8\" font-family=\"Times,serif\" font-size=\"14.00\">data 0.8219</text>\n<polyline fill=\"none\" stroke=\"black\" points=\"1349.5,-828.5 1349.5,-864.5 \"/>\n<text text-anchor=\"middle\" x=\"1390.5\" y=\"-842.8\" font-family=\"Times,serif\" font-size=\"14.00\">grad 0.0000</text>\n</g>\n<!-- 135564866615184&#45;&gt;135564866614272+ -->\n<g id=\"edge208\" class=\"edge\">\n<title>135564866615184&#45;&gt;135564866614272+</title>\n<path fill=\"none\" stroke=\"black\" d=\"M1431.82,-846.5C1441.57,-846.5 1451.04,-846.5 1459.57,-846.5\"/>\n<polygon fill=\"black\" stroke=\"black\" points=\"1459.83,-850 1469.83,-846.5 1459.83,-843 1459.83,-850\"/>\n</g>\n<!-- 135564866615184+&#45;&gt;135564866615184 -->\n<g id=\"edge56\" class=\"edge\">\n<title>135564866615184+&#45;&gt;135564866615184</title>\n<path fill=\"none\" stroke=\"black\" d=\"M1211.21,-846.5C1219.34,-846.5 1228.85,-846.5 1238.94,-846.5\"/>\n<polygon fill=\"black\" stroke=\"black\" points=\"1239.19,-850 1249.19,-846.5 1239.19,-843 1239.19,-850\"/>\n</g>\n<!-- 135564866606976 -->\n<g id=\"node152\" class=\"node\">\n<title>135564866606976</title>\n<polygon fill=\"none\" stroke=\"black\" points=\"3127.5,-387.5 3127.5,-423.5 3309.5,-423.5 3309.5,-387.5 3127.5,-387.5\"/>\n<text text-anchor=\"middle\" x=\"3137.5\" y=\"-401.8\" font-family=\"Times,serif\" font-size=\"14.00\"> </text>\n<polyline fill=\"none\" stroke=\"black\" points=\"3147.5,-387.5 3147.5,-423.5 \"/>\n<text text-anchor=\"middle\" x=\"3187.5\" y=\"-401.8\" font-family=\"Times,serif\" font-size=\"14.00\">data 0.3190</text>\n<polyline fill=\"none\" stroke=\"black\" points=\"3227.5,-387.5 3227.5,-423.5 \"/>\n<text text-anchor=\"middle\" x=\"3268.5\" y=\"-401.8\" font-family=\"Times,serif\" font-size=\"14.00\">grad 0.0000</text>\n</g>\n<!-- 135564866606976&#45;&gt;135564866612400tanh -->\n<g id=\"edge84\" class=\"edge\">\n<title>135564866606976&#45;&gt;135564866612400tanh</title>\n<path fill=\"none\" stroke=\"black\" d=\"M3309.82,-405.5C3319.57,-405.5 3329.04,-405.5 3337.57,-405.5\"/>\n<polygon fill=\"black\" stroke=\"black\" points=\"3337.83,-409 3347.83,-405.5 3337.83,-402 3337.83,-409\"/>\n</g>\n<!-- 135564866606976+&#45;&gt;135564866606976 -->\n<g id=\"edge57\" class=\"edge\">\n<title>135564866606976+&#45;&gt;135564866606976</title>\n<path fill=\"none\" stroke=\"black\" d=\"M3089.21,-405.5C3097.34,-405.5 3106.85,-405.5 3116.94,-405.5\"/>\n<polygon fill=\"black\" stroke=\"black\" points=\"3117.19,-409 3127.19,-405.5 3117.19,-402 3117.19,-409\"/>\n</g>\n<!-- 135564866607024 -->\n<g id=\"node154\" class=\"node\">\n<title>135564866607024</title>\n<polygon fill=\"none\" stroke=\"black\" points=\"1560,-433.5 1560,-469.5 1747,-469.5 1747,-433.5 1560,-433.5\"/>\n<text text-anchor=\"middle\" x=\"1570\" y=\"-447.8\" font-family=\"Times,serif\" font-size=\"14.00\"> </text>\n<polyline fill=\"none\" stroke=\"black\" points=\"1580,-433.5 1580,-469.5 \"/>\n<text text-anchor=\"middle\" x=\"1622.5\" y=\"-447.8\" font-family=\"Times,serif\" font-size=\"14.00\">data &#45;0.0152</text>\n<polyline fill=\"none\" stroke=\"black\" points=\"1665,-433.5 1665,-469.5 \"/>\n<text text-anchor=\"middle\" x=\"1706\" y=\"-447.8\" font-family=\"Times,serif\" font-size=\"14.00\">grad 0.0000</text>\n</g>\n<!-- 135564866607024&#45;&gt;135564866281984* -->\n<g id=\"edge102\" class=\"edge\">\n<title>135564866607024&#45;&gt;135564866281984*</title>\n<path fill=\"none\" stroke=\"black\" d=\"M1720.01,-469.54C1729.61,-473.85 1738.96,-479.11 1747,-485.5 1769.87,-503.68 1765,-517.49 1783,-540.5 1784.4,-542.28 1785.88,-544.09 1787.41,-545.88\"/>\n<polygon fill=\"black\" stroke=\"black\" points=\"1784.94,-548.37 1794.21,-553.51 1790.17,-543.72 1784.94,-548.37\"/>\n</g>\n<!-- 135564866607024&#45;&gt;135564866274880* -->\n<g id=\"edge160\" class=\"edge\">\n<title>135564866607024&#45;&gt;135564866274880*</title>\n<path fill=\"none\" stroke=\"black\" d=\"M1734.18,-433.29C1738.81,-430.48 1743.15,-427.24 1747,-423.5 1790.63,-381.13 1803.56,-307.2 1807.39,-266.81\"/>\n<polygon fill=\"black\" stroke=\"black\" points=\"1810.9,-266.86 1808.23,-256.6 1803.92,-266.28 1810.9,-266.86\"/>\n</g>\n<!-- 135564866607024&#45;&gt;135564866603088* -->\n<g id=\"edge97\" class=\"edge\">\n<title>135564866607024&#45;&gt;135564866603088*</title>\n<path fill=\"none\" stroke=\"black\" d=\"M1714.76,-433.43C1725.5,-430.16 1736.59,-426.75 1747,-423.5 1756.35,-420.58 1766.48,-417.34 1775.78,-414.34\"/>\n<polygon fill=\"black\" stroke=\"black\" points=\"1777.04,-417.61 1785.48,-411.2 1774.89,-410.95 1777.04,-417.61\"/>\n</g>\n<!-- 135564866607024&#45;&gt;135564866288848* -->\n<g id=\"edge152\" class=\"edge\">\n<title>135564866607024&#45;&gt;135564866288848*</title>\n<path fill=\"none\" stroke=\"black\" d=\"M1726.08,-469.64C1733.86,-473.87 1741.09,-479.08 1747,-485.5 1760.45,-500.1 1789.87,-624.65 1802.75,-681.46\"/>\n<polygon fill=\"black\" stroke=\"black\" points=\"1799.41,-682.57 1805.02,-691.55 1806.24,-681.03 1799.41,-682.57\"/>\n</g>\n<!-- 135564866607024tanh&#45;&gt;135564866607024 -->\n<g id=\"edge58\" class=\"edge\">\n<title>135564866607024tanh&#45;&gt;135564866607024</title>\n<path fill=\"none\" stroke=\"black\" d=\"M1523.86,-440.68C1531.51,-441.32 1540.39,-442.07 1549.84,-442.86\"/>\n<polygon fill=\"black\" stroke=\"black\" points=\"1549.62,-446.36 1559.87,-443.71 1550.2,-439.38 1549.62,-446.36\"/>\n</g>\n<!-- 135564866607120 -->\n<g id=\"node156\" class=\"node\">\n<title>135564866607120</title>\n<polygon fill=\"none\" stroke=\"black\" points=\"3440.5,-552.5 3440.5,-588.5 3622.5,-588.5 3622.5,-552.5 3440.5,-552.5\"/>\n<text text-anchor=\"middle\" x=\"3450.5\" y=\"-566.8\" font-family=\"Times,serif\" font-size=\"14.00\"> </text>\n<polyline fill=\"none\" stroke=\"black\" points=\"3460.5,-552.5 3460.5,-588.5 \"/>\n<text text-anchor=\"middle\" x=\"3500.5\" y=\"-566.8\" font-family=\"Times,serif\" font-size=\"14.00\">data 0.5103</text>\n<polyline fill=\"none\" stroke=\"black\" points=\"3540.5,-552.5 3540.5,-588.5 \"/>\n<text text-anchor=\"middle\" x=\"3581.5\" y=\"-566.8\" font-family=\"Times,serif\" font-size=\"14.00\">grad 0.0000</text>\n</g>\n<!-- 135564866607120&#45;&gt;135564901427872* -->\n<g id=\"edge140\" class=\"edge\">\n<title>135564866607120&#45;&gt;135564901427872*</title>\n<path fill=\"none\" stroke=\"black\" d=\"M3622.82,-570.5C3632.57,-570.5 3642.04,-570.5 3650.57,-570.5\"/>\n<polygon fill=\"black\" stroke=\"black\" points=\"3650.83,-574 3660.83,-570.5 3650.83,-567 3650.83,-574\"/>\n</g>\n<!-- 135564866287648 -->\n<g id=\"node157\" class=\"node\">\n<title>135564866287648</title>\n<polygon fill=\"none\" stroke=\"black\" points=\"2501.5,-387.5 2501.5,-423.5 2683.5,-423.5 2683.5,-387.5 2501.5,-387.5\"/>\n<text text-anchor=\"middle\" x=\"2511.5\" y=\"-401.8\" font-family=\"Times,serif\" font-size=\"14.00\"> </text>\n<polyline fill=\"none\" stroke=\"black\" points=\"2521.5,-387.5 2521.5,-423.5 \"/>\n<text text-anchor=\"middle\" x=\"2561.5\" y=\"-401.8\" font-family=\"Times,serif\" font-size=\"14.00\">data 0.6475</text>\n<polyline fill=\"none\" stroke=\"black\" points=\"2601.5,-387.5 2601.5,-423.5 \"/>\n<text text-anchor=\"middle\" x=\"2642.5\" y=\"-401.8\" font-family=\"Times,serif\" font-size=\"14.00\">grad 0.0000</text>\n</g>\n<!-- 135564866287648&#45;&gt;135564866281648+ -->\n<g id=\"edge114\" class=\"edge\">\n<title>135564866287648&#45;&gt;135564866281648+</title>\n<path fill=\"none\" stroke=\"black\" d=\"M2683.82,-405.5C2693.57,-405.5 2703.04,-405.5 2711.57,-405.5\"/>\n<polygon fill=\"black\" stroke=\"black\" points=\"2711.83,-409 2721.83,-405.5 2711.83,-402 2711.83,-409\"/>\n</g>\n<!-- 135564866287648+&#45;&gt;135564866287648 -->\n<g id=\"edge59\" class=\"edge\">\n<title>135564866287648+&#45;&gt;135564866287648</title>\n<path fill=\"none\" stroke=\"black\" d=\"M2453.74,-348.27C2465.74,-357.58 2482.61,-369.58 2499,-377.5 2503.6,-379.72 2508.42,-381.82 2513.34,-383.77\"/>\n<polygon fill=\"black\" stroke=\"black\" points=\"2512.29,-387.12 2522.88,-387.38 2514.76,-380.57 2512.29,-387.12\"/>\n</g>\n<!-- 135564866607168 -->\n<g id=\"node159\" class=\"node\">\n<title>135564866607168</title>\n<polygon fill=\"none\" stroke=\"black\" points=\"3751,-328.5 3751,-364.5 3933,-364.5 3933,-328.5 3751,-328.5\"/>\n<text text-anchor=\"middle\" x=\"3761\" y=\"-342.8\" font-family=\"Times,serif\" font-size=\"14.00\"> </text>\n<polyline fill=\"none\" stroke=\"black\" points=\"3771,-328.5 3771,-364.5 \"/>\n<text text-anchor=\"middle\" x=\"3811\" y=\"-342.8\" font-family=\"Times,serif\" font-size=\"14.00\">data 0.2936</text>\n<polyline fill=\"none\" stroke=\"black\" points=\"3851,-328.5 3851,-364.5 \"/>\n<text text-anchor=\"middle\" x=\"3892\" y=\"-342.8\" font-family=\"Times,serif\" font-size=\"14.00\">grad 0.0000</text>\n</g>\n<!-- 135564866607168&#45;&gt;135564902323856+ -->\n<g id=\"edge157\" class=\"edge\">\n<title>135564866607168&#45;&gt;135564902323856+</title>\n<path fill=\"none\" stroke=\"black\" d=\"M3933.04,-359.84C3964.84,-364.55 3998.79,-369.58 4023.41,-373.23\"/>\n<polygon fill=\"black\" stroke=\"black\" points=\"4022.96,-376.7 4033.36,-374.7 4023.99,-369.77 4022.96,-376.7\"/>\n</g>\n<!-- 135564866607264 -->\n<g id=\"node160\" class=\"node\">\n<title>135564866607264</title>\n<polygon fill=\"none\" stroke=\"black\" points=\"3440.5,-442.5 3440.5,-478.5 3622.5,-478.5 3622.5,-442.5 3440.5,-442.5\"/>\n<text text-anchor=\"middle\" x=\"3450.5\" y=\"-456.8\" font-family=\"Times,serif\" font-size=\"14.00\"> </text>\n<polyline fill=\"none\" stroke=\"black\" points=\"3460.5,-442.5 3460.5,-478.5 \"/>\n<text text-anchor=\"middle\" x=\"3500.5\" y=\"-456.8\" font-family=\"Times,serif\" font-size=\"14.00\">data 0.1237</text>\n<polyline fill=\"none\" stroke=\"black\" points=\"3540.5,-442.5 3540.5,-478.5 \"/>\n<text text-anchor=\"middle\" x=\"3581.5\" y=\"-456.8\" font-family=\"Times,serif\" font-size=\"14.00\">grad 0.0000</text>\n</g>\n<!-- 135564866607264&#45;&gt;135568481090720* -->\n<g id=\"edge138\" class=\"edge\">\n<title>135564866607264&#45;&gt;135568481090720*</title>\n<path fill=\"none\" stroke=\"black\" d=\"M3616.98,-478.54C3629.35,-481.19 3641.46,-483.77 3652.04,-486.03\"/>\n<polygon fill=\"black\" stroke=\"black\" points=\"3651.56,-489.51 3662.07,-488.18 3653.02,-482.66 3651.56,-489.51\"/>\n</g>\n<!-- 135564866607312 -->\n<g id=\"node161\" class=\"node\">\n<title>135564866607312</title>\n<polygon fill=\"none\" stroke=\"black\" points=\"936.5,-389.5 936.5,-425.5 1118.5,-425.5 1118.5,-389.5 936.5,-389.5\"/>\n<text text-anchor=\"middle\" x=\"946.5\" y=\"-403.8\" font-family=\"Times,serif\" font-size=\"14.00\"> </text>\n<polyline fill=\"none\" stroke=\"black\" points=\"956.5,-389.5 956.5,-425.5 \"/>\n<text text-anchor=\"middle\" x=\"996.5\" y=\"-403.8\" font-family=\"Times,serif\" font-size=\"14.00\">data 0.7367</text>\n<polyline fill=\"none\" stroke=\"black\" points=\"1036.5,-389.5 1036.5,-425.5 \"/>\n<text text-anchor=\"middle\" x=\"1077.5\" y=\"-403.8\" font-family=\"Times,serif\" font-size=\"14.00\">grad 0.0000</text>\n</g>\n<!-- 135564866607312&#45;&gt;135564866606784+ -->\n<g id=\"edge137\" class=\"edge\">\n<title>135564866607312&#45;&gt;135564866606784+</title>\n<path fill=\"none\" stroke=\"black\" d=\"M1118.82,-407.5C1128.57,-407.5 1138.04,-407.5 1146.57,-407.5\"/>\n<polygon fill=\"black\" stroke=\"black\" points=\"1146.83,-411 1156.83,-407.5 1146.83,-404 1146.83,-411\"/>\n</g>\n<!-- 135564866607312* -->\n<g id=\"node162\" class=\"node\">\n<title>135564866607312*</title>\n<ellipse fill=\"none\" stroke=\"black\" cx=\"871\" cy=\"-407.5\" rx=\"27\" ry=\"18\"/>\n<text text-anchor=\"middle\" x=\"871\" y=\"-403.8\" font-family=\"Times,serif\" font-size=\"14.00\">*</text>\n</g>\n<!-- 135564866607312*&#45;&gt;135564866607312 -->\n<g id=\"edge60\" class=\"edge\">\n<title>135564866607312*&#45;&gt;135564866607312</title>\n<path fill=\"none\" stroke=\"black\" d=\"M898.21,-407.5C906.34,-407.5 915.85,-407.5 925.94,-407.5\"/>\n<polygon fill=\"black\" stroke=\"black\" points=\"926.19,-411 936.19,-407.5 926.19,-404 926.19,-411\"/>\n</g>\n<!-- 135564866615568 -->\n<g id=\"node163\" class=\"node\">\n<title>135564866615568</title>\n<polygon fill=\"none\" stroke=\"black\" points=\"308,-348.5 308,-384.5 495,-384.5 495,-348.5 308,-348.5\"/>\n<text text-anchor=\"middle\" x=\"318\" y=\"-362.8\" font-family=\"Times,serif\" font-size=\"14.00\"> </text>\n<polyline fill=\"none\" stroke=\"black\" points=\"328,-348.5 328,-384.5 \"/>\n<text text-anchor=\"middle\" x=\"370.5\" y=\"-362.8\" font-family=\"Times,serif\" font-size=\"14.00\">data &#45;0.7673</text>\n<polyline fill=\"none\" stroke=\"black\" points=\"413,-348.5 413,-384.5 \"/>\n<text text-anchor=\"middle\" x=\"454\" y=\"-362.8\" font-family=\"Times,serif\" font-size=\"14.00\">grad 0.0000</text>\n</g>\n<!-- 135564866607648* -->\n<g id=\"node170\" class=\"node\">\n<title>135564866607648*</title>\n<ellipse fill=\"none\" stroke=\"black\" cx=\"558\" cy=\"-311.5\" rx=\"27\" ry=\"18\"/>\n<text text-anchor=\"middle\" x=\"558\" y=\"-307.8\" font-family=\"Times,serif\" font-size=\"14.00\">*</text>\n</g>\n<!-- 135564866615568&#45;&gt;135564866607648* -->\n<g id=\"edge176\" class=\"edge\">\n<title>135564866615568&#45;&gt;135564866607648*</title>\n<path fill=\"none\" stroke=\"black\" d=\"M466.02,-348.35C475.79,-345.24 485.71,-341.92 495,-338.5 505.25,-334.73 516.23,-330.14 526.07,-325.82\"/>\n<polygon fill=\"black\" stroke=\"black\" points=\"527.74,-328.9 535.45,-321.63 524.89,-322.51 527.74,-328.9\"/>\n</g>\n<!-- 135564866607552 -->\n<g id=\"node164\" class=\"node\">\n<title>135564866607552</title>\n<polygon fill=\"none\" stroke=\"black\" points=\"310.5,-293.5 310.5,-329.5 492.5,-329.5 492.5,-293.5 310.5,-293.5\"/>\n<text text-anchor=\"middle\" x=\"320.5\" y=\"-307.8\" font-family=\"Times,serif\" font-size=\"14.00\"> </text>\n<polyline fill=\"none\" stroke=\"black\" points=\"330.5,-293.5 330.5,-329.5 \"/>\n<text text-anchor=\"middle\" x=\"370.5\" y=\"-307.8\" font-family=\"Times,serif\" font-size=\"14.00\">data 3.0000</text>\n<polyline fill=\"none\" stroke=\"black\" points=\"410.5,-293.5 410.5,-329.5 \"/>\n<text text-anchor=\"middle\" x=\"451.5\" y=\"-307.8\" font-family=\"Times,serif\" font-size=\"14.00\">grad 0.0000</text>\n</g>\n<!-- 135564866607552&#45;&gt;135564866607648* -->\n<g id=\"edge122\" class=\"edge\">\n<title>135564866607552&#45;&gt;135564866607648*</title>\n<path fill=\"none\" stroke=\"black\" d=\"M492.82,-311.5C502.57,-311.5 512.04,-311.5 520.57,-311.5\"/>\n<polygon fill=\"black\" stroke=\"black\" points=\"520.83,-315 530.83,-311.5 520.83,-308 520.83,-315\"/>\n</g>\n<!-- 135564866607600 -->\n<g id=\"node165\" class=\"node\">\n<title>135564866607600</title>\n<polygon fill=\"none\" stroke=\"black\" points=\"934,-307.5 934,-343.5 1121,-343.5 1121,-307.5 934,-307.5\"/>\n<text text-anchor=\"middle\" x=\"944\" y=\"-321.8\" font-family=\"Times,serif\" font-size=\"14.00\"> </text>\n<polyline fill=\"none\" stroke=\"black\" points=\"954,-307.5 954,-343.5 \"/>\n<text text-anchor=\"middle\" x=\"996.5\" y=\"-321.8\" font-family=\"Times,serif\" font-size=\"14.00\">data &#45;0.7519</text>\n<polyline fill=\"none\" stroke=\"black\" points=\"1039,-307.5 1039,-343.5 \"/>\n<text text-anchor=\"middle\" x=\"1080\" y=\"-321.8\" font-family=\"Times,serif\" font-size=\"14.00\">grad 0.0000</text>\n</g>\n<!-- 135564866607600&#45;&gt;135564866606784+ -->\n<g id=\"edge95\" class=\"edge\">\n<title>135564866607600&#45;&gt;135564866606784+</title>\n<path fill=\"none\" stroke=\"black\" d=\"M1062.79,-343.7C1089.87,-358.07 1127.27,-377.92 1153.13,-391.65\"/>\n<polygon fill=\"black\" stroke=\"black\" points=\"1151.62,-394.81 1162.1,-396.41 1154.91,-388.63 1151.62,-394.81\"/>\n</g>\n<!-- 135564866607600+ -->\n<g id=\"node166\" class=\"node\">\n<title>135564866607600+</title>\n<ellipse fill=\"none\" stroke=\"black\" cx=\"871\" cy=\"-311.5\" rx=\"27\" ry=\"18\"/>\n<text text-anchor=\"middle\" x=\"871\" y=\"-307.8\" font-family=\"Times,serif\" font-size=\"14.00\">+</text>\n</g>\n<!-- 135564866607600+&#45;&gt;135564866607600 -->\n<g id=\"edge61\" class=\"edge\">\n<title>135564866607600+&#45;&gt;135564866607600</title>\n<path fill=\"none\" stroke=\"black\" d=\"M897.86,-313.84C905.51,-314.54 914.39,-315.34 923.84,-316.2\"/>\n<polygon fill=\"black\" stroke=\"black\" points=\"923.6,-319.69 933.87,-317.11 924.23,-312.72 923.6,-319.69\"/>\n</g>\n<!-- 135564866279968 -->\n<g id=\"node167\" class=\"node\">\n<title>135564866279968</title>\n<polygon fill=\"none\" stroke=\"black\" points=\"2186,-770.5 2186,-806.5 2373,-806.5 2373,-770.5 2186,-770.5\"/>\n<text text-anchor=\"middle\" x=\"2196\" y=\"-784.8\" font-family=\"Times,serif\" font-size=\"14.00\"> </text>\n<polyline fill=\"none\" stroke=\"black\" points=\"2206,-770.5 2206,-806.5 \"/>\n<text text-anchor=\"middle\" x=\"2248.5\" y=\"-784.8\" font-family=\"Times,serif\" font-size=\"14.00\">data &#45;0.5194</text>\n<polyline fill=\"none\" stroke=\"black\" points=\"2291,-770.5 2291,-806.5 \"/>\n<text text-anchor=\"middle\" x=\"2332\" y=\"-784.8\" font-family=\"Times,serif\" font-size=\"14.00\">grad 0.0000</text>\n</g>\n<!-- 135564866279968&#45;&gt;135564866281264+ -->\n<g id=\"edge111\" class=\"edge\">\n<title>135564866279968&#45;&gt;135564866281264+</title>\n<path fill=\"none\" stroke=\"black\" d=\"M2373.05,-772.93C2382.34,-771.36 2391.33,-769.85 2399.44,-768.48\"/>\n<polygon fill=\"black\" stroke=\"black\" points=\"2400.27,-771.89 2409.55,-766.78 2399.11,-764.99 2400.27,-771.89\"/>\n</g>\n<!-- 135564866279968+&#45;&gt;135564866279968 -->\n<g id=\"edge62\" class=\"edge\">\n<title>135564866279968+&#45;&gt;135564866279968</title>\n<path fill=\"none\" stroke=\"black\" d=\"M2150.21,-788.5C2157.73,-788.5 2166.43,-788.5 2175.67,-788.5\"/>\n<polygon fill=\"black\" stroke=\"black\" points=\"2175.89,-792 2185.89,-788.5 2175.89,-785 2175.89,-792\"/>\n</g>\n<!-- 135564866607648 -->\n<g id=\"node169\" class=\"node\">\n<title>135564866607648</title>\n<polygon fill=\"none\" stroke=\"black\" points=\"621,-293.5 621,-329.5 808,-329.5 808,-293.5 621,-293.5\"/>\n<text text-anchor=\"middle\" x=\"631\" y=\"-307.8\" font-family=\"Times,serif\" font-size=\"14.00\"> </text>\n<polyline fill=\"none\" stroke=\"black\" points=\"641,-293.5 641,-329.5 \"/>\n<text text-anchor=\"middle\" x=\"683.5\" y=\"-307.8\" font-family=\"Times,serif\" font-size=\"14.00\">data &#45;2.3020</text>\n<polyline fill=\"none\" stroke=\"black\" points=\"726,-293.5 726,-329.5 \"/>\n<text text-anchor=\"middle\" x=\"767\" y=\"-307.8\" font-family=\"Times,serif\" font-size=\"14.00\">grad 0.0000</text>\n</g>\n<!-- 135564866607648&#45;&gt;135564866607600+ -->\n<g id=\"edge96\" class=\"edge\">\n<title>135564866607648&#45;&gt;135564866607600+</title>\n<path fill=\"none\" stroke=\"black\" d=\"M808.05,-311.5C817.06,-311.5 825.79,-311.5 833.7,-311.5\"/>\n<polygon fill=\"black\" stroke=\"black\" points=\"833.95,-315 843.95,-311.5 833.95,-308 833.95,-315\"/>\n</g>\n<!-- 135564866607648*&#45;&gt;135564866607648 -->\n<g id=\"edge63\" class=\"edge\">\n<title>135564866607648*&#45;&gt;135564866607648</title>\n<path fill=\"none\" stroke=\"black\" d=\"M585.21,-311.5C592.73,-311.5 601.43,-311.5 610.67,-311.5\"/>\n<polygon fill=\"black\" stroke=\"black\" points=\"610.89,-315 620.89,-311.5 610.89,-308 610.89,-315\"/>\n</g>\n<!-- 135564866607744 -->\n<g id=\"node171\" class=\"node\">\n<title>135564866607744</title>\n<polygon fill=\"none\" stroke=\"black\" points=\"621,-403.5 621,-439.5 808,-439.5 808,-403.5 621,-403.5\"/>\n<text text-anchor=\"middle\" x=\"631\" y=\"-417.8\" font-family=\"Times,serif\" font-size=\"14.00\"> </text>\n<polyline fill=\"none\" stroke=\"black\" points=\"641,-403.5 641,-439.5 \"/>\n<text text-anchor=\"middle\" x=\"683.5\" y=\"-417.8\" font-family=\"Times,serif\" font-size=\"14.00\">data &#45;0.7367</text>\n<polyline fill=\"none\" stroke=\"black\" points=\"726,-403.5 726,-439.5 \"/>\n<text text-anchor=\"middle\" x=\"767\" y=\"-417.8\" font-family=\"Times,serif\" font-size=\"14.00\">grad 0.0000</text>\n</g>\n<!-- 135564866607744&#45;&gt;135564866607312* -->\n<g id=\"edge202\" class=\"edge\">\n<title>135564866607744&#45;&gt;135564866607312*</title>\n<path fill=\"none\" stroke=\"black\" d=\"M808.05,-413.11C817.16,-412.29 825.98,-411.49 833.97,-410.76\"/>\n<polygon fill=\"black\" stroke=\"black\" points=\"834.31,-414.25 843.95,-409.86 833.67,-407.28 834.31,-414.25\"/>\n</g>\n<!-- 135564866616000 -->\n<g id=\"node172\" class=\"node\">\n<title>135564866616000</title>\n<polygon fill=\"none\" stroke=\"black\" points=\"623.5,-513.5 623.5,-549.5 805.5,-549.5 805.5,-513.5 623.5,-513.5\"/>\n<text text-anchor=\"middle\" x=\"633.5\" y=\"-527.8\" font-family=\"Times,serif\" font-size=\"14.00\"> </text>\n<polyline fill=\"none\" stroke=\"black\" points=\"643.5,-513.5 643.5,-549.5 \"/>\n<text text-anchor=\"middle\" x=\"683.5\" y=\"-527.8\" font-family=\"Times,serif\" font-size=\"14.00\">data 0.5462</text>\n<polyline fill=\"none\" stroke=\"black\" points=\"723.5,-513.5 723.5,-549.5 \"/>\n<text text-anchor=\"middle\" x=\"764.5\" y=\"-527.8\" font-family=\"Times,serif\" font-size=\"14.00\">grad 0.0000</text>\n</g>\n<!-- 135564866616000&#45;&gt;135564866606304+ -->\n<g id=\"edge209\" class=\"edge\">\n<title>135564866616000&#45;&gt;135564866606304+</title>\n<path fill=\"none\" stroke=\"black\" d=\"M781.92,-513.44C800.44,-508.41 819.8,-503.15 835.64,-498.84\"/>\n<polygon fill=\"black\" stroke=\"black\" points=\"836.77,-502.16 845.5,-496.16 834.93,-495.41 836.77,-502.16\"/>\n</g>\n<!-- 135564866616000*&#45;&gt;135564866616000 -->\n<g id=\"edge64\" class=\"edge\">\n<title>135564866616000*&#45;&gt;135564866616000</title>\n<path fill=\"none\" stroke=\"black\" d=\"M585.21,-531.5C593.34,-531.5 602.85,-531.5 612.94,-531.5\"/>\n<polygon fill=\"black\" stroke=\"black\" points=\"613.19,-535 623.19,-531.5 613.19,-528 613.19,-535\"/>\n</g>\n<!-- 135564866616096 -->\n<g id=\"node174\" class=\"node\">\n<title>135564866616096</title>\n<polygon fill=\"none\" stroke=\"black\" points=\"310.5,-485.5 310.5,-521.5 492.5,-521.5 492.5,-485.5 310.5,-485.5\"/>\n<text text-anchor=\"middle\" x=\"320.5\" y=\"-499.8\" font-family=\"Times,serif\" font-size=\"14.00\"> </text>\n<polyline fill=\"none\" stroke=\"black\" points=\"330.5,-485.5 330.5,-521.5 \"/>\n<text text-anchor=\"middle\" x=\"370.5\" y=\"-499.8\" font-family=\"Times,serif\" font-size=\"14.00\">data 2.0000</text>\n<polyline fill=\"none\" stroke=\"black\" points=\"410.5,-485.5 410.5,-521.5 \"/>\n<text text-anchor=\"middle\" x=\"451.5\" y=\"-499.8\" font-family=\"Times,serif\" font-size=\"14.00\">grad 0.0000</text>\n</g>\n<!-- 135564866616096&#45;&gt;135564866616000* -->\n<g id=\"edge201\" class=\"edge\">\n<title>135564866616096&#45;&gt;135564866616000*</title>\n<path fill=\"none\" stroke=\"black\" d=\"M492.82,-519.87C503.07,-521.73 513.01,-523.53 521.88,-525.13\"/>\n<polygon fill=\"black\" stroke=\"black\" points=\"521.29,-528.58 531.75,-526.92 522.54,-521.7 521.29,-528.58\"/>\n</g>\n<!-- 135564866608032 -->\n<g id=\"node175\" class=\"node\">\n<title>135564866608032</title>\n<polygon fill=\"none\" stroke=\"black\" points=\"0,-156.5 0,-192.5 182,-192.5 182,-156.5 0,-156.5\"/>\n<text text-anchor=\"middle\" x=\"10\" y=\"-170.8\" font-family=\"Times,serif\" font-size=\"14.00\"> </text>\n<polyline fill=\"none\" stroke=\"black\" points=\"20,-156.5 20,-192.5 \"/>\n<text text-anchor=\"middle\" x=\"60\" y=\"-170.8\" font-family=\"Times,serif\" font-size=\"14.00\">data 0.5327</text>\n<polyline fill=\"none\" stroke=\"black\" points=\"100,-156.5 100,-192.5 \"/>\n<text text-anchor=\"middle\" x=\"141\" y=\"-170.8\" font-family=\"Times,serif\" font-size=\"14.00\">grad 0.0000</text>\n</g>\n<!-- 135564866608032&#45;&gt;135564866617056* -->\n<g id=\"edge180\" class=\"edge\">\n<title>135564866608032&#45;&gt;135564866617056*</title>\n<path fill=\"none\" stroke=\"black\" d=\"M182.18,-190.52C191.42,-192.16 200.38,-193.75 208.47,-195.19\"/>\n<polygon fill=\"black\" stroke=\"black\" points=\"208.1,-198.68 218.56,-196.98 209.32,-191.79 208.1,-198.68\"/>\n</g>\n<!-- 135568481090720 -->\n<g id=\"node176\" class=\"node\">\n<title>135568481090720</title>\n<polygon fill=\"none\" stroke=\"black\" points=\"4410,-475.5 4410,-511.5 4592,-511.5 4592,-475.5 4410,-475.5\"/>\n<text text-anchor=\"middle\" x=\"4420\" y=\"-489.8\" font-family=\"Times,serif\" font-size=\"14.00\"> </text>\n<polyline fill=\"none\" stroke=\"black\" points=\"4430,-475.5 4430,-511.5 \"/>\n<text text-anchor=\"middle\" x=\"4470\" y=\"-489.8\" font-family=\"Times,serif\" font-size=\"14.00\">data 0.0726</text>\n<polyline fill=\"none\" stroke=\"black\" points=\"4510,-475.5 4510,-511.5 \"/>\n<text text-anchor=\"middle\" x=\"4551\" y=\"-489.8\" font-family=\"Times,serif\" font-size=\"14.00\">grad 0.0000</text>\n</g>\n<!-- 135568481090720&#45;&gt;135564901433248+ -->\n<g id=\"edge193\" class=\"edge\">\n<title>135568481090720&#45;&gt;135564901433248+</title>\n<path fill=\"none\" stroke=\"black\" d=\"M4592.04,-493.5C4670.21,-493.5 4779.42,-493.5 4835.53,-493.5\"/>\n<polygon fill=\"black\" stroke=\"black\" points=\"4835.7,-497 4845.7,-493.5 4835.7,-490 4835.7,-497\"/>\n</g>\n<!-- 135568481090720*&#45;&gt;135568481090720 -->\n<g id=\"edge65\" class=\"edge\">\n<title>135568481090720*&#45;&gt;135568481090720</title>\n<path fill=\"none\" stroke=\"black\" d=\"M3715.06,-493.5C3819.69,-493.5 4212.51,-493.5 4399.65,-493.5\"/>\n<polygon fill=\"black\" stroke=\"black\" points=\"4399.77,-497 4409.77,-493.5 4399.77,-490 4399.77,-497\"/>\n</g>\n<!-- 135564866608320 -->\n<g id=\"node178\" class=\"node\">\n<title>135564866608320</title>\n<polygon fill=\"none\" stroke=\"black\" points=\"623.5,-238.5 623.5,-274.5 805.5,-274.5 805.5,-238.5 623.5,-238.5\"/>\n<text text-anchor=\"middle\" x=\"633.5\" y=\"-252.8\" font-family=\"Times,serif\" font-size=\"14.00\"> </text>\n<polyline fill=\"none\" stroke=\"black\" points=\"643.5,-238.5 643.5,-274.5 \"/>\n<text text-anchor=\"middle\" x=\"683.5\" y=\"-252.8\" font-family=\"Times,serif\" font-size=\"14.00\">data 1.5501</text>\n<polyline fill=\"none\" stroke=\"black\" points=\"723.5,-238.5 723.5,-274.5 \"/>\n<text text-anchor=\"middle\" x=\"764.5\" y=\"-252.8\" font-family=\"Times,serif\" font-size=\"14.00\">grad 0.0000</text>\n</g>\n<!-- 135564866608320&#45;&gt;135564866607600+ -->\n<g id=\"edge89\" class=\"edge\">\n<title>135564866608320&#45;&gt;135564866607600+</title>\n<path fill=\"none\" stroke=\"black\" d=\"M781.56,-274.55C790.51,-277.36 799.53,-280.37 808,-283.5 818.49,-287.38 829.71,-292.22 839.68,-296.78\"/>\n<polygon fill=\"black\" stroke=\"black\" points=\"838.25,-299.98 848.79,-301.03 841.2,-293.63 838.25,-299.98\"/>\n</g>\n<!-- 135564866608320+&#45;&gt;135564866608320 -->\n<g id=\"edge66\" class=\"edge\">\n<title>135564866608320+&#45;&gt;135564866608320</title>\n<path fill=\"none\" stroke=\"black\" d=\"M585.21,-256.5C593.34,-256.5 602.85,-256.5 612.94,-256.5\"/>\n<polygon fill=\"black\" stroke=\"black\" points=\"613.19,-260 623.19,-256.5 613.19,-253 613.19,-260\"/>\n</g>\n<!-- 135564866288848 -->\n<g id=\"node180\" class=\"node\">\n<title>135564866288848</title>\n<polygon fill=\"none\" stroke=\"black\" points=\"1875.5,-770.5 1875.5,-806.5 2057.5,-806.5 2057.5,-770.5 1875.5,-770.5\"/>\n<text text-anchor=\"middle\" x=\"1885.5\" y=\"-784.8\" font-family=\"Times,serif\" font-size=\"14.00\"> </text>\n<polyline fill=\"none\" stroke=\"black\" points=\"1895.5,-770.5 1895.5,-806.5 \"/>\n<text text-anchor=\"middle\" x=\"1935.5\" y=\"-784.8\" font-family=\"Times,serif\" font-size=\"14.00\">data 0.0024</text>\n<polyline fill=\"none\" stroke=\"black\" points=\"1975.5,-770.5 1975.5,-806.5 \"/>\n<text text-anchor=\"middle\" x=\"2016.5\" y=\"-784.8\" font-family=\"Times,serif\" font-size=\"14.00\">grad 0.0000</text>\n</g>\n<!-- 135564866288848&#45;&gt;135564866279968+ -->\n<g id=\"edge162\" class=\"edge\">\n<title>135564866288848&#45;&gt;135564866279968+</title>\n<path fill=\"none\" stroke=\"black\" d=\"M2057.82,-788.5C2067.57,-788.5 2077.04,-788.5 2085.57,-788.5\"/>\n<polygon fill=\"black\" stroke=\"black\" points=\"2085.83,-792 2095.83,-788.5 2085.83,-785 2085.83,-792\"/>\n</g>\n<!-- 135564866288848*&#45;&gt;135564866288848 -->\n<g id=\"edge67\" class=\"edge\">\n<title>135564866288848*&#45;&gt;135564866288848</title>\n<path fill=\"none\" stroke=\"black\" d=\"M1825.49,-724.7C1837.29,-736.28 1854.91,-751.83 1873,-761.5 1876.29,-763.26 1879.71,-764.92 1883.21,-766.48\"/>\n<polygon fill=\"black\" stroke=\"black\" points=\"1882.06,-769.79 1892.64,-770.39 1884.74,-763.32 1882.06,-769.79\"/>\n</g>\n<!-- 135564866616528 -->\n<g id=\"node182\" class=\"node\">\n<title>135564866616528</title>\n<polygon fill=\"none\" stroke=\"black\" points=\"2188.5,-385.5 2188.5,-421.5 2370.5,-421.5 2370.5,-385.5 2188.5,-385.5\"/>\n<text text-anchor=\"middle\" x=\"2198.5\" y=\"-399.8\" font-family=\"Times,serif\" font-size=\"14.00\"> </text>\n<polyline fill=\"none\" stroke=\"black\" points=\"2208.5,-385.5 2208.5,-421.5 \"/>\n<text text-anchor=\"middle\" x=\"2248.5\" y=\"-399.8\" font-family=\"Times,serif\" font-size=\"14.00\">data 0.0498</text>\n<polyline fill=\"none\" stroke=\"black\" points=\"2288.5,-385.5 2288.5,-421.5 \"/>\n<text text-anchor=\"middle\" x=\"2329.5\" y=\"-399.8\" font-family=\"Times,serif\" font-size=\"14.00\">grad 0.0000</text>\n</g>\n<!-- 135564866616528&#45;&gt;135564866603376+ -->\n<g id=\"edge143\" class=\"edge\">\n<title>135564866616528&#45;&gt;135564866603376+</title>\n<path fill=\"none\" stroke=\"black\" d=\"M2346.56,-421.55C2355.51,-424.36 2364.53,-427.37 2373,-430.5 2383.49,-434.38 2394.71,-439.22 2404.68,-443.78\"/>\n<polygon fill=\"black\" stroke=\"black\" points=\"2403.25,-446.98 2413.79,-448.03 2406.2,-440.63 2403.25,-446.98\"/>\n</g>\n<!-- 135564866616528+&#45;&gt;135564866616528 -->\n<g id=\"edge68\" class=\"edge\">\n<title>135564866616528+&#45;&gt;135564866616528</title>\n<path fill=\"none\" stroke=\"black\" d=\"M2150.21,-403.5C2158.34,-403.5 2167.85,-403.5 2177.94,-403.5\"/>\n<polygon fill=\"black\" stroke=\"black\" points=\"2178.19,-407 2188.19,-403.5 2178.19,-400 2178.19,-407\"/>\n</g>\n<!-- 135564866608368 -->\n<g id=\"node184\" class=\"node\">\n<title>135564866608368</title>\n<polygon fill=\"none\" stroke=\"black\" points=\"621,-348.5 621,-384.5 808,-384.5 808,-348.5 621,-348.5\"/>\n<text text-anchor=\"middle\" x=\"631\" y=\"-362.8\" font-family=\"Times,serif\" font-size=\"14.00\"> </text>\n<polyline fill=\"none\" stroke=\"black\" points=\"641,-348.5 641,-384.5 \"/>\n<text text-anchor=\"middle\" x=\"683.5\" y=\"-362.8\" font-family=\"Times,serif\" font-size=\"14.00\">data &#45;1.0000</text>\n<polyline fill=\"none\" stroke=\"black\" points=\"726,-348.5 726,-384.5 \"/>\n<text text-anchor=\"middle\" x=\"767\" y=\"-362.8\" font-family=\"Times,serif\" font-size=\"14.00\">grad 0.0000</text>\n</g>\n<!-- 135564866608368&#45;&gt;135564866607312* -->\n<g id=\"edge75\" class=\"edge\">\n<title>135564866608368&#45;&gt;135564866607312*</title>\n<path fill=\"none\" stroke=\"black\" d=\"M783.72,-384.6C801.71,-389.38 820.37,-394.33 835.71,-398.4\"/>\n<polygon fill=\"black\" stroke=\"black\" points=\"835.2,-401.88 845.76,-401.07 836.99,-395.12 835.2,-401.88\"/>\n</g>\n<!-- 135564902325728 -->\n<g id=\"node185\" class=\"node\">\n<title>135564902325728</title>\n<polygon fill=\"none\" stroke=\"black\" points=\"2501.5,-874.5 2501.5,-910.5 2683.5,-910.5 2683.5,-874.5 2501.5,-874.5\"/>\n<text text-anchor=\"middle\" x=\"2511.5\" y=\"-888.8\" font-family=\"Times,serif\" font-size=\"14.00\"> </text>\n<polyline fill=\"none\" stroke=\"black\" points=\"2521.5,-874.5 2521.5,-910.5 \"/>\n<text text-anchor=\"middle\" x=\"2561.5\" y=\"-888.8\" font-family=\"Times,serif\" font-size=\"14.00\">data 0.4686</text>\n<polyline fill=\"none\" stroke=\"black\" points=\"2601.5,-874.5 2601.5,-910.5 \"/>\n<text text-anchor=\"middle\" x=\"2642.5\" y=\"-888.8\" font-family=\"Times,serif\" font-size=\"14.00\">grad 0.0000</text>\n</g>\n<!-- 135564902325728&#45;&gt;135564902327456+ -->\n<g id=\"edge113\" class=\"edge\">\n<title>135564902325728&#45;&gt;135564902327456+</title>\n<path fill=\"none\" stroke=\"black\" d=\"M2659.52,-874.29C2668.96,-870.01 2678.12,-864.81 2686,-858.5 2709.11,-840.01 2726.34,-810.48 2736.69,-789.05\"/>\n<polygon fill=\"black\" stroke=\"black\" points=\"2739.93,-790.38 2740.96,-779.84 2733.58,-787.44 2739.93,-790.38\"/>\n</g>\n<!-- 135564902325728*&#45;&gt;135564902325728 -->\n<g id=\"edge69\" class=\"edge\">\n<title>135564902325728*&#45;&gt;135564902325728</title>\n<path fill=\"none\" stroke=\"black\" d=\"M2463.21,-894.99C2471.34,-894.83 2480.85,-894.65 2490.94,-894.45\"/>\n<polygon fill=\"black\" stroke=\"black\" points=\"2491.26,-897.95 2501.19,-894.25 2491.12,-890.95 2491.26,-897.95\"/>\n</g>\n<!-- 135564866608656 -->\n<g id=\"node187\" class=\"node\">\n<title>135564866608656</title>\n<polygon fill=\"none\" stroke=\"black\" points=\"1875.5,-275.5 1875.5,-311.5 2057.5,-311.5 2057.5,-275.5 1875.5,-275.5\"/>\n<text text-anchor=\"middle\" x=\"1885.5\" y=\"-289.8\" font-family=\"Times,serif\" font-size=\"14.00\"> </text>\n<polyline fill=\"none\" stroke=\"black\" points=\"1895.5,-275.5 1895.5,-311.5 \"/>\n<text text-anchor=\"middle\" x=\"1935.5\" y=\"-289.8\" font-family=\"Times,serif\" font-size=\"14.00\">data 0.0712</text>\n<polyline fill=\"none\" stroke=\"black\" points=\"1975.5,-275.5 1975.5,-311.5 \"/>\n<text text-anchor=\"middle\" x=\"2016.5\" y=\"-289.8\" font-family=\"Times,serif\" font-size=\"14.00\">grad 0.0000</text>\n</g>\n<!-- 135564866608656&#45;&gt;135564866281792* -->\n<g id=\"edge165\" class=\"edge\">\n<title>135564866608656&#45;&gt;135564866281792*</title>\n<path fill=\"none\" stroke=\"black\" d=\"M2035.72,-311.6C2053.71,-316.38 2072.37,-321.33 2087.71,-325.4\"/>\n<polygon fill=\"black\" stroke=\"black\" points=\"2087.2,-328.88 2097.76,-328.07 2088.99,-322.12 2087.2,-328.88\"/>\n</g>\n<!-- 135564866608848 -->\n<g id=\"node188\" class=\"node\">\n<title>135564866608848</title>\n<polygon fill=\"none\" stroke=\"black\" points=\"1560,-220.5 1560,-256.5 1747,-256.5 1747,-220.5 1560,-220.5\"/>\n<text text-anchor=\"middle\" x=\"1570\" y=\"-234.8\" font-family=\"Times,serif\" font-size=\"14.00\"> </text>\n<polyline fill=\"none\" stroke=\"black\" points=\"1580,-220.5 1580,-256.5 \"/>\n<text text-anchor=\"middle\" x=\"1622.5\" y=\"-234.8\" font-family=\"Times,serif\" font-size=\"14.00\">data &#45;0.5399</text>\n<polyline fill=\"none\" stroke=\"black\" points=\"1665,-220.5 1665,-256.5 \"/>\n<text text-anchor=\"middle\" x=\"1706\" y=\"-234.8\" font-family=\"Times,serif\" font-size=\"14.00\">grad 0.0000</text>\n</g>\n<!-- 135564866608848&#45;&gt;135564866274880* -->\n<g id=\"edge90\" class=\"edge\">\n<title>135564866608848&#45;&gt;135564866274880*</title>\n<path fill=\"none\" stroke=\"black\" d=\"M1747.05,-238.5C1756.06,-238.5 1764.79,-238.5 1772.7,-238.5\"/>\n<polygon fill=\"black\" stroke=\"black\" points=\"1772.95,-242 1782.95,-238.5 1772.95,-235 1772.95,-242\"/>\n</g>\n<!-- 135564866617056 -->\n<g id=\"node189\" class=\"node\">\n<title>135564866617056</title>\n<polygon fill=\"none\" stroke=\"black\" points=\"310.5,-183.5 310.5,-219.5 492.5,-219.5 492.5,-183.5 310.5,-183.5\"/>\n<text text-anchor=\"middle\" x=\"320.5\" y=\"-197.8\" font-family=\"Times,serif\" font-size=\"14.00\"> </text>\n<polyline fill=\"none\" stroke=\"black\" points=\"330.5,-183.5 330.5,-219.5 \"/>\n<text text-anchor=\"middle\" x=\"370.5\" y=\"-197.8\" font-family=\"Times,serif\" font-size=\"14.00\">data 1.0654</text>\n<polyline fill=\"none\" stroke=\"black\" points=\"410.5,-183.5 410.5,-219.5 \"/>\n<text text-anchor=\"middle\" x=\"451.5\" y=\"-197.8\" font-family=\"Times,serif\" font-size=\"14.00\">grad 0.0000</text>\n</g>\n<!-- 135564866617056&#45;&gt;135564866608320+ -->\n<g id=\"edge197\" class=\"edge\">\n<title>135564866617056&#45;&gt;135564866608320+</title>\n<path fill=\"none\" stroke=\"black\" d=\"M468.56,-219.55C477.51,-222.36 486.53,-225.37 495,-228.5 505.49,-232.38 516.71,-237.22 526.68,-241.78\"/>\n<polygon fill=\"black\" stroke=\"black\" points=\"525.25,-244.98 535.79,-246.03 528.2,-238.63 525.25,-244.98\"/>\n</g>\n<!-- 135564866617056*&#45;&gt;135564866617056 -->\n<g id=\"edge70\" class=\"edge\">\n<title>135564866617056*&#45;&gt;135564866617056</title>\n<path fill=\"none\" stroke=\"black\" d=\"M272.21,-201.5C280.34,-201.5 289.85,-201.5 299.94,-201.5\"/>\n<polygon fill=\"black\" stroke=\"black\" points=\"300.19,-205 310.19,-201.5 300.19,-198 300.19,-205\"/>\n</g>\n<!-- 135564866281264 -->\n<g id=\"node191\" class=\"node\">\n<title>135564866281264</title>\n<polygon fill=\"none\" stroke=\"black\" points=\"2499,-744.5 2499,-780.5 2686,-780.5 2686,-744.5 2499,-744.5\"/>\n<text text-anchor=\"middle\" x=\"2509\" y=\"-758.8\" font-family=\"Times,serif\" font-size=\"14.00\"> </text>\n<polyline fill=\"none\" stroke=\"black\" points=\"2519,-744.5 2519,-780.5 \"/>\n<text text-anchor=\"middle\" x=\"2561.5\" y=\"-758.8\" font-family=\"Times,serif\" font-size=\"14.00\">data &#45;0.5119</text>\n<polyline fill=\"none\" stroke=\"black\" points=\"2604,-744.5 2604,-780.5 \"/>\n<text text-anchor=\"middle\" x=\"2645\" y=\"-758.8\" font-family=\"Times,serif\" font-size=\"14.00\">grad 0.0000</text>\n</g>\n<!-- 135564866281264&#45;&gt;135564902327456+ -->\n<g id=\"edge119\" class=\"edge\">\n<title>135564866281264&#45;&gt;135564902327456+</title>\n<path fill=\"none\" stroke=\"black\" d=\"M2686.05,-762.5C2695.06,-762.5 2703.79,-762.5 2711.7,-762.5\"/>\n<polygon fill=\"black\" stroke=\"black\" points=\"2711.95,-766 2721.95,-762.5 2711.95,-759 2711.95,-766\"/>\n</g>\n<!-- 135564866281264+&#45;&gt;135564866281264 -->\n<g id=\"edge71\" class=\"edge\">\n<title>135564866281264+&#45;&gt;135564866281264</title>\n<path fill=\"none\" stroke=\"black\" d=\"M2463.21,-762.5C2470.73,-762.5 2479.43,-762.5 2488.67,-762.5\"/>\n<polygon fill=\"black\" stroke=\"black\" points=\"2488.89,-766 2498.89,-762.5 2488.89,-759 2488.89,-766\"/>\n</g>\n<!-- 135564866608992 -->\n<g id=\"node193\" class=\"node\">\n<title>135564866608992</title>\n<polygon fill=\"none\" stroke=\"black\" points=\"623.5,-800.5 623.5,-836.5 805.5,-836.5 805.5,-800.5 623.5,-800.5\"/>\n<text text-anchor=\"middle\" x=\"633.5\" y=\"-814.8\" font-family=\"Times,serif\" font-size=\"14.00\"> </text>\n<polyline fill=\"none\" stroke=\"black\" points=\"643.5,-800.5 643.5,-836.5 \"/>\n<text text-anchor=\"middle\" x=\"683.5\" y=\"-814.8\" font-family=\"Times,serif\" font-size=\"14.00\">data 0.5991</text>\n<polyline fill=\"none\" stroke=\"black\" points=\"723.5,-800.5 723.5,-836.5 \"/>\n<text text-anchor=\"middle\" x=\"764.5\" y=\"-814.8\" font-family=\"Times,serif\" font-size=\"14.00\">grad 0.0000</text>\n</g>\n<!-- 135564866608992&#45;&gt;135564866614032* -->\n<g id=\"edge196\" class=\"edge\">\n<title>135564866608992&#45;&gt;135564866614032*</title>\n<path fill=\"none\" stroke=\"black\" d=\"M805.82,-834.87C816.07,-836.73 826.01,-838.53 834.88,-840.13\"/>\n<polygon fill=\"black\" stroke=\"black\" points=\"834.29,-843.58 844.75,-841.92 835.54,-836.7 834.29,-843.58\"/>\n</g>\n<!-- 135564866609040 -->\n<g id=\"node194\" class=\"node\">\n<title>135564866609040</title>\n<polygon fill=\"none\" stroke=\"black\" points=\"621,-568.5 621,-604.5 808,-604.5 808,-568.5 621,-568.5\"/>\n<text text-anchor=\"middle\" x=\"631\" y=\"-582.8\" font-family=\"Times,serif\" font-size=\"14.00\"> </text>\n<polyline fill=\"none\" stroke=\"black\" points=\"641,-568.5 641,-604.5 \"/>\n<text text-anchor=\"middle\" x=\"683.5\" y=\"-582.8\" font-family=\"Times,serif\" font-size=\"14.00\">data &#45;0.2266</text>\n<polyline fill=\"none\" stroke=\"black\" points=\"726,-568.5 726,-604.5 \"/>\n<text text-anchor=\"middle\" x=\"767\" y=\"-582.8\" font-family=\"Times,serif\" font-size=\"14.00\">grad 0.0000</text>\n</g>\n<!-- 135564866609040&#45;&gt;135564866614464* -->\n<g id=\"edge121\" class=\"edge\">\n<title>135564866609040&#45;&gt;135564866614464*</title>\n<path fill=\"none\" stroke=\"black\" d=\"M808.05,-586.5C817.06,-586.5 825.79,-586.5 833.7,-586.5\"/>\n<polygon fill=\"black\" stroke=\"black\" points=\"833.95,-590 843.95,-586.5 833.95,-583 833.95,-590\"/>\n</g>\n<!-- 135564901433248 -->\n<g id=\"node195\" class=\"node\">\n<title>135564901433248</title>\n<polygon fill=\"none\" stroke=\"black\" points=\"4936,-477.5 4936,-513.5 5118,-513.5 5118,-477.5 4936,-477.5\"/>\n<text text-anchor=\"middle\" x=\"4946\" y=\"-491.8\" font-family=\"Times,serif\" font-size=\"14.00\"> </text>\n<polyline fill=\"none\" stroke=\"black\" points=\"4956,-477.5 4956,-513.5 \"/>\n<text text-anchor=\"middle\" x=\"4996\" y=\"-491.8\" font-family=\"Times,serif\" font-size=\"14.00\">data 1.4856</text>\n<polyline fill=\"none\" stroke=\"black\" points=\"5036,-477.5 5036,-513.5 \"/>\n<text text-anchor=\"middle\" x=\"5077\" y=\"-491.8\" font-family=\"Times,serif\" font-size=\"14.00\">grad 0.0000</text>\n</g>\n<!-- 135564901433248&#45;&gt;135564901425712+ -->\n<g id=\"edge183\" class=\"edge\">\n<title>135564901433248&#45;&gt;135564901425712+</title>\n<path fill=\"none\" stroke=\"black\" d=\"M5118.18,-509.15C5127.42,-510.54 5136.38,-511.9 5144.47,-513.12\"/>\n<polygon fill=\"black\" stroke=\"black\" points=\"5144.15,-516.61 5154.56,-514.65 5145.19,-509.69 5144.15,-516.61\"/>\n</g>\n<!-- 135564901433248+&#45;&gt;135564901433248 -->\n<g id=\"edge72\" class=\"edge\">\n<title>135564901433248+&#45;&gt;135564901433248</title>\n<path fill=\"none\" stroke=\"black\" d=\"M4900.13,-493.84C4907.67,-493.94 4916.39,-494.06 4925.64,-494.18\"/>\n<polygon fill=\"black\" stroke=\"black\" points=\"4925.82,-497.68 4935.87,-494.31 4925.91,-490.68 4925.82,-497.68\"/>\n</g>\n<!-- 135564866609088 -->\n<g id=\"node197\" class=\"node\">\n<title>135564866609088</title>\n<polygon fill=\"none\" stroke=\"black\" points=\"621,-458.5 621,-494.5 808,-494.5 808,-458.5 621,-458.5\"/>\n<text text-anchor=\"middle\" x=\"631\" y=\"-472.8\" font-family=\"Times,serif\" font-size=\"14.00\"> </text>\n<polyline fill=\"none\" stroke=\"black\" points=\"641,-458.5 641,-494.5 \"/>\n<text text-anchor=\"middle\" x=\"683.5\" y=\"-472.8\" font-family=\"Times,serif\" font-size=\"14.00\">data &#45;0.4536</text>\n<polyline fill=\"none\" stroke=\"black\" points=\"726,-458.5 726,-494.5 \"/>\n<text text-anchor=\"middle\" x=\"767\" y=\"-472.8\" font-family=\"Times,serif\" font-size=\"14.00\">grad 0.0000</text>\n</g>\n<!-- 135564866609088&#45;&gt;135564866606304+ -->\n<g id=\"edge87\" class=\"edge\">\n<title>135564866609088&#45;&gt;135564866606304+</title>\n<path fill=\"none\" stroke=\"black\" d=\"M808.05,-484.29C817.16,-485.05 825.98,-485.8 833.97,-486.47\"/>\n<polygon fill=\"black\" stroke=\"black\" points=\"833.69,-489.96 843.95,-487.31 834.28,-482.98 833.69,-489.96\"/>\n</g>\n<!-- 135564902326256 -->\n<g id=\"node198\" class=\"node\">\n<title>135564902326256</title>\n<polygon fill=\"none\" stroke=\"black\" points=\"3125,-607.5 3125,-643.5 3312,-643.5 3312,-607.5 3125,-607.5\"/>\n<text text-anchor=\"middle\" x=\"3135\" y=\"-621.8\" font-family=\"Times,serif\" font-size=\"14.00\"> </text>\n<polyline fill=\"none\" stroke=\"black\" points=\"3145,-607.5 3145,-643.5 \"/>\n<text text-anchor=\"middle\" x=\"3187.5\" y=\"-621.8\" font-family=\"Times,serif\" font-size=\"14.00\">data &#45;0.1634</text>\n<polyline fill=\"none\" stroke=\"black\" points=\"3230,-607.5 3230,-643.5 \"/>\n<text text-anchor=\"middle\" x=\"3271\" y=\"-621.8\" font-family=\"Times,serif\" font-size=\"14.00\">grad 0.0000</text>\n</g>\n<!-- 135564902326256&#45;&gt;135564902324000tanh -->\n<g id=\"edge105\" class=\"edge\">\n<title>135564902326256&#45;&gt;135564902324000tanh</title>\n<path fill=\"none\" stroke=\"black\" d=\"M3312.05,-625.5C3321.06,-625.5 3329.79,-625.5 3337.7,-625.5\"/>\n<polygon fill=\"black\" stroke=\"black\" points=\"3337.95,-629 3347.95,-625.5 3337.95,-622 3337.95,-629\"/>\n</g>\n<!-- 135564902326256+&#45;&gt;135564902326256 -->\n<g id=\"edge73\" class=\"edge\">\n<title>135564902326256+&#45;&gt;135564902326256</title>\n<path fill=\"none\" stroke=\"black\" d=\"M3089.21,-625.5C3096.73,-625.5 3105.43,-625.5 3114.67,-625.5\"/>\n<polygon fill=\"black\" stroke=\"black\" points=\"3114.89,-629 3124.89,-625.5 3114.89,-622 3114.89,-629\"/>\n</g>\n</g>\n</svg>\n",
            "text/plain": [
              "<graphviz.graphs.Digraph at 0x7b4ba7b7fc70>"
            ]
          },
          "execution_count": 40,
          "metadata": {},
          "output_type": "execute_result"
        }
      ],
      "source": [
        "draw_dot(n(x))"
      ]
    },
    {
      "cell_type": "markdown",
      "metadata": {
        "id": "BljbI_GSZCjP"
      },
      "source": [
        "### 6.1 Creating a tiny dataset + writing the loss function + collecting all of the parameters of the neural net\n",
        "\n",
        "* binary classified neural net\n",
        "* trick to get desired targets (`ys`) in neural networks is to calculate a single number that somehow measures the total performance of the neural not -> called **loss**.\n",
        "* loss function:\n",
        "  * we are pairing up the `ygt` with the predictions, and the zip iterates the tuple of them, and for each `ygt` and `yout` we will subtract them and square them.\n",
        "  * loss will only be 0 when `ygt` == `yout`.\n",
        "  * higher the loss, the greater off we are.\n",
        "* we think of gradient as a vector pointing in the direction of increased loss.\n",
        "  * making the small step in our gradient descent will make the loss increase while the data decreases, hence we keep **-0.01** as the step.\n",
        "  * we actually want to decrease the loss, so we go in the opposite direction of the gradient.\n",
        "  * if you make too big of a step, you might over step the limit as we don't actually know about the loss function. The loss function is all kinds of structure, and we know only about the local dependence of these parameters on the loss"
      ]
    },
    {
      "cell_type": "code",
      "execution_count": null,
      "metadata": {
        "colab": {
          "background_save": true
        },
        "id": "XxtV3VrPjGrR"
      },
      "outputs": [],
      "source": [
        "# draw_dot(loss)"
      ]
    },
    {
      "cell_type": "code",
      "execution_count": null,
      "metadata": {
        "colab": {
          "background_save": true
        },
        "id": "fY6NfIMWmJMo"
      },
      "outputs": [],
      "source": [
        "from random import uniform\n",
        "import random\n",
        "# from micrograd.engine import Value\n",
        "\n",
        "class Neuron:\n",
        "    def __init__(self, nin):\n",
        "        # Initialize weights and bias with random values between -1 and 1\n",
        "        self.w = [Value(random.uniform(-1, 1)) for _ in range(nin)]\n",
        "        self.b = Value(random.uniform(-1, 1))\n",
        "\n",
        "    def __call__(self, x):\n",
        "        # Compute the weighted sum and add the bias -> w * x + b\n",
        "        act = sum((wi*xi for wi,xi in zip(self.w, x)), self.b)\n",
        "        # Apply the tanh activation function\n",
        "        out = act.tanh()\n",
        "        return out\n",
        "\n",
        "    def parameters(self): # returns parameters scalars\n",
        "      return self.w + [self.b]\n",
        "\n",
        "class Layer:\n",
        "\n",
        "  def __init__(self, nin, nout):\n",
        "    self.neurons = [Neuron(nin) for _ in range(nout)] # intializing new neurons with this dimensionality\n",
        "\n",
        "  def __call__(self, x):\n",
        "    outs = [n(x) for n in self.neurons] # independently evaluating the neurons\n",
        "    return outs[0] if len(outs) == 1 else outs\n",
        "\n",
        "  def parameters(self):\n",
        "    return [p for neuron in self.neurons for p in neuron.parameters()]\n",
        "    # identical to this:\n",
        "    # params = []\n",
        "    # for neuron in self.neurons:\n",
        "    #   ps = neuron.parameters()\n",
        "    #   params.extend(ps)\n",
        "    # return params\n",
        "\n",
        "class MLP:\n",
        "\n",
        "  def __init__(self, nin, nouts):\n",
        "    sz = [nin] + nouts\n",
        "    self.layers = [Layer(sz[i], sz[i + 1]) for i in range(len(nouts))] # iterating over consecutive pairs of these sizes and create objects for them\n",
        "\n",
        "  def __call__(self, x): # calling them sequentially\n",
        "    for layer in self.layers:\n",
        "      x = layer(x)\n",
        "    return x\n",
        "\n",
        "  def parameters(self):\n",
        "    return [p for layer in self.layers for p in layer.parameters()]\n",
        "\n",
        "  def zero_grad(self):\n",
        "        for p in self.parameters():\n",
        "            p.grad = 0.0\n"
      ]
    },
    {
      "cell_type": "code",
      "execution_count": null,
      "metadata": {
        "colab": {
          "background_save": true,
          "base_uri": "https://localhost:8080/"
        },
        "id": "tyjLkmo00rzl",
        "outputId": "40ac6164-8d1d-4bbc-ca36-fd03185707ed"
      },
      "outputs": [
        {
          "data": {
            "text/plain": [
              "Value(data = 0.9647122491794248)"
            ]
          },
          "execution_count": 43,
          "metadata": {},
          "output_type": "execute_result"
        }
      ],
      "source": [
        "x = [2.0, 3.0, -1.0]\n",
        "n = MLP(3, [4, 4, 1])\n",
        "n(x)"
      ]
    },
    {
      "cell_type": "code",
      "execution_count": null,
      "metadata": {
        "colab": {
          "background_save": true
        },
        "id": "Pdjp_1h5ZyGU"
      },
      "outputs": [],
      "source": [
        "xs = [\n",
        "    [2.0, 3.0, -1.0],\n",
        "    [3.0, -1.0, 0.5],\n",
        "    [0.5, 1.0, 1.0],\n",
        "    [1.0, 1.0, -1.0],\n",
        "]\n",
        "\n",
        "ys = [1.0, -1.0, -1.0, 1.0]  # desired targets"
      ]
    },
    {
      "cell_type": "code",
      "execution_count": null,
      "metadata": {
        "colab": {
          "background_save": true,
          "base_uri": "https://localhost:8080/"
        },
        "id": "ANjIhTbHaKIU",
        "outputId": "8aefd17f-c033-490b-92b5-eb1b4cb1083f"
      },
      "outputs": [
        {
          "name": "stdout",
          "output_type": "stream",
          "text": [
            "0 5.615762112747694\n",
            "1 3.2605108519210284\n",
            "2 1.4189575608777107\n",
            "3 0.5241496077388398\n",
            "4 0.30162763584196595\n",
            "5 0.20793890920083147\n",
            "6 0.1609832800888561\n",
            "7 0.1307603731505176\n",
            "8 0.10976564904395844\n",
            "9 0.09437707816761987\n",
            "10 0.08263862892559426\n",
            "11 0.073404212843214\n",
            "12 0.06595922442538879\n",
            "13 0.059835682866855595\n",
            "14 0.05471468576172441\n",
            "15 0.050371652784413606\n",
            "16 0.046643990506154795\n",
            "17 0.043411170982598724\n",
            "18 0.04058200873947435\n",
            "19 0.03808627970470532\n",
            "20 0.03586904973273647\n",
            "21 0.03388674496275943\n",
            "22 0.032104371520661965\n",
            "23 0.030493511387911718\n",
            "24 0.029030853389899122\n",
            "25 0.027697100046931097\n",
            "26 0.02647614290695608\n",
            "27 0.025354432611096232\n",
            "28 0.024320492185306346\n",
            "29 0.023364537030290195\n"
          ]
        }
      ],
      "source": [
        "# Assuming 'n' is a function that produces TensorFlow Tensors\n",
        "import tensorflow as tf\n",
        "\n",
        "# loss function using Value objects\n",
        "for k in range(30):\n",
        "  # forward pass\n",
        "  ypred = [n(x) for x in xs]\n",
        "  loss = sum(((yout - ygt)**2 for ygt, yout in zip(ys, ypred)), start=Value(0))\n",
        "\n",
        "  # backward pass\n",
        "  for p in n.parameters():\n",
        "    p.grad = 0.0 # have to zero.grad() to reset them after the forward pass for the backward pass\n",
        "  loss.backward()\n",
        "\n",
        "  # update\n",
        "  for p in n.parameters():\n",
        "    p.data += -0.05 * p.grad # tiny upgrade in our gradient descent scheme with a small step\n",
        "\n",
        "  print(k, loss.data)"
      ]
    },
    {
      "cell_type": "code",
      "execution_count": null,
      "metadata": {
        "colab": {
          "background_save": true,
          "base_uri": "https://localhost:8080/"
        },
        "id": "9KDcl7ZUu8_G",
        "outputId": "a0786630-f5e6-4479-f886-482de5604daa"
      },
      "outputs": [
        {
          "data": {
            "text/plain": [
              "[Value(data = 0.9640842599602847),\n",
              " Value(data = -0.966101322650361),\n",
              " Value(data = -0.8885761268967528),\n",
              " Value(data = 0.9077492719578522)]"
            ]
          },
          "execution_count": 46,
          "metadata": {},
          "output_type": "execute_result"
        }
      ],
      "source": [
        "ypred"
      ]
    },
    {
      "cell_type": "markdown",
      "metadata": {
        "id": "TUoeGvmx02V1"
      },
      "source": [
        "## Summary"
      ]
    },
    {
      "cell_type": "markdown",
      "metadata": {
        "id": "tCE2JyVf2CqS"
      },
      "source": [
        "* What are neural nets?\n",
        "  * Are mathematical expressions in case of Multi-layer perceptron that take input as the data, and take weights and paramteres and the neural net\n",
        "  * mathematical expressions in the forward pass, and the loss function tries to measure the accuracy, and loss will usually be low when your predictions match your targets -> behaving well\n",
        "  * we manipulate the loss function so when loss is low, the network is behaving well\n",
        "  * we use back propogation to get the gradient and then we tune the parameters to decrease the loss locally, but then we have to operate the process multiple times in what is called the gradient descent\n",
        "  * this neural net has only 41 parameters and many more complex neural nets can be built which have very beautiful properties\n",
        "\n",
        "* `tanh` used instead of `ReLU` as it is more complex and smoother therefore it is stressed a little bit more on the local gradients and derivatives which is useful for our neural net."
      ]
    }
  ],
  "metadata": {
    "colab": {
      "provenance": [],
      "authorship_tag": "ABX9TyO/uyDBFJ73Md0l2VJxD6Mo",
      "include_colab_link": true
    },
    "kernelspec": {
      "display_name": "Python 3",
      "name": "python3"
    },
    "language_info": {
      "name": "python"
    }
  },
  "nbformat": 4,
  "nbformat_minor": 0
}
