{
  "nbformat": 4,
  "nbformat_minor": 0,
  "metadata": {
    "colab": {
      "provenance": [],
      "collapsed_sections": [
        "u95DSpwBJN_3",
        "S87uoHdfdVaP"
      ],
      "gpuType": "T4",
      "authorship_tag": "ABX9TyPR7SklzqBWHAihrvV5fSue",
      "include_colab_link": true
    },
    "kernelspec": {
      "name": "python3",
      "display_name": "Python 3"
    },
    "language_info": {
      "name": "python"
    },
    "accelerator": "GPU"
  },
  "cells": [
    {
      "cell_type": "markdown",
      "metadata": {
        "id": "view-in-github",
        "colab_type": "text"
      },
      "source": [
        "<a href=\"https://colab.research.google.com/github/Raahim58/Neural-networks/blob/main/06_makemore_part5_wavenet.ipynb\" target=\"_parent\"><img src=\"https://colab.research.google.com/assets/colab-badge.svg\" alt=\"Open In Colab\"/></a>"
      ]
    },
    {
      "cell_type": "markdown",
      "source": [
        "# 06. Building Makemore from scratch (Part5: Building a WaveNet)\n",
        "\n",
        "* Makemore makes more of the things you give it.\n",
        "* makemore takes one text file as input, where each line is assumed to be one training thing, and generates more things like it. Under the hood, it is an autoregressive character-level language model, with a wide choice of models from bigrams all the way to a Transformer (exactly as seen in GPT). For example, we can feed it a database of names, and makemore will generate cool baby name ideas that all sound name-like, but are not already existing names. Or if we feed it a database of company names then we can generate new ideas for a name of a company. Or we can just feed it valid scrabble words and generate english-like babble.\n",
        "* it is basically a bigram character-level language model\n",
        "\n",
        "**Resources:**\n",
        "\n",
        "* makemore github repo: https://github.com/karpathy/makemore/tree/master\n",
        "\n",
        "* tutorial lecture 6 (makemore part 5) code: https://www.youtube.com/watch?v=t3YJ5hKiMQ0&list=PLAqhIrjkxbuWI23v9cThsA9GvCAUhRvKZ&index=6\n",
        "\n",
        "* MLP model based on 2003 paper: https://www.jmlr.org/papers/volume3/bengio03a/bengio03a.pdf\n",
        "\n",
        "* WaveNet 2016 from DeepMind https://arxiv.org/abs/1609.03499\n",
        "\n",
        "* makemore pre defined code: https://github.com/karpathy/makemore/blob/master/makemore.py\n",
        "\n",
        "* link to youtube lecture 5: https://github.com/karpathy/nn-zero-to-hero/blob/master/lectures/makemore/makemore_part5_cnn1.ipynb\n",
        "\n",
        "* whole lecture series code: https://github.com/karpathy/nn-zero-to-hero"
      ],
      "metadata": {
        "id": "DO0670AGDf0T"
      }
    },
    {
      "cell_type": "markdown",
      "source": [
        "## 0. Getting setup + intro\n",
        "\n"
      ],
      "metadata": {
        "id": "WCPYu21ACRFs"
      }
    },
    {
      "cell_type": "markdown",
      "source": [
        "* our model up till now taking 3 characters as input and predicting the next character in the sequence:\n",
        "\n",
        "  <img src = \"https://raw.githubusercontent.com/Raahim58/Neural-networks/main/images/MLP.png\" height = 300 width = 500>\n",
        "\n",
        "* we now want to take more characters as input in a sequence not just 3, and in addition to that we don't want to feed them in just a single hidden layer because that squashes too much information too quickly instead we would like to make a deeper model that progressively fuses this information to make its guess about the next character in the sequence.\n",
        "* as we make the architecture more complex, we're going to arrive at a WaveNet.\n",
        "* WaveNet is this paper published by DeepLine in 2026 and it is also a language model, but it tries to predict audio sequence instead of character or word level sequences. Fundamentally though, the setup is identical:\n",
        "  * it is auto aggressive\n",
        "  * it tries to predict the next character in the sequence\n",
        "  * the architecture actually takes this interesting hierarchial approach to predict the next character in the sequence with a tree like structure\n",
        "* most of the setup code is part of part 3\n",
        "  * doing imports\n",
        "  * reading our dataset of words\n",
        "  * processing their set of words into individual examples and none of the data generation code has changed\n",
        "  * we have 182,000 ish examples of 3 characters trying to predict the 4th one\n",
        "  * we started developing layer modules in part 3 which are like class linear and we're doing this because we want to think of these modules as building blocks that we can sort of stack up into neural networks and we can feed data between these layers and stack them up in a sort of graph\n",
        "  * we also developed these layers to have API's and signatures very similar to those found in PyTorch\n",
        "  * `Linear` does a matrix multiply in the forward pass of this module\n",
        "  * `BatchNorm` is a layer we look at in the previous lecture. A few crazy things about it:\n",
        "    * it has running mean and variances that are trained outside of backpropogation. They are trained using exponential moving average inside the `call` layer when we call the `forward` pass.\n",
        "    * there's a training flag because the behaviour of batchNorm is different during training time and evaluation time, so we have to be careful that batchNorm is in its correct state\n",
        "    * batchNorm couples the statistics or the activations across the examples in the batch so normally we thought of the batch as just an efficiency thing but now we are coupling the computation across the batch elements and it's done for controlling the activation statistics as seen in the previous lectures\n",
        "    * we have to wait for the mean and variance to settle and to actually reach as steady rate. Basically, there's state in this layer and state is harmful usually.\n",
        "  * for reproducibility we will now be using `torch.manual_seed()` as it is more efficient\n",
        "  * the weights are scaled down in the linear layers so that we are not confidently wrong at initialization\n",
        "  * 12,000 parameters\n",
        "  * optimization is identical\n",
        "\n",
        "\n"
      ],
      "metadata": {
        "id": "erbsMCRpiBVb"
      }
    },
    {
      "cell_type": "code",
      "source": [
        "import torch\n",
        "import torch.nn.functional as F\n",
        "import matplotlib.pyplot as plt # for making figures\n",
        "%matplotlib inline"
      ],
      "metadata": {
        "id": "0Jg1KQcmD5d-"
      },
      "execution_count": 1,
      "outputs": []
    },
    {
      "cell_type": "code",
      "source": [
        "!wget https://github.com/karpathy/makemore/raw/master/names.txt"
      ],
      "metadata": {
        "colab": {
          "base_uri": "https://localhost:8080/"
        },
        "id": "vxyIv9NUEQxe",
        "outputId": "98b22eea-dfa0-4357-ec75-b625e341e7f0"
      },
      "execution_count": 2,
      "outputs": [
        {
          "output_type": "stream",
          "name": "stdout",
          "text": [
            "--2024-08-28 18:16:21--  https://github.com/karpathy/makemore/raw/master/names.txt\n",
            "Resolving github.com (github.com)... 140.82.116.4\n",
            "Connecting to github.com (github.com)|140.82.116.4|:443... connected.\n",
            "HTTP request sent, awaiting response... 302 Found\n",
            "Location: https://raw.githubusercontent.com/karpathy/makemore/master/names.txt [following]\n",
            "--2024-08-28 18:16:21--  https://raw.githubusercontent.com/karpathy/makemore/master/names.txt\n",
            "Resolving raw.githubusercontent.com (raw.githubusercontent.com)... 185.199.111.133, 185.199.110.133, 185.199.108.133, ...\n",
            "Connecting to raw.githubusercontent.com (raw.githubusercontent.com)|185.199.111.133|:443... connected.\n",
            "HTTP request sent, awaiting response... 200 OK\n",
            "Length: 228145 (223K) [text/plain]\n",
            "Saving to: ‘names.txt’\n",
            "\n",
            "\rnames.txt             0%[                    ]       0  --.-KB/s               \rnames.txt           100%[===================>] 222.80K  --.-KB/s    in 0.02s   \n",
            "\n",
            "2024-08-28 18:16:21 (9.16 MB/s) - ‘names.txt’ saved [228145/228145]\n",
            "\n"
          ]
        }
      ]
    },
    {
      "cell_type": "code",
      "source": [
        "# read in all the words\n",
        "words = open('names.txt', 'r').read().splitlines()\n",
        "print(len(words))\n",
        "print(max(len(w) for w in words))\n",
        "print(words[:8])"
      ],
      "metadata": {
        "colab": {
          "base_uri": "https://localhost:8080/"
        },
        "id": "dMxp5d2kESHn",
        "outputId": "e77987ce-10b8-4702-fd67-ddbd84c62313"
      },
      "execution_count": 3,
      "outputs": [
        {
          "output_type": "stream",
          "name": "stdout",
          "text": [
            "32033\n",
            "15\n",
            "['emma', 'olivia', 'ava', 'isabella', 'sophia', 'charlotte', 'mia', 'amelia']\n"
          ]
        }
      ]
    },
    {
      "cell_type": "code",
      "source": [
        "# build the vocabulary of characters and mappings to/from integers\n",
        "chars = sorted(list(set(''.join(words))))\n",
        "stoi = {s:i+1 for i,s in enumerate(chars)}\n",
        "stoi['.'] = 0\n",
        "itos = {i:s for s,i in stoi.items()}\n",
        "vocab_size = len(itos)\n",
        "print(itos)\n",
        "print(vocab_size)"
      ],
      "metadata": {
        "id": "W3e9YNEXEWcg",
        "colab": {
          "base_uri": "https://localhost:8080/"
        },
        "outputId": "35d65490-c910-455b-a47a-db4aee0ef8a1"
      },
      "execution_count": 4,
      "outputs": [
        {
          "output_type": "stream",
          "name": "stdout",
          "text": [
            "{1: 'a', 2: 'b', 3: 'c', 4: 'd', 5: 'e', 6: 'f', 7: 'g', 8: 'h', 9: 'i', 10: 'j', 11: 'k', 12: 'l', 13: 'm', 14: 'n', 15: 'o', 16: 'p', 17: 'q', 18: 'r', 19: 's', 20: 't', 21: 'u', 22: 'v', 23: 'w', 24: 'x', 25: 'y', 26: 'z', 0: '.'}\n",
            "27\n"
          ]
        }
      ]
    },
    {
      "cell_type": "code",
      "source": [
        "# shuffle up the words\n",
        "import random\n",
        "random.seed(42)\n",
        "random.shuffle(words)"
      ],
      "metadata": {
        "id": "sviNawnTHNC4"
      },
      "execution_count": 5,
      "outputs": []
    },
    {
      "cell_type": "code",
      "source": [
        "# build the dataset\n",
        "block_size = 3 # context length: how many characters do we take to predict the next one?\n",
        "\n",
        "def build_dataset(words):\n",
        "  X, Y = [], []\n",
        "\n",
        "  for w in words:\n",
        "    context = [0] * block_size\n",
        "    for ch in w + '.':\n",
        "      ix = stoi[ch]\n",
        "      X.append(context)\n",
        "      Y.append(ix)\n",
        "      context = context[1:] + [ix] # crop and append\n",
        "\n",
        "  X = torch.tensor(X)\n",
        "  Y = torch.tensor(Y)\n",
        "  print(X.shape, Y.shape)\n",
        "  return X, Y\n",
        "\n",
        "n1 = int(0.8*len(words))\n",
        "n2 = int(0.9*len(words))\n",
        "Xtr,  Ytr  = build_dataset(words[:n1])     # 80%\n",
        "Xdev, Ydev = build_dataset(words[n1:n2])   # 10%\n",
        "Xte,  Yte  = build_dataset(words[n2:])     # 10%"
      ],
      "metadata": {
        "colab": {
          "base_uri": "https://localhost:8080/"
        },
        "id": "yyF0Eu4MHf0t",
        "outputId": "7a9ce73d-b12e-492d-9f7c-de454c212e9f"
      },
      "execution_count": 6,
      "outputs": [
        {
          "output_type": "stream",
          "name": "stdout",
          "text": [
            "torch.Size([182625, 3]) torch.Size([182625])\n",
            "torch.Size([22655, 3]) torch.Size([22655])\n",
            "torch.Size([22866, 3]) torch.Size([22866])\n"
          ]
        }
      ]
    },
    {
      "cell_type": "code",
      "source": [
        "for x,y in zip(Xtr[:20], Ytr[:20]):\n",
        "  print(''.join(itos[ix.item()] for ix in x), '-->', itos[y.item()])"
      ],
      "metadata": {
        "colab": {
          "base_uri": "https://localhost:8080/"
        },
        "id": "mdxkR5pyHit9",
        "outputId": "9a965f3c-d9f9-44bc-eb5c-40f715371547"
      },
      "execution_count": 7,
      "outputs": [
        {
          "output_type": "stream",
          "name": "stdout",
          "text": [
            "... --> y\n",
            "..y --> u\n",
            ".yu --> h\n",
            "yuh --> e\n",
            "uhe --> n\n",
            "hen --> g\n",
            "eng --> .\n",
            "... --> d\n",
            "..d --> i\n",
            ".di --> o\n",
            "dio --> n\n",
            "ion --> d\n",
            "ond --> r\n",
            "ndr --> e\n",
            "dre --> .\n",
            "... --> x\n",
            "..x --> a\n",
            ".xa --> v\n",
            "xav --> i\n",
            "avi --> e\n"
          ]
        }
      ]
    },
    {
      "cell_type": "code",
      "source": [
        "# copy paste of the layers we have developed in Part 3\n",
        "\n",
        "# -----------------------------------------------------------------------------------------------\n",
        "class Linear:\n",
        "\n",
        "  def __init__(self, fan_in, fan_out, bias=True):\n",
        "    self.weight = torch.randn((fan_in, fan_out)) / fan_in**0.5 # note: kaiming init\n",
        "    self.bias = torch.zeros(fan_out) if bias else None\n",
        "\n",
        "  def __call__(self, x):\n",
        "    self.out = x @ self.weight\n",
        "    if self.bias is not None:\n",
        "      self.out += self.bias\n",
        "    return self.out\n",
        "\n",
        "  def parameters(self):\n",
        "    return [self.weight] + ([] if self.bias is None else [self.bias])\n",
        "\n",
        "# -----------------------------------------------------------------------------------------------\n",
        "class BatchNorm1d:\n",
        "\n",
        "  def __init__(self, dim, eps=1e-5, momentum=0.1):\n",
        "    self.eps = eps\n",
        "    self.momentum = momentum\n",
        "    self.training = True\n",
        "    # parameters (trained with backprop)\n",
        "    self.gamma = torch.ones(dim)\n",
        "    self.beta = torch.zeros(dim)\n",
        "    # buffers (trained with a running 'momentum update')\n",
        "    self.running_mean = torch.zeros(dim)\n",
        "    self.running_var = torch.ones(dim)\n",
        "\n",
        "  def __call__(self, x):\n",
        "    # calculate the forward pass\n",
        "    if self.training:\n",
        "      xmean = x.mean(0, keepdim=True) # batch mean\n",
        "      xvar = x.var(0, keepdim=True) # batch variance\n",
        "    else:\n",
        "      xmean = self.running_mean\n",
        "      xvar = self.running_var\n",
        "    xhat = (x - xmean) / torch.sqrt(xvar + self.eps) # normalize to unit variance\n",
        "    self.out = self.gamma * xhat + self.beta\n",
        "    # update the buffers\n",
        "    if self.training:\n",
        "      with torch.no_grad():\n",
        "        self.running_mean = (1 - self.momentum) * self.running_mean + self.momentum * xmean\n",
        "        self.running_var = (1 - self.momentum) * self.running_var + self.momentum * xvar\n",
        "    return self.out\n",
        "\n",
        "  def parameters(self):\n",
        "    return [self.gamma, self.beta]\n",
        "\n",
        "# -----------------------------------------------------------------------------------------------\n",
        "class Tanh:\n",
        "  def __call__(self, x):\n",
        "    self.out = torch.tanh(x)\n",
        "    return self.out\n",
        "  def parameters(self):\n",
        "    return []"
      ],
      "metadata": {
        "id": "MTBQTWsFHlvN"
      },
      "execution_count": 8,
      "outputs": []
    },
    {
      "cell_type": "code",
      "source": [
        "torch.manual_seed(42); # seed rng for reproducibility\n"
      ],
      "metadata": {
        "id": "72RSNYkoH_fx"
      },
      "execution_count": 9,
      "outputs": []
    },
    {
      "cell_type": "code",
      "source": [
        "# original network\n",
        "n_embd = 10 # the dimensionality of the character embedding vectors\n",
        "n_hidden = 200 # the number of neurons in the hidden layer of the MLP\n",
        "\n",
        "C = torch.randn((vocab_size, n_embd))\n",
        "layers = [\n",
        "    Linear(n_embd * block_size, n_hidden, bias=False), BatchNorm1d(n_hidden), Tanh(),\n",
        "    Linear(n_hidden, vocab_size),\n",
        "]\n",
        "\n",
        "# parameter init\n",
        "with torch.no_grad():\n",
        "  layers[-1].weight *= 0.1 # last layer make less confident\n",
        "\n",
        "parameters = [C] + [p for layer in layers for p in layer.parameters()]\n",
        "print(sum(p.nelement() for p in parameters)) # number of parameters in total\n",
        "for p in parameters:\n",
        "  p.requires_grad = True"
      ],
      "metadata": {
        "colab": {
          "base_uri": "https://localhost:8080/"
        },
        "id": "_PnMnX71IB_p",
        "outputId": "8bffd620-6a32-4a75-a004-70d4e91a9be0"
      },
      "execution_count": 10,
      "outputs": [
        {
          "output_type": "stream",
          "name": "stdout",
          "text": [
            "12097\n"
          ]
        }
      ]
    },
    {
      "cell_type": "code",
      "source": [
        "\n",
        "# same optimization as last time\n",
        "max_steps = 200000\n",
        "batch_size = 32\n",
        "lossi = []\n",
        "\n",
        "for i in range(max_steps):\n",
        "\n",
        "  # minibatch construct\n",
        "  ix = torch.randint(0, Xtr.shape[0], (batch_size,))\n",
        "  Xb, Yb = Xtr[ix], Ytr[ix] # batch X,Y\n",
        "\n",
        "  # forward pass\n",
        "  emb = C[Xb] # embed the characters into vectors\n",
        "  x = emb.view(emb.shape[0], -1) # concatenate the vectors\n",
        "  for layer in layers:\n",
        "    x = layer(x)\n",
        "  loss = F.cross_entropy(x, Yb) # loss function\n",
        "\n",
        "  # backward pass\n",
        "  for p in parameters:\n",
        "    p.grad = None\n",
        "  loss.backward()\n",
        "\n",
        "  # update: simple SGD\n",
        "  lr = 0.1 if i < 150000 else 0.01 # step learning rate decay\n",
        "  for p in parameters:\n",
        "    p.data += -lr * p.grad\n",
        "\n",
        "  # track stats\n",
        "  if i % 10000 == 0: # print every once in a while\n",
        "    print(f'{i:7d}/{max_steps:7d}: {loss.item():.4f}')\n",
        "  lossi.append(loss.log10().item())\n",
        "\n",
        "  # break"
      ],
      "metadata": {
        "colab": {
          "base_uri": "https://localhost:8080/"
        },
        "id": "wRE9tWjDIkLK",
        "outputId": "8c48a738-0251-4473-90b6-1a0488b3102a"
      },
      "execution_count": 11,
      "outputs": [
        {
          "output_type": "stream",
          "name": "stdout",
          "text": [
            "      0/ 200000: 3.2966\n",
            "  10000/ 200000: 2.2322\n",
            "  20000/ 200000: 2.4111\n",
            "  30000/ 200000: 2.1004\n",
            "  40000/ 200000: 2.3157\n",
            "  50000/ 200000: 2.2104\n",
            "  60000/ 200000: 1.9653\n",
            "  70000/ 200000: 1.9767\n",
            "  80000/ 200000: 2.6738\n",
            "  90000/ 200000: 2.0837\n",
            " 100000/ 200000: 2.2730\n",
            " 110000/ 200000: 1.7491\n",
            " 120000/ 200000: 2.2891\n",
            " 130000/ 200000: 2.3443\n",
            " 140000/ 200000: 2.1731\n",
            " 150000/ 200000: 1.8246\n",
            " 160000/ 200000: 1.7614\n",
            " 170000/ 200000: 2.2419\n",
            " 180000/ 200000: 2.0803\n",
            " 190000/ 200000: 2.1326\n"
          ]
        }
      ]
    },
    {
      "cell_type": "markdown",
      "source": [
        "values achived here:\n",
        "  * 0/ 200000: 3.2966\n",
        "  * 10000/ 200000: 2.2322\n",
        "  * 20000/ 200000: 2.4111\n",
        "  * 30000/ 200000: 2.1004\n",
        "  * 40000/ 200000: 2.3157\n",
        "  * 50000/ 200000: 2.2104\n",
        "  * 60000/ 200000: 1.9653\n",
        "  * 70000/ 200000: 1.9767\n",
        "  * 80000/ 200000: 2.6738\n",
        "  * 90000/ 200000: 2.0837\n",
        "  * 100000/ 200000: 2.2730\n",
        "  * 110000/ 200000: 1.7491\n",
        "  * 120000/ 200000: 2.2891\n",
        "  * 130000/ 200000: 2.3443\n",
        "  * 140000/ 200000: 2.1731\n",
        "  * 150000/ 200000: 1.8246\n",
        "  * 150000/ 200000: 1.8246\n",
        "  * 150000/ 200000: 1.8246\n",
        "  * 160000/ 200000: 1.7614\n",
        "  * 170000/ 200000: 2.2419\n",
        "  * 180000/ 200000: 2.0803\n",
        "  * 190000/ 200000: 2.1326"
      ],
      "metadata": {
        "id": "Xg5RDeYxK3Dj"
      }
    },
    {
      "cell_type": "code",
      "source": [
        "plt.plot(lossi)"
      ],
      "metadata": {
        "id": "HCdikOPvIpYz",
        "colab": {
          "base_uri": "https://localhost:8080/",
          "height": 448
        },
        "outputId": "944a2fe3-713a-4679-c67c-6a35f0ecc0db"
      },
      "execution_count": 12,
      "outputs": [
        {
          "output_type": "execute_result",
          "data": {
            "text/plain": [
              "[<matplotlib.lines.Line2D at 0x7cd67ebb1510>]"
            ]
          },
          "metadata": {},
          "execution_count": 12
        },
        {
          "output_type": "display_data",
          "data": {
            "text/plain": [
              "<Figure size 640x480 with 1 Axes>"
            ],
            "image/png": "[encoded data removed]"
          },
          "metadata": {}
        }
      ]
    },
    {
      "cell_type": "code",
      "source": [
        "# put layers into eval mode (needed for batchnorm especially)\n",
        "for layer in layers:\n",
        "  layer.training = False"
      ],
      "metadata": {
        "id": "FQps8ERnJJb7"
      },
      "execution_count": 13,
      "outputs": []
    },
    {
      "cell_type": "code",
      "source": [
        "# evaluate the loss\n",
        "@torch.no_grad() # this decorator disables gradient tracking inside pytorch\n",
        "def split_loss(split):\n",
        "  x,y = {\n",
        "    'train': (Xtr, Ytr),\n",
        "    'val': (Xdev, Ydev),\n",
        "    'test': (Xte, Yte),\n",
        "  }[split]\n",
        "  emb = C[x] # (N, block_size, n_embd)\n",
        "  x = emb.view(emb.shape[0], -1) # concat into (N, block_size * n_embd)\n",
        "  for layer in layers:\n",
        "    x = layer(x)\n",
        "  loss = F.cross_entropy(x, y)\n",
        "  print(split, loss.item())\n",
        "\n",
        "split_loss('train')\n",
        "split_loss('val')"
      ],
      "metadata": {
        "id": "HLI8L2_GJLfI",
        "colab": {
          "base_uri": "https://localhost:8080/"
        },
        "outputId": "d1653abb-5f5b-4053-c2f2-c069a337bd37"
      },
      "execution_count": 14,
      "outputs": [
        {
          "output_type": "stream",
          "name": "stdout",
          "text": [
            "train 2.0583250522613525\n",
            "val 2.1065292358398438\n"
          ]
        }
      ]
    },
    {
      "cell_type": "markdown",
      "source": [
        "loss achieved here:\n",
        "* train 2.0583250522613525\n",
        "* val 2.1065292358398438"
      ],
      "metadata": {
        "id": "PRcabC0iKyBt"
      }
    },
    {
      "cell_type": "code",
      "source": [
        "# sample from the model\n",
        "for _ in range(20):\n",
        "    out = []\n",
        "    context = [0] * block_size  # initialize with all 0s\n",
        "\n",
        "    while True:\n",
        "        # forward pass the neural net\n",
        "        emb = C[torch.tensor([context])]  # (1, block_size, n_embd)\n",
        "        x = emb.view(emb.shape[0], -1)  # concatenate the vectors\n",
        "\n",
        "        for layer in layers:\n",
        "            x = layer(x)\n",
        "\n",
        "        logits = x\n",
        "        probs = F.softmax(logits, dim=1)\n",
        "\n",
        "        # sample from the distribution\n",
        "        ix = torch.multinomial(probs, num_samples=1).item()\n",
        "\n",
        "        # shift the context window and track the samples\n",
        "        context = context[1:] + [ix]\n",
        "        out.append(ix)\n",
        "\n",
        "        # if we sample the special '.' token, break\n",
        "        if ix == 0:\n",
        "            break\n",
        "\n",
        "    print(''.join(itos[i] for i in out))  # decode and print the generated word\n"
      ],
      "metadata": {
        "id": "qHNPKVASJe5f",
        "colab": {
          "base_uri": "https://localhost:8080/"
        },
        "outputId": "8c535aed-dff5-47a3-e46a-e9159b55f31b"
      },
      "execution_count": 15,
      "outputs": [
        {
          "output_type": "stream",
          "name": "stdout",
          "text": [
            "damiara.\n",
            "alyzah.\n",
            "fard.\n",
            "azalee.\n",
            "sayah.\n",
            "ayvi.\n",
            "reino.\n",
            "sophemuellani.\n",
            "ciaub.\n",
            "alith.\n",
            "sira.\n",
            "liza.\n",
            "jah.\n",
            "grancealynna.\n",
            "jamaur.\n",
            "ben.\n",
            "quan.\n",
            "torie.\n",
            "coria.\n",
            "cer.\n"
          ]
        }
      ]
    },
    {
      "cell_type": "markdown",
      "source": [
        "## 1. Fixing the learning rate plot\n",
        "\n",
        "* lossi = python list of floats\n",
        "* we need to average the `lossi` values to get a more thorough representative value along the way\n",
        "  * we will create a `torch.tensor` out of the list of floats and we will them as whatever it is but we're going to stretch it out into rows of 1000 consecutive elements\n",
        "  * the shapes of this becomes [200, 1000] and each row is 1000 consecutive elements in this list. That's very helpful as it can do the mean along the rows and the shapes of this will be 200 -> taking the mean on every row\n",
        "    * this is the learing rate decay and as it goes down, at one point the lr decay subtracted a ton of energy out of the system and allowed us to settle into sort of the local minimum in this optimization\n"
      ],
      "metadata": {
        "id": "u95DSpwBJN_3"
      }
    },
    {
      "cell_type": "code",
      "source": [
        "lossi[:10]"
      ],
      "metadata": {
        "id": "eDoMU_K3JV1B",
        "colab": {
          "base_uri": "https://localhost:8080/"
        },
        "outputId": "4e91bf80-fe2d-4a0c-d7d6-a1cc820966f5"
      },
      "execution_count": 16,
      "outputs": [
        {
          "output_type": "execute_result",
          "data": {
            "text/plain": [
              "[0.5180676579475403,\n",
              " 0.5164594054222107,\n",
              " 0.507362961769104,\n",
              " 0.507546603679657,\n",
              " 0.4992470443248749,\n",
              " 0.5014019012451172,\n",
              " 0.5049523115158081,\n",
              " 0.48866209387779236,\n",
              " 0.4999050199985504,\n",
              " 0.4899313449859619]"
            ]
          },
          "metadata": {},
          "execution_count": 16
        }
      ]
    },
    {
      "cell_type": "code",
      "source": [
        "plt.plot(torch.tensor(lossi).view(-1, 1000).mean(1));"
      ],
      "metadata": {
        "id": "__yIDnptMa4k",
        "colab": {
          "base_uri": "https://localhost:8080/",
          "height": 430
        },
        "outputId": "675aed10-c690-467e-c2ef-1a0c5bda3873"
      },
      "execution_count": 17,
      "outputs": [
        {
          "output_type": "display_data",
          "data": {
            "text/plain": [
              "<Figure size 640x480 with 1 Axes>"
            ],
            "image/png": "[encoded data removed]"
          },
          "metadata": {}
        }
      ]
    },
    {
      "cell_type": "code",
      "source": [
        "torch.arange(10).view(2, 5) # 1D array being viewed as a 2D array"
      ],
      "metadata": {
        "id": "81FWPotqMBGI",
        "colab": {
          "base_uri": "https://localhost:8080/"
        },
        "outputId": "035b4ac8-b8d1-4a38-ab39-5e60f1fe1cbe"
      },
      "execution_count": 18,
      "outputs": [
        {
          "output_type": "execute_result",
          "data": {
            "text/plain": [
              "tensor([[0, 1, 2, 3, 4],\n",
              "        [5, 6, 7, 8, 9]])"
            ]
          },
          "metadata": {},
          "execution_count": 18
        }
      ]
    },
    {
      "cell_type": "markdown",
      "source": [
        "## 2. Pytorchifying our code: layers, containers, `torch.nn`\n",
        "\n",
        "* we've organized a few layers inside `layers` but we have the embedding table `C` outside. In addition to that, the viewing operation is also outside of layers so let's create layers for them and we can just add them to our list\n",
        "* in particular the 2 things we need is that we have the embedding table and we are indexing at the integers inside the batch Xb inside the tensor Xb so that's an embedding table lookup just done with indexing.\n",
        "  * then we have the `view` operation that just rearranges the character embeddings and structures them into a row and effectively that prints out the concatenation operation -> no memory is being copied, we're just re-representing how we view that tensor\n",
        "* let's create modules for both (these both exist in pytorch as well but we need it for very specific operations with limited parameters so we don't take the pytorch modules rather create our own):\n",
        "  * embedding operation\n",
        "    * X = Xb: tensor of integers specifying the identities of these characters at the input, so now these characters can now directly feed into the first layer and it should just work\n",
        "  * flattening operation\n",
        "* right now we're saving all of our layers inside a naked list, we can instead introduce the concept of containers existent in pytorch\n",
        "  * these containers are ways of organizing lists or dicts and so on\n",
        "  * particularly `sequential` maintains a list of layers and is a module class in pytorch, it passes through all the layers sequentially exactly as we do it ourselves so we write our own `Sequential` class:\n",
        "    * we pass in a list of `layers` which we keep in it, and then given any input in a forward pass we just call the layers sequentially and return the results\n",
        "    * in terms of the parameters it's all the parameters of child modules\n",
        "    * for the forward pass in the optimization loop we just call the input data which are the integers inside Xb\n",
        "    * for sampling our model we just want to call the model onto the context and outcome logits, these logits go into `softmax` and then get the `probs`\n",
        "    * we try to pass a single example in the batchNorm in the training mode, you're going to end up estimating the variance using the input and the variance of a single number is not a number, because it is a measure of a spread\n",
        "    * we get a result of the `loss` but it's just the wrong result because it's using the sample statistics of the batch whereas we want to use the running mean and the running variance inside the batchNorm\n",
        "    * we need to properly maintain the state of what is in training and eval mode occordingly\n",
        "    * our sampling of the model is gibberish because we just initialized the model only"
      ],
      "metadata": {
        "id": "WuZvmtlAMH2s"
      }
    },
    {
      "cell_type": "code",
      "source": [
        "class Linear:\n",
        "\n",
        "  def __init__(self, fan_in, fan_out, bias=True):\n",
        "    self.weight = torch.randn((fan_in, fan_out)) / fan_in**0.5 # note: kaiming init\n",
        "    self.bias = torch.zeros(fan_out) if bias else None\n",
        "\n",
        "  def __call__(self, x):\n",
        "    self.out = x @ self.weight\n",
        "    if self.bias is not None:\n",
        "      self.out += self.bias\n",
        "    return self.out\n",
        "\n",
        "  def parameters(self):\n",
        "    return [self.weight] + ([] if self.bias is None else [self.bias])\n",
        "\n",
        "# -----------------------------------------------------------------------------------------------\n",
        "class BatchNorm1d:\n",
        "\n",
        "  def __init__(self, dim, eps=1e-5, momentum=0.1):\n",
        "    self.eps = eps\n",
        "    self.momentum = momentum\n",
        "    self.training = True\n",
        "    # parameters (trained with backprop)\n",
        "    self.gamma = torch.ones(dim)\n",
        "    self.beta = torch.zeros(dim)\n",
        "    # buffers (trained with a running 'momentum update')\n",
        "    self.running_mean = torch.zeros(dim)\n",
        "    self.running_var = torch.ones(dim)\n",
        "\n",
        "  def __call__(self, x):\n",
        "    # calculate the forward pass\n",
        "    if self.training:\n",
        "      xmean = x.mean(0, keepdim=True) # batch mean\n",
        "      xvar = x.var(0, keepdim=True) # batch variance\n",
        "    else:\n",
        "      xmean = self.running_mean\n",
        "      xvar = self.running_var\n",
        "    xhat = (x - xmean) / torch.sqrt(xvar + self.eps) # normalize to unit variance\n",
        "    self.out = self.gamma * xhat + self.beta\n",
        "    # update the buffers\n",
        "    if self.training:\n",
        "      with torch.no_grad():\n",
        "        self.running_mean = (1 - self.momentum) * self.running_mean + self.momentum * xmean\n",
        "        self.running_var = (1 - self.momentum) * self.running_var + self.momentum * xvar\n",
        "    return self.out\n",
        "\n",
        "  def parameters(self):\n",
        "    return [self.gamma, self.beta]\n",
        "\n",
        "# -----------------------------------------------------------------------------------------------\n",
        "class Tanh:\n",
        "  def __call__(self, x):\n",
        "    self.out = torch.tanh(x)\n",
        "    return self.out\n",
        "  def parameters(self):\n",
        "    return []\n",
        "\n",
        "# -----------------------------------------------------------------------------------------------\n",
        "class Embedding:\n",
        "\n",
        "  def __init__(self, num_embeddings, embedding_dim):\n",
        "    self.weight = torch.randn((num_embeddings, embedding_dim))\n",
        "\n",
        "  def __call__(self, IX):\n",
        "    self.out = self.weight[IX]\n",
        "    return self.out\n",
        "\n",
        "  def parameters(self):\n",
        "    return [self.weight]\n",
        "\n",
        "# -----------------------------------------------------------------------------------------------\n",
        "class Flatten:\n",
        "\n",
        "  def __call__(self, x):\n",
        "    self.out = x.view(x.shape[0], -1)\n",
        "    return self.out\n",
        "\n",
        "  def parameters(self):\n",
        "    return []\n",
        "\n",
        "# -----------------------------------------------------------------------------------------------\n",
        "class Sequential:\n",
        "\n",
        "  def __init__(self, layers):\n",
        "    self.layers = layers\n",
        "\n",
        "  def __call__(self, x):\n",
        "    for layer in self.layers:\n",
        "      x = layer(x)\n",
        "    self.out = x\n",
        "    return self.out\n",
        "\n",
        "  def parameters(self):\n",
        "    # get parameters of all layers and stretch them out into one list\n",
        "    return [p for layer in self.layers for p in layer.parameters()]"
      ],
      "metadata": {
        "id": "ar6tCvpWNaLD"
      },
      "execution_count": 19,
      "outputs": []
    },
    {
      "cell_type": "code",
      "source": [
        "torch.manual_seed(42); # for reproducibility"
      ],
      "metadata": {
        "id": "jPYHw7o4S1gw"
      },
      "execution_count": 20,
      "outputs": []
    },
    {
      "cell_type": "code",
      "source": [
        "n_embd = 10 # the dimensionality of the character embedding vectors\n",
        "n_hidden = 200 # the number of neurons in the hidden layer of the MLP\n",
        "\n",
        "model = Sequential([\n",
        "  Embedding(vocab_size, n_embd),\n",
        "  Flatten(),\n",
        "  Linear(n_embd * block_size, n_hidden, bias=False), BatchNorm1d(n_hidden), Tanh(),\n",
        "  Linear(n_hidden, vocab_size),\n",
        "])\n",
        "\n",
        "# parameter init\n",
        "with torch.no_grad():\n",
        "  model.layers[-1].weight *= 0.1 # last layer make less confident\n",
        "\n",
        "parameters = model.parameters()\n",
        "print(sum(p.nelement() for p in parameters)) # number of parameters in total\n",
        "for p in parameters:\n",
        "  p.requires_grad = True"
      ],
      "metadata": {
        "id": "VlhLrm2fP97S",
        "colab": {
          "base_uri": "https://localhost:8080/"
        },
        "outputId": "9b66867d-9ab2-4818-ed1e-338f353d79d9"
      },
      "execution_count": 21,
      "outputs": [
        {
          "output_type": "stream",
          "name": "stdout",
          "text": [
            "12097\n"
          ]
        }
      ]
    },
    {
      "cell_type": "code",
      "source": [
        "# same optimization as last time\n",
        "max_steps = 200000\n",
        "batch_size = 32\n",
        "lossi = []\n",
        "\n",
        "for i in range(max_steps):\n",
        "\n",
        "  # minibatch construct\n",
        "  ix = torch.randint(0, Xtr.shape[0], (batch_size,))\n",
        "  Xb, Yb = Xtr[ix], Ytr[ix] # batch X,Y\n",
        "\n",
        "  # forward pass\n",
        "  logits = model(Xb)\n",
        "  loss = F.cross_entropy(logits, Yb) # loss function\n",
        "\n",
        "  # backward pass\n",
        "  for p in parameters:\n",
        "    p.grad = None\n",
        "  loss.backward()\n",
        "\n",
        "  # update: simple SGD\n",
        "  lr = 0.1 if i < 150000 else 0.01 # step learning rate decay\n",
        "  for p in parameters:\n",
        "    p.data += -lr * p.grad\n",
        "\n",
        "  # track stats\n",
        "  if i % 10000 == 0: # print every once in a while\n",
        "    print(f'{i:7d}/{max_steps:7d}: {loss.item():.4f}')\n",
        "  lossi.append(loss.log10().item())"
      ],
      "metadata": {
        "id": "h0HXn6rUY7LG",
        "colab": {
          "base_uri": "https://localhost:8080/"
        },
        "outputId": "6d12fc29-1d79-4cf2-81b5-6b36523dcc4c"
      },
      "execution_count": 22,
      "outputs": [
        {
          "output_type": "stream",
          "name": "stdout",
          "text": [
            "      0/ 200000: 3.2966\n",
            "  10000/ 200000: 2.2322\n",
            "  20000/ 200000: 2.4111\n",
            "  30000/ 200000: 2.1004\n",
            "  40000/ 200000: 2.3157\n",
            "  50000/ 200000: 2.2104\n",
            "  60000/ 200000: 1.9653\n",
            "  70000/ 200000: 1.9767\n",
            "  80000/ 200000: 2.6738\n",
            "  90000/ 200000: 2.0837\n",
            " 100000/ 200000: 2.2730\n",
            " 110000/ 200000: 1.7491\n",
            " 120000/ 200000: 2.2891\n",
            " 130000/ 200000: 2.3443\n",
            " 140000/ 200000: 2.1731\n",
            " 150000/ 200000: 1.8246\n",
            " 160000/ 200000: 1.7614\n",
            " 170000/ 200000: 2.2419\n",
            " 180000/ 200000: 2.0803\n",
            " 190000/ 200000: 2.1326\n"
          ]
        }
      ]
    },
    {
      "cell_type": "markdown",
      "source": [
        "results here:  \n",
        "  * 0/ 200000: 3.2966\n",
        "  * 10000/ 200000: 2.2322\n",
        "  * 20000/ 200000: 2.4111\n",
        "  * 30000/ 200000: 2.1004\n",
        "  * 40000/ 200000: 2.3157\n",
        "  * 50000/ 200000: 2.2104\n",
        "  * 60000/ 200000: 1.9653\n",
        "  * 70000/ 200000: 1.9767\n",
        "  * 80000/ 200000: 2.6738\n",
        "  * 90000/ 200000: 2.0837\n",
        "  * 100000/ 200000: 2.2730\n",
        "  * 110000/ 200000: 1.7491\n",
        "  * 120000/ 200000: 2.2891\n",
        "  * 130000/ 200000: 2.3443\n",
        "  * 140000/ 200000: 2.1731\n",
        "  * 150000/ 200000: 1.8246\n",
        "  * 160000/ 200000: 1.7614\n",
        "  * 170000/ 200000: 2.2419\n",
        "  * 180000/ 200000: 2.0803\n",
        "  * 190000/ 200000: 2.1326"
      ],
      "metadata": {
        "id": "YAp2ZoHAe3po"
      }
    },
    {
      "cell_type": "code",
      "source": [
        "plt.plot(torch.tensor(lossi).view(-1, 1000).mean(1));"
      ],
      "metadata": {
        "id": "3J_rOZA_VYy3",
        "colab": {
          "base_uri": "https://localhost:8080/",
          "height": 430
        },
        "outputId": "34f5c16d-1fef-4412-9e8b-aa81bf179f5a"
      },
      "execution_count": 23,
      "outputs": [
        {
          "output_type": "display_data",
          "data": {
            "text/plain": [
              "<Figure size 640x480 with 1 Axes>"
            ],
            "image/png": "[encoded data removed]"
          },
          "metadata": {}
        }
      ]
    },
    {
      "cell_type": "code",
      "source": [
        "# put layers into eval model (needed for batchnorm especially)\n",
        "for layer in model.layers:\n",
        "  layer.training = False"
      ],
      "metadata": {
        "id": "K2WaVbTAR5Rm"
      },
      "execution_count": 24,
      "outputs": []
    },
    {
      "cell_type": "code",
      "source": [
        "# evaluate the loss\n",
        "@torch.no_grad() # this decorator disables gradient tracking inside pytorch\n",
        "def split_loss(split):\n",
        "  x,y = {\n",
        "    'train': (Xtr, Ytr),\n",
        "    'val': (Xdev, Ydev),\n",
        "    'test': (Xte, Yte),\n",
        "  }[split]\n",
        "  logits = model(x)\n",
        "  loss = F.cross_entropy(logits, y)\n",
        "  print(split, loss.item())\n",
        "\n",
        "split_loss('train')\n",
        "split_loss('val')"
      ],
      "metadata": {
        "id": "qA3clCcdTg56",
        "colab": {
          "base_uri": "https://localhost:8080/"
        },
        "outputId": "eed6bbf4-452c-4634-c770-816e3d63b2a5"
      },
      "execution_count": 25,
      "outputs": [
        {
          "output_type": "stream",
          "name": "stdout",
          "text": [
            "train 2.0583250522613525\n",
            "val 2.1065292358398438\n"
          ]
        }
      ]
    },
    {
      "cell_type": "markdown",
      "source": [
        "results:\n",
        "* train 2.0583250522613525\n",
        "* val 2.1065292358398438"
      ],
      "metadata": {
        "id": "if-PLv09fEtk"
      }
    },
    {
      "cell_type": "code",
      "source": [
        "# sample from the model\n",
        "for _ in range(20):\n",
        "    out = []\n",
        "    context = [0] * block_size  # initialize with all 0s\n",
        "\n",
        "    while True:\n",
        "        # forward pass the neural net\n",
        "        logits = model(torch.tensor([context]))  # (1, block_size)\n",
        "        probs = F.softmax(logits, dim=1)\n",
        "\n",
        "        # sample from the distribution\n",
        "        ix = torch.multinomial(probs, num_samples=1).item()\n",
        "\n",
        "        # shift the context window and track the samples\n",
        "        context = context[1:] + [ix]\n",
        "        out.append(ix)\n",
        "\n",
        "        # if we sample the special '.' token, break\n",
        "        if ix == 0:\n",
        "            break\n",
        "\n",
        "    print(''.join(itos[i] for i in out))  # decode and print the generated word"
      ],
      "metadata": {
        "id": "njURC543TsXl",
        "colab": {
          "base_uri": "https://localhost:8080/"
        },
        "outputId": "099aec1e-552d-4bed-b421-1caebe985a77"
      },
      "execution_count": 26,
      "outputs": [
        {
          "output_type": "stream",
          "name": "stdout",
          "text": [
            "damiara.\n",
            "alyzah.\n",
            "fard.\n",
            "azalee.\n",
            "sayah.\n",
            "ayvi.\n",
            "reino.\n",
            "sophemuellani.\n",
            "ciaub.\n",
            "alith.\n",
            "sira.\n",
            "liza.\n",
            "jah.\n",
            "grancealynna.\n",
            "jamaur.\n",
            "ben.\n",
            "quan.\n",
            "torie.\n",
            "coria.\n",
            "cer.\n"
          ]
        }
      ]
    },
    {
      "cell_type": "markdown",
      "source": [
        "## 3. WaveNet"
      ],
      "metadata": {
        "id": "NikwU7geUVW7"
      }
    },
    {
      "cell_type": "markdown",
      "source": [
        "### 3.1 Overview of WaveNet\n",
        "\n"
      ],
      "metadata": {
        "id": "S87uoHdfdVaP"
      }
    },
    {
      "cell_type": "markdown",
      "source": [
        "* our `train` and `val` loss are quite similar so we have the notion that we are not overfitting too much and we can make further progress in our performance by scaling up the size of our neural network and making everything bigger and deeper\n",
        "* the problem with our older model is that we don't have a naieve way of making this bigger in a productive way, we could of course use our building blocks and materials to  introduce additional layers to make the network deeper but it is still the case that we are crushing all the characters into a single layer all the way at the beginning.\n",
        "  * even if we make this a bigger layer and add neurons it's still kind of like silly to squash all that information so fast in a single step\n",
        "  * what we would like to do instead is that we would like our model to look a lot more like this in the WaveNet case\n",
        "\n",
        "    <img src = \"https://raw.githubusercontent.com/Raahim58/Neural-networks/main/images/wavenet.png\" height = 300 width = 300>\n",
        "    \n",
        "    * when we're to make a prediction of the next character in the sequence, it is a function of the previous characters that feed in but not all of these characters are not just crushed to a single layer slowly so in particular we take two characters and we fuse them into like a bigram representation and we do that for all the characters consecutively, and then we take the bigrams and we fuse them into four character level chunks and then we fuse that again. So we implement this into like tree-like hierarchial manner so we fuse the information from the previous context slowly into the network as it gets deeper so this is the kind of architecture we want to implement\n",
        "    * in the WaveNet case, it is a visualization of a stack of dilated causal convolutional layers -> to make the implementation fast through progressive fusion.\n",
        "      * we want to make the network deeper and at each level we want to fuse only 2 consecutive elements: 2 characters, then 2 bigrams, then 2 four grams"
      ],
      "metadata": {
        "id": "Cgy8HdgIh73G"
      }
    },
    {
      "cell_type": "markdown",
      "source": [
        "### 3.2 running baseline on code on `block_size` = 8\n",
        "\n",
        "* we're crushing way too much information way too fast so it doesn't make sense hence we will implement the WaveNet in the next section\n",
        "* we see"
      ],
      "metadata": {
        "id": "r2nQ4u-Rddyk"
      }
    },
    {
      "cell_type": "code",
      "source": [
        "# build the dataset\n",
        "block_size = 8 # context length: how many characters do we take to predict the next one?\n",
        "\n",
        "def build_dataset(words):\n",
        "  X, Y = [], []\n",
        "\n",
        "  for w in words:\n",
        "    context = [0] * block_size\n",
        "    for ch in w + '.':\n",
        "      ix = stoi[ch]\n",
        "      X.append(context)\n",
        "      Y.append(ix)\n",
        "      context = context[1:] + [ix] # crop and append\n",
        "\n",
        "  X = torch.tensor(X)\n",
        "  Y = torch.tensor(Y)\n",
        "  print(X.shape, Y.shape)\n",
        "  return X, Y\n",
        "\n",
        "n1 = int(0.8*len(words))\n",
        "n2 = int(0.9*len(words))\n",
        "Xtr,  Ytr  = build_dataset(words[:n1])     # 80%\n",
        "Xdev, Ydev = build_dataset(words[n1:n2])   # 10%\n",
        "Xte,  Yte  = build_dataset(words[n2:])     # 10%"
      ],
      "metadata": {
        "colab": {
          "base_uri": "https://localhost:8080/"
        },
        "id": "JUkR3sKmgWef",
        "outputId": "dd73e0e1-0d82-45f8-983c-049c4af9fb2a"
      },
      "execution_count": 27,
      "outputs": [
        {
          "output_type": "stream",
          "name": "stdout",
          "text": [
            "torch.Size([182625, 8]) torch.Size([182625])\n",
            "torch.Size([22655, 8]) torch.Size([22655])\n",
            "torch.Size([22866, 8]) torch.Size([22866])\n"
          ]
        }
      ]
    },
    {
      "cell_type": "code",
      "source": [
        "for x,y in zip(Xtr[:20], Ytr[:20]):\n",
        "  print(''.join(itos[ix.item()] for ix in x), '-->', itos[y.item()])"
      ],
      "metadata": {
        "colab": {
          "base_uri": "https://localhost:8080/"
        },
        "id": "-BGmft4cgbBE",
        "outputId": "55ca7930-12e2-43fe-dd5b-fd68a30c29e3"
      },
      "execution_count": 28,
      "outputs": [
        {
          "output_type": "stream",
          "name": "stdout",
          "text": [
            "........ --> y\n",
            ".......y --> u\n",
            "......yu --> h\n",
            ".....yuh --> e\n",
            "....yuhe --> n\n",
            "...yuhen --> g\n",
            "..yuheng --> .\n",
            "........ --> d\n",
            ".......d --> i\n",
            "......di --> o\n",
            ".....dio --> n\n",
            "....dion --> d\n",
            "...diond --> r\n",
            "..diondr --> e\n",
            ".diondre --> .\n",
            "........ --> x\n",
            ".......x --> a\n",
            "......xa --> v\n",
            ".....xav --> i\n",
            "....xavi --> e\n"
          ]
        }
      ]
    },
    {
      "cell_type": "code",
      "source": [
        "# same module as last time\n",
        "class Linear:\n",
        "\n",
        "  def __init__(self, fan_in, fan_out, bias=True):\n",
        "    self.weight = torch.randn((fan_in, fan_out)) / fan_in**0.5 # note: kaiming init\n",
        "    self.bias = torch.zeros(fan_out) if bias else None\n",
        "\n",
        "  def __call__(self, x):\n",
        "    self.out = x @ self.weight\n",
        "    if self.bias is not None:\n",
        "      self.out += self.bias\n",
        "    return self.out\n",
        "\n",
        "  def parameters(self):\n",
        "    return [self.weight] + ([] if self.bias is None else [self.bias])\n",
        "\n",
        "# -----------------------------------------------------------------------------------------------\n",
        "class BatchNorm1d:\n",
        "\n",
        "  def __init__(self, dim, eps=1e-5, momentum=0.1):\n",
        "    self.eps = eps\n",
        "    self.momentum = momentum\n",
        "    self.training = True\n",
        "    # parameters (trained with backprop)\n",
        "    self.gamma = torch.ones(dim)\n",
        "    self.beta = torch.zeros(dim)\n",
        "    # buffers (trained with a running 'momentum update')\n",
        "    self.running_mean = torch.zeros(dim)\n",
        "    self.running_var = torch.ones(dim)\n",
        "\n",
        "  def __call__(self, x):\n",
        "    # calculate the forward pass\n",
        "    if self.training:\n",
        "      xmean = x.mean(0, keepdim=True) # batch mean\n",
        "      xvar = x.var(0, keepdim=True) # batch variance\n",
        "    else:\n",
        "      xmean = self.running_mean\n",
        "      xvar = self.running_var\n",
        "    xhat = (x - xmean) / torch.sqrt(xvar + self.eps) # normalize to unit variance\n",
        "    self.out = self.gamma * xhat + self.beta\n",
        "    # update the buffers\n",
        "    if self.training:\n",
        "      with torch.no_grad():\n",
        "        self.running_mean = (1 - self.momentum) * self.running_mean + self.momentum * xmean\n",
        "        self.running_var = (1 - self.momentum) * self.running_var + self.momentum * xvar\n",
        "    return self.out\n",
        "\n",
        "  def parameters(self):\n",
        "    return [self.gamma, self.beta]\n",
        "\n",
        "# -----------------------------------------------------------------------------------------------\n",
        "class Tanh:\n",
        "  def __call__(self, x):\n",
        "    self.out = torch.tanh(x)\n",
        "    return self.out\n",
        "  def parameters(self):\n",
        "    return []\n",
        "\n",
        "# -----------------------------------------------------------------------------------------------\n",
        "class Embedding:\n",
        "\n",
        "  def __init__(self, num_embeddings, embedding_dim):\n",
        "    self.weight = torch.randn((num_embeddings, embedding_dim))\n",
        "\n",
        "  def __call__(self, IX):\n",
        "    self.out = self.weight[IX]\n",
        "    return self.out\n",
        "\n",
        "  def parameters(self):\n",
        "    return [self.weight]\n",
        "\n",
        "# -----------------------------------------------------------------------------------------------\n",
        "class Flatten:\n",
        "\n",
        "  def __call__(self, x):\n",
        "    self.out = x.view(x.shape[0], -1)\n",
        "    return self.out\n",
        "\n",
        "  def parameters(self):\n",
        "    return []\n",
        "\n",
        "# -----------------------------------------------------------------------------------------------\n",
        "class Sequential:\n",
        "\n",
        "  def __init__(self, layers):\n",
        "    self.layers = layers\n",
        "\n",
        "  def __call__(self, x):\n",
        "    for layer in self.layers:\n",
        "      x = layer(x)\n",
        "    self.out = x\n",
        "    return self.out\n",
        "\n",
        "  def parameters(self):\n",
        "    # get parameters of all layers and stretch them out into one list\n",
        "    return [p for layer in self.layers for p in layer.parameters()]"
      ],
      "metadata": {
        "id": "pTK9kZIthMNi"
      },
      "execution_count": 29,
      "outputs": []
    },
    {
      "cell_type": "code",
      "source": [
        "n_embd = 10 # the dimensionality of the character embedding vectors\n",
        "n_hidden = 200 # the number of neurons in the hidden layer of the MLP\n",
        "\n",
        "model = Sequential([\n",
        "  Embedding(vocab_size, n_embd),\n",
        "  Flatten(),\n",
        "  Linear(n_embd * block_size, n_hidden, bias=False), BatchNorm1d(n_hidden), Tanh(),\n",
        "  Linear(n_hidden, vocab_size),\n",
        "])\n",
        "\n",
        "# parameter init\n",
        "with torch.no_grad():\n",
        "  model.layers[-1].weight *= 0.1 # last layer make less confident\n",
        "\n",
        "parameters = model.parameters()\n",
        "print(sum(p.nelement() for p in parameters)) # number of parameters in total\n",
        "for p in parameters:\n",
        "  p.requires_grad = True"
      ],
      "metadata": {
        "colab": {
          "base_uri": "https://localhost:8080/"
        },
        "id": "gUhgIp1Ugiw9",
        "outputId": "b41e30da-162a-40c6-d64b-4e6614d270a1"
      },
      "execution_count": 30,
      "outputs": [
        {
          "output_type": "stream",
          "name": "stdout",
          "text": [
            "22097\n"
          ]
        }
      ]
    },
    {
      "cell_type": "code",
      "source": [
        "torch.manual_seed(42);"
      ],
      "metadata": {
        "id": "6R7YRMxMhXDn"
      },
      "execution_count": 31,
      "outputs": []
    },
    {
      "cell_type": "code",
      "source": [
        "# same optimization as last time\n",
        "max_steps = 200000\n",
        "batch_size = 32\n",
        "lossi = []\n",
        "\n",
        "for i in range(max_steps):\n",
        "\n",
        "  # minibatch construct\n",
        "  ix = torch.randint(0, Xtr.shape[0], (batch_size,))\n",
        "  Xb, Yb = Xtr[ix], Ytr[ix] # batch X,Y\n",
        "\n",
        "  # forward pass\n",
        "  logits = model(Xb)\n",
        "  loss = F.cross_entropy(logits, Yb) # loss function\n",
        "\n",
        "  # backward pass\n",
        "  for p in parameters:\n",
        "    p.grad = None\n",
        "  loss.backward()\n",
        "\n",
        "  # update: simple SGD\n",
        "  lr = 0.1 if i < 150000 else 0.01 # step learning rate decay\n",
        "  for p in parameters:\n",
        "    p.data += -lr * p.grad\n",
        "\n",
        "  # track stats\n",
        "  if i % 10000 == 0: # print every once in a while\n",
        "    print(f'{i:7d}/{max_steps:7d}: {loss.item():.4f}')\n",
        "  lossi.append(loss.log10().item())\n",
        "\n",
        "  # break"
      ],
      "metadata": {
        "colab": {
          "base_uri": "https://localhost:8080/"
        },
        "id": "CmiGy4rwguRI",
        "outputId": "b3a68ea6-a10e-4d78-d438-0c5e69ab2479"
      },
      "execution_count": 32,
      "outputs": [
        {
          "output_type": "stream",
          "name": "stdout",
          "text": [
            "      0/ 200000: 3.3015\n",
            "  10000/ 200000: 2.0786\n",
            "  20000/ 200000: 2.0664\n",
            "  30000/ 200000: 2.0302\n",
            "  40000/ 200000: 1.9507\n",
            "  50000/ 200000: 2.3314\n",
            "  60000/ 200000: 2.0863\n",
            "  70000/ 200000: 2.5462\n",
            "  80000/ 200000: 1.8006\n",
            "  90000/ 200000: 2.0433\n",
            " 100000/ 200000: 2.0739\n",
            " 110000/ 200000: 2.0573\n",
            " 120000/ 200000: 2.1711\n",
            " 130000/ 200000: 2.0571\n",
            " 140000/ 200000: 1.9843\n",
            " 150000/ 200000: 2.2379\n",
            " 160000/ 200000: 1.8067\n",
            " 170000/ 200000: 2.3033\n",
            " 180000/ 200000: 2.0616\n",
            " 190000/ 200000: 2.2136\n"
          ]
        }
      ]
    },
    {
      "cell_type": "markdown",
      "source": [
        "results here:\n",
        "  * 0/ 200000: 3.3001\n",
        "  * 10000/ 200000: 2.1169\n",
        "  * 20000/ 200000: 2.1788\n",
        "  * 30000/ 200000: 2.0672\n",
        "  * 40000/ 200000: 1.9115\n",
        "  * 50000/ 200000: 2.2206\n",
        "  * 60000/ 200000: 2.1615\n",
        "  * 70000/ 200000: 2.4519\n",
        "  * 80000/ 200000: 1.6731\n",
        "  * 90000/ 200000: 2.1636\n",
        "  * 100000/ 200000: 2.2238\n",
        "  * 110000/ 200000: 2.1466\n",
        "  * 120000/ 200000: 2.2148\n",
        "  * 130000/ 200000: 1.9768\n",
        "  * 140000/ 200000: 1.9643\n",
        "  * 150000/ 200000: 2.4222\n",
        "  * 160000/ 200000: 1.9345\n",
        "  * 170000/ 200000: 2.2489\n",
        "  * 180000/ 200000: 1.9024\n",
        "  * 190000/ 200000: 2.1804"
      ],
      "metadata": {
        "id": "XrDnhZLAi_yk"
      }
    },
    {
      "cell_type": "code",
      "source": [
        "plt.plot(torch.tensor(lossi).view(-1, 1000).mean(1));"
      ],
      "metadata": {
        "colab": {
          "base_uri": "https://localhost:8080/",
          "height": 430
        },
        "id": "O6EIhxnUhGNi",
        "outputId": "c6595edd-85e9-4ceb-89c7-af8e00934c22"
      },
      "execution_count": 33,
      "outputs": [
        {
          "output_type": "display_data",
          "data": {
            "text/plain": [
              "<Figure size 640x480 with 1 Axes>"
            ],
            "image/png": "[encoded data removed]"
          },
          "metadata": {}
        }
      ]
    },
    {
      "cell_type": "code",
      "source": [
        "# put layers into eval model (needed for batchnorm especially)\n",
        "for layer in model.layers:\n",
        "  layer.training = False"
      ],
      "metadata": {
        "id": "3YnJNCKKhljz"
      },
      "execution_count": 34,
      "outputs": []
    },
    {
      "cell_type": "code",
      "source": [
        "# evaluate the loss\n",
        "@torch.no_grad() # this decorator disables gradient tracking inside pytorch\n",
        "def split_loss(split):\n",
        "  x,y = {\n",
        "    'train': (Xtr, Ytr),\n",
        "    'val': (Xdev, Ydev),\n",
        "    'test': (Xte, Yte),\n",
        "  }[split]\n",
        "  logits = model(x)\n",
        "  loss = F.cross_entropy(logits, y)\n",
        "  print(split, loss.item())\n",
        "\n",
        "split_loss('train')\n",
        "split_loss('val')"
      ],
      "metadata": {
        "colab": {
          "base_uri": "https://localhost:8080/"
        },
        "id": "94dbdN-NhmVC",
        "outputId": "625a2bf4-a1d2-4fb0-bb91-0c4673653d12"
      },
      "execution_count": 35,
      "outputs": [
        {
          "output_type": "stream",
          "name": "stdout",
          "text": [
            "train 1.9196834564208984\n",
            "val 2.0310118198394775\n"
          ]
        }
      ]
    },
    {
      "cell_type": "markdown",
      "source": [
        "**performance log:**\n",
        "\n",
        "* original (3 character context + 200 hidden neurons, 12K params): train 2.058, val 2.105\n",
        "* context: 3 -> 8 (22K params): train 1.9196834564208984, val 2.0310118198394775"
      ],
      "metadata": {
        "id": "AHDoqZF_hssy"
      }
    },
    {
      "cell_type": "code",
      "source": [
        "# sample from the model\n",
        "for _ in range(20):\n",
        "    out = []\n",
        "    context = [0] * block_size  # initialize with all 0s\n",
        "\n",
        "    while True:\n",
        "        # forward pass the neural net\n",
        "        logits = model(torch.tensor([context]))  # (1, block_size)\n",
        "        probs = F.softmax(logits, dim=1)\n",
        "\n",
        "        # sample from the distribution\n",
        "        ix = torch.multinomial(probs, num_samples=1).item()\n",
        "\n",
        "        # shift the context window and track the samples\n",
        "        context = context[1:] + [ix]\n",
        "        out.append(ix)\n",
        "\n",
        "        # if we sample the special '.' token, break\n",
        "        if ix == 0:\n",
        "            break\n",
        "\n",
        "    print(''.join(itos[i] for i in out))  # decode and print the generated word"
      ],
      "metadata": {
        "colab": {
          "base_uri": "https://localhost:8080/"
        },
        "id": "XeafW9VTiSDF",
        "outputId": "2fd72ff0-6153-4e04-d18a-e1f613ac60f1"
      },
      "execution_count": 36,
      "outputs": [
        {
          "output_type": "stream",
          "name": "stdout",
          "text": [
            "rosa.\n",
            "salider.\n",
            "dannah.\n",
            "alyssa.\n",
            "nyden.\n",
            "mackel.\n",
            "devadt.\n",
            "jayah.\n",
            "grenclynn.\n",
            "aziel.\n",
            "veyona.\n",
            "javery.\n",
            "brall.\n",
            "hitalee.\n",
            "catai.\n",
            "makztena.\n",
            "esky.\n",
            "gryen.\n",
            "somas.\n",
            "emdin.\n"
          ]
        }
      ]
    },
    {
      "cell_type": "markdown",
      "source": [
        "### 3.3 implementing WaveNet\n",
        "\n",
        "* the integer tensor of [4,8] example batch just contains the identities of those characters which are being fed in to predict the 9th character\n",
        "* passing `Xb`, the integer tensor, through our embedding table creates an output of [4, 8, 10]. Our embedding table for each character creates a 10D vector that we are trying to learn, so what the embedding layer does here is it that it tries to pluck out th e embedding vector for each of the integers and organizes it all in a [4, 8, 10] tensor. So all of these integers are translated into 10D vectors inside the 3D tensor\n",
        "* passing the same tensor through the Flatten layer we get an image tensor size [4, 80]. What it does is that for all of these 10D embeddings, all of these 8 character end up being stretched out into a long row and that looks kind of a like concatenation operation so by viewing the tensor differently we have a [4, 80], and inside the 80 it's all the 10D vectors just concatenating next to each other.\n",
        "* in the linear layer, it takes 80 and creates 200 channels via matrix multiplication\n",
        "\n",
        "**Let's look at the linear layer:**\n",
        "* the linear layer takes the input `X` in the forward pass and matrix multiplies it with a weight and then optionally adds a bias, with the weight being 2D and the bias being 1D.\n",
        "  * the input layer being matrix multiplied with the weight doesn't necessarily have to be 2D. The matrix multiplier in pytorch is quite powerful and everything will work fine even if you pass higher dimensional arrays -> matrix multiplication works only on the last dimension of the input tensor, and the rest of the dimensions before the last one (on the left) are left unchanged in the input tensor and are just treated as the batch dimension. So we can have all of those batch dimensions, and then in parallel over all those dimensions we're doing the matrix multiplication with the last dimension\n",
        "  * this is quite convenient because we can use it in our network now because we have these eight characters coming in, and we don't want to flatten all of them into a larger 8D vector because we don't want to matrix mutliply 80 into a weight matrix immediately. Instead, we want to group them in pairs and then flatten them out and multiplied by the weight matrix, but all of the 4 groups of 2 we want to process in parallel. So it's kind of like a batch dimension that we can introduce, and then we can in parallel process all of these bigrams groups in the 4 batch dimensions of an individual examples and over the actual batch dimension of 4 examples in our example below.\n",
        "* what we want now is:\n",
        "  * we don't want 80 numbers to come in, rather we want only 2 characters to come in and those 2 characters should be fused so in other words we just want 20 numbers to come in -> so weight matrix turns from [80, 200] to [20, 200]\n",
        "  * we don't want input matrix to be [4, 80] in the linear layer when fed in, we actually want these groups of 2 to feed in so we want it to be [4, 4, 20] -> these are the 4 groups of 2 and each one of them is 10D.\n",
        "    * we want to change the flatten layer so that it doesn't output [4, 80] but it rather outputs a [4, 4, 20].\n",
        "    * every 2 consecutive characters are packed in on the last dimension, with the first 4 being the first batch dimension, and the second 4 being the second batch dimension representing the 4 groups inside every one of the examples\n",
        "    * we will have to change the linear layer in terms of how many inputs it expects (should expect 20 instead of 80), and we have to change our flatten layer so it doesn't fully flatten out the example rather it creates a 4x4x20 instead of a 4x80.\n",
        "* to implement the above:\n",
        "  * we have an input [4, 8, 10] which feeds into the flatten layer and currently the flatten layer just stretches it out. It takes the X and just it views it as whatever the batch dimension is.\n",
        "  * we take the even parts and the odd parts and we're arranging them [4, 4, 10] right next to each other and concatenating them.\n",
        "  * what else also works is that you can just use `view` again and request the right shape and in the end the vectors will end up arranging in exactly the same way we want to -> essentially we don't need to make an explicit call to concantenate etc. we can just take an input tensor to flatten and we can just view it in any way we want, in particular we don't want to stretch things out with -1. We want to actually create a 3D array and depending on how many vectors that are consective we want to fuse for e.g 2, then we can just ask the last dimension to be 20 and use a -1 in the 2nd dimension and pytorch will figure out how many groups it needs to pack in the 2nd dimension into this additional batch dimension. Let's implement this in `Flatten` (becomes `FlattenConsecutive`)! -> will diverge from the PyTorch one to make sure our API's are equal\n",
        "* let's try to restructure `FlattenConsecutive` and implement it hierarchally\n",
        "  * in particular we want to flatten not just the top block_size but just 2, and we want to process this with `Linear`. The number of inputs to this `Linear` will not be embed * block_size, it will now only be embed * 2 = 20.\n",
        "  * Now the next linear layer should expect hidden * 2 and the last pieces of it should expect hidden * 2 again.\n",
        "  * we now have 3 layers instead of the 4 layers in the paper, with a total receptive size (`block_size`) of 8 instead of 16 in the paper\n",
        "  * our loss remains almost the same as before because:\n",
        "    * we didn't torture the architecture a lot\n",
        "    * there's a bunch of hyperparameters that can do our work in terms of how allocate our parameters to what layers\n",
        "    * we have a bug inside the batchNorm 1D layer so let's fix that\n",
        "\n"
      ],
      "metadata": {
        "id": "qTEttri_hrps"
      }
    },
    {
      "cell_type": "code",
      "source": [
        "ix = torch.randint(0, Xtr.shape[0], (4,)) # batch of 4 with 8 characters as input\n",
        "Xb, Yb = Xtr[ix], Ytr[ix]\n",
        "logits = model(Xb)\n",
        "print(Xb.shape)\n",
        "Xb"
      ],
      "metadata": {
        "colab": {
          "base_uri": "https://localhost:8080/"
        },
        "id": "ITcFOsyxiKiT",
        "outputId": "d1ea88eb-ec36-492a-bed6-d1e448b8bcdb"
      },
      "execution_count": 37,
      "outputs": [
        {
          "output_type": "stream",
          "name": "stdout",
          "text": [
            "torch.Size([4, 8])\n"
          ]
        },
        {
          "output_type": "execute_result",
          "data": {
            "text/plain": [
              "tensor([[13,  1, 11, 25, 14, 12,  5,  9],\n",
              "        [ 0,  0,  0,  0,  0, 12,  5, 20],\n",
              "        [ 0,  0,  0,  0,  0,  0,  0,  0],\n",
              "        [ 0,  0,  0,  0,  0,  0,  0, 18]])"
            ]
          },
          "metadata": {},
          "execution_count": 37
        }
      ]
    },
    {
      "cell_type": "code",
      "source": [
        "model.layers[0].out.shape # output of embedding layer"
      ],
      "metadata": {
        "colab": {
          "base_uri": "https://localhost:8080/"
        },
        "id": "BjgsmQowipvw",
        "outputId": "c587a114-6721-4789-ea29-a8a149e9db37"
      },
      "execution_count": 38,
      "outputs": [
        {
          "output_type": "execute_result",
          "data": {
            "text/plain": [
              "torch.Size([4, 8, 10])"
            ]
          },
          "metadata": {},
          "execution_count": 38
        }
      ]
    },
    {
      "cell_type": "code",
      "source": [
        "model.layers[1].out.shape # output of Flatten layer"
      ],
      "metadata": {
        "colab": {
          "base_uri": "https://localhost:8080/"
        },
        "id": "cqxUG2cBiuMK",
        "outputId": "72c5191c-bfb6-4ac8-ac25-8dffd84a35fb"
      },
      "execution_count": 39,
      "outputs": [
        {
          "output_type": "execute_result",
          "data": {
            "text/plain": [
              "torch.Size([4, 80])"
            ]
          },
          "metadata": {},
          "execution_count": 39
        }
      ]
    },
    {
      "cell_type": "code",
      "source": [
        "model.layers[2].out.shape # output of linear layer"
      ],
      "metadata": {
        "colab": {
          "base_uri": "https://localhost:8080/"
        },
        "id": "ixWIIGG8i6rX",
        "outputId": "d0bda8db-4776-4c76-fc0c-51d21876c955"
      },
      "execution_count": 40,
      "outputs": [
        {
          "output_type": "execute_result",
          "data": {
            "text/plain": [
              "torch.Size([4, 200])"
            ]
          },
          "metadata": {},
          "execution_count": 40
        }
      ]
    },
    {
      "cell_type": "code",
      "source": [
        "# matrix multiplication works only on the last dimension of input tensor\n",
        "(torch.randn(4, 4, 20) @ torch.randn(20, 200) + torch.randn(200)).shape"
      ],
      "metadata": {
        "colab": {
          "base_uri": "https://localhost:8080/"
        },
        "id": "VmaX55lakGHq",
        "outputId": "a018b575-551d-476e-d326-e39f69c1969c"
      },
      "execution_count": 41,
      "outputs": [
        {
          "output_type": "execute_result",
          "data": {
            "text/plain": [
              "torch.Size([4, 4, 200])"
            ]
          },
          "metadata": {},
          "execution_count": 41
        }
      ]
    },
    {
      "cell_type": "markdown",
      "source": [
        " (1 2) (3 4) (5 6) (7 8) -> how we want them to be grouped"
      ],
      "metadata": {
        "id": "OC4Sp5kU6Wh_"
      }
    },
    {
      "cell_type": "code",
      "source": [
        "output_list = list(range(10))[::2]"
      ],
      "metadata": {
        "id": "TokDjkt51GRW"
      },
      "execution_count": 42,
      "outputs": []
    },
    {
      "cell_type": "code",
      "source": [
        "e = torch.randn(4, 8, 10) # goal: want this to be (4, 4, 20) where consecutive 10D vectors get concatenated\n",
        "explicit = torch.cat([e[:, ::2, :], e[:, 1::2, :]], dim = 2) # first gives even characters, second gives us all the odd characters\n",
        "explicit.shape"
      ],
      "metadata": {
        "colab": {
          "base_uri": "https://localhost:8080/"
        },
        "id": "1uVzAi0s6jIn",
        "outputId": "edc1951c-8fb5-42d2-dbf3-db8de395b70f"
      },
      "execution_count": 43,
      "outputs": [
        {
          "output_type": "execute_result",
          "data": {
            "text/plain": [
              "torch.Size([4, 4, 20])"
            ]
          },
          "metadata": {},
          "execution_count": 43
        }
      ]
    },
    {
      "cell_type": "code",
      "source": [
        "(e.view(4, 4, 20) == explicit).all() # same"
      ],
      "metadata": {
        "colab": {
          "base_uri": "https://localhost:8080/"
        },
        "id": "5HPL37fE7H76",
        "outputId": "fd4a1e42-f83a-46f7-f553-ceb68d3061ea"
      },
      "execution_count": 44,
      "outputs": [
        {
          "output_type": "execute_result",
          "data": {
            "text/plain": [
              "tensor(True)"
            ]
          },
          "metadata": {},
          "execution_count": 44
        }
      ]
    },
    {
      "cell_type": "code",
      "source": [
        "# changing `Flatten` to `FlattenConsecutive`\n",
        "class Linear:\n",
        "\n",
        "  def __init__(self, fan_in, fan_out, bias=True):\n",
        "    self.weight = torch.randn((fan_in, fan_out)) / fan_in**0.5 # note: kaiming init\n",
        "    self.bias = torch.zeros(fan_out) if bias else None\n",
        "\n",
        "  def __call__(self, x):\n",
        "    self.out = x @ self.weight\n",
        "    if self.bias is not None:\n",
        "      self.out += self.bias\n",
        "    return self.out\n",
        "\n",
        "  def parameters(self):\n",
        "    return [self.weight] + ([] if self.bias is None else [self.bias])\n",
        "\n",
        "# -----------------------------------------------------------------------------------------------\n",
        "class BatchNorm1d:\n",
        "\n",
        "  def __init__(self, dim, eps=1e-5, momentum=0.1):\n",
        "    self.eps = eps\n",
        "    self.momentum = momentum\n",
        "    self.training = True\n",
        "    # parameters (trained with backprop)\n",
        "    self.gamma = torch.ones(dim)\n",
        "    self.beta = torch.zeros(dim)\n",
        "    # buffers (trained with a running 'momentum update')\n",
        "    self.running_mean = torch.zeros(dim)\n",
        "    self.running_var = torch.ones(dim)\n",
        "\n",
        "  def __call__(self, x):\n",
        "    # calculate the forward pass\n",
        "    if self.training:\n",
        "      xmean = x.mean(0, keepdim=True) # batch mean\n",
        "      xvar = x.var(0, keepdim=True) # batch variance\n",
        "    else:\n",
        "      xmean = self.running_mean\n",
        "      xvar = self.running_var\n",
        "    xhat = (x - xmean) / torch.sqrt(xvar + self.eps) # normalize to unit variance\n",
        "    self.out = self.gamma * xhat + self.beta\n",
        "    # update the buffers\n",
        "    if self.training:\n",
        "      with torch.no_grad():\n",
        "        self.running_mean = (1 - self.momentum) * self.running_mean + self.momentum * xmean\n",
        "        self.running_var = (1 - self.momentum) * self.running_var + self.momentum * xvar\n",
        "    return self.out\n",
        "\n",
        "  def parameters(self):\n",
        "    return [self.gamma, self.beta]\n",
        "\n",
        "# -----------------------------------------------------------------------------------------------\n",
        "class Tanh:\n",
        "  def __call__(self, x):\n",
        "    self.out = torch.tanh(x)\n",
        "    return self.out\n",
        "  def parameters(self):\n",
        "    return []\n",
        "\n",
        "# -----------------------------------------------------------------------------------------------\n",
        "class Embedding:\n",
        "\n",
        "  def __init__(self, num_embeddings, embedding_dim):\n",
        "    self.weight = torch.randn((num_embeddings, embedding_dim))\n",
        "\n",
        "  def __call__(self, IX):\n",
        "    self.out = self.weight[IX]\n",
        "    return self.out\n",
        "\n",
        "  def parameters(self):\n",
        "    return [self.weight]\n",
        "\n",
        "# -----------------------------------------------------------------------------------------------\n",
        "class FlattenConsecutive: # flattens only n consecutive elements and inputs them into the last dimension\n",
        "\n",
        "  def __init__(self, n):\n",
        "    self.n = n\n",
        "\n",
        "  def __call__(self, x):\n",
        "    B, T, C = x.shape\n",
        "    x = x.view(B, T//self.n, C*self.n) # being explicit by not using -1\n",
        "    if x.shape[1] == 1: # we want to return a 2D tensor\n",
        "      x = x.squeeze(1) # squeeze out the singleton dimension 1\n",
        "    self.out = x\n",
        "    return self.out\n",
        "\n",
        "  def parameters(self):\n",
        "    return []\n",
        "\n",
        "# -----------------------------------------------------------------------------------------------\n",
        "class Sequential:\n",
        "\n",
        "  def __init__(self, layers):\n",
        "    self.layers = layers\n",
        "\n",
        "  def __call__(self, x):\n",
        "    for layer in self.layers:\n",
        "      x = layer(x)\n",
        "    self.out = x\n",
        "    return self.out\n",
        "\n",
        "  def parameters(self):\n",
        "    # get parameters of all layers and stretch them out into one list\n",
        "    return [p for layer in self.layers for p in layer.parameters()]"
      ],
      "metadata": {
        "id": "OUvl4aFI7-3P"
      },
      "execution_count": 45,
      "outputs": []
    },
    {
      "cell_type": "code",
      "source": [
        "torch.manual_seed(42); # for reproducibility"
      ],
      "metadata": {
        "id": "ELpqgA5J-qp9"
      },
      "execution_count": 46,
      "outputs": []
    },
    {
      "cell_type": "code",
      "source": [
        "n_embd = 10 # the dimensionality of the character embedding vectors\n",
        "n_hidden = 68 # the number of neurons in the hidden layer of the MLP\n",
        "\n",
        "model = Sequential([\n",
        "  Embedding(vocab_size, n_embd),\n",
        "  FlattenConsecutive(2), Linear(n_embd * 2, n_hidden, bias=False), BatchNorm1d(n_hidden), Tanh(),\n",
        "  FlattenConsecutive(2), Linear(n_hidden*2, n_hidden, bias=False), BatchNorm1d(n_hidden), Tanh(),\n",
        "  FlattenConsecutive(2), Linear(n_hidden*2, n_hidden, bias=False), BatchNorm1d(n_hidden), Tanh(),\n",
        "  Linear(n_hidden, vocab_size),\n",
        "])\n",
        "\n",
        "# parameter init\n",
        "with torch.no_grad():\n",
        "  layers[-1].weight *= 0.1 # last layer make less confident\n",
        "\n",
        "parameters = model.parameters()\n",
        "print(sum(p.nelement() for p in parameters)) # number of parameters in total\n",
        "for p in parameters:\n",
        "  p.requires_grad = True"
      ],
      "metadata": {
        "colab": {
          "base_uri": "https://localhost:8080/"
        },
        "id": "LYkkQkw8-1pX",
        "outputId": "804b10d2-f19b-4d82-f9c2-ab1bf04ec2e3"
      },
      "execution_count": 47,
      "outputs": [
        {
          "output_type": "stream",
          "name": "stdout",
          "text": [
            "22397\n"
          ]
        }
      ]
    },
    {
      "cell_type": "code",
      "source": [
        "# for layer in model.layers:\n",
        "#   print(layer.__class__.__name__, ':', tuple(layer.out.shape))"
      ],
      "metadata": {
        "id": "UxK5KivyCUnl"
      },
      "execution_count": 48,
      "outputs": []
    },
    {
      "cell_type": "markdown",
      "source": [
        "expected output from the previous cell (not running for some reason):\n",
        "\n",
        "<img src = \"https://raw.githubusercontent.com/Raahim58/Neural-networks/main/images/wavenet%202.png\" width = 300 height =300>"
      ],
      "metadata": {
        "id": "_cGs6q-5HHzz"
      }
    },
    {
      "cell_type": "code",
      "source": [
        "# same optimization as last time\n",
        "max_steps = 200000\n",
        "batch_size = 32\n",
        "lossi = []\n",
        "\n",
        "for i in range(max_steps):\n",
        "\n",
        "  # minibatch construct\n",
        "  ix = torch.randint(0, Xtr.shape[0], (batch_size,))\n",
        "  Xb, Yb = Xtr[ix], Ytr[ix] # batch X,Y\n",
        "\n",
        "  # forward pass\n",
        "  logits = model(Xb)\n",
        "  loss = F.cross_entropy(logits, Yb) # loss function\n",
        "\n",
        "  # backward pass\n",
        "  for p in parameters:\n",
        "    p.grad = None\n",
        "  loss.backward()\n",
        "\n",
        "  # update: simple SGD\n",
        "  lr = 0.1 if i < 150000 else 0.01 # step learning rate decay\n",
        "  for p in parameters:\n",
        "    p.data += -lr * p.grad\n",
        "\n",
        "  # track stats\n",
        "  if i % 10000 == 0: # print every once in a while\n",
        "    print(f'{i:7d}/{max_steps:7d}: {loss.item():.4f}')\n",
        "  lossi.append(loss.log10().item())\n",
        "\n",
        "  # break"
      ],
      "metadata": {
        "colab": {
          "base_uri": "https://localhost:8080/"
        },
        "id": "l9nrH5eQ_DpE",
        "outputId": "2f37f1cb-24ee-4671-f7b7-4cf0edfdc86a"
      },
      "execution_count": 49,
      "outputs": [
        {
          "output_type": "stream",
          "name": "stdout",
          "text": [
            "      0/ 200000: 3.5996\n",
            "  10000/ 200000: 2.2440\n",
            "  20000/ 200000: 2.1171\n",
            "  30000/ 200000: 2.1004\n",
            "  40000/ 200000: 2.0080\n",
            "  50000/ 200000: 2.4077\n",
            "  60000/ 200000: 1.9603\n",
            "  70000/ 200000: 1.9004\n",
            "  80000/ 200000: 2.0219\n",
            "  90000/ 200000: 1.9715\n",
            " 100000/ 200000: 1.7206\n",
            " 110000/ 200000: 2.3179\n",
            " 120000/ 200000: 2.4396\n",
            " 130000/ 200000: 2.0251\n",
            " 140000/ 200000: 2.2399\n",
            " 150000/ 200000: 1.5962\n",
            " 160000/ 200000: 1.9752\n",
            " 170000/ 200000: 2.1655\n",
            " 180000/ 200000: 2.0415\n",
            " 190000/ 200000: 1.8022\n"
          ]
        }
      ]
    },
    {
      "cell_type": "markdown",
      "source": [
        "results here:\n"
      ],
      "metadata": {
        "id": "mbFJSHHcGSi9"
      }
    },
    {
      "cell_type": "code",
      "source": [
        "plt.plot(torch.tensor(lossi).view(-1, 1000).mean(1));"
      ],
      "metadata": {
        "colab": {
          "base_uri": "https://localhost:8080/",
          "height": 430
        },
        "id": "6R6YlE1MFU4S",
        "outputId": "a827e50a-1f33-4bfb-a01c-52c411a46d5d"
      },
      "execution_count": 50,
      "outputs": [
        {
          "output_type": "display_data",
          "data": {
            "text/plain": [
              "<Figure size 640x480 with 1 Axes>"
            ],
            "image/png": "[encoded data removed]"
          },
          "metadata": {}
        }
      ]
    },
    {
      "cell_type": "code",
      "source": [
        "# put layers into eval model (needed for batchnorm especially)\n",
        "for layer in model.layers:\n",
        "  layer.training = False"
      ],
      "metadata": {
        "id": "IdcpEMqYFcpn"
      },
      "execution_count": 51,
      "outputs": []
    },
    {
      "cell_type": "code",
      "source": [
        "# evaluate the loss\n",
        "@torch.no_grad() # this decorator disables gradient tracking inside pytorch\n",
        "def split_loss(split):\n",
        "  x,y = {\n",
        "    'train': (Xtr, Ytr),\n",
        "    'val': (Xdev, Ydev),\n",
        "    'test': (Xte, Yte),\n",
        "  }[split]\n",
        "  logits = model(x)\n",
        "  loss = F.cross_entropy(logits, y)\n",
        "  print(split, loss.item())\n",
        "\n",
        "split_loss('train')\n",
        "split_loss('val')"
      ],
      "metadata": {
        "colab": {
          "base_uri": "https://localhost:8080/"
        },
        "id": "Ma4oPSQlGEGc",
        "outputId": "4caa03fe-cedf-4bd7-8c12-b6973beb9cbb"
      },
      "execution_count": 52,
      "outputs": [
        {
          "output_type": "stream",
          "name": "stdout",
          "text": [
            "train 1.9443068504333496\n",
            "val 2.0308573246002197\n"
          ]
        }
      ]
    },
    {
      "cell_type": "markdown",
      "source": [
        "**performance log:**\n",
        "\n",
        "* original (3 character context + 200 hidden neurons, 12K params): train 2.058, val 2.105\n",
        "* context: 3 -> 8 (22K params): train 1.9197, val 2.0310\n",
        "* flat -> hierarchical (22K params): train 1.9443, val 2.0309\n"
      ],
      "metadata": {
        "id": "m9JWyAjwGHw1"
      }
    },
    {
      "cell_type": "markdown",
      "source": [
        "### 3.4 Fixing the batchNorm1D bug\n",
        "\n",
        "* currently BatchNorm1d is receiving an input of [32, 4, 68]. We wrote BatchNorm1d at the time with the assumption that X is 2D so it was [n, D] where n was the batch size so that's why we only reduced the mean and the variance over the 0th dimension but now X will become 3 dimensional.\n",
        "* What's happening inside the BatchNorm1d layer right now is that it gives no errors yet because it broadcasts properly but the BatchNorm1d is not doing what we want it to do\n",
        "* taking an example from our current BatchNorm1d, it takes only the first dimension hence the 32 examples and only broadcasts them. Basically what ends up happening is, when we also look at the running mean we realize we have an array of [1, 4, 68] means being maintained instead of just 68 means. This is telling us that the BatchNorm1d layer is working in parallel over 4 * 68 instead of just 68 channels. Basically, we are maintaining statistics for every one of these 4 positions individually and independtly, instead what we want to do is treat the 4 as a batch dimension just like 0th dimension. As far as BatchNorm1d is concerned, it doesn't want to average over 32 numbers, we want to average over 32 * 4 numbers for each of these 68 channels\n",
        "* looking at PyTorch's `torch.mean()`, the `dim` can be int or tuple of ints, so we can reduce over multiple dimensions at the same time. Instead of just reducing over 0, we can pass in a tuple (0,1). The output will be the same, but now we reduce over (0,1) so we take the mean over both the 0 and the 1st dimension -> the correct things happens that we maintain the mean and variance only for the 68 channels and not for 32*4 dimensions.\n",
        "* changing the implementation of BatchNorm1D to implement 2D or 3D inputs and perform accordingly\n",
        "* we're only maintaing 68 means for our channels and we're treating both the 0th and 1st dimensions as a batch dimension which is what we want\n",
        "* reason we slightly expect an improvement is we're not maintaining different means and variances that are only estimated using 32 numbers effectively, we are using them 32*4  so we have just a lot more numbers that go into any one estimate of the mean and variance and it allows things to be a bit more stable and less wiggly inside those estimates of those statistics\n",
        "\n",
        "* we're diverging from `BatchNorm1D` of PyTorch\n",
        "  * input to the layer can be [n,C] where n is the batch_size and C is the channels, or it can accept 3D inputs but it expects it to be [n, C, L] where L is the sequence length\n",
        "  * C will always be the 1st dimension whereas we'll assume C is the last dimension and there are some number of batch dimensions before hand -> we expect [n, L, C] hence it's a deviation\n"
      ],
      "metadata": {
        "id": "j-lRG6JuGHk4"
      }
    },
    {
      "cell_type": "code",
      "source": [
        "# Before: what we're doing in BatchNorm1d right now\n",
        "e = torch.randn(32, 4, 68)\n",
        "emean = e.mean(0, keepdim = True) # 1, 4, 68 -> over the first dimension\n",
        "evar = e.var(0, keepdim = True) # 1, 4, 68\n",
        "ehat = (e - emean) / torch.sqrt(evar + 1e-5)\n",
        "ehat.shape"
      ],
      "metadata": {
        "colab": {
          "base_uri": "https://localhost:8080/"
        },
        "id": "Qa4SZ3aQJnUB",
        "outputId": "5cbcb914-0104-4238-92b0-1dbd2b337068"
      },
      "execution_count": 53,
      "outputs": [
        {
          "output_type": "execute_result",
          "data": {
            "text/plain": [
              "torch.Size([32, 4, 68])"
            ]
          },
          "metadata": {},
          "execution_count": 53
        }
      ]
    },
    {
      "cell_type": "code",
      "source": [
        "# After\n",
        "e = torch.randn(32, 4, 68)\n",
        "emean = e.mean((0,1), keepdim = True) # 1, 1, 68 -> over the first dimension\n",
        "evar = e.var((0,1), keepdim = True) # 1, 1, 68\n",
        "ehat = (e - emean) / torch.sqrt(evar + 1e-5)\n",
        "ehat.shape"
      ],
      "metadata": {
        "colab": {
          "base_uri": "https://localhost:8080/"
        },
        "id": "oIexoAj1LOB0",
        "outputId": "7e89ed46-52ac-4516-db3e-09efc88b3d50"
      },
      "execution_count": 54,
      "outputs": [
        {
          "output_type": "execute_result",
          "data": {
            "text/plain": [
              "torch.Size([32, 4, 68])"
            ]
          },
          "metadata": {},
          "execution_count": 54
        }
      ]
    },
    {
      "cell_type": "code",
      "source": [
        "emean.shape"
      ],
      "metadata": {
        "colab": {
          "base_uri": "https://localhost:8080/"
        },
        "id": "nDQoB1v5LXyz",
        "outputId": "9cb27944-1f7e-447c-8787-8a79c2adec08"
      },
      "execution_count": 55,
      "outputs": [
        {
          "output_type": "execute_result",
          "data": {
            "text/plain": [
              "torch.Size([1, 1, 68])"
            ]
          },
          "metadata": {},
          "execution_count": 55
        }
      ]
    },
    {
      "cell_type": "code",
      "source": [
        "model.layers[3].running_mean.shape # originally [1, 4, 68]"
      ],
      "metadata": {
        "colab": {
          "base_uri": "https://localhost:8080/"
        },
        "id": "1fPn87bfLZ4Y",
        "outputId": "de8bda3d-cb4b-4dfe-d59d-7362e7e8a49a"
      },
      "execution_count": 56,
      "outputs": [
        {
          "output_type": "execute_result",
          "data": {
            "text/plain": [
              "torch.Size([1, 4, 68])"
            ]
          },
          "metadata": {},
          "execution_count": 56
        }
      ]
    },
    {
      "cell_type": "code",
      "source": [
        "# making it accept every dimension\n",
        "class Linear:\n",
        "\n",
        "  def __init__(self, fan_in, fan_out, bias=True):\n",
        "    self.weight = torch.randn((fan_in, fan_out)) / fan_in**0.5 # note: kaiming init\n",
        "    self.bias = torch.zeros(fan_out) if bias else None\n",
        "\n",
        "  def __call__(self, x):\n",
        "    self.out = x @ self.weight\n",
        "    if self.bias is not None:\n",
        "      self.out += self.bias\n",
        "    return self.out\n",
        "\n",
        "  def parameters(self):\n",
        "    return [self.weight] + ([] if self.bias is None else [self.bias])\n",
        "\n",
        "# -----------------------------------------------------------------------------------------------\n",
        "class BatchNorm1d:\n",
        "\n",
        "  def __init__(self, dim, eps=1e-5, momentum=0.1):\n",
        "    self.eps = eps\n",
        "    self.momentum = momentum\n",
        "    self.training = True\n",
        "    # parameters (trained with backprop)\n",
        "    self.gamma = torch.ones(dim)\n",
        "    self.beta = torch.zeros(dim)\n",
        "    # buffers (trained with a running 'momentum update')\n",
        "    self.running_mean = torch.zeros(dim)\n",
        "    self.running_var = torch.ones(dim)\n",
        "\n",
        "  def __call__(self, x):\n",
        "    # calculate the forward pass\n",
        "    if self.training:\n",
        "      if x.ndim == 2:\n",
        "        dim = 0\n",
        "      elif x.ndim == 3:\n",
        "        dim = (0,1)\n",
        "      xmean = x.mean(dim, keepdim=True) # batch mean\n",
        "      xvar = x.var(dim, keepdim=True) # batch variance\n",
        "    else:\n",
        "      xmean = self.running_mean\n",
        "      xvar = self.running_var\n",
        "    xhat = (x - xmean) / torch.sqrt(xvar + self.eps) # normalize to unit variance\n",
        "    self.out = self.gamma * xhat + self.beta\n",
        "    # update the buffers\n",
        "    if self.training:\n",
        "      with torch.no_grad():\n",
        "        self.running_mean = (1 - self.momentum) * self.running_mean + self.momentum * xmean\n",
        "        self.running_var = (1 - self.momentum) * self.running_var + self.momentum * xvar\n",
        "    return self.out\n",
        "\n",
        "  def parameters(self):\n",
        "    return [self.gamma, self.beta]\n",
        "\n",
        "# -----------------------------------------------------------------------------------------------\n",
        "class Tanh:\n",
        "  def __call__(self, x):\n",
        "    self.out = torch.tanh(x)\n",
        "    return self.out\n",
        "  def parameters(self):\n",
        "    return []\n",
        "\n",
        "# -----------------------------------------------------------------------------------------------\n",
        "class Embedding:\n",
        "\n",
        "  def __init__(self, num_embeddings, embedding_dim):\n",
        "    self.weight = torch.randn((num_embeddings, embedding_dim))\n",
        "\n",
        "  def __call__(self, IX):\n",
        "    self.out = self.weight[IX]\n",
        "    return self.out\n",
        "\n",
        "  def parameters(self):\n",
        "    return [self.weight]\n",
        "\n",
        "# -----------------------------------------------------------------------------------------------\n",
        "class FlattenConsecutive: # flattens only n consecutive elements and inputs them into the last dimension\n",
        "\n",
        "  def __init__(self, n):\n",
        "    self.n = n\n",
        "\n",
        "  def __call__(self, x):\n",
        "    B, T, C = x.shape\n",
        "    x = x.view(B, T//self.n, C*self.n) # being explicit by not using -1\n",
        "    if x.shape[1] == 1: # we want to return a 2D tensor\n",
        "      x = x.squeeze(1) # squeeze out the singleton dimension 1\n",
        "    self.out = x\n",
        "    return self.out\n",
        "\n",
        "  def parameters(self):\n",
        "    return []\n",
        "\n",
        "# -----------------------------------------------------------------------------------------------\n",
        "class Sequential:\n",
        "\n",
        "  def __init__(self, layers):\n",
        "    self.layers = layers\n",
        "\n",
        "  def __call__(self, x):\n",
        "    for layer in self.layers:\n",
        "      x = layer(x)\n",
        "    self.out = x\n",
        "    return self.out\n",
        "\n",
        "  def parameters(self):\n",
        "    # get parameters of all layers and stretch them out into one list\n",
        "    return [p for layer in self.layers for p in layer.parameters()]"
      ],
      "metadata": {
        "id": "CrO7YIKTGhWT"
      },
      "execution_count": 62,
      "outputs": []
    },
    {
      "cell_type": "code",
      "source": [
        "torch.manual_seed(42); # for reproducibility"
      ],
      "metadata": {
        "id": "xTNX4XMOHzMY"
      },
      "execution_count": 63,
      "outputs": []
    },
    {
      "cell_type": "code",
      "source": [
        "n_embd = 10 # the dimensionality of the character embedding vectors\n",
        "n_hidden = 68 # the number of neurons in the hidden layer of the MLP\n",
        "\n",
        "model = Sequential([\n",
        "  Embedding(vocab_size, n_embd),\n",
        "  FlattenConsecutive(2), Linear(n_embd * 2, n_hidden, bias=False), BatchNorm1d(n_hidden), Tanh(),\n",
        "  FlattenConsecutive(2), Linear(n_hidden*2, n_hidden, bias=False), BatchNorm1d(n_hidden), Tanh(),\n",
        "  FlattenConsecutive(2), Linear(n_hidden*2, n_hidden, bias=False), BatchNorm1d(n_hidden), Tanh(),\n",
        "  Linear(n_hidden, vocab_size),\n",
        "])\n",
        "\n",
        "# parameter init\n",
        "with torch.no_grad():\n",
        "  layers[-1].weight *= 0.1 # last layer make less confident\n",
        "\n",
        "parameters = model.parameters()\n",
        "print(sum(p.nelement() for p in parameters)) # number of parameters in total\n",
        "for p in parameters:\n",
        "  p.requires_grad = True"
      ],
      "metadata": {
        "colab": {
          "base_uri": "https://localhost:8080/"
        },
        "id": "tEeb4ts6H3gb",
        "outputId": "b8c5f02d-6532-40c2-a66f-0d28a98f36a7"
      },
      "execution_count": 64,
      "outputs": [
        {
          "output_type": "stream",
          "name": "stdout",
          "text": [
            "22397\n"
          ]
        }
      ]
    },
    {
      "cell_type": "code",
      "source": [
        "# same optimization as last time\n",
        "max_steps = 200000\n",
        "batch_size = 32\n",
        "lossi = []\n",
        "\n",
        "for i in range(max_steps):\n",
        "\n",
        "  # minibatch construct\n",
        "  ix = torch.randint(0, Xtr.shape[0], (batch_size,))\n",
        "  Xb, Yb = Xtr[ix], Ytr[ix] # batch X,Y\n",
        "\n",
        "  # forward pass\n",
        "  logits = model(Xb)\n",
        "  loss = F.cross_entropy(logits, Yb) # loss function\n",
        "\n",
        "  # backward pass\n",
        "  for p in parameters:\n",
        "    p.grad = None\n",
        "  loss.backward()\n",
        "\n",
        "  # update: simple SGD\n",
        "  lr = 0.1 if i < 150000 else 0.01 # step learning rate decay\n",
        "  for p in parameters:\n",
        "    p.data += -lr * p.grad\n",
        "\n",
        "  # track stats\n",
        "  if i % 10000 == 0: # print every once in a while\n",
        "    print(f'{i:7d}/{max_steps:7d}: {loss.item():.4f}')\n",
        "  lossi.append(loss.log10().item())\n",
        "\n",
        "  # break"
      ],
      "metadata": {
        "colab": {
          "base_uri": "https://localhost:8080/"
        },
        "id": "jTYlSRm9H6ow",
        "outputId": "dce39d11-254c-486d-8cb0-04b9262f79bb"
      },
      "execution_count": 65,
      "outputs": [
        {
          "output_type": "stream",
          "name": "stdout",
          "text": [
            "      0/ 200000: 3.6368\n",
            "  10000/ 200000: 2.2370\n",
            "  20000/ 200000: 2.1782\n",
            "  30000/ 200000: 2.1241\n",
            "  40000/ 200000: 2.0371\n",
            "  50000/ 200000: 2.3543\n",
            "  60000/ 200000: 1.9784\n",
            "  70000/ 200000: 1.8721\n",
            "  80000/ 200000: 1.8556\n",
            "  90000/ 200000: 1.8684\n",
            " 100000/ 200000: 1.6020\n",
            " 110000/ 200000: 2.3549\n",
            " 120000/ 200000: 2.4588\n",
            " 130000/ 200000: 1.9693\n",
            " 140000/ 200000: 2.2076\n",
            " 150000/ 200000: 1.6611\n",
            " 160000/ 200000: 1.9221\n",
            " 170000/ 200000: 2.0669\n",
            " 180000/ 200000: 1.9856\n",
            " 190000/ 200000: 1.7908\n"
          ]
        }
      ]
    },
    {
      "cell_type": "code",
      "source": [
        "plt.plot(torch.tensor(lossi).view(-1, 1000).mean(1));"
      ],
      "metadata": {
        "colab": {
          "base_uri": "https://localhost:8080/",
          "height": 430
        },
        "id": "RIgvBuqRIL6m",
        "outputId": "2713daad-877d-4bbf-cddc-0b193ca8c0f7"
      },
      "execution_count": 66,
      "outputs": [
        {
          "output_type": "display_data",
          "data": {
            "text/plain": [
              "<Figure size 640x480 with 1 Axes>"
            ],
            "image/png": "[encoded data removed]"
          },
          "metadata": {}
        }
      ]
    },
    {
      "cell_type": "code",
      "source": [
        "# put layers into eval model (needed for batchnorm especially)\n",
        "for layer in model.layers:\n",
        "  layer.training = False"
      ],
      "metadata": {
        "id": "vQ7P9FxhIMPR"
      },
      "execution_count": 67,
      "outputs": []
    },
    {
      "cell_type": "code",
      "source": [
        "# evaluate the loss\n",
        "@torch.no_grad() # this decorator disables gradient tracking inside pytorch\n",
        "def split_loss(split):\n",
        "  x,y = {\n",
        "    'train': (Xtr, Ytr),\n",
        "    'val': (Xdev, Ydev),\n",
        "    'test': (Xte, Yte),\n",
        "  }[split]\n",
        "  logits = model(x)\n",
        "  loss = F.cross_entropy(logits, y)\n",
        "  print(split, loss.item())\n",
        "\n",
        "split_loss('train')\n",
        "split_loss('val')"
      ],
      "metadata": {
        "colab": {
          "base_uri": "https://localhost:8080/"
        },
        "id": "BK3bhIC1IOmz",
        "outputId": "a655bf50-7130-4be2-93c6-a1cfe381636e"
      },
      "execution_count": 68,
      "outputs": [
        {
          "output_type": "stream",
          "name": "stdout",
          "text": [
            "train 1.9123165607452393\n",
            "val 2.022148609161377\n"
          ]
        }
      ]
    },
    {
      "cell_type": "markdown",
      "source": [
        "**performance log:**\n",
        "\n",
        "* original (3 character context + 200 hidden neurons, 12K params): train 2.058, val 2.105\n",
        "* context: 3 -> 8 (22K params): train 1.9197, val 2.0310\n",
        "* flat -> hierarchical (22K params): train 1.9443, val 2.0309\n",
        "* fix bug in batchnorm: train 1.912, val 2.022\n"
      ],
      "metadata": {
        "id": "Q_zsiqZuIRUx"
      }
    },
    {
      "cell_type": "markdown",
      "source": [
        "### 3.5 Scaling our WaveNet\n",
        "\n",
        "* takes too long to train and we're kinda in the dark here with no experimental harness over our hyperparameters\n",
        "* we're just looking at the training loss graph when we should be looking at the training and validation loss both"
      ],
      "metadata": {
        "id": "APkJlnMxIQ3V"
      }
    },
    {
      "cell_type": "code",
      "source": [
        "class Linear:\n",
        "\n",
        "  def __init__(self, fan_in, fan_out, bias=True):\n",
        "    self.weight = torch.randn((fan_in, fan_out)) / fan_in**0.5 # note: kaiming init\n",
        "    self.bias = torch.zeros(fan_out) if bias else None\n",
        "\n",
        "  def __call__(self, x):\n",
        "    self.out = x @ self.weight\n",
        "    if self.bias is not None:\n",
        "      self.out += self.bias\n",
        "    return self.out\n",
        "\n",
        "  def parameters(self):\n",
        "    return [self.weight] + ([] if self.bias is None else [self.bias])\n",
        "\n",
        "# -----------------------------------------------------------------------------------------------\n",
        "class BatchNorm1d:\n",
        "\n",
        "  def __init__(self, dim, eps=1e-5, momentum=0.1):\n",
        "    self.eps = eps\n",
        "    self.momentum = momentum\n",
        "    self.training = True\n",
        "    # parameters (trained with backprop)\n",
        "    self.gamma = torch.ones(dim)\n",
        "    self.beta = torch.zeros(dim)\n",
        "    # buffers (trained with a running 'momentum update')\n",
        "    self.running_mean = torch.zeros(dim)\n",
        "    self.running_var = torch.ones(dim)\n",
        "\n",
        "  def __call__(self, x):\n",
        "    # calculate the forward pass\n",
        "    if self.training:\n",
        "      if x.ndim == 2:\n",
        "        dim = 0\n",
        "      elif x.ndim == 3:\n",
        "        dim = (0,1)\n",
        "      xmean = x.mean(dim, keepdim=True) # batch mean\n",
        "      xvar = x.var(dim, keepdim=True) # batch variance\n",
        "    else:\n",
        "      xmean = self.running_mean\n",
        "      xvar = self.running_var\n",
        "    xhat = (x - xmean) / torch.sqrt(xvar + self.eps) # normalize to unit variance\n",
        "    self.out = self.gamma * xhat + self.beta\n",
        "    # update the buffers\n",
        "    if self.training:\n",
        "      with torch.no_grad():\n",
        "        self.running_mean = (1 - self.momentum) * self.running_mean + self.momentum * xmean\n",
        "        self.running_var = (1 - self.momentum) * self.running_var + self.momentum * xvar\n",
        "    return self.out\n",
        "\n",
        "  def parameters(self):\n",
        "    return [self.gamma, self.beta]\n",
        "\n",
        "# -----------------------------------------------------------------------------------------------\n",
        "class Tanh:\n",
        "  def __call__(self, x):\n",
        "    self.out = torch.tanh(x)\n",
        "    return self.out\n",
        "  def parameters(self):\n",
        "    return []\n",
        "\n",
        "# -----------------------------------------------------------------------------------------------\n",
        "class Embedding:\n",
        "\n",
        "  def __init__(self, num_embeddings, embedding_dim):\n",
        "    self.weight = torch.randn((num_embeddings, embedding_dim))\n",
        "\n",
        "  def __call__(self, IX):\n",
        "    self.out = self.weight[IX]\n",
        "    return self.out\n",
        "\n",
        "  def parameters(self):\n",
        "    return [self.weight]\n",
        "\n",
        "# -----------------------------------------------------------------------------------------------\n",
        "class FlattenConsecutive: # flattens only n consecutive elements and inputs them into the last dimension\n",
        "\n",
        "  def __init__(self, n):\n",
        "    self.n = n\n",
        "\n",
        "  def __call__(self, x):\n",
        "    B, T, C = x.shape\n",
        "    x = x.view(B, T//self.n, C*self.n) # being explicit by not using -1\n",
        "    if x.shape[1] == 1: # we want to return a 2D tensor\n",
        "      x = x.squeeze(1) # squeeze out the singleton dimension 1\n",
        "    self.out = x\n",
        "    return self.out\n",
        "\n",
        "  def parameters(self):\n",
        "    return []\n",
        "\n",
        "# -----------------------------------------------------------------------------------------------\n",
        "class Sequential:\n",
        "\n",
        "  def __init__(self, layers):\n",
        "    self.layers = layers\n",
        "\n",
        "  def __call__(self, x):\n",
        "    for layer in self.layers:\n",
        "      x = layer(x)\n",
        "    self.out = x\n",
        "    return self.out\n",
        "\n",
        "  def parameters(self):\n",
        "    # get parameters of all layers and stretch them out into one list\n",
        "    return [p for layer in self.layers for p in layer.parameters()]"
      ],
      "metadata": {
        "id": "T8vF6KwsPAGA"
      },
      "execution_count": 69,
      "outputs": []
    },
    {
      "cell_type": "code",
      "source": [
        "torch.manual_seed(42); # for reproducibility"
      ],
      "metadata": {
        "id": "Rk9y07RKPAsy"
      },
      "execution_count": 70,
      "outputs": []
    },
    {
      "cell_type": "code",
      "source": [
        "# original network\n",
        "# n_embd = 10 # the dimensionality of the character embedding vectors\n",
        "# n_hidden = 300 # the number of neurons in the hidden layer of the MLP\n",
        "# model = Sequential([\n",
        "#   Embedding(vocab_size, n_embd),\n",
        "#   FlattenConsecutive(8), Linear(n_embd * 8, n_hidden, bias=False), BatchNorm1d(n_hidden), Tanh(),\n",
        "#   Linear(n_hidden, vocab_size),\n",
        "# ]\n",
        "\n",
        "# hierarchical network\n",
        "n_embd = 24 # the dimensionality of the character embedding vectors\n",
        "n_hidden = 128 # the number of neurons in the hidden layer of the MLP\n",
        "\n",
        "model = Sequential([\n",
        "  Embedding(vocab_size, n_embd),\n",
        "  FlattenConsecutive(2), Linear(n_embd * 2, n_hidden, bias=False), BatchNorm1d(n_hidden), Tanh(),\n",
        "  FlattenConsecutive(2), Linear(n_hidden*2, n_hidden, bias=False), BatchNorm1d(n_hidden), Tanh(),\n",
        "  FlattenConsecutive(2), Linear(n_hidden*2, n_hidden, bias=False), BatchNorm1d(n_hidden), Tanh(),\n",
        "  Linear(n_hidden, vocab_size),\n",
        "])\n",
        "\n",
        "# parameter init\n",
        "with torch.no_grad():\n",
        "  layers[-1].weight *= 0.1 # last layer make less confident\n",
        "\n",
        "parameters = model.parameters()\n",
        "print(sum(p.nelement() for p in parameters)) # number of parameters in total\n",
        "for p in parameters:\n",
        "  p.requires_grad = True"
      ],
      "metadata": {
        "colab": {
          "base_uri": "https://localhost:8080/"
        },
        "id": "v7sbb4uBPCqn",
        "outputId": "230e95e5-d14a-415a-949f-8acd548ecad5"
      },
      "execution_count": 71,
      "outputs": [
        {
          "output_type": "stream",
          "name": "stdout",
          "text": [
            "76579\n"
          ]
        }
      ]
    },
    {
      "cell_type": "code",
      "source": [
        "# same optimization as last time\n",
        "max_steps = 200000\n",
        "batch_size = 32\n",
        "lossi = []\n",
        "\n",
        "for i in range(max_steps):\n",
        "\n",
        "  # minibatch construct\n",
        "  ix = torch.randint(0, Xtr.shape[0], (batch_size,))\n",
        "  Xb, Yb = Xtr[ix], Ytr[ix] # batch X,Y\n",
        "\n",
        "  # forward pass\n",
        "  logits = model(Xb)\n",
        "  loss = F.cross_entropy(logits, Yb) # loss function\n",
        "\n",
        "  # backward pass\n",
        "  for p in parameters:\n",
        "    p.grad = None\n",
        "  loss.backward()\n",
        "\n",
        "  # update: simple SGD\n",
        "  lr = 0.1 if i < 150000 else 0.01 # step learning rate decay\n",
        "  for p in parameters:\n",
        "    p.data += -lr * p.grad\n",
        "\n",
        "  # track stats\n",
        "  if i % 10000 == 0: # print every once in a while\n",
        "    print(f'{i:7d}/{max_steps:7d}: {loss.item():.4f}')\n",
        "  lossi.append(loss.log10().item())\n",
        "\n",
        "  # break"
      ],
      "metadata": {
        "colab": {
          "base_uri": "https://localhost:8080/"
        },
        "id": "yW8wQy6oPJhP",
        "outputId": "a249f802-8161-4a1c-a3cf-03646dd4e02b"
      },
      "execution_count": 72,
      "outputs": [
        {
          "output_type": "stream",
          "name": "stdout",
          "text": [
            "      0/ 200000: 3.6596\n",
            "  10000/ 200000: 2.0551\n",
            "  20000/ 200000: 2.0342\n",
            "  30000/ 200000: 2.6254\n",
            "  40000/ 200000: 2.1558\n",
            "  50000/ 200000: 1.7977\n",
            "  60000/ 200000: 2.2949\n",
            "  70000/ 200000: 1.8409\n",
            "  80000/ 200000: 1.6752\n",
            "  90000/ 200000: 2.1980\n",
            " 100000/ 200000: 1.9085\n",
            " 110000/ 200000: 2.0375\n",
            " 120000/ 200000: 1.7249\n",
            " 130000/ 200000: 1.8604\n",
            " 140000/ 200000: 1.8156\n",
            " 150000/ 200000: 1.9445\n",
            " 160000/ 200000: 1.7933\n",
            " 170000/ 200000: 1.6338\n",
            " 180000/ 200000: 1.5115\n",
            " 190000/ 200000: 1.8932\n"
          ]
        }
      ]
    },
    {
      "cell_type": "code",
      "source": [
        "plt.plot(torch.tensor(lossi).view(-1, 1000).mean(1));"
      ],
      "metadata": {
        "colab": {
          "base_uri": "https://localhost:8080/",
          "height": 430
        },
        "id": "h01iEU4wPMry",
        "outputId": "70f7a7ed-4cd6-4b2e-ab3b-3dee9a2d9a98"
      },
      "execution_count": 73,
      "outputs": [
        {
          "output_type": "display_data",
          "data": {
            "text/plain": [
              "<Figure size 640x480 with 1 Axes>"
            ],
            "image/png": "[encoded data removed]"
          },
          "metadata": {}
        }
      ]
    },
    {
      "cell_type": "code",
      "source": [
        "# put layers into eval model (needed for batchnorm especially)\n",
        "for layer in model.layers:\n",
        "  layer.training = False"
      ],
      "metadata": {
        "id": "dG3_Tzn4PNHk"
      },
      "execution_count": 74,
      "outputs": []
    },
    {
      "cell_type": "code",
      "source": [
        "# evaluate the loss\n",
        "@torch.no_grad() # this decorator disables gradient tracking inside pytorch\n",
        "def split_loss(split):\n",
        "  x,y = {\n",
        "    'train': (Xtr, Ytr),\n",
        "    'val': (Xdev, Ydev),\n",
        "    'test': (Xte, Yte),\n",
        "  }[split]\n",
        "  logits = model(x)\n",
        "  loss = F.cross_entropy(logits, y)\n",
        "  print(split, loss.item())\n",
        "\n",
        "split_loss('train')\n",
        "split_loss('val')"
      ],
      "metadata": {
        "colab": {
          "base_uri": "https://localhost:8080/"
        },
        "id": "QQeSm-jJPPA9",
        "outputId": "7e94177c-48d9-467d-df97-e60924e67ff9"
      },
      "execution_count": 75,
      "outputs": [
        {
          "output_type": "stream",
          "name": "stdout",
          "text": [
            "train 1.7686808109283447\n",
            "val 1.9930692911148071\n"
          ]
        }
      ]
    },
    {
      "cell_type": "markdown",
      "source": [
        "**performance log:**\n",
        "\n",
        "* original (3 character context + 200 hidden neurons, 12K params): train 2.058, val 2.105\n",
        "* context: 3 -> 8 (22K params): train 1.9207, val 2.0325\n",
        "* flat -> hierarchical (22K params): train 1.9098, val 2.0197\n",
        "* fix bug in batchnorm: train 1.912, val 2.022\n",
        "* scale up the network: n_embd 24, n_hidden 128 (76K params): train 1.769, val 1.993"
      ],
      "metadata": {
        "id": "vjEbTegyPRb4"
      }
    },
    {
      "cell_type": "code",
      "source": [
        "# sample from the model\n",
        "for _ in range(20):\n",
        "\n",
        "    out = []\n",
        "    context = [0] * block_size # initialize with all ...\n",
        "    while True:\n",
        "      # forward pass the neural net\n",
        "      logits = model(torch.tensor([context]))\n",
        "      probs = F.softmax(logits, dim=1)\n",
        "      # sample from the distribution\n",
        "      ix = torch.multinomial(probs, num_samples=1).item()\n",
        "      # shift the context window and track the samples\n",
        "      context = context[1:] + [ix]\n",
        "      out.append(ix)\n",
        "      # if we sample the special '.' token, break\n",
        "      if ix == 0:\n",
        "        break\n",
        "\n",
        "    print(''.join(itos[i] for i in out)) # decode and print the generated word"
      ],
      "metadata": {
        "colab": {
          "base_uri": "https://localhost:8080/"
        },
        "id": "yfTPBUroQPvW",
        "outputId": "437d4bec-22ec-4d24-cd2e-8a0e1d933f66"
      },
      "execution_count": 76,
      "outputs": [
        {
          "output_type": "stream",
          "name": "stdout",
          "text": [
            "aiyana.\n",
            "yaius.\n",
            "kenzlee.\n",
            "shriya.\n",
            "angelika.\n",
            "christen.\n",
            "kendley.\n",
            "cander.\n",
            "sophila.\n",
            "breslyn.\n",
            "saden.\n",
            "cammyn.\n",
            "ashua.\n",
            "phoene.\n",
            "tanni.\n",
            "annie.\n",
            "jeniyah.\n",
            "glannie.\n",
            "manaswa.\n",
            "yeniel.\n"
          ]
        }
      ]
    },
    {
      "cell_type": "markdown",
      "source": [
        "### 4. WaveNet with dilated causal convolutions\n",
        "\n",
        "**convolution is a for loop, allows us to forward Linear layers efficiently over space**\n",
        "\n",
        "* we didn't implement the exact forward pass for the WaveNet from the paper where we have a more complicated linear layer sort of. There are residual connections hence we didn't implement the forward pass and just implemented this structure\n",
        "* how what we have done relates to convolutions described in the paper -> strictly for efficiency, doesn't change the model we've implemented\n",
        "* we implement `Xtr[[7]]` to feed in the model to make it 2D with the batch dimension to not get an error when `Xtr[7]` is 1D\n",
        "* we may want to forward all of the 8 characters at the same time. pre-allocating some memory and doing a for loop eight times and forwarding all those 8 will give us all the logits in all these different cases. Now for us implementing our model, it is 8 independent calls to our model but what convolutions allow you to, it allows you to slide the model efficiently over the input sequence. So, the for loop cannot be done outside in python but inside of kernels in Cuda so this for loop gets hidden into the covolution\n",
        "* convoltion is hence a for loop applying a little linear filter over space of some input sequence, and in our case the space we're intersted in is 1D and we're interested in sliding thse filters over the input data\n",
        "* what we've implemented is a single black structure and calculated a single output or a single example but what convolutions to do is that they allow you to take the black structure and slide it over the input sequence and calculate the orange outputs at the same time (in diagram), or for our example, all of the outputs at all the positions of diondre at the same time\n",
        "  * the reason this is more efficient is because:\n",
        "    1. the for loop is inside the Cuda kernels in the sliding so that makes it effcient\n",
        "    2. there is a variable reuse -> a node and its value is used twice. In our naive way we would have to recalculate it but here we are allowed to reuse it.\n",
        "* In the convolutional neural network you think of these linear layers that we have up above as filters, we take these linear filters and you slide them over the input sequence, and we calculate the first layer and the second layer, and then the third layer, and then the output layer of the sandwich, all efficiently using these convolutions."
      ],
      "metadata": {
        "id": "vl5we3F5PRKv"
      }
    },
    {
      "cell_type": "code",
      "source": [
        "for x,y in zip(Xtr[7:15], Ytr[7:15]):\n",
        "  print(''.join(itos[ix.item()] for ix in x), '-->', itos[y.item()])"
      ],
      "metadata": {
        "colab": {
          "base_uri": "https://localhost:8080/"
        },
        "id": "ptZhtbVPQoFW",
        "outputId": "4219e271-2f2b-46fa-803b-1d24708d741b"
      },
      "execution_count": 79,
      "outputs": [
        {
          "output_type": "stream",
          "name": "stdout",
          "text": [
            "........ --> d\n",
            ".......d --> i\n",
            "......di --> o\n",
            ".....dio --> n\n",
            "....dion --> d\n",
            "...diond --> r\n",
            "..diondr --> e\n",
            ".diondre --> .\n"
          ]
        }
      ]
    },
    {
      "cell_type": "code",
      "source": [
        "# forward a single example:\n",
        "logits = model(Xtr[[7]])\n",
        "logits.shape"
      ],
      "metadata": {
        "colab": {
          "base_uri": "https://localhost:8080/"
        },
        "id": "etkIjjzCRuox",
        "outputId": "4b6fffbb-5213-4453-be61-55200579b107"
      },
      "execution_count": 80,
      "outputs": [
        {
          "output_type": "execute_result",
          "data": {
            "text/plain": [
              "torch.Size([1, 27])"
            ]
          },
          "metadata": {},
          "execution_count": 80
        }
      ]
    },
    {
      "cell_type": "code",
      "source": [
        "# forward all of them\n",
        "logits = torch.zeros(8, 27)\n",
        "for i in range(8):\n",
        "  logits[i] = model(Xtr[[7+i]])\n",
        "logits.shape"
      ],
      "metadata": {
        "colab": {
          "base_uri": "https://localhost:8080/"
        },
        "id": "45zI5Z5CRw-O",
        "outputId": "dd4eac06-68ad-4eac-b5df-3b0c732e3a64"
      },
      "execution_count": 81,
      "outputs": [
        {
          "output_type": "execute_result",
          "data": {
            "text/plain": [
              "torch.Size([8, 27])"
            ]
          },
          "metadata": {},
          "execution_count": 81
        }
      ]
    },
    {
      "cell_type": "markdown",
      "source": [
        "## Summary"
      ],
      "metadata": {
        "id": "ahKBLxmuRzbN"
      }
    },
    {
      "cell_type": "markdown",
      "source": [
        "**1. Understanding the Neural Network Development Process:**\n",
        "\n",
        "* A significant portion of time is spent on PyTorch documentation, reading through layers, and understanding the shapes of inputs and their functionality.\n",
        "* Unfortunately, PyTorch documentation can be challenging. While accurate, it often lacks clarity and isn't very user-friendly.\n",
        "\n",
        "**2. Handling Multidimensional Arrays:**\n",
        "\n",
        "* A lot of time is spent managing and manipulating multidimensional arrays, dealing with different shapes like 2D, 3D, and 4D arrays, and ensuring that they fit into specific layers (e.g., SCL or NLC).\n",
        "* This can involve complex operations, leading to messy code.\n",
        "\n",
        "**3. Using Jupyter Notebooks for Development:**\n",
        "\n",
        "* Often, neural network layers and implementations are developed in Jupyter notebooks to ensure that the shapes of arrays and tensors are correct.\n",
        "* Once the code works in the notebook, it is copy-pasted into a repository for further development.\n",
        "* The coding process typically involves both Jupyter notebooks and VS Code, with experimentation carried out in Jupyter notebooks and final code transferred to the repository in VS Code.\n",
        "\n",
        "**4. Further Lecture Topics:**\n",
        "\n",
        "* There are numerous potential topics for future lectures:\n",
        "  1. Using causal convolutional layers.\n",
        "  2. Decision functions and skip functions.\n",
        "  3. Setting up the evaluation process for experimentation.\n",
        "\n",
        "**5. Experimentation Process:**\n",
        "\n",
        "* Running experiments involves setting up an evaluation process and kicking off numerous trials, checking training and validation losses to see what's working and what isn't.\n",
        "* Experimentation is key to understanding neural network performance and pushing the development further.\n",
        "\n",
        "**6. Exploration of Neural Network Architectures:**\n",
        "\n",
        "* There is room for exploring recurrent neural networks (RNNs), long short-term memory (LSTM) networks, and transformers in future discussions.\n",
        "\n",
        "**7. Potential for Improvement in Current Model:**\n",
        "\n",
        "* There is still room for experimentation with the current neural network model to improve performance.\n",
        "* Further tuning and optimizations, such as adjusting the number of embeddings or modifying initialization, could potentially lead to better results."
      ],
      "metadata": {
        "id": "duJdMJYCUufp"
      }
    }
  ]
}
